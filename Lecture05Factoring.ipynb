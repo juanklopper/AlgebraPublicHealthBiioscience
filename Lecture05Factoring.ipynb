{
 "cells": [
  {
   "cell_type": "markdown",
   "metadata": {},
   "source": [
    "# 5 | Factoring"
   ]
  },
  {
   "cell_type": "markdown",
   "metadata": {},
   "source": [
    "><b>Dr J H Klopper</b></p>\n",
    ">Department of Biostatistics and Bioinformatics</br>\n",
    ">Milken Institute School of Public Health</br>\n",
    ">George Washington University"
   ]
  },
  {
   "cell_type": "markdown",
   "metadata": {},
   "source": [
    "<p xmlns:cc=\"http://creativecommons.org/ns#\" xmlns:dct=\"http://purl.org/dc/terms/\"><span property=\"dct:title\">This chapter of Algebra for Health Data Science</span> by <span property=\"cc:attributionName\">Dr JH Klopper</span> is licensed under <a href=\"http://creativecommons.org/licenses/by-nc-nd/4.0/?ref=chooser-v1\" target=\"_blank\" rel=\"license noopener noreferrer\" style=\"display:inline-block;\">Attribution-NonCommercial-NoDerivatives 4.0 International<img style=\"height:22px!important;margin-left:3px;vertical-align:text-bottom;\" src=\"https://mirrors.creativecommons.org/presskit/icons/cc.svg?ref=chooser-v1\"><img style=\"height:22px!important;margin-left:3px;vertical-align:text-bottom;\" src=\"https://mirrors.creativecommons.org/presskit/icons/by.svg?ref=chooser-v1\"><img style=\"height:22px!important;margin-left:3px;vertical-align:text-bottom;\" src=\"https://mirrors.creativecommons.org/presskit/icons/nc.svg?ref=chooser-v1\"><img style=\"height:22px!important;margin-left:3px;vertical-align:text-bottom;\" src=\"https://mirrors.creativecommons.org/presskit/icons/nd.svg?ref=chooser-v1\"></a></p>"
   ]
  },
  {
   "cell_type": "markdown",
   "metadata": {},
   "source": [
    "## 5.1 Packages used in this chapter"
   ]
  },
  {
   "cell_type": "markdown",
   "metadata": {},
   "source": [
    "Below, we import only the functions that are used in this chapter instead of importing the entire package. To do this we use the `from` and `import` keywords."
   ]
  },
  {
   "cell_type": "code",
   "execution_count": 1,
   "metadata": {},
   "outputs": [],
   "source": [
    "from sympy import init_printing, symbols, Rational, gcd"
   ]
  },
  {
   "cell_type": "markdown",
   "metadata": {},
   "source": [
    "The `init_printing` function is used to display the output of `sympy` code in mathematical notation."
   ]
  },
  {
   "cell_type": "code",
   "execution_count": 2,
   "metadata": {},
   "outputs": [],
   "source": [
    "init_printing()"
   ]
  },
  {
   "cell_type": "markdown",
   "metadata": {},
   "source": [
    "## 5.2 Introduction"
   ]
  },
  {
   "cell_type": "markdown",
   "metadata": {},
   "source": [
    "It is often necessary to factorise expressions.  This is done to simplify expressions and to solve equations.  In this chapter we will look at polynomials and how to factorise them.  We will also look at factoring common elements and the quadratic equation."
   ]
  },
  {
   "cell_type": "markdown",
   "metadata": {},
   "source": [
    "## 5.3 Polynomials"
   ]
  },
  {
   "cell_type": "markdown",
   "metadata": {},
   "source": [
    "Until now we have explored many expressions. Many of them have been polyomials. In this section, we formely define polynomials."
   ]
  },
  {
   "cell_type": "markdown",
   "metadata": {},
   "source": [
    "__Definition 5.3.1__ A <span style=\"color:lightgreen\">__polynomial__</span> is a mathematical expression of constants and variables combined using addition, subtraction, multiplication, and non-negative integer exponents, defined in __Equation 5.3.1__, where $a_{i}$ are constants and $x$ is a variable."
   ]
  },
  {
   "cell_type": "markdown",
   "metadata": {},
   "source": [
    "$$\n",
    "\\begin{equation}\n",
    "a_{n}x^{n} + a_{n-1}x^{n-1} + \\cdots + a_{2}x^{2} + a_{1}x + a_{0}\n",
    "\\end{equation}\n",
    "\\tag{Equation 5.3.1}\n",
    "$$"
   ]
  },
  {
   "cell_type": "markdown",
   "metadata": {},
   "source": [
    "__Definition 5.3.2__ The constants $a_{i}$ in __Equation 5.3.1__ are called the <span style=\"color:lightgreen\">__coefficients__</span> of the polynomial."
   ]
  },
  {
   "cell_type": "markdown",
   "metadata": {},
   "source": [
    "__Defintion 5.3.3__ The <span style=\"color:lightgreen\">__degree__</span> of the polynomial is the highest exponent of the variable $x$."
   ]
  },
  {
   "cell_type": "markdown",
   "metadata": {},
   "source": [
    "In the case that $a_{n} \\neq 0$ in __Equation 5.3.1__, the polynomial is said to be of degree $n$."
   ]
  },
  {
   "cell_type": "markdown",
   "metadata": {},
   "source": [
    "__Problem 5.3.1__ Determine of the expression in __Equation 5.3.2__ is a polynomial. If so, determine the degree of the polynomial."
   ]
  },
  {
   "cell_type": "markdown",
   "metadata": {},
   "source": [
    "$$\n",
    "\\begin{equation}\n",
    "3x^{4} + 2x^{3} + 5x^{2} + 7x + 1\n",
    "\\end{equation}\n",
    "\\tag{Equation 5.3.2}\n",
    "$$"
   ]
  },
  {
   "cell_type": "markdown",
   "metadata": {},
   "source": [
    "The expression in __Equation 5.3.2__ is indded a polynomial as follows the definition in __Equation 5.3.1__. The highest power of the variable $x$ is $4$ and hence the polynomial is of degree 4 or a $4^{\\text{th}}$-degree polynomial."
   ]
  },
  {
   "cell_type": "markdown",
   "metadata": {},
   "source": [
    "__Definition  5.3.4__ A <span style=\"color:lightgreen\">__quadratic polynomial__</span> is a polynomial of degree $2$."
   ]
  },
  {
   "cell_type": "markdown",
   "metadata": {},
   "source": [
    "__Definition 5.3.5__ A <span style=\"color:lightgreen\">__cubic polynomial__</span> is a polynomial of degree $3$."
   ]
  },
  {
   "cell_type": "markdown",
   "metadata": {},
   "source": [
    "__Definition 5.3.6__ A <span style=\"color:lightgreen\">__quartic polynomial__</span> is a polynomial of degree $4$."
   ]
  },
  {
   "cell_type": "markdown",
   "metadata": {},
   "source": [
    "__Defintion 5.3.7__ A <span style=\"color:lightgreen\">__quintic polynomial__</span> is a polynomial of degree $5$."
   ]
  },
  {
   "cell_type": "markdown",
   "metadata": {},
   "source": [
    "Note that polynomials as defined in __Equation 5.3.1__ only contain a single variable."
   ]
  },
  {
   "cell_type": "markdown",
   "metadata": {},
   "source": [
    "## 5.4 Factoring common elements"
   ]
  },
  {
   "cell_type": "markdown",
   "metadata": {},
   "source": [
    "In the simplest cases of an expression, we can factor out a common element, whether they are constants or variable. We start by a common variable among the terms of an expression."
   ]
  },
  {
   "cell_type": "markdown",
   "metadata": {},
   "source": [
    "__Problem 5.4.1__ Factor out the common variable $x$ from the expression in __Equation 5.4.1__."
   ]
  },
  {
   "cell_type": "markdown",
   "metadata": {},
   "source": [
    "$$\n",
    "\\begin{equation}\n",
    "x^{2} + 3x\n",
    "\\end{equation}\n",
    "\\tag{Equation 5.4.1}\n",
    "$$"
   ]
  },
  {
   "cell_type": "markdown",
   "metadata": {},
   "source": [
    "We note that the variable $x$ is in both terms of the exprerssion and can be factorized as shown in __Equation 5.4.2__."
   ]
  },
  {
   "cell_type": "markdown",
   "metadata": {},
   "source": [
    "$$\n",
    "\\begin{equation}\n",
    "x^{2} + 3x = x(x + 3)\n",
    "\\end{equation}\n",
    "\\tag{Equation 5.4.2}\n",
    "$$"
   ]
  },
  {
   "cell_type": "markdown",
   "metadata": {},
   "source": [
    "Distribution of the solution can be used to confirm the result as $x(x+3) = x^{2}+3x$. We can also use the `factor` method in `sympy` to confirm the result. We start by defining the mathematical symbol $x$ and assign ot to the variable `x`."
   ]
  },
  {
   "cell_type": "code",
   "execution_count": 3,
   "metadata": {},
   "outputs": [],
   "source": [
    "# Define the symbol x\n",
    "x = symbols('x')"
   ]
  },
  {
   "cell_type": "code",
   "execution_count": 4,
   "metadata": {},
   "outputs": [
    {
     "data": {
      "image/png": "[encoded data removed]",
      "text/latex": [
       "$\\displaystyle x \\left(x + 3\\right)$"
      ],
      "text/plain": [
       "x⋅(x + 3)"
      ]
     },
     "execution_count": 4,
     "metadata": {},
     "output_type": "execute_result"
    }
   ],
   "source": [
    "# Factor the polynomial x^2 + 3x\n",
    "(x**2 + 3*x).factor()"
   ]
  },
  {
   "cell_type": "markdown",
   "metadata": {},
   "source": [
    "__Homework 5.4.1__ Factor out the common variable $x$ from the expression $x^{3}-2x^{2}+x$."
   ]
  },
  {
   "cell_type": "markdown",
   "metadata": {},
   "source": [
    "Some examples of factoring involves the constants. In this case, it si best to look for the greatest common denominator."
   ]
  },
  {
   "cell_type": "markdown",
   "metadata": {},
   "source": [
    "__Defintion 5.4.1__ The <span style=\"color:lightgreen\">__greatest common divisor__</span> (GCD) of two or more integers is the largest positive integer that divides each of the integers."
   ]
  },
  {
   "cell_type": "markdown",
   "metadata": {},
   "source": [
    "__Problem 5.4.2__ Factor out the common variables from the expression in __Equation 5.4.3__."
   ]
  },
  {
   "cell_type": "markdown",
   "metadata": {},
   "source": [
    "$$\n",
    "\\begin{equation}\n",
    "6x^{2} + 9y\n",
    "\\end{equation}\n",
    "\\tag{Equation 5.4.3}\n",
    "$$"
   ]
  },
  {
   "cell_type": "markdown",
   "metadata": {},
   "source": [
    "We note that $3$ divides both $6$ and $9$ and is factored out as shown in __Equation 5.4.4__."
   ]
  },
  {
   "cell_type": "markdown",
   "metadata": {},
   "source": [
    "$$\n",
    "\\begin{equation}\n",
    "6x^{2} + 9y = 3(2x^{2} + 3y)\n",
    "\\end{equation}\n",
    "\\tag{Equation 5.4.4}\n",
    "$$"
   ]
  },
  {
   "cell_type": "markdown",
   "metadata": {},
   "source": [
    "We verify the result using the `factor` method in `sympy` after defining the mathematical symbol $y$ and assigning them to the variables `y`."
   ]
  },
  {
   "cell_type": "code",
   "execution_count": 5,
   "metadata": {},
   "outputs": [],
   "source": [
    "# Define the symbol y\n",
    "y = symbols('y')"
   ]
  },
  {
   "cell_type": "code",
   "execution_count": 6,
   "metadata": {},
   "outputs": [
    {
     "data": {
      "image/png": "[encoded data removed]",
      "text/latex": [
       "$\\displaystyle 3 \\cdot \\left(2 x^{2} + 3 y\\right)$"
      ],
      "text/plain": [
       "  ⎛   2      ⎞\n",
       "3⋅⎝2⋅x  + 3⋅y⎠"
      ]
     },
     "execution_count": 6,
     "metadata": {},
     "output_type": "execute_result"
    }
   ],
   "source": [
    "# Verify the result\n",
    "(6 * x**2 + 9 * y).factor()"
   ]
  },
  {
   "cell_type": "markdown",
   "metadata": {},
   "source": [
    "__Problem 5.4.3__ Factor out the common term from the expression in __Equation 5.4.5__."
   ]
  },
  {
   "cell_type": "markdown",
   "metadata": {},
   "source": [
    "$$\n",
    "\\begin{equation}\n",
    "216x+450y\n",
    "\\end{equation}\n",
    "\\tag{Equation 5.4.5}\n",
    "$$"
   ]
  },
  {
   "cell_type": "markdown",
   "metadata": {},
   "source": [
    "It can be difficult to calculate a GCD. We note the following observations."
   ]
  },
  {
   "cell_type": "markdown",
   "metadata": {},
   "source": [
    "- Any integer, is the product of two integers\n",
    "- None of the two integers used in the product can be more than half the original integer\n",
    "- We only need to consider integers up to the square root of the original integer\n",
    "- Any integer is the product of prime numbers\n",
    "- The GCD of two numbers is the same as the GCD of the remainder of the division of the larger number by the smaller number and the smaller number."
   ]
  },
  {
   "cell_type": "markdown",
   "metadata": {},
   "source": [
    "Instead of considering these arithmetical properties, we calculate the greatest common divisor using the `gcd` function in `sympy`."
   ]
  },
  {
   "cell_type": "code",
   "execution_count": 7,
   "metadata": {},
   "outputs": [
    {
     "data": {
      "image/png": "[encoded data removed]",
      "text/latex": [
       "$\\displaystyle 18$"
      ],
      "text/plain": [
       "18"
      ]
     },
     "execution_count": 7,
     "metadata": {},
     "output_type": "execute_result"
    }
   ],
   "source": [
    "# Return the greatest common divisor of 216 and 450\n",
    "gcd(216, 450)"
   ]
  },
  {
   "cell_type": "markdown",
   "metadata": {},
   "source": [
    "We note that $18$ is the GCD of $216$ and $450$. This means that both these values can be divided by $18$ without a remainder. Below, we calculate the divisions."
   ]
  },
  {
   "cell_type": "code",
   "execution_count": 8,
   "metadata": {},
   "outputs": [
    {
     "data": {
      "image/png": "[encoded data removed]",
      "text/latex": [
       "$\\displaystyle 12.0$"
      ],
      "text/plain": [
       "12.0"
      ]
     },
     "execution_count": 8,
     "metadata": {},
     "output_type": "execute_result"
    }
   ],
   "source": [
    "216 / 18"
   ]
  },
  {
   "cell_type": "code",
   "execution_count": 9,
   "metadata": {},
   "outputs": [
    {
     "data": {
      "image/png": "[encoded data removed]",
      "text/latex": [
       "$\\displaystyle 25.0$"
      ],
      "text/plain": [
       "25.0"
      ]
     },
     "execution_count": 9,
     "metadata": {},
     "output_type": "execute_result"
    }
   ],
   "source": [
    "450 / 18"
   ]
  },
  {
   "cell_type": "markdown",
   "metadata": {},
   "source": [
    "The solution is therefor as shown in __Equation 5.4.6__."
   ]
  },
  {
   "cell_type": "markdown",
   "metadata": {},
   "source": [
    "$$\n",
    "\\begin{equation}\n",
    "216x+450y = 18(12x+25y)\n",
    "\\end{equation}\n",
    "\\tag{Equation 5.4.6}\n",
    "$$"
   ]
  },
  {
   "cell_type": "markdown",
   "metadata": {},
   "source": [
    "We verify these results using the `factor` method in `sympy`."
   ]
  },
  {
   "cell_type": "code",
   "execution_count": 10,
   "metadata": {},
   "outputs": [
    {
     "data": {
      "image/png": "[encoded data removed]",
      "text/latex": [
       "$\\displaystyle 18 \\cdot \\left(12 x + 25 y\\right)$"
      ],
      "text/plain": [
       "18⋅(12⋅x + 25⋅y)"
      ]
     },
     "execution_count": 10,
     "metadata": {},
     "output_type": "execute_result"
    }
   ],
   "source": [
    "# Verify the result\n",
    "(216 * x + 450 * y).factor()"
   ]
  },
  {
   "cell_type": "markdown",
   "metadata": {},
   "source": [
    "__Homework 5.4.2__ Calculate the GCD of $234525$ and $2334$."
   ]
  },
  {
   "cell_type": "markdown",
   "metadata": {},
   "source": [
    "The common elements across terms may include constants and variable."
   ]
  },
  {
   "cell_type": "markdown",
   "metadata": {},
   "source": [
    "__Problem 5.4.4__ Factor out the common constants and variables from the expression in __Equation 5.4.7__."
   ]
  },
  {
   "cell_type": "markdown",
   "metadata": {},
   "source": [
    "$$\n",
    "\\begin{equation}\n",
    "6x^{2} + 9xy\n",
    "\\end{equation}\n",
    "\\tag{Equation 5.4.7}\n",
    "$$"
   ]
  },
  {
   "cell_type": "markdown",
   "metadata": {},
   "source": [
    "The solution is as shown in __Equation 5.4.8__."
   ]
  },
  {
   "cell_type": "markdown",
   "metadata": {},
   "source": [
    "$$\n",
    "\\begin{equation}\n",
    "6x^{2} + 9xy = 3x(2x + 3y)\n",
    "\\end{equation}\n",
    "\\tag{Equation 5.4.8}\n",
    "$$"
   ]
  },
  {
   "cell_type": "markdown",
   "metadata": {},
   "source": [
    "We confirm the result in `sympy`."
   ]
  },
  {
   "cell_type": "code",
   "execution_count": 11,
   "metadata": {},
   "outputs": [
    {
     "data": {
      "image/png": "[encoded data removed]",
      "text/latex": [
       "$\\displaystyle 3 x \\left(2 x + 3 y\\right)$"
      ],
      "text/plain": [
       "3⋅x⋅(2⋅x + 3⋅y)"
      ]
     },
     "execution_count": 11,
     "metadata": {},
     "output_type": "execute_result"
    }
   ],
   "source": [
    "# Verify the result\n",
    "(6 * x**2 + 9 * x * y).factor()"
   ]
  },
  {
   "cell_type": "markdown",
   "metadata": {},
   "source": [
    "__Homework 5.4.3__ Factor out the common constants and variables from the expression $12x^{3}y+18x^{2}y$."
   ]
  },
  {
   "cell_type": "markdown",
   "metadata": {},
   "source": [
    "## 5.5 Factoring quadratic polynomials"
   ]
  },
  {
   "cell_type": "markdown",
   "metadata": {},
   "source": [
    "In this section we explore the factoring of quadratic ($2^{\\text{nd}}$-degree) polynomials $a_{2}x^{2} + a_{1} x + a_{0}$, where $a_{2} \\ne 0$."
   ]
  },
  {
   "cell_type": "markdown",
   "metadata": {},
   "source": [
    "To factor quadratic expression, we follow a few steps. First, we write the expression in decreasing order of the exponents. As an exmple, we will use the quadratic expression $x^{2}+5x+6$, which is in decreasing order of the powers of the variable $x$."
   ]
  },
  {
   "cell_type": "markdown",
   "metadata": {},
   "source": [
    "Next, we write two sets of parentheses as shown in __Equation 5.5.1__."
   ]
  },
  {
   "cell_type": "markdown",
   "metadata": {},
   "source": [
    "$$\n",
    "\\begin{equation}\n",
    "(x \\ \\ \\ )(x \\ \\ \\ )\n",
    "\\end{equation}\n",
    "\\tag{Equation 5.5.1}\n",
    "$$"
   ]
  },
  {
   "cell_type": "markdown",
   "metadata": {},
   "source": [
    "Next, we have to consider all the pairs of number that multiply to get $a_{0}=6$. We might try $+3$ and $+2$. These are added to the parentheses as shown in __Equation 5.5.2__."
   ]
  },
  {
   "cell_type": "markdown",
   "metadata": {},
   "source": [
    "$$\n",
    "\\begin{equation}\n",
    "(x + 3)(x + 2)\n",
    "\\end{equation}\n",
    "\\tag{Equation 5.5.2}\n",
    "$$"
   ]
  },
  {
   "cell_type": "markdown",
   "metadata": {},
   "source": [
    "Distribution confirms that we have the correct solution as shown in __Equation 5.5.3__."
   ]
  },
  {
   "cell_type": "markdown",
   "metadata": {},
   "source": [
    "$$\n",
    "\\begin{equation}\n",
    "(x + 3)(x + 2) = x^{2} + 2x + 3 x + 6 = x^{2} + 5x + 6\n",
    "\\end{equation}\n",
    "\\tag{Equation 5.5.3}\n",
    "$$"
   ]
  },
  {
   "cell_type": "markdown",
   "metadata": {},
   "source": [
    "In this example we had that $a_{2}=1$. This is not always the case."
   ]
  },
  {
   "cell_type": "markdown",
   "metadata": {},
   "source": [
    "__Problem 5.5.1__ Factor the quadratic expression in __Equation 5.5.4__."
   ]
  },
  {
   "cell_type": "markdown",
   "metadata": {},
   "source": [
    "$$\n",
    "\\begin{equation}\n",
    "2x^{2} + 7x + 3\n",
    "\\end{equation}\n",
    "\\tag{Equation 5.5.4}\n",
    "$$"
   ]
  },
  {
   "cell_type": "markdown",
   "metadata": {},
   "source": [
    "Noe $a_{2}=2$. One pair of number that multiply to $2$ is $+2$ and $+1$. We use two pairs of parentheses are before as shown in __Equation 5.5.5__."
   ]
  },
  {
   "cell_type": "markdown",
   "metadata": {},
   "source": [
    "$$\n",
    "\\begin{equation}\n",
    "(2x \\ \\ \\ )(x \\ \\ \\ )\n",
    "\\end{equation}\n",
    "\\tag{Equation 5.5.5}\n",
    "$$"
   ]
  },
  {
   "cell_type": "markdown",
   "metadata": {},
   "source": [
    "Now we have to think of pairs of numbers that multiply to $3$, but such that the two terms that will contain $x$ will add to $7$. The only pair of numbers that satisfy this condition is $+3$ and $+1$. We add these to the parentheses as shown in __Equation 5.5.6__, where we also use distribution to confirm our factorization."
   ]
  },
  {
   "cell_type": "markdown",
   "metadata": {},
   "source": [
    "$$\n",
    "\\begin{equation}\n",
    "(2x + 3)(x + 1) = 2x^{2} +2x + 3x +3 = 2x^{2} + 7x + 3\n",
    "\\end{equation}\n",
    "\\tag{Equation 5.5.6}\n",
    "$$"
   ]
  },
  {
   "cell_type": "markdown",
   "metadata": {},
   "source": [
    "We use `sympy` to confirm the result."
   ]
  },
  {
   "cell_type": "code",
   "execution_count": 12,
   "metadata": {},
   "outputs": [
    {
     "data": {
      "image/png": "[encoded data removed]",
      "text/latex": [
       "$\\displaystyle \\left(x + 3\\right) \\left(2 x + 1\\right)$"
      ],
      "text/plain": [
       "(x + 3)⋅(2⋅x + 1)"
      ]
     },
     "execution_count": 12,
     "metadata": {},
     "output_type": "execute_result"
    }
   ],
   "source": [
    "# Verify the result\n",
    "(2 * x**2 + 7 * x + 3).factor()"
   ]
  },
  {
   "cell_type": "markdown",
   "metadata": {},
   "source": [
    "__Problem 5.5.2__ Factor the quadratic expression in __Equation 5.5.7__."
   ]
  },
  {
   "cell_type": "markdown",
   "metadata": {},
   "source": [
    "$$\n",
    "\\begin{equation}\n",
    "2x^{2} - 5x - 12\n",
    "\\end{equation}\n",
    "\\tag{Equation 5.5.7}\n",
    "$$"
   ]
  },
  {
   "cell_type": "markdown",
   "metadata": {},
   "source": [
    "The results are shown in __Equation 5.5.8__, where we also use distribution to confirm the result."
   ]
  },
  {
   "cell_type": "markdown",
   "metadata": {},
   "source": [
    "$$\n",
    "\\begin{equation}\n",
    "(2x + 3)(x - 4) = 2x^{2} - 8x + 3x - 12 = 2x^{2} - 5x - 12\n",
    "\\end{equation}\n",
    "\\tag{Equation 5.5.8}\n",
    "$$"
   ]
  },
  {
   "cell_type": "markdown",
   "metadata": {},
   "source": [
    "We also use `sympy` to verify the result."
   ]
  },
  {
   "cell_type": "code",
   "execution_count": 13,
   "metadata": {},
   "outputs": [
    {
     "data": {
      "image/png": "[encoded data removed]",
      "text/latex": [
       "$\\displaystyle \\left(x - 4\\right) \\left(2 x + 3\\right)$"
      ],
      "text/plain": [
       "(x - 4)⋅(2⋅x + 3)"
      ]
     },
     "execution_count": 13,
     "metadata": {},
     "output_type": "execute_result"
    }
   ],
   "source": [
    "# Verify the result\n",
    "(2 * x**2 - 5 * x - 12).factor()"
   ]
  },
  {
   "cell_type": "markdown",
   "metadata": {},
   "source": [
    "__Problem 5.5.3__ Factor the quadratic expression in __Equation 5.5.9__."
   ]
  },
  {
   "cell_type": "markdown",
   "metadata": {},
   "source": [
    "$$\n",
    "\\begin{equation}\n",
    "40 x^{2} - 40 x -240\n",
    "\\end{equation}\n",
    "\\tag{Equation 5.5.9}\n",
    "$$"
   ]
  },
  {
   "cell_type": "markdown",
   "metadata": {},
   "source": [
    "We note that we can also factor the GCD before factoring. The result is shown in __Equation 5.5.10__, and verified using `sympy`."
   ]
  },
  {
   "cell_type": "markdown",
   "metadata": {},
   "source": [
    "$$\n",
    "\\begin{equation}\n",
    "40 x^{2} - 40 x -240 = 40(x^{2} - x - 6) = 40(x + 2)(x - 3)\n",
    "\\end{equation}\n",
    "\\tag{Equation 5.5.10}\n",
    "$$"
   ]
  },
  {
   "cell_type": "code",
   "execution_count": 14,
   "metadata": {},
   "outputs": [
    {
     "data": {
      "image/png": "[encoded data removed]",
      "text/latex": [
       "$\\displaystyle 40 \\left(x - 3\\right) \\left(x + 2\\right)$"
      ],
      "text/plain": [
       "40⋅(x - 3)⋅(x + 2)"
      ]
     },
     "execution_count": 14,
     "metadata": {},
     "output_type": "execute_result"
    }
   ],
   "source": [
    "# Verify the result\n",
    "(40 * x**2 - 40 * x - 240).factor()"
   ]
  },
  {
   "cell_type": "markdown",
   "metadata": {},
   "source": [
    "__Homework 5.5.1__ Factor the quadratic expression $2 x^{2} + 6 x - 20$."
   ]
  },
  {
   "cell_type": "markdown",
   "metadata": {},
   "source": [
    "Some of the simplest polynomials to factor are those that can be written as $x^{2} - a^{2}$. These are called __difference of squares__. The results is simply $(x-a)(x+a)$. Note that distribution shows that the terms containing $x$ cancel out."
   ]
  },
  {
   "cell_type": "markdown",
   "metadata": {},
   "source": [
    "__Problem 5.5.4__ Factor the difference of squares in __Equation 5.5.11__."
   ]
  },
  {
   "cell_type": "markdown",
   "metadata": {},
   "source": [
    "$$\n",
    "\\begin{equation}\n",
    "x^{2} - 9\n",
    "\\end{equation}\n",
    "\\tag{Equation 5.5.11}\n",
    "$$"
   ]
  },
  {
   "cell_type": "markdown",
   "metadata": {},
   "source": [
    "The result is shown in __Equation 5.5.12__, and confirmed using `sympy`."
   ]
  },
  {
   "cell_type": "markdown",
   "metadata": {},
   "source": [
    "$$\n",
    "\\begin{equation}\n",
    "x^{2} - 9 = (x^{2} - 3^{2}) = (x - 3)(x + 3)\n",
    "\\end{equation}\n",
    "\\tag{Equation 5.5.12}\n",
    "$$"
   ]
  },
  {
   "cell_type": "code",
   "execution_count": 15,
   "metadata": {},
   "outputs": [
    {
     "data": {
      "image/png": "[encoded data removed]",
      "text/latex": [
       "$\\displaystyle \\left(x - 3\\right) \\left(x + 3\\right)$"
      ],
      "text/plain": [
       "(x - 3)⋅(x + 3)"
      ]
     },
     "execution_count": 15,
     "metadata": {},
     "output_type": "execute_result"
    }
   ],
   "source": [
    "# Verify the result\n",
    "(x**2 - 9).factor()"
   ]
  },
  {
   "cell_type": "markdown",
   "metadata": {},
   "source": [
    "__Homework 5.5.2__ Factor the difference of squares $x^{2} - 100$."
   ]
  },
  {
   "cell_type": "markdown",
   "metadata": {},
   "source": [
    "__Problem 5.5.5__ Factor the difference of squares in __Equation 5.5.13__."
   ]
  },
  {
   "cell_type": "markdown",
   "metadata": {},
   "source": [
    "$$\n",
    "\\begin{equation}\n",
    "25x^{2} - 81y^{2}\n",
    "\\end{equation}\n",
    "\\tag{Equation 5.5.13}\n",
    "$$"
   ]
  },
  {
   "cell_type": "markdown",
   "metadata": {},
   "source": [
    "The result is shown in __Equation 5.5.14__, and confirmed using `sympy`."
   ]
  },
  {
   "cell_type": "markdown",
   "metadata": {},
   "source": [
    "$$\n",
    "\\begin{equation}\n",
    "25x^{2} - 81y^{2} = (5x)^{2} - (9y)^{2} = (5x - 9y)(5x + 9y)\n",
    "\\end{equation}\n",
    "\\tag{Equation 5.5.14}\n",
    "$$"
   ]
  },
  {
   "cell_type": "code",
   "execution_count": 16,
   "metadata": {},
   "outputs": [
    {
     "data": {
      "image/png": "[encoded data removed]",
      "text/latex": [
       "$\\displaystyle \\left(5 x - 9 y\\right) \\left(5 x + 9 y\\right)$"
      ],
      "text/plain": [
       "(5⋅x - 9⋅y)⋅(5⋅x + 9⋅y)"
      ]
     },
     "execution_count": 16,
     "metadata": {},
     "output_type": "execute_result"
    }
   ],
   "source": [
    "# Verify the result\n",
    "(25 * x**2 - 81 * y**2).factor()"
   ]
  },
  {
   "cell_type": "markdown",
   "metadata": {},
   "source": [
    "__Homework 5.5.3__ Factor the difference of squares $4x^{2} - 9y^{2}$."
   ]
  },
  {
   "cell_type": "markdown",
   "metadata": {},
   "source": [
    "We can also factor perfect cubes, $a^{3} - b^{3}$. The general form for factoring perfect cubes is shown in __Equation 5.5.15__."
   ]
  },
  {
   "cell_type": "markdown",
   "metadata": {},
   "source": [
    "$$\n",
    "\\begin{equation}\n",
    "a^{3} - b^{3} = (a - b)(a^{2} + ab + b^{2})\n",
    "\\end{equation}\n",
    "\\tag{Equation 5.5.15}\n",
    "$$"
   ]
  },
  {
   "cell_type": "markdown",
   "metadata": {},
   "source": [
    "Note that $a^{2} + ab + b^{2}$ cannot be factored."
   ]
  },
  {
   "cell_type": "markdown",
   "metadata": {},
   "source": [
    "__Problem 5.5.6__ Factor the perfect cubes in __Equation 5.5.16__."
   ]
  },
  {
   "cell_type": "markdown",
   "metadata": {},
   "source": [
    "$$\n",
    "\\begin{equation}\n",
    "8x^{3} - 27\n",
    "\\end{equation}\n",
    "\\tag{Equation 5.5.16}\n",
    "$$"
   ]
  },
  {
   "cell_type": "markdown",
   "metadata": {},
   "source": [
    "The result follows __Equation 5.5.15__ and is shown in __Equation 5.5.17__, where $a=2x$ and $b=3$."
   ]
  },
  {
   "cell_type": "markdown",
   "metadata": {},
   "source": [
    "$$\n",
    "\\begin{equation}\n",
    "8x^{3} - 27 = (2x)^{3} - 3^{3} = (2x - 3)(4x^{2} + 6x + 9)\n",
    "\\end{equation}\n",
    "\\tag{Equation 5.5.17}\n",
    "$$"
   ]
  },
  {
   "cell_type": "markdown",
   "metadata": {},
   "source": [
    "We verify the result using `sympy`."
   ]
  },
  {
   "cell_type": "code",
   "execution_count": 17,
   "metadata": {},
   "outputs": [
    {
     "data": {
      "image/png": "[encoded data removed]",
      "text/latex": [
       "$\\displaystyle \\left(2 x - 3\\right) \\left(4 x^{2} + 6 x + 9\\right)$"
      ],
      "text/plain": [
       "          ⎛   2          ⎞\n",
       "(2⋅x - 3)⋅⎝4⋅x  + 6⋅x + 9⎠"
      ]
     },
     "execution_count": 17,
     "metadata": {},
     "output_type": "execute_result"
    }
   ],
   "source": [
    "# Verify the result\n",
    "(8 * x**3 - 27).factor()"
   ]
  },
  {
   "cell_type": "markdown",
   "metadata": {},
   "source": [
    "__Homework 5.5.4__ Factor the perfect cubes $27x^{3} - 64$."
   ]
  },
  {
   "cell_type": "markdown",
   "metadata": {},
   "source": [
    "We also have the sum of perfect cubes shown in __Equation 5.5.18__."
   ]
  },
  {
   "cell_type": "markdown",
   "metadata": {},
   "source": [
    "$$\n",
    "\\begin{equation}\n",
    "a^{3} + b^{3} = (a + b)(a^{2} - ab + b^{2})\n",
    "\\end{equation}\n",
    "\\tag{Equation 5.5.18}\n",
    "$$"
   ]
  },
  {
   "cell_type": "markdown",
   "metadata": {},
   "source": [
    "__Problem 5.5.7__ Factor the sum of perfect cubes in __Equation 5.5.19__."
   ]
  },
  {
   "cell_type": "markdown",
   "metadata": {},
   "source": [
    "$$\n",
    "\\begin{equation}\n",
    "27x^{3} + 8\n",
    "\\end{equation}\n",
    "\\tag{Equation 5.5.19}\n",
    "$$"
   ]
  },
  {
   "cell_type": "markdown",
   "metadata": {},
   "source": [
    "We see the result in __Equation 5.5.20__, where $a=3x$ and $b=2$."
   ]
  },
  {
   "cell_type": "markdown",
   "metadata": {},
   "source": [
    "$$\n",
    "\\begin{equation}\n",
    "27x^{3} + 8 = (3x)^{3} + 2^{3} = (3x + 2)(9x^{2} - 6x + 4)\n",
    "\\end{equation}\n",
    "\\tag{Equation 5.5.20}\n",
    "$$"
   ]
  },
  {
   "cell_type": "markdown",
   "metadata": {},
   "source": [
    "We verify the result using `sympy`."
   ]
  },
  {
   "cell_type": "code",
   "execution_count": 18,
   "metadata": {},
   "outputs": [
    {
     "data": {
      "image/png": "[encoded data removed]",
      "text/latex": [
       "$\\displaystyle \\left(3 x + 2\\right) \\left(9 x^{2} - 6 x + 4\\right)$"
      ],
      "text/plain": [
       "          ⎛   2          ⎞\n",
       "(3⋅x + 2)⋅⎝9⋅x  - 6⋅x + 4⎠"
      ]
     },
     "execution_count": 18,
     "metadata": {},
     "output_type": "execute_result"
    }
   ],
   "source": [
    "# Verify the result\n",
    "(27 * x**3 + 8).factor()"
   ]
  },
  {
   "cell_type": "markdown",
   "metadata": {},
   "source": [
    "__Homework 5.5.5__ Factor the sum of perfect cubes $64x^{3} + 125$."
   ]
  },
  {
   "cell_type": "markdown",
   "metadata": {},
   "source": [
    "## 5.6 Factoring rational expressions"
   ]
  },
  {
   "cell_type": "markdown",
   "metadata": {},
   "source": [
    "Polynomials can appear in the numerrator and denominator of a rational expression. In this case, we can factor the numerator and denominator separately. Once this is done, we can cancel out common factors."
   ]
  },
  {
   "cell_type": "markdown",
   "metadata": {},
   "source": [
    "__Problem 5.6.1__ Factor the rational expression in __Equation 5.6.1__."
   ]
  },
  {
   "cell_type": "markdown",
   "metadata": {},
   "source": [
    "$$\n",
    "\\begin{equation}\n",
    "\\frac{2x^{2} + 7x + 6}{x^{2} - 4}\n",
    "\\end{equation}\n",
    "\\tag{Equation 5.6.1}\n",
    "$$"
   ]
  },
  {
   "cell_type": "markdown",
   "metadata": {},
   "source": [
    "We see the solution in __Equation 5.6.2__."
   ]
  },
  {
   "cell_type": "markdown",
   "metadata": {},
   "source": [
    "$$\n",
    "\\begin{equation}\n",
    "\\frac{2x^{2} + 7x + 6}{x^{2} - 4} = \\frac{(2x + 3)(x + 2)}{(x + 2)(x - 2)} = \\frac{2x + 3}{x - 2}\n",
    "\\end{equation}\n",
    "\\tag{Equation 5.6.2}\n",
    "$$"
   ]
  },
  {
   "cell_type": "markdown",
   "metadata": {},
   "source": [
    "In __Equation 5.6.2__, we see that the factor $(x+2)$ is common in the numerator and in the denominator and cancels out. We verify the result using `sympy`."
   ]
  },
  {
   "cell_type": "code",
   "execution_count": 19,
   "metadata": {},
   "outputs": [
    {
     "data": {
      "image/png": "[encoded data removed]",
      "text/latex": [
       "$\\displaystyle \\frac{2 x^{2} + 7 x + 6}{x^{2} - 4}$"
      ],
      "text/plain": [
       "   2          \n",
       "2⋅x  + 7⋅x + 6\n",
       "──────────────\n",
       "     2        \n",
       "    x  - 4    "
      ]
     },
     "execution_count": 19,
     "metadata": {},
     "output_type": "execute_result"
    }
   ],
   "source": [
    "# Print the problem using sympy\n",
    "(2 * x**2 + 7 * x + 6) / (x**2 - 4)"
   ]
  },
  {
   "cell_type": "code",
   "execution_count": 20,
   "metadata": {},
   "outputs": [
    {
     "data": {
      "image/png": "[encoded data removed]",
      "text/latex": [
       "$\\displaystyle \\frac{2 x + 3}{x - 2}$"
      ],
      "text/plain": [
       "2⋅x + 3\n",
       "───────\n",
       " x - 2 "
      ]
     },
     "execution_count": 20,
     "metadata": {},
     "output_type": "execute_result"
    }
   ],
   "source": [
    "# Verify the result\n",
    "((2 * x**2 + 7 * x + 6) / (x**2 - 4)).factor()"
   ]
  },
  {
   "cell_type": "markdown",
   "metadata": {},
   "source": [
    "__Homework 5.6.1__ Factor the rational expression in __Equation 5.6.3__."
   ]
  },
  {
   "cell_type": "markdown",
   "metadata": {},
   "source": [
    "$$\n",
    "\\frac{2x^{2} + 5x + 3}{x^{2} - 1}\n",
    "\\tag{Equation 5.6.3}\n",
    "$$"
   ]
  },
  {
   "cell_type": "markdown",
   "metadata": {},
   "source": []
  }
 ],
 "metadata": {
  "kernelspec": {
   "display_name": "mathematics",
   "language": "python",
   "name": "python3"
  },
  "language_info": {
   "codemirror_mode": {
    "name": "ipython",
    "version": 3
   },
   "file_extension": ".py",
   "mimetype": "text/x-python",
   "name": "python",
   "nbconvert_exporter": "python",
   "pygments_lexer": "ipython3",
   "version": "3.10.9"
  },
  "orig_nbformat": 4
 },
 "nbformat": 4,
 "nbformat_minor": 2
}
