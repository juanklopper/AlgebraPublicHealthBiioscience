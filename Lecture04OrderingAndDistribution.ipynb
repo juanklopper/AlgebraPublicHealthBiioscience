{
 "cells": [
  {
   "cell_type": "markdown",
   "metadata": {},
   "source": [
    "# 4 | DISTRIBUTION"
   ]
  },
  {
   "cell_type": "markdown",
   "metadata": {},
   "source": [
    "><b>Dr J H Klopper</b></p>\n",
    ">Department of Biostatistics and Bioinformatics</br>\n",
    ">Milken Institute School of Public Health</br>\n",
    ">George Washington University"
   ]
  },
  {
   "cell_type": "markdown",
   "metadata": {},
   "source": [
    "<p xmlns:cc=\"http://creativecommons.org/ns#\" xmlns:dct=\"http://purl.org/dc/terms/\"><span property=\"dct:title\">This chapter of Algebra for Health Data Science</span> by <span property=\"cc:attributionName\">Dr JH Klopper</span> is licensed under <a href=\"http://creativecommons.org/licenses/by-nc-nd/4.0/?ref=chooser-v1\" target=\"_blank\" rel=\"license noopener noreferrer\" style=\"display:inline-block;\">Attribution-NonCommercial-NoDerivatives 4.0 International<img style=\"height:22px!important;margin-left:3px;vertical-align:text-bottom;\" src=\"https://mirrors.creativecommons.org/presskit/icons/cc.svg?ref=chooser-v1\"><img style=\"height:22px!important;margin-left:3px;vertical-align:text-bottom;\" src=\"https://mirrors.creativecommons.org/presskit/icons/by.svg?ref=chooser-v1\"><img style=\"height:22px!important;margin-left:3px;vertical-align:text-bottom;\" src=\"https://mirrors.creativecommons.org/presskit/icons/nc.svg?ref=chooser-v1\"><img style=\"height:22px!important;margin-left:3px;vertical-align:text-bottom;\" src=\"https://mirrors.creativecommons.org/presskit/icons/nd.svg?ref=chooser-v1\"></a></p>"
   ]
  },
  {
   "cell_type": "markdown",
   "metadata": {},
   "source": [
    "## 4.1 Packages used in this chapter"
   ]
  },
  {
   "cell_type": "markdown",
   "metadata": {},
   "source": [
    "Below we import only the functions from the `sympy` package that are used in this chapter."
   ]
  },
  {
   "cell_type": "code",
   "execution_count": 1,
   "metadata": {},
   "outputs": [],
   "source": [
    "from sympy import init_printing, symbols, Rational, sqrt"
   ]
  },
  {
   "cell_type": "code",
   "execution_count": 2,
   "metadata": {},
   "outputs": [],
   "source": [
    "init_printing()"
   ]
  },
  {
   "cell_type": "markdown",
   "metadata": {},
   "source": [
    "## 4.2 Introduction"
   ]
  },
  {
   "cell_type": "markdown",
   "metadata": {},
   "source": [
    "In chapter 1 we considered the order of arithmetic operations. In this chapter we build on that knowledge and consider how constant and variables groupor _factor_ together and how they distribute or _unfactor_."
   ]
  },
  {
   "cell_type": "markdown",
   "metadata": {},
   "source": [
    "As a reminder, we list the order of arithmetical operations below. For two operations on the same line, we perform the operation on the left first."
   ]
  },
  {
   "cell_type": "markdown",
   "metadata": {},
   "source": [
    "1. Powers and roots\n",
    "2. Multiplication and division\n",
    "3. Addition and subtraction"
   ]
  },
  {
   "cell_type": "markdown",
   "metadata": {},
   "source": [
    "The order can be controlled using parentheses (or brackets and braces)."
   ]
  },
  {
   "cell_type": "markdown",
   "metadata": {},
   "source": [
    "## 4.3 Distribution"
   ]
  },
  {
   "cell_type": "markdown",
   "metadata": {},
   "source": [
    "The distribution of a constant or a variable is defined as the multiplication of the constant or variable by each term in a _group_. The _group_ is placed in parenthesis. The constant or variable is placed outside the parenthesis. The multiplication is performed on each term in the group."
   ]
  },
  {
   "cell_type": "markdown",
   "metadata": {},
   "source": [
    "__Definition 4.3.1__ The __distribution__ of a constant or a variable over a group of terms with addition is defined in __Equation 4.3.1__."
   ]
  },
  {
   "cell_type": "markdown",
   "metadata": {},
   "source": [
    "$$\n",
    "x(a + b + c + \\ldots + n) = ax + bx + cx + \\ldots + nx \\tag{Equation 4.3.1}\n",
    "$$"
   ]
  },
  {
   "cell_type": "markdown",
   "metadata": {},
   "source": [
    "__Problem 4.3.1__ Distribute the constant 3 over the group $a + b + c + d$."
   ]
  },
  {
   "cell_type": "markdown",
   "metadata": {},
   "source": [
    "The solution is shown in __Equation 4.3.2__."
   ]
  },
  {
   "cell_type": "markdown",
   "metadata": {},
   "source": [
    "$$\n",
    "3 \\left( a + b + c + d \\right) = 3a + 3b + 3c + 3d \\tag{Equation 4.3.2}\n",
    "$$"
   ]
  },
  {
   "cell_type": "markdown",
   "metadata": {},
   "source": [
    "__Problem 4.3.2__ Distribute $2$ over the expression $4x+3y-6$."
   ]
  },
  {
   "cell_type": "markdown",
   "metadata": {},
   "source": [
    "The solution is shown in __Equation 4.3.3__."
   ]
  },
  {
   "cell_type": "markdown",
   "metadata": {},
   "source": [
    "$$\n",
    "2 \\left( 4x + 3y - 6 \\right) = 2(4x) + 2(3y) - 2(6) = 8x + 6y - 12 \\tag{Equation 4.3.3}\n",
    "$$"
   ]
  },
  {
   "cell_type": "markdown",
   "metadata": {},
   "source": [
    "__Problem 4.3.3__ Distribution $-1$ over the expression $2x^2 - 3x + 4$."
   ]
  },
  {
   "cell_type": "markdown",
   "metadata": {},
   "source": [
    "The solution is shown in __Equation 4.3.4__."
   ]
  },
  {
   "cell_type": "markdown",
   "metadata": {},
   "source": [
    "$$\n",
    "-1 \\left( 2x^2 - 3x + 4 \\right) = -1(2x^2) + -1(-3x) + -1(4) = -2x^2 + 3x - 4 \\tag{Equation 4.3.4}\n",
    "$$"
   ]
  },
  {
   "cell_type": "markdown",
   "metadata": {},
   "source": [
    "It wold be more common to write __Equation 4.3.4__ with only a negative $-$ and not $-1$. So we would write $- \\left( 2x^{2} - 3x +4 \\right) = -2 x^{2} - x +4$."
   ]
  },
  {
   "cell_type": "markdown",
   "metadata": {},
   "source": [
    "Note that distribution is only defined for the set of parentheses that it precedes."
   ]
  },
  {
   "cell_type": "markdown",
   "metadata": {},
   "source": [
    "__Problem 4.3.4__ Simplify the expression $4x(x-2) - (5x+3)$ by distribution."
   ]
  },
  {
   "cell_type": "markdown",
   "metadata": {},
   "source": [
    "The solution is shown in __Equation 4.3.5__."
   ]
  },
  {
   "cell_type": "markdown",
   "metadata": {},
   "source": [
    "$$\n",
    "\\begin{align*}\n",
    "&4x(x-2) - (5x+3) = 4x^2 - 8x - 5x - 3 \\\\ \\\\\n",
    "&4x(x-2) - (5x+3) = 4x^2 - 13x - 3\n",
    "\\end{align*}\n",
    "\\tag{Equation 4.3.5}\n",
    "$$"
   ]
  },
  {
   "cell_type": "markdown",
   "metadata": {},
   "source": [
    "In the solution above, we used the distribution $-1(5x+3)= -5x - 3$. We also grouped the terms $-8x$ and $-5x$ together such that $-8x-5x = -13x$."
   ]
  },
  {
   "cell_type": "markdown",
   "metadata": {},
   "source": [
    "We can also make use of the laws of powers that we explored in the previous chapter."
   ]
  },
  {
   "cell_type": "markdown",
   "metadata": {},
   "source": [
    "__Problem 4.3.5__ Expand the expression $a \\left(  a^{4} + 2a^{2} +3\\right)$ by distribution."
   ]
  },
  {
   "cell_type": "markdown",
   "metadata": {},
   "source": [
    "The solution is shown in __Equation 4.3.6__."
   ]
  },
  {
   "cell_type": "markdown",
   "metadata": {},
   "source": [
    "$$\n",
    "\\begin{align*}\n",
    "&a \\left(  a^{4} + 2a^{2} +3\\right) = a \\times a^{4} + 2 \\times a \\times a^{2} + 3 \\times a \\\\ \\\\\n",
    "&a \\left(  a^{4} + 2a^{2} +3\\right) = a^{1+4} + 2a^{1+2} + 3a^{1} \\\\ \\\\\n",
    "&a \\left(  a^{4} + 2a^{2} +3\\right) = a^{5} + 2a^{3} + 3a\n",
    "\\end{align*}\n",
    "\\tag{Equation 4.3.6}\n",
    "$$"
   ]
  },
  {
   "cell_type": "markdown",
   "metadata": {},
   "source": [
    "We confirm the last result using `sympy`. We start by defining the symbols $a$ as a mathematical symbol using the `symbols` function and assign it to the variable `a`."
   ]
  },
  {
   "cell_type": "code",
   "execution_count": 3,
   "metadata": {},
   "outputs": [],
   "source": [
    "# Assign the symbol a to the variable a\n",
    "a = symbols('a')"
   ]
  },
  {
   "cell_type": "code",
   "execution_count": 4,
   "metadata": {},
   "outputs": [
    {
     "data": {
      "image/png": "[encoded data removed]",
      "text/latex": [
       "$\\displaystyle a \\left(a^{4} + 2 a^{2} + 3\\right)$"
      ],
      "text/plain": [
       "  ⎛ 4      2    ⎞\n",
       "a⋅⎝a  + 2⋅a  + 3⎠"
      ]
     },
     "execution_count": 4,
     "metadata": {},
     "output_type": "execute_result"
    }
   ],
   "source": [
    "# Print Problem 4.3.5 to the screen\n",
    "a * (a**4 + 2 * a**2 + 3)"
   ]
  },
  {
   "cell_type": "markdown",
   "metadata": {},
   "source": [
    "We use the `expand` method to expand the expression. This performs the distribution."
   ]
  },
  {
   "cell_type": "code",
   "execution_count": 5,
   "metadata": {},
   "outputs": [
    {
     "data": {
      "image/png": "[encoded data removed]",
      "text/latex": [
       "$\\displaystyle a^{5} + 2 a^{3} + 3 a$"
      ],
      "text/plain": [
       " 5      3      \n",
       "a  + 2⋅a  + 3⋅a"
      ]
     },
     "execution_count": 5,
     "metadata": {},
     "output_type": "execute_result"
    }
   ],
   "source": [
    "# Perform the calculation in Problem 4.3.5\n",
    "(a * (a**4 + 2 * a**2 + 3)).expand()"
   ]
  },
  {
   "cell_type": "markdown",
   "metadata": {},
   "source": [
    "__Problem 4.3.6__ Expand the expression in __Equation 4.3.7__ by distribution."
   ]
  },
  {
   "cell_type": "markdown",
   "metadata": {},
   "source": [
    "$$\n",
    "a^{4} \\left( a^{3} + a^{\\frac{1}{4}} \\right)\n",
    "\\tag{Equation 4.3.7}\n",
    "$$"
   ]
  },
  {
   "cell_type": "markdown",
   "metadata": {},
   "source": [
    "The result is shown in __Equation 4.3.8__ and confirmed using `sympy`."
   ]
  },
  {
   "cell_type": "markdown",
   "metadata": {},
   "source": [
    "$$\n",
    "\\begin{align*}\n",
    "&a^{4} \\left( a^{3} + a^{\\frac{1}{4}} \\right) = a^{4} \\times a^{3} + a^{4} \\times a^{\\frac{1}{4}} \\\\ \\\\\n",
    "&a^{4} \\left( a^{3} + a^{\\frac{1}{4}} \\right) = a^{4+3} + a^{4+\\frac{1}{4}} \\\\ \\\\\n",
    "&a^{4} \\left( a^{3} + a^{\\frac{1}{4}} \\right) = a^{7} + a^{\\frac{17}{4}}\n",
    "\\end{align*}\n",
    "\\tag{Equation 4.3.8}\n",
    "$$"
   ]
  },
  {
   "cell_type": "code",
   "execution_count": 6,
   "metadata": {},
   "outputs": [
    {
     "data": {
      "image/png": "[encoded data removed]",
      "text/latex": [
       "$\\displaystyle a^{\\frac{17}{4}} + a^{7}$"
      ],
      "text/plain": [
       " 17/4    7\n",
       "a     + a "
      ]
     },
     "execution_count": 6,
     "metadata": {},
     "output_type": "execute_result"
    }
   ],
   "source": [
    "# Use the expand method to perform the calculation in Problem 4.3.7\n",
    "(a**4 * (a**3 + a**(Rational(1, 4)))).expand()"
   ]
  },
  {
   "cell_type": "markdown",
   "metadata": {},
   "source": [
    "__Problem 4.3.7__ Expand the expression in __Equation 4.3.9__ by distribution."
   ]
  },
  {
   "cell_type": "markdown",
   "metadata": {},
   "source": [
    "$$\n",
    "5 a^{-3}b^{-2} \\left( 2ab^{3} - 3a^{2}b^{2} \\right)\n",
    "\\tag{Equation 4.3.9}\n",
    "$$"
   ]
  },
  {
   "cell_type": "markdown",
   "metadata": {},
   "source": [
    "The solution follows in __Equation 4.3.10__."
   ]
  },
  {
   "cell_type": "markdown",
   "metadata": {},
   "source": [
    "$$\n",
    "\\begin{align*}\n",
    "&5 a^{-3}b^{-2} \\left( 2ab^{3} - 3a^{2}b^{2} + 4 a^{4} b - ab \\right)  \\\\ \\\\\n",
    "= &2 \\cdot 5 \\cdot a \\cdot a^{-3} \\cdot b^{3} \\cdot b^{-2} - 3 \\cdot 5 \\cdot a^{2} \\cdot a^{-3} \\cdot b^{2} \\cdot b^{-2} \\\\ \\\\ \n",
    "= &10 a^{1-3} b^{3-2} - 15 a^{2-3} b^{2-2} \\\\ \\\\\n",
    "= &10 a^{-2} b - 15 a^{-1} \\\\ \\\\\n",
    "= &\\frac{10 b}{a^{2}} - \\frac{15}{a}\n",
    "\\end{align*}\n",
    "\\tag{Equation 4.3.10}\n",
    "$$"
   ]
  },
  {
   "cell_type": "markdown",
   "metadata": {},
   "source": [
    "We confirm the result with code after assigning the mathematical symbol $b$ to the variable `b` using the `symbols` function."
   ]
  },
  {
   "cell_type": "code",
   "execution_count": 7,
   "metadata": {},
   "outputs": [],
   "source": [
    "# Create the mathematical symbol b and assign it to the variable b\n",
    "b = symbols('b')"
   ]
  },
  {
   "cell_type": "code",
   "execution_count": 8,
   "metadata": {},
   "outputs": [
    {
     "data": {
      "image/png": "[encoded data removed]",
      "text/latex": [
       "$\\displaystyle - \\frac{15}{a} + \\frac{10 b}{a^{2}}$"
      ],
      "text/plain": [
       "  15   10⋅b\n",
       "- ── + ────\n",
       "  a      2 \n",
       "        a  "
      ]
     },
     "execution_count": 8,
     "metadata": {},
     "output_type": "execute_result"
    }
   ],
   "source": [
    "# Solution to Problem 4.3.7\n",
    "(5 * a**(-3) * b**(-2) * (2 * a * b**3 - 3 * a**2 * b**2)).expand()"
   ]
  },
  {
   "cell_type": "markdown",
   "metadata": {},
   "source": [
    "Radicals can also be involved in distribution. To do these calculations we remember the property of radicals in __Equation 4.3.11__"
   ]
  },
  {
   "cell_type": "markdown",
   "metadata": {},
   "source": [
    "$$\n",
    "\\sqrt[n]{ab} = \\sqrt[n]{a} \\, \\sqrt[n]{b} = a^{\\frac{1}{n}} \\, b^{\\frac{1}{n}} = \\left( ab \\right)^{\\frac{1}{n}}\n",
    "\\tag{Equation 4.3.11}\n",
    "$$"
   ]
  },
  {
   "cell_type": "markdown",
   "metadata": {},
   "source": [
    "We can examine a specific example to confirm that all the terms in __Equation 4.3.11__ are indeed equal. If we use $a=2$, $b=3$ and $n=2$ we have $\\sqrt[2]{2 \\times 3}$. The code below calculates the values of each term in __Equation 4.3.11__ and confirms that they are all equal."
   ]
  },
  {
   "cell_type": "code",
   "execution_count": 18,
   "metadata": {},
   "outputs": [
    {
     "data": {
      "image/png": "[encoded data removed]",
      "text/latex": [
       "$\\displaystyle \\sqrt{6}$"
      ],
      "text/plain": [
       "√6"
      ]
     },
     "execution_count": 18,
     "metadata": {},
     "output_type": "execute_result"
    }
   ],
   "source": [
    "sqrt(2 * 3)"
   ]
  },
  {
   "cell_type": "code",
   "execution_count": 15,
   "metadata": {},
   "outputs": [
    {
     "data": {
      "image/png": "[encoded data removed]",
      "text/latex": [
       "$\\displaystyle \\sqrt{6}$"
      ],
      "text/plain": [
       "√6"
      ]
     },
     "execution_count": 15,
     "metadata": {},
     "output_type": "execute_result"
    }
   ],
   "source": [
    "sqrt(2) * sqrt(3)"
   ]
  },
  {
   "cell_type": "code",
   "execution_count": 16,
   "metadata": {},
   "outputs": [
    {
     "data": {
      "image/png": "[encoded data removed]",
      "text/latex": [
       "$\\displaystyle \\sqrt{6}$"
      ],
      "text/plain": [
       "√6"
      ]
     },
     "execution_count": 16,
     "metadata": {},
     "output_type": "execute_result"
    }
   ],
   "source": [
    "(2**(Rational(1, 2)) * 3**(Rational(1, 2)))"
   ]
  },
  {
   "cell_type": "code",
   "execution_count": 17,
   "metadata": {},
   "outputs": [
    {
     "data": {
      "image/png": "[encoded data removed]",
      "text/latex": [
       "$\\displaystyle \\sqrt{6}$"
      ],
      "text/plain": [
       "√6"
      ]
     },
     "execution_count": 17,
     "metadata": {},
     "output_type": "execute_result"
    }
   ],
   "source": [
    "(2 * 3)**Rational(1, 2)"
   ]
  },
  {
   "cell_type": "markdown",
   "metadata": {},
   "source": [
    "In each case the result is $\\sqrt{6}$."
   ]
  },
  {
   "cell_type": "markdown",
   "metadata": {},
   "source": [
    "__Problem 4.3.8__ Expand the expression in __Equation 4.3.12__ by distribution."
   ]
  },
  {
   "cell_type": "markdown",
   "metadata": {},
   "source": [
    "$$\n",
    "\\sqrt{xy} \\left( \\sqrt{xy} + \\sqrt{y} \\right)\n",
    "\\tag{Equation 4.3.12}\n",
    "$$"
   ]
  },
  {
   "cell_type": "markdown",
   "metadata": {},
   "source": [
    "The result is shown in __Equation 4.3.13__."
   ]
  },
  {
   "cell_type": "markdown",
   "metadata": {},
   "source": [
    "$$\n",
    "\\begin{align*}\n",
    "&\\sqrt{xy} \\left( \\sqrt{xy} + \\sqrt{y} \\right) \\\\ \\\\\n",
    "&= \\sqrt{xy} \\times \\sqrt{xy} + \\sqrt{xy} \\times \\sqrt{y} \\\\ \\\\\n",
    "&= \\sqrt{xy \\times xy} + \\sqrt{xy \\times y} \\\\ \\\\\n",
    "&= \\sqrt{x^{2}y^{2}} + \\sqrt{xy^{2}} \\\\ \\\\\n",
    "&= \\sqrt{x^{2}} \\sqrt{y^{2}} + \\sqrt{x} \\sqrt{y^{2}} \\\\ \\\\\n",
    "&= xy + y \\sqrt{x}\n",
    "\\end{align*}\n",
    "\\tag{Equation 4.3.13}\n",
    "$$"
   ]
  },
  {
   "cell_type": "markdown",
   "metadata": {},
   "source": [
    "The result is confirmed in the code cell below. The `sympy` package does not have a function to expand radicals."
   ]
  },
  {
   "cell_type": "code",
   "execution_count": 20,
   "metadata": {},
   "outputs": [
    {
     "data": {
      "image/png": "[encoded data removed]",
      "text/latex": [
       "$\\displaystyle x y + \\sqrt{y} \\sqrt{x y}$"
      ],
      "text/plain": [
       "           _____\n",
       "x⋅y + √y⋅╲╱ x⋅y "
      ]
     },
     "execution_count": 20,
     "metadata": {},
     "output_type": "execute_result"
    }
   ],
   "source": [
    "(sqrt(x * y) * (sqrt(x * y) + sqrt(y))).expand()"
   ]
  },
  {
   "cell_type": "markdown",
   "metadata": {},
   "source": [
    "__Problem 4.3.9__ Simplify the expression in __Equation 4.3.14__ by distribution."
   ]
  },
  {
   "cell_type": "markdown",
   "metadata": {},
   "source": [
    "$$\n",
    "\\sqrt{xy^{3}} \\left( \\sqrt{x^{5}y} + \\sqrt{xy^{7}} \\right)\n",
    "\\tag{Equation 4.3.14}\n",
    "$$"
   ]
  },
  {
   "cell_type": "markdown",
   "metadata": {},
   "source": [
    "The solution follows in __Equation 4.3.15__."
   ]
  },
  {
   "cell_type": "markdown",
   "metadata": {},
   "source": [
    "$$\n",
    "\\begin{align*}\n",
    "&\\sqrt{xy^{3}} \\left( \\sqrt{x^{5}y} + \\sqrt{xy^{7}} \\right) \\\\ \\\\\n",
    "= &\\sqrt{xy^{3}} \\cdot \\sqrt{x^{5}y} + \\sqrt{xy^{3}} \\cdot \\sqrt{xy^{7}} \\\\ \\\\\n",
    "= &\\sqrt{xy^{3} \\cdot x^{5}y} + \\sqrt{xy^{3} \\cdot xy^{7}} \\\\ \\\\\n",
    "= &\\sqrt{x^{6}y^{4}} + \\sqrt{x^{2}y^{10}} \\\\ \\\\\n",
    "= &\\sqrt{\\left( x^{3} \\right)^{2} \\left( y^{2} \\right)^{2}} + \\sqrt{x^{2} \\left( y^{5} \\right)^{2}} \\\\ \\\\\n",
    "= &\\sqrt{\\left( x^{3} \\right)^{2}} \\sqrt{\\left( y^{2} \\right)^{2}} + \\sqrt{x^{2}} \\sqrt{\\left( y^{5} \\right)^{2}} \\\\ \\\\\n",
    "= &x^{3}y^{2} + xy^{5}\n",
    "\\end{align*}\n",
    "\\tag{Equation 4.3.15}\n",
    "$$"
   ]
  },
  {
   "cell_type": "markdown",
   "metadata": {},
   "source": [
    "In the second last step in __Equation 4.3.15__ we make use of the property of radicals in __Equation 4.3.16__."
   ]
  },
  {
   "cell_type": "markdown",
   "metadata": {},
   "source": [
    "$$\n",
    "\\sqrt[n]{x^{n}} = \\left( x^{n} \\right)^{\\frac{1}{n}} = x^{\\frac{n}{n}} = x^{1} = x\n",
    "\\tag{Equation 4.3.16}\n",
    "$$"
   ]
  },
  {
   "cell_type": "markdown",
   "metadata": {},
   "source": [
    "We verify the result (up to a point) using `sympy` after assigning the mathematical symbols $x$ and $y$ to the variables `x` and `y` using the `symbols` function."
   ]
  },
  {
   "cell_type": "code",
   "execution_count": 9,
   "metadata": {},
   "outputs": [],
   "source": [
    "# Creating the mathematical variable x and y\n",
    "x, y = symbols('x y')"
   ]
  },
  {
   "cell_type": "code",
   "execution_count": 10,
   "metadata": {},
   "outputs": [
    {
     "data": {
      "image/png": "[encoded data removed]",
      "text/latex": [
       "$\\displaystyle \\sqrt{x y^{3}} \\left(\\sqrt{x y^{7}} + \\sqrt{x^{5} y}\\right)$"
      ],
      "text/plain": [
       "   ______ ⎛   ______      ______⎞\n",
       "  ╱    3  ⎜  ╱    7      ╱  5   ⎟\n",
       "╲╱  x⋅y  ⋅⎝╲╱  x⋅y   + ╲╱  x ⋅y ⎠"
      ]
     },
     "execution_count": 10,
     "metadata": {},
     "output_type": "execute_result"
    }
   ],
   "source": [
    "# Print Problem 4.3.8\n",
    "sqrt(x * y**3) * (sqrt(x**5 * y) + sqrt(x * y**7))"
   ]
  },
  {
   "cell_type": "code",
   "execution_count": 11,
   "metadata": {},
   "outputs": [
    {
     "data": {
      "image/png": "[encoded data removed]",
      "text/latex": [
       "$\\displaystyle \\sqrt{x y^{3}} \\sqrt{x y^{7}} + \\sqrt{x y^{3}} \\sqrt{x^{5} y}$"
      ],
      "text/plain": [
       "   ______    ______      ______    ______\n",
       "  ╱    3    ╱    7      ╱    3    ╱  5   \n",
       "╲╱  x⋅y  ⋅╲╱  x⋅y   + ╲╱  x⋅y  ⋅╲╱  x ⋅y "
      ]
     },
     "execution_count": 11,
     "metadata": {},
     "output_type": "execute_result"
    }
   ],
   "source": [
    "# Verify the result of Problem 4.3.8\n",
    "(sqrt(x * y**3) * (sqrt(x**5 * y) + sqrt(x * y**7))).expand()"
   ]
  },
  {
   "cell_type": "markdown",
   "metadata": {},
   "source": [
    "The term to be distributed can contain more than a single term. In this case, we distribute the terms individually over each term in the group."
   ]
  },
  {
   "cell_type": "markdown",
   "metadata": {},
   "source": [
    "There are other ways to approach the soliton to __Problem 4.3.9__. We could have first simplified the radicals and then distributed the terms. This is shown in __Equation 4.3.17__."
   ]
  },
  {
   "cell_type": "markdown",
   "metadata": {},
   "source": [
    "$$\n",
    "\\begin{align*}\n",
    "&\\sqrt{xy^{3}} \\left( \\sqrt{x^{5}y} + \\sqrt{xy^{7}} \\right) \\\\ \\\\\n",
    "&y \\sqrt{xy} \\left( x^{2} \\sqrt{xy} + y^{3} \\sqrt{xy} \\right) \\\\ \\\\\n",
    "&y \\sqrt{xy} \\cdot x^{2} \\cdot \\sqrt{xy} + y \\sqrt{xy} \\cdot y^{3} \\cdot \\sqrt{xy} \\\\ \\\\\n",
    "&x^{2} y \\cdot \\sqrt{xy} \\cdot \\sqrt{xy} + y^{4} \\cdot \\sqrt{xy} \\cdot \\sqrt{xy} \\\\ \\\\\n",
    "&x^{2} y \\cdot \\sqrt{x^{2}y^{2}} + y^{4} \\cdot \\sqrt{x^{2} y^{2}} \\\\ \\\\\n",
    "&x^{2} y \\cdot xy + y^{4} \\cdot xy \\\\ \\\\\n",
    "&x^{3} y^{2} + x y^{5}\n",
    "\\end{align*}\n",
    "\\tag{Equation 4.3.17}\n",
    "$$"
   ]
  },
  {
   "cell_type": "markdown",
   "metadata": {},
   "source": [
    "There can be more than on term used in a distribution. In the next problems we see that we can distribute a group of terms over a group of terms."
   ]
  },
  {
   "cell_type": "markdown",
   "metadata": {},
   "source": [
    "__Problem 4.3.10__ Simplify the expression in __Equation 4.3.18__ by distribution."
   ]
  },
  {
   "cell_type": "markdown",
   "metadata": {},
   "source": [
    "$$\n",
    "\\left( 3x + 4 \\right) \\left( 2x - 1 \\right)\n",
    "\\tag{Equation 4.3.18}\n",
    "$$"
   ]
  },
  {
   "cell_type": "markdown",
   "metadata": {},
   "source": [
    "The result is shown in __Equation 4.3.19__."
   ]
  },
  {
   "cell_type": "markdown",
   "metadata": {},
   "source": [
    "$$\n",
    "\\begin{align*}\n",
    "&\\left( 3x + 4 \\right) \\left( 2x - 1 \\right) \\\\ \\\\\n",
    "= &3x \\left( 2x - 1 \\right) + 4 \\left( 2x - 1 \\right) \\\\ \\\\\n",
    "= &3x \\cdot 2x - 3x \\cdot 1 + 4 \\cdot 2x - 4 \\cdot 1 \\\\ \\\\\n",
    "= &6x^{2} - 3x + 8x - 4 \\\\ \\\\\n",
    "= &6x^{2} + 5x - 4\n",
    "\\end{align*}\n",
    "\\tag{Equation 4.3.19}\n",
    "$$"
   ]
  },
  {
   "cell_type": "markdown",
   "metadata": {},
   "source": [
    "We note that each of the terms $3x$ and $4$ in the first set of parentheses are distributed over each of the terms $2x$ and $-1$ in the second set of parentheses. The signs are important. The $3x$ is distributed over $2x$ and $-1$ and the $4$ is distributed over $2x$ and $-1$."
   ]
  },
  {
   "cell_type": "markdown",
   "metadata": {},
   "source": [
    "We verify the result using the `expand` method in `sympy`."
   ]
  },
  {
   "cell_type": "code",
   "execution_count": 12,
   "metadata": {},
   "outputs": [
    {
     "data": {
      "image/png": "[encoded data removed]",
      "text/latex": [
       "$\\displaystyle 6 x^{2} + 5 x - 4$"
      ],
      "text/plain": [
       "   2          \n",
       "6⋅x  + 5⋅x - 4"
      ]
     },
     "execution_count": 12,
     "metadata": {},
     "output_type": "execute_result"
    }
   ],
   "source": [
    "# Verify the result of Problem 4.3.9\n",
    "((3 * x + 4) * (2 * x - 1)).expand()"
   ]
  },
  {
   "cell_type": "markdown",
   "metadata": {},
   "source": [
    "__Problem 4.3.11__ Simplify the expression in __Equation 4.3.20__ by distribution."
   ]
  },
  {
   "cell_type": "markdown",
   "metadata": {},
   "source": [
    "$$\n",
    "\\left( 3x + 4 \\right)^{2}\n",
    "\\tag{Equation 4.3.20}\n",
    "$$"
   ]
  },
  {
   "cell_type": "markdown",
   "metadata": {},
   "source": [
    "The result is shown in __Equation 4.3.21__ wehere we start by squaring the parentheses."
   ]
  },
  {
   "cell_type": "markdown",
   "metadata": {},
   "source": [
    "$$\n",
    "\\begin{align*}\n",
    "&\\left( 3x + 4 \\right)^{2} \\\\ \\\\\n",
    "= &\\left( 3x + 4 \\right) \\left( 3x + 4 \\right) \\\\ \\\\\n",
    "= &3x \\left( 3x + 4 \\right) + 4 \\left( 3x + 4 \\right) \\\\ \\\\\n",
    "= &3x \\cdot 3x + 3x \\cdot 4 + 4 \\cdot 3x + 4 \\cdot 4 \\\\ \\\\\n",
    "= &9x^{2} + 12x + 12x + 16 \\\\ \\\\\n",
    "= &9x^{2} + 24x + 16\n",
    "\\end{align*}\n",
    "\\tag{Equation 4.3.21}\n",
    "$$"
   ]
  },
  {
   "cell_type": "markdown",
   "metadata": {},
   "source": [
    "The result is confirmed using `sympy`."
   ]
  },
  {
   "cell_type": "code",
   "execution_count": 36,
   "metadata": {},
   "outputs": [
    {
     "data": {
      "image/png": "[encoded data removed]",
      "text/latex": [
       "$\\displaystyle 9 x^{2} + 24 x + 16$"
      ],
      "text/plain": [
       "   2            \n",
       "9⋅x  + 24⋅x + 16"
      ]
     },
     "execution_count": 36,
     "metadata": {},
     "output_type": "execute_result"
    }
   ],
   "source": [
    "((3 * x + 4)**2).expand()"
   ]
  },
  {
   "cell_type": "markdown",
   "metadata": {},
   "source": [
    "In the next problem, we see an example with more than two terms in the set of parenthesis that we are distributing over."
   ]
  },
  {
   "cell_type": "markdown",
   "metadata": {},
   "source": [
    "__Problem 4.3.12__ Simplify the expression in __Equation 4.3.22__ by distribution."
   ]
  },
  {
   "cell_type": "markdown",
   "metadata": {},
   "source": [
    "$$\n",
    "\\left( 2x - 4 \\right) \\left( x^{2} + x - 1 \\right)\n",
    "\\tag{Equation 4.3.22}\n",
    "$$"
   ]
  },
  {
   "cell_type": "markdown",
   "metadata": {},
   "source": [
    "The result is shown in __Equation 4.3.23__."
   ]
  },
  {
   "cell_type": "markdown",
   "metadata": {},
   "source": [
    "$$\n",
    "\\begin{align*}\n",
    "&\\left( 2x - 4 \\right) \\left( x^{2} + x - 1 \\right) \\\\ \\\\\n",
    "= &2x \\left( x^{2} + x - 1 \\right) - 4 \\left( x^{2} + x - 1 \\right) \\\\ \\\\\n",
    "= &2x \\cdot x^{2} + 2x \\cdot x - 2x \\cdot 1 - 4 \\cdot x^{2} - 4 \\cdot x - 4 \\cdot -1 \\\\ \\\\\n",
    "= &2x^{3} + 2x^{2} - 2x - 4x^{2} - 4x + 4 \\\\ \\\\\n",
    "= &2x^{3} - 2x^{2} - 6x + 4\n",
    "\\end{align*}\n",
    "\\tag{Equation 4.3.23}\n",
    "$$"
   ]
  },
  {
   "cell_type": "markdown",
   "metadata": {},
   "source": [
    "The result is confirmed using `sympy`."
   ]
  },
  {
   "cell_type": "code",
   "execution_count": 37,
   "metadata": {},
   "outputs": [
    {
     "data": {
      "image/png": "[encoded data removed]",
      "text/latex": [
       "$\\displaystyle 2 x^{3} - 2 x^{2} - 6 x + 4$"
      ],
      "text/plain": [
       "   3      2          \n",
       "2⋅x  - 2⋅x  - 6⋅x + 4"
      ]
     },
     "execution_count": 37,
     "metadata": {},
     "output_type": "execute_result"
    }
   ],
   "source": [
    "((2 * x - 4) * (x**2 + x - 1)).expand()"
   ]
  },
  {
   "cell_type": "markdown",
   "metadata": {},
   "source": [
    "Next we investigate an example where we have to distribute three groups of terms."
   ]
  },
  {
   "cell_type": "markdown",
   "metadata": {},
   "source": [
    "__Problem 4.3.13__ Simplify the expression in __Equation 4.3.24__ by distribution."
   ]
  },
  {
   "cell_type": "markdown",
   "metadata": {},
   "source": [
    "$$\n",
    "\\left( a + b \\right)^{3}\n",
    "\\tag{Equation 4.3.24}\n",
    "$$"
   ]
  },
  {
   "cell_type": "markdown",
   "metadata": {},
   "source": [
    "The solution is shown in __Equation 4.3.25__ where we start by writing the term in parenthesis three times."
   ]
  },
  {
   "cell_type": "markdown",
   "metadata": {},
   "source": [
    "$$\n",
    "\\begin{align*}\n",
    "&\\left( a + b \\right)^{3} \\\\ \\\\\n",
    "= &\\left( a + b \\right) \\left( a + b \\right) \\left( a + b \\right) \\\\ \\\\\n",
    "= &\\left( a + b \\right) \\left( a^{2} + ab + ba + b^{2} \\right) \\\\ \\\\\n",
    "= &a \\left( a^{2} + ab + ba + b^{2} \\right) + b \\left( a^{2} + ab + ba + b^{2} \\right) \\\\ \\\\\n",
    "= &a \\cdot a^{2} + a \\cdot ab + a \\cdot ba + a \\cdot b^{2} + b \\cdot a^{2} + b \\cdot ab + b \\cdot ba + b \\cdot b^{2} \\\\ \\\\\n",
    "= &a^{3} + a^{2}b + aba + ab^{2} + ba^{2} + bab + b^{2}a + b^{3} \\\\ \\\\\n",
    "= &a^{3} + a^{2}b + a^{2}b + ab^{2} + a^{2}b + ab^{2} + ab^{2} + b^{3} \\\\ \\\\\n",
    "= &a^{3} + 3a^{2}b + 3ab^{2} + b^{3}\n",
    "\\end{align*}\n",
    "\\tag{Equation 4.3.25}\n",
    "$$"
   ]
  },
  {
   "cell_type": "markdown",
   "metadata": {},
   "source": [
    "In __Equation 4.3.25__ we consider the last two groups of terms, completed that distribution and then distributed the first group of terms. The result is confirmed in the code cell below."
   ]
  },
  {
   "cell_type": "code",
   "execution_count": 40,
   "metadata": {},
   "outputs": [
    {
     "data": {
      "image/png": "[encoded data removed]",
      "text/latex": [
       "$\\displaystyle a^{3} + 3 a^{2} b + 3 a b^{2} + b^{3}$"
      ],
      "text/plain": [
       " 3      2          2    3\n",
       "a  + 3⋅a ⋅b + 3⋅a⋅b  + b "
      ]
     },
     "execution_count": 40,
     "metadata": {},
     "output_type": "execute_result"
    }
   ],
   "source": [
    "((a + b)**3).expand()"
   ]
  }
 ],
 "metadata": {
  "kernelspec": {
   "display_name": "mathematics",
   "language": "python",
   "name": "python3"
  },
  "language_info": {
   "codemirror_mode": {
    "name": "ipython",
    "version": 3
   },
   "file_extension": ".py",
   "mimetype": "text/x-python",
   "name": "python",
   "nbconvert_exporter": "python",
   "pygments_lexer": "ipython3",
   "version": "3.10.13"
  },
  "orig_nbformat": 4
 },
 "nbformat": 4,
 "nbformat_minor": 2
}
