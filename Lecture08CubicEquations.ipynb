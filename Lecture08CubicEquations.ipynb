{
 "cells": [
  {
   "cell_type": "markdown",
   "metadata": {},
   "source": [
    "# 8 | CUBIC AND HIGHER ORDER EQUATIONS"
   ]
  },
  {
   "cell_type": "markdown",
   "metadata": {},
   "source": [
    "><b>Dr J H Klopper</b></p>\n",
    ">Department of Biostatistics and Bioinformatics</br>\n",
    ">Milken Institute School of Public Health</br>\n",
    ">George Washington University"
   ]
  },
  {
   "cell_type": "markdown",
   "metadata": {},
   "source": [
    "<p xmlns:cc=\"http://creativecommons.org/ns#\" xmlns:dct=\"http://purl.org/dc/terms/\"><span property=\"dct:title\">This chapter of Algebra for Health Data Science</span> by <span property=\"cc:attributionName\">Dr JH Klopper</span> is licensed under <a href=\"http://creativecommons.org/licenses/by-nc-nd/4.0/?ref=chooser-v1\" target=\"_blank\" rel=\"license noopener noreferrer\" style=\"display:inline-block;\">Attribution-NonCommercial-NoDerivatives 4.0 International<img style=\"height:22px!important;margin-left:3px;vertical-align:text-bottom;\" src=\"https://mirrors.creativecommons.org/presskit/icons/cc.svg?ref=chooser-v1\"><img style=\"height:22px!important;margin-left:3px;vertical-align:text-bottom;\" src=\"https://mirrors.creativecommons.org/presskit/icons/by.svg?ref=chooser-v1\"><img style=\"height:22px!important;margin-left:3px;vertical-align:text-bottom;\" src=\"https://mirrors.creativecommons.org/presskit/icons/nc.svg?ref=chooser-v1\"><img style=\"height:22px!important;margin-left:3px;vertical-align:text-bottom;\" src=\"https://mirrors.creativecommons.org/presskit/icons/nd.svg?ref=chooser-v1\"></a></p>"
   ]
  },
  {
   "cell_type": "markdown",
   "metadata": {},
   "source": [
    "- Watch the pencil and paper video lecture [HERE]()\n",
    "\n",
    "- Watch the Python video lecture [HERE]()"
   ]
  },
  {
   "cell_type": "markdown",
   "metadata": {},
   "source": [
    "## 8.1 Packages used in this chapter"
   ]
  },
  {
   "cell_type": "markdown",
   "metadata": {},
   "source": [
    "We start by importing the functions and packages modules that we will use in this chapter."
   ]
  },
  {
   "cell_type": "code",
   "execution_count": 1,
   "metadata": {},
   "outputs": [],
   "source": [
    "from sympy import init_printing, symbols, Eq, solve, Rational"
   ]
  },
  {
   "cell_type": "markdown",
   "metadata": {},
   "source": [
    "The `init_printing` function is used to print the output of `sympy` code in mathematical typesetting."
   ]
  },
  {
   "cell_type": "code",
   "execution_count": 2,
   "metadata": {},
   "outputs": [],
   "source": [
    "init_printing()"
   ]
  },
  {
   "cell_type": "markdown",
   "metadata": {},
   "source": [
    "We will look at graphing equations in the next chapter. In this chapter we will include graphs and we therefor import the `pyplot` module from the `matplotlib` package."
   ]
  },
  {
   "cell_type": "code",
   "execution_count": 3,
   "metadata": {},
   "outputs": [],
   "source": [
    "from matplotlib import pyplot"
   ]
  },
  {
   "cell_type": "markdown",
   "metadata": {},
   "source": [
    "To ensure higher resolution graphs on computer screen that have such capabilities, we use the `%config InlineBackend.figure_format = 'retina'` command."
   ]
  },
  {
   "cell_type": "code",
   "execution_count": 4,
   "metadata": {},
   "outputs": [],
   "source": [
    "%config InlineBackend.figure_format = 'retina'"
   ]
  },
  {
   "cell_type": "markdown",
   "metadata": {},
   "source": [
    "For numerical computation we import the `numpy` package."
   ]
  },
  {
   "cell_type": "code",
   "execution_count": 5,
   "metadata": {},
   "outputs": [],
   "source": [
    "import numpy"
   ]
  },
  {
   "cell_type": "markdown",
   "metadata": {},
   "source": [
    "## 8.2 Introduction"
   ]
  },
  {
   "cell_type": "markdown",
   "metadata": {},
   "source": [
    "In the previous chapter we explored quadratic equations. Quadratic equations are polynomials, with the highest order of the unknown in the polynomial being $2$.  In this chapter we explore cubic equations. Cubic equations are polynomials with the highest order of the unknown in the polynomial being $3$."
   ]
  },
  {
   "cell_type": "markdown",
   "metadata": {},
   "source": [
    "We start by defining cubic equations and how to solve for the unknown in the equation. We will look at various techniques including factoring, using the greatest common denominator, using grouping, and using division."
   ]
  },
  {
   "cell_type": "markdown",
   "metadata": {},
   "source": [
    "We start by defining cubic equations."
   ]
  },
  {
   "cell_type": "markdown",
   "metadata": {},
   "source": [
    "## 8.3 Cubic equations"
   ]
  },
  {
   "cell_type": "markdown",
   "metadata": {},
   "source": [
    "__Definition 8.3.1__ A <span style=\"color:lightgreen\">__cubic equation__</span> is a polynomial of the form $ax^3 + bx^2 + cx + d = 0$ where $a \\neq 0$."
   ]
  },
  {
   "cell_type": "markdown",
   "metadata": {},
   "source": [
    "A cubic equation is also called a __third-degree polynomial equation__ and has three solutions or three roots."
   ]
  },
  {
   "cell_type": "markdown",
   "metadata": {},
   "source": [
    "We have already explored cubic expressions by looking at the the sum and difference of cubes. We revisit the factorization of these expressions in __Equation 8.3.1__, where $a \\ne 0$."
   ]
  },
  {
   "cell_type": "markdown",
   "metadata": {},
   "source": [
    "$$\n",
    "\\begin{align*}\n",
    "&x^{3} + a^{3} = \\left(x + a \\right) \\left(x^{2} - ax + a^{2} \\right) \\\\ \\\\\n",
    "&x^{3} - a^{3} = \\left(x - a \\right) \\left(x^{2} + ax + a^{2} \\right)\n",
    "\\end{align*}\n",
    "\\tag{Equation 8.3.1}\n",
    "$$"
   ]
  },
  {
   "cell_type": "markdown",
   "metadata": {},
   "source": [
    "In the code cell below we create the mathematical symbols $x$ and $a$ and assign them to the variables `x` and `a`."
   ]
  },
  {
   "cell_type": "code",
   "execution_count": 6,
   "metadata": {},
   "outputs": [],
   "source": [
    "# Define the symbol x\n",
    "x = symbols('x')\n",
    "a = symbols('a')"
   ]
  },
  {
   "cell_type": "markdown",
   "metadata": {},
   "source": [
    "Next, we use `sympy` to verify __Equation 8.3.1__ using the `factor` method."
   ]
  },
  {
   "cell_type": "code",
   "execution_count": 7,
   "metadata": {},
   "outputs": [
    {
     "data": {
      "image/png": "[encoded data removed]",
      "text/latex": [
       "$\\displaystyle \\left(a + x\\right) \\left(a^{2} - a x + x^{2}\\right)$"
      ],
      "text/plain": [
       "        ⎛ 2          2⎞\n",
       "(a + x)⋅⎝a  - a⋅x + x ⎠"
      ]
     },
     "execution_count": 7,
     "metadata": {},
     "output_type": "execute_result"
    }
   ],
   "source": [
    "# Factor the sum of cubes\n",
    "(x**3 + a**3).factor()"
   ]
  },
  {
   "cell_type": "code",
   "execution_count": 8,
   "metadata": {},
   "outputs": [
    {
     "data": {
      "image/png": "[encoded data removed]",
      "text/latex": [
       "$\\displaystyle \\left(- a + x\\right) \\left(a^{2} + a x + x^{2}\\right)$"
      ],
      "text/plain": [
       "         ⎛ 2          2⎞\n",
       "(-a + x)⋅⎝a  + a⋅x + x ⎠"
      ]
     },
     "execution_count": 8,
     "metadata": {},
     "output_type": "execute_result"
    }
   ],
   "source": [
    "# Factor the difference of cubes\n",
    "(x**3 - a**3).factor()"
   ]
  },
  {
   "cell_type": "markdown",
   "metadata": {},
   "source": [
    "Only the order in which the symbols are written differs from the results in __Equation 8.3.1__."
   ]
  },
  {
   "cell_type": "markdown",
   "metadata": {},
   "source": [
    "Solving a cubic equation is more difficult than solving a quadratic equation. Remember that by solving, we mean writing the cubic equation as in __Definition 8.3.1__ and rearranging the equation to isolate the unknown $x$."
   ]
  },
  {
   "cell_type": "markdown",
   "metadata": {},
   "source": [
    "## 8.4 Solving cubic equations using factoring"
   ]
  },
  {
   "cell_type": "markdown",
   "metadata": {},
   "source": [
    "Some cubic equations are solved using the factoring in __Equation 8.3.1__. The following example illustrates this, where we also solve the second factor using the quadratic formula."
   ]
  },
  {
   "cell_type": "markdown",
   "metadata": {},
   "source": [
    "__Problem 8.4.1__ Solve the cubic equation $x^3 + 27 = 0$."
   ]
  },
  {
   "cell_type": "markdown",
   "metadata": {},
   "source": [
    "We note that $27=3^{3}$ and we have $x^{3}+3^{3} = 0$, which we solve in __Equation 8.4.1__."
   ]
  },
  {
   "cell_type": "markdown",
   "metadata": {},
   "source": [
    "$$\n",
    "\\begin{align*}\n",
    "&x^{3} + 3^{3} = 0 \\\\ \\\\\n",
    "&\\left(x + 3 \\right) \\left(x^{2} - 3x + 3^{2} \\right) = 0 \\\\ \\\\\n",
    "&\\left(x + 3 \\right) \\left(x^{2} - 3x + 9 \\right) = 0\n",
    "\\end{align*}\n",
    "\\tag{Equation 8.4.1}\n",
    "$$"
   ]
  },
  {
   "cell_type": "markdown",
   "metadata": {},
   "source": [
    "We have that either $x + 3 = 0$ or $x^{2} - 3x + 9 = 0$."
   ]
  },
  {
   "cell_type": "markdown",
   "metadata": {},
   "source": [
    "We use the quadratic formula to solve $x^{2} - 3x + 9 = 0$ in __Equation 8.4.2__."
   ]
  },
  {
   "cell_type": "markdown",
   "metadata": {},
   "source": [
    "$$\n",
    "\\begin{align*}\n",
    "&x^{2} - 3x + 9 = 0 \\\\ \\\\\n",
    "&x = \\frac{3 \\pm \\sqrt{3^{2} - 4 \\cdot 1 \\cdot 9}}{2 \\cdot 1} \\\\ \\\\\n",
    "&x = \\frac{3 \\pm \\sqrt{-27}}{2} \\\\ \\\\\n",
    "&x = \\frac{3 \\pm 3i \\sqrt{3}}{2}\n",
    "\\end{align*}\n",
    "\\tag{Equation 8.4.2}\n",
    "$$"
   ]
  },
  {
   "cell_type": "markdown",
   "metadata": {},
   "source": [
    "The solution includes the imaginary number $i$. These values of $x$ are NOT real numbers."
   ]
  },
  {
   "cell_type": "markdown",
   "metadata": {},
   "source": [
    "We have three solutions as required. We confirm these using `sympy`. Note the two roots that are complex numbers (containg the imaginary number $i$)."
   ]
  },
  {
   "cell_type": "code",
   "execution_count": 9,
   "metadata": {},
   "outputs": [
    {
     "data": {
      "image/png": "[encoded data removed]",
      "text/latex": [
       "$\\displaystyle \\left[ -3, \\  \\frac{3}{2} - \\frac{3 \\sqrt{3} i}{2}, \\  \\frac{3}{2} + \\frac{3 \\sqrt{3} i}{2}\\right]$"
      ],
      "text/plain": [
       "⎡    3   3⋅√3⋅ⅈ  3   3⋅√3⋅ⅈ⎤\n",
       "⎢-3, ─ - ──────, ─ + ──────⎥\n",
       "⎣    2     2     2     2   ⎦"
      ]
     },
     "execution_count": 9,
     "metadata": {},
     "output_type": "execute_result"
    }
   ],
   "source": [
    "# Verify the solution\n",
    "solve(Eq(x**3 + 27, 0), x)"
   ]
  },
  {
   "cell_type": "markdown",
   "metadata": {},
   "source": [
    "In __Figure 8.4.1__ we note that we only have a single $x$ intercept (root) at $x=-3$. Since the equation is a third-degree polynomial, we must have three roots. It is just that two of them are complex numbers. We will learn more about graphing equations in the last chapter."
   ]
  },
  {
   "cell_type": "code",
   "execution_count": 10,
   "metadata": {},
   "outputs": [
    {
     "data": {
      "image/png": "[encoded data removed]",
      "text/plain": [
       "<Figure size 800x800 with 1 Axes>"
      ]
     },
     "metadata": {
      "image/png": {
       "height": 700,
       "width": 707
      }
     },
     "output_type": "display_data"
    }
   ],
   "source": [
    "fig, ax = pyplot.subplots(figsize=(8, 8))\n",
    "ax.plot(\n",
    "    numpy.linspace(-5, 5, 100),\n",
    "    numpy.linspace(-5, 5, 100)**3 + 27,\n",
    "    'r-'\n",
    ")\n",
    "ax.set_xlabel('x')\n",
    "ax.set_ylabel('y')\n",
    "ax.set_title('Figure 9.4.1')\n",
    "ax.grid(True)\n",
    "ax.vlines(0, -100, 150, color='black')\n",
    "ax.hlines(0, -5, 5, color='black')\n",
    "ax.spines['left'].set_visible(False)\n",
    "ax.spines['bottom'].set_visible(False)\n",
    "ax.spines['right'].set_visible(False)\n",
    "ax.spines['top'].set_visible(False);"
   ]
  },
  {
   "cell_type": "markdown",
   "metadata": {},
   "source": [
    "__Homework 8.4.1__ Solve the cubic equation $x^3 - 27 = 0$."
   ]
  },
  {
   "cell_type": "markdown",
   "metadata": {},
   "source": [
    "## 8.5 Solving cubic equations using a greatest common factor"
   ]
  },
  {
   "cell_type": "markdown",
   "metadata": {},
   "source": [
    "In some cubic equations, $ax^{3} + bx^{2} + cx + d = 0$, we have that $d=0$. We can then factor out the greatest common factor and solve the resulting quadratic equation."
   ]
  },
  {
   "cell_type": "markdown",
   "metadata": {},
   "source": [
    "__Problem 8.5.1__ Solve the cubic equation $x^3 - 8x = 0$."
   ]
  },
  {
   "cell_type": "markdown",
   "metadata": {},
   "source": [
    "In this problem, both $b$ and $d$ are equal to $0$. We have that $x$ is a common factor. The solution is shown in __Equation 8.5.1__."
   ]
  },
  {
   "cell_type": "markdown",
   "metadata": {},
   "source": [
    "$$\n",
    "\\begin{align*}\n",
    "&x^{3} - 8x = 0 \\\\ \\\\\n",
    "&x \\left(x^{2} - 8 \\right) = 0 \\\\ \\\\\n",
    "&x \\left(x - 2 \\sqrt{2} \\right) \\left(x + 2 \\sqrt{2} \\right) = 0 \\\\ \\\\\n",
    "&x = 2 \\quad \\text{ or } \\quad x = 2 \\sqrt{2} \\quad \\text{ or } \\quad x = -2 \\sqrt{2}\n",
    "\\end{align*}\n",
    "\\tag{Equation 8.5.1}\n",
    "$$"
   ]
  },
  {
   "cell_type": "markdown",
   "metadata": {},
   "source": [
    "We verify the results using `sympy`."
   ]
  },
  {
   "cell_type": "code",
   "execution_count": 11,
   "metadata": {},
   "outputs": [
    {
     "data": {
      "image/png": "[encoded data removed]",
      "text/latex": [
       "$\\displaystyle \\left[ 0, \\  - 2 \\sqrt{2}, \\  2 \\sqrt{2}\\right]$"
      ],
      "text/plain": [
       "[0, -2⋅√2, 2⋅√2]"
      ]
     },
     "execution_count": 11,
     "metadata": {},
     "output_type": "execute_result"
    }
   ],
   "source": [
    "# Verify the solution\n",
    "solve(Eq(x**3 - 8 * x, 0), x)"
   ]
  },
  {
   "cell_type": "markdown",
   "metadata": {},
   "source": [
    "__Homework 8.5.1__ Solve the cubic equation $x^3 - 27x = 0$."
   ]
  },
  {
   "cell_type": "markdown",
   "metadata": {},
   "source": [
    "__Problem 8.5.2__ Solve the cubic equation $x^3 - 4x^2 - 5x = 0$."
   ]
  },
  {
   "cell_type": "markdown",
   "metadata": {},
   "source": [
    "The solution is shown in __Equation 8.5.2__."
   ]
  },
  {
   "cell_type": "markdown",
   "metadata": {},
   "source": [
    "$$\n",
    "\\begin{align*}\n",
    "&x^{3} - 4x^{2} - 5x = 0 \\\\ \\\\\n",
    "&x \\left(x^{2} - 4x - 5 \\right) = 0 \\\\ \\\\\n",
    "&x \\left(x - 5 \\right) \\left(x + 1 \\right) = 0 \\\\ \\\\\n",
    "&x = 0 \\quad \\text{ or } \\quad x = 5 \\quad \\text{ or } \\quad x = -1\n",
    "\\end{align*}\n",
    "\\tag{Equation 8.5.2}\n",
    "$$"
   ]
  },
  {
   "cell_type": "markdown",
   "metadata": {},
   "source": [
    "We verify the solutions using `sympy`."
   ]
  },
  {
   "cell_type": "code",
   "execution_count": 12,
   "metadata": {},
   "outputs": [
    {
     "data": {
      "image/png": "[encoded data removed]",
      "text/latex": [
       "$\\displaystyle \\left[ -1, \\  0, \\  5\\right]$"
      ],
      "text/plain": [
       "[-1, 0, 5]"
      ]
     },
     "execution_count": 12,
     "metadata": {},
     "output_type": "execute_result"
    }
   ],
   "source": [
    "# Verify the solution\n",
    "solve(Eq(x**3 - 4 * x**2 - 5 * x, 0), x)"
   ]
  },
  {
   "cell_type": "markdown",
   "metadata": {},
   "source": [
    "__Homework 8.5.2__ Solve the cubic equation $x^3 - 27x^2 - 5x = 0$."
   ]
  },
  {
   "cell_type": "markdown",
   "metadata": {},
   "source": [
    "__Problem 8.5.3__ Solve the cubic equation $x^3 - 3x^2 = 0$."
   ]
  },
  {
   "cell_type": "markdown",
   "metadata": {},
   "source": [
    "The solution is shown in __Equation 8.5.3__, where we factor $x^{2}$ as a common factor."
   ]
  },
  {
   "cell_type": "markdown",
   "metadata": {},
   "source": [
    "$$\n",
    "\\begin{align*}\n",
    "&x^{3} - 3x^{2} = 0 \\\\ \\\\\n",
    "&x^{2} \\left(x - 3 \\right) = 0 \\\\ \\\\\n",
    "&x^{2} = 0 \\quad \\text{ or } \\quad x = 3 \\\\ \\\\\n",
    "&x = 0 \\quad \\text{ or } \\quad x = 0 \\quad \\text{ or } \\quad x = 3\n",
    "\\end{align*}\n",
    "\\tag{Equation 8.5.3}\n",
    "$$"
   ]
  },
  {
   "cell_type": "markdown",
   "metadata": {},
   "source": [
    "Note that we still have three roots, although two of them are identical. We verify the solutions using `sympy`."
   ]
  },
  {
   "cell_type": "code",
   "execution_count": 13,
   "metadata": {},
   "outputs": [
    {
     "data": {
      "image/png": "[encoded data removed]",
      "text/latex": [
       "$\\displaystyle \\left[ 0, \\  3\\right]$"
      ],
      "text/plain": [
       "[0, 3]"
      ]
     },
     "execution_count": 13,
     "metadata": {},
     "output_type": "execute_result"
    }
   ],
   "source": [
    "# Verify the solution\n",
    "solve(Eq(x**3 - 3 * x**2, 0), x)"
   ]
  },
  {
   "cell_type": "markdown",
   "metadata": {},
   "source": [
    "__Homework 8.5.3__ Solve the cubic equation $x^3 + 27x^2 = 0$."
   ]
  },
  {
   "cell_type": "markdown",
   "metadata": {},
   "source": [
    "## 8.6 Solving cubic equations by grouping"
   ]
  },
  {
   "cell_type": "markdown",
   "metadata": {},
   "source": [
    "Some cubic equations can be solved by grouping the terms and factoring."
   ]
  },
  {
   "cell_type": "markdown",
   "metadata": {},
   "source": [
    "__Problem 8.6.1__ Solve the cubic equation $x^3 + x^2 - 4x - 4 = 0$."
   ]
  },
  {
   "cell_type": "markdown",
   "metadata": {},
   "source": [
    "We group $x^{3} + x^{2}$ and factor our the common $x^{2}$ term. Then we group $-4x - 4$ and factor out the common $-4$ term. Once this is completed, we notice a common term $(x+1)$ that we once again factor. The solution is shown in __Equation 8.6.1__."
   ]
  },
  {
   "cell_type": "markdown",
   "metadata": {},
   "source": [
    "$$\n",
    "\\begin{align*}\n",
    "&x^{3} + x^{2} - 4x - 4 = 0 \\\\ \\\\\n",
    "&x^{2} \\left(x + 1 \\right) - 4 \\left(x + 1 \\right) = 0 \\\\ \\\\\n",
    "&\\left(x^{2} - 4 \\right) \\left(x + 1 \\right) = 0 \\\\ \\\\\n",
    "&\\left(x - 2 \\right) \\left(x + 2 \\right) \\left(x + 1 \\right) = 0 \\\\ \\\\\n",
    "&x = 2 \\quad \\text{ or } \\quad x = -2 \\quad \\text{ or } \\quad x = -1\n",
    "\\end{align*}\n",
    "\\tag{Equation 8.6.1}\n",
    "$$"
   ]
  },
  {
   "cell_type": "markdown",
   "metadata": {},
   "source": [
    "We verify the solutions using `sympy`."
   ]
  },
  {
   "cell_type": "code",
   "execution_count": 14,
   "metadata": {},
   "outputs": [
    {
     "data": {
      "image/png": "[encoded data removed]",
      "text/latex": [
       "$\\displaystyle \\left[ -2, \\  -1, \\  2\\right]$"
      ],
      "text/plain": [
       "[-2, -1, 2]"
      ]
     },
     "execution_count": 14,
     "metadata": {},
     "output_type": "execute_result"
    }
   ],
   "source": [
    "# Verify the solution\n",
    "solve(Eq(x**3 + x**2 - 4 * x - 4, 0), x)"
   ]
  },
  {
   "cell_type": "markdown",
   "metadata": {},
   "source": [
    "__Homework 8.6.1__ Solve the cubic equation $x^3 + 27x^2 - 4x - 108 = 0$."
   ]
  },
  {
   "cell_type": "markdown",
   "metadata": {},
   "source": [
    "## 8.7 Solving cubic and higher order equations using division"
   ]
  },
  {
   "cell_type": "markdown",
   "metadata": {},
   "source": [
    "The techinuqes to solve cubic equations that we have explored thus far have required a special form of the cubic. The method of division can be used to solve any cubic equation or polynomials of even higher order polynomials."
   ]
  },
  {
   "cell_type": "markdown",
   "metadata": {},
   "source": [
    "Division is a process of repetition. The general steps are outlined below."
   ]
  },
  {
   "cell_type": "markdown",
   "metadata": {},
   "source": [
    "1. Write the coefficients of the equation in descending order of the powers variable\n",
    "2. List all the possible factors of the constant term\n",
    "3. List all the possible factors of the leading coefficient $a \\ne 0$\n",
    "4. Divide all the factors in step 2 above by the factors in step 3\n",
    "5. Use synthetic division to find the roots of the cubic equation"
   ]
  },
  {
   "cell_type": "markdown",
   "metadata": {},
   "source": [
    "We explore these steps by re-evaluating __Problem 8.6.1__."
   ]
  },
  {
   "cell_type": "markdown",
   "metadata": {},
   "source": [
    "__Problem 8.7.1__ Re-examine __Problem 8.6.1__ using the division method."
   ]
  },
  {
   "cell_type": "markdown",
   "metadata": {},
   "source": [
    "The equation is already in descending order of the powers of $x$ and the leading coeeficient is $1$, with the constant term $-4$. We list all the factors of $-4$ and $1$ in __Equation 8.7.1__."
   ]
  },
  {
   "cell_type": "markdown",
   "metadata": {},
   "source": [
    "$$\n",
    "\\begin{align*}\n",
    "&\\text{Constant term: } -4 \\quad \\pm 1, \\pm 2, \\pm 4 \\\\ \\\\\n",
    "&\\text{Leading coefficient: } 1 \\quad \\pm 1\n",
    "\\tag{Equation 8.7.1}\n",
    "\\end{align*}\n",
    "$$"
   ]
  },
  {
   "cell_type": "markdown",
   "metadata": {},
   "source": [
    "Now we devidide each of the factors in the constant term by the factors in the leading coefficient. The results are shown in __Equation 8.7.2__."
   ]
  },
  {
   "cell_type": "markdown",
   "metadata": {},
   "source": [
    "$$\n",
    "\\begin{align*}\n",
    "&\\frac{\\pm 1}{\\pm 1} = \\pm 1 \\\\ \\\\\n",
    "&\\frac{\\pm 2}{\\pm 1} = \\pm 2 \\\\ \\\\\n",
    "&\\frac{\\pm 4}{\\pm 1} = \\pm 4\n",
    "\\end{align*}\n",
    "\\tag{Equation 8.7.2}\n",
    "$$"
   ]
  },
  {
   "cell_type": "markdown",
   "metadata": {},
   "source": [
    "We can now divide $x^3 + x^2 - 4x - 4$ by $x+1$, $x-1$, $x+2$, $x-2$, $x+4$, and $x-4$ using synthetic division. We start with $x+1$ shown in __Equation 8.7.3__."
   ]
  },
  {
   "cell_type": "markdown",
   "metadata": {},
   "source": [
    "$$\n",
    "\\begin{align*}\n",
    "&\\frac{x^3 + x^2 - 4x - 4}{x+1} = x^{2}-4\n",
    "\\end{align*}\n",
    "\\tag{Equation 8.7.3}\n",
    "$$"
   ]
  },
  {
   "cell_type": "markdown",
   "metadata": {},
   "source": [
    "So, we have that $x^3 + x^2 - 4x - 4 = (x+1)(x^2-4)$. We can now factor $x^2-4$ as $(x+2)(x-2)$ to get the solution $x = -1, 2, -2$ as before."
   ]
  },
  {
   "cell_type": "markdown",
   "metadata": {},
   "source": [
    "__Problem 8.7.2__ Solve the cubic equation $2x^{3} + 3x^{2} - 11x - 6 = 0$ using the division method."
   ]
  },
  {
   "cell_type": "markdown",
   "metadata": {},
   "source": [
    "The left-hand side polynomial is already written in descending order of the powers of the variable. The factors of the constant $-6$ and the leading coefficient $2$ are shown in __Equation 8.7.4__."
   ]
  },
  {
   "cell_type": "markdown",
   "metadata": {},
   "source": [
    "$$\n",
    "\\begin{align*}\n",
    "&\\text{Constant term: } -6 \\quad \\pm 1, \\pm 2, \\pm 3, \\pm 6 \\\\ \\\\\n",
    "&\\text{Leading coefficient: } 2 \\quad \\pm 1, \\pm 2\n",
    "\\end{align*}\n",
    "\\tag{Equation 8.7.4}\n",
    "$$"
   ]
  },
  {
   "cell_type": "markdown",
   "metadata": {},
   "source": [
    "Division of each of the factors in the constant term by the factors in the leading coefficient are shown in __Equation 8.7.5__."
   ]
  },
  {
   "cell_type": "markdown",
   "metadata": {},
   "source": [
    "$$\n",
    "\\pm 1, \\, \\pm \\frac{1}{2}, \\, \\pm 2, \\, \\pm 3, \\, \\pm \\frac{3}{2}, \\, \\pm 6\n",
    "\\tag{Equation 8.7.5}\n",
    "$$"
   ]
  },
  {
   "cell_type": "markdown",
   "metadata": {},
   "source": [
    "We can divide $2x^{3} + 3x^{2} - 11x - 6$ by each of the factors in __Equation 8.7.5__ using synthetic division to find the roots of the cubic equation. None of $\\left( x + 1 \\right)$ or $\\left( x - 1 \\right)$ divides the polynomial. __Equation 8.7.6__ shows the division by $\\left( x + \\frac{1}{2} \\right)$."
   ]
  },
  {
   "cell_type": "markdown",
   "metadata": {},
   "source": [
    "$$\n",
    "\\frac{2 x^{3} + 3x^{2} - 11x -6}{x + \\frac{1}{2}} = x^{2} + x - 6\n",
    "\\tag{Equation 8.7.6}\n",
    "$$"
   ]
  },
  {
   "cell_type": "markdown",
   "metadata": {},
   "source": [
    "We can factor $x^{2}+x-6$ into $x+3$ and $x-2$ and write __Equation 8.7.7__."
   ]
  },
  {
   "cell_type": "markdown",
   "metadata": {},
   "source": [
    "$$\n",
    "\\begin{align*}\n",
    "&2 x^{3} + 3x^{2} - 11x -6 = \\left( x + \\frac{1}{2} \\right) \\left( x + 3 \\right) \\left( x - 2 \\right) = 0 \\\\ \\\\\n",
    "&x = -\\frac{1}{2} \\quad \\text{ or } \\quad x = -3 \\quad \\text{ or } \\quad x = 2\n",
    "\\end{align*}\n",
    "\\tag{Equation 8.7.7}\n",
    "$$"
   ]
  },
  {
   "cell_type": "markdown",
   "metadata": {},
   "source": [
    "We verify the solutions using `sympy`."
   ]
  },
  {
   "cell_type": "code",
   "execution_count": 26,
   "metadata": {},
   "outputs": [
    {
     "data": {
      "image/png": "[encoded data removed]",
      "text/latex": [
       "$\\displaystyle \\left[ -3, \\  - \\frac{1}{2}, \\  2\\right]$"
      ],
      "text/plain": [
       "[-3, -1/2, 2]"
      ]
     },
     "execution_count": 26,
     "metadata": {},
     "output_type": "execute_result"
    }
   ],
   "source": [
    "# Solve the equation\n",
    "solve(Eq(2 * x**3 + 3 * x**2 - 11 * x - 6, 0), x)"
   ]
  },
  {
   "cell_type": "markdown",
   "metadata": {},
   "source": [
    "__Problem 8.7.3__ Solve the cubic equation $2x^{4} - 19 x^{3} + 61 x^{2} - 74 x + 24 = 0$."
   ]
  },
  {
   "cell_type": "markdown",
   "metadata": {},
   "source": [
    "The equation is already in descending order of the powers of the variable $x$."
   ]
  },
  {
   "cell_type": "markdown",
   "metadata": {},
   "source": [
    "The constant term is $24$. The factors as are the integers that divide $24$. They are $\\pm 1, \\, \\pm 2, \\, \\pm 3, \\, \\pm 4, \\, \\pm 6, \\, \\pm 8, \\pm 12, \\pm 24$."
   ]
  },
  {
   "cell_type": "markdown",
   "metadata": {},
   "source": [
    "The factors of the leading coefficient, which is $2$, are $\\pm 1, \\, \\pm 2$."
   ]
  },
  {
   "cell_type": "markdown",
   "metadata": {},
   "source": [
    "Step 4 provides the list of possible rational solutions of the equation. We omit the divisions that do not add to the list in step 2. The final list of factors is shown in __Equation 8.7.8__."
   ]
  },
  {
   "cell_type": "markdown",
   "metadata": {},
   "source": [
    "$$\n",
    "\\begin{align*}\n",
    "&\\pm 1, \\, \\pm \\frac{1}{2}, \\, \\pm 2, \\, \\pm 3, \\, \\pm \\frac{3}{2}, \\, \\pm 4, \\pm 6, \\pm 8, \\, \\pm 12 , \\, \\pm 24\n",
    "\\end{align*}\n",
    "\\tag{Equation 8.7.8}\n",
    "$$"
   ]
  },
  {
   "cell_type": "markdown",
   "metadata": {},
   "source": [
    "We start with $+1$ and use division to find the roots of the equation. The steps are shown in __Equation 8.7.9__."
   ]
  },
  {
   "cell_type": "markdown",
   "metadata": {},
   "source": [
    "$$\n",
    "\\begin{align*}\n",
    "&\\frac{2x^4 + 13x^3 + 4x^{2} - 61x - 30}{x+1}\n",
    "\\end{align*}\n",
    "\\tag{Equation 8.7.9}\n",
    "$$"
   ]
  },
  {
   "cell_type": "markdown",
   "metadata": {},
   "source": [
    "We use the `simplify` method to simplify the division."
   ]
  },
  {
   "cell_type": "code",
   "execution_count": 15,
   "metadata": {},
   "outputs": [
    {
     "data": {
      "image/png": "[encoded data removed]",
      "text/latex": [
       "$\\displaystyle \\frac{2 x^{4} - 19 x^{3} + 61 x^{2} - 74 x + 24}{x + 1}$"
      ],
      "text/plain": [
       "   4       3       2            \n",
       "2⋅x  - 19⋅x  + 61⋅x  - 74⋅x + 24\n",
       "────────────────────────────────\n",
       "             x + 1              "
      ]
     },
     "execution_count": 15,
     "metadata": {},
     "output_type": "execute_result"
    }
   ],
   "source": [
    "((2 * x**4 - 19 * x**3 + 61 * x**2 - 74 * x + 24) / (x + 1)).simplify()"
   ]
  },
  {
   "cell_type": "markdown",
   "metadata": {},
   "source": [
    "No simplifaction was possible and $x+1$ does not divide the polynomial. We move on to the next factor in the list, which is $-1$."
   ]
  },
  {
   "cell_type": "code",
   "execution_count": 16,
   "metadata": {},
   "outputs": [
    {
     "data": {
      "image/png": "[encoded data removed]",
      "text/latex": [
       "$\\displaystyle \\frac{2 x^{4} - 19 x^{3} + 61 x^{2} - 74 x + 24}{x - 1}$"
      ],
      "text/plain": [
       "   4       3       2            \n",
       "2⋅x  - 19⋅x  + 61⋅x  - 74⋅x + 24\n",
       "────────────────────────────────\n",
       "             x - 1              "
      ]
     },
     "execution_count": 16,
     "metadata": {},
     "output_type": "execute_result"
    }
   ],
   "source": [
    "((2 * x**4 - 19 * x**3 + 61 * x**2 - 74 * x + 24) / (x - 1)).simplify()"
   ]
  },
  {
   "cell_type": "markdown",
   "metadata": {},
   "source": [
    "Division by $x-1$ is also not possible (without a remainder). We move on to $x=\\frac{1}{2}$."
   ]
  },
  {
   "cell_type": "code",
   "execution_count": 17,
   "metadata": {},
   "outputs": [
    {
     "data": {
      "image/png": "[encoded data removed]",
      "text/latex": [
       "$\\displaystyle \\frac{2 \\cdot \\left(2 x^{4} - 19 x^{3} + 61 x^{2} - 74 x + 24\\right)}{2 x + 1}$"
      ],
      "text/plain": [
       "  ⎛   4       3       2            ⎞\n",
       "2⋅⎝2⋅x  - 19⋅x  + 61⋅x  - 74⋅x + 24⎠\n",
       "────────────────────────────────────\n",
       "              2⋅x + 1               "
      ]
     },
     "execution_count": 17,
     "metadata": {},
     "output_type": "execute_result"
    }
   ],
   "source": [
    "((2 * x**4 - 19 * x**3 + 61 * x**2 - 74 * x + 24) / (x + Rational(1, 2))).simplify()"
   ]
  },
  {
   "cell_type": "markdown",
   "metadata": {},
   "source": [
    "Again, no simplification is possible. We move on to $x=-\\frac{1}{2}$."
   ]
  },
  {
   "cell_type": "code",
   "execution_count": 18,
   "metadata": {},
   "outputs": [
    {
     "data": {
      "image/png": "[encoded data removed]",
      "text/latex": [
       "$\\displaystyle 2 x^{3} - 18 x^{2} + 52 x - 48$"
      ],
      "text/plain": [
       "   3       2            \n",
       "2⋅x  - 18⋅x  + 52⋅x - 48"
      ]
     },
     "execution_count": 18,
     "metadata": {},
     "output_type": "execute_result"
    }
   ],
   "source": [
    "((2 * x**4 - 19 * x**3 + 61 * x**2 - 74 * x + 24) / (x - Rational(1, 2))).simplify()"
   ]
  },
  {
   "cell_type": "markdown",
   "metadata": {},
   "source": [
    "We see that $x-\\frac{1}{2}$ does divide $2 x^{4} - 19  x{3}+ 61  x^{2} - 74 \\times x + 24$. In fact $(x-\\frac{1}{2})(2 x^{3} - 18 x^{2} + 52 x - 48) = 2  x^{4} - 19  x^{3} + 61  x^{2} - 74 x + 24$."
   ]
  },
  {
   "cell_type": "markdown",
   "metadata": {},
   "source": [
    "Now we repeat the steps for $2 x^{3} - 18 x^{2} + 52 x - 48$. The expression is already in descending order of the powers of the variable $x$. The factors of the constant $-48$ are $\\pm 1 \\,  \\pm 2, \\, \\pm 3 , \\, \\pm 4, \\, \\pm 6 , \\, \\pm 8 , \\, \\pm 12 , \\pm 16 , \\, \\pm 24 , \\pm 48$. The factors of the leading coefficient $2$ are $\\pm 1, \\, \\pm 2$. The list of possible factors following the division of step 3 is shown in __Equation 8.7.10__."
   ]
  },
  {
   "cell_type": "markdown",
   "metadata": {},
   "source": [
    "$$\n",
    "\\begin{align*}\n",
    "&\\pm 1, \\, \\pm \\frac{1}{2} , \\pm 2 ,\\ \\pm 3 , \\, \\frac{3}{2} , \\, \\pm 4 , \\, \\pm 6 , \\, \\pm 8 ,\\pm 12 , \\, 16 ,\\, \\pm 24 , \\, \\pm 28\n",
    "\\end{align*}\n",
    "\\tag{Equation 8.7.10}\n",
    "$$"
   ]
  },
  {
   "cell_type": "markdown",
   "metadata": {},
   "source": [
    "We iterate over this list as before in the code cell below. We only stop when we recognize that a division is possible. We start with $+1$."
   ]
  },
  {
   "cell_type": "code",
   "execution_count": 19,
   "metadata": {},
   "outputs": [
    {
     "data": {
      "image/png": "[encoded data removed]",
      "text/latex": [
       "$\\displaystyle \\frac{2 \\left(x^{3} - 9 x^{2} + 26 x - 24\\right)}{x + 1}$"
      ],
      "text/plain": [
       "  ⎛ 3      2            ⎞\n",
       "2⋅⎝x  - 9⋅x  + 26⋅x - 24⎠\n",
       "─────────────────────────\n",
       "          x + 1          "
      ]
     },
     "execution_count": 19,
     "metadata": {},
     "output_type": "execute_result"
    }
   ],
   "source": [
    "((2 * x**3 - 18 * x**2 + 52 * x - 48) / (x + 1)).simplify()"
   ]
  },
  {
   "cell_type": "code",
   "execution_count": 20,
   "metadata": {},
   "outputs": [
    {
     "data": {
      "image/png": "[encoded data removed]",
      "text/latex": [
       "$\\displaystyle \\frac{2 \\left(x^{3} - 9 x^{2} + 26 x - 24\\right)}{x - 1}$"
      ],
      "text/plain": [
       "  ⎛ 3      2            ⎞\n",
       "2⋅⎝x  - 9⋅x  + 26⋅x - 24⎠\n",
       "─────────────────────────\n",
       "          x - 1          "
      ]
     },
     "execution_count": 20,
     "metadata": {},
     "output_type": "execute_result"
    }
   ],
   "source": [
    "((2 * x**3 - 18 * x**2 + 52 * x - 48) / (x - 1)).simplify()"
   ]
  },
  {
   "cell_type": "code",
   "execution_count": 21,
   "metadata": {},
   "outputs": [
    {
     "data": {
      "image/png": "[encoded data removed]",
      "text/latex": [
       "$\\displaystyle \\frac{4 \\left(x^{3} - 9 x^{2} + 26 x - 24\\right)}{2 x + 1}$"
      ],
      "text/plain": [
       "  ⎛ 3      2            ⎞\n",
       "4⋅⎝x  - 9⋅x  + 26⋅x - 24⎠\n",
       "─────────────────────────\n",
       "         2⋅x + 1         "
      ]
     },
     "execution_count": 21,
     "metadata": {},
     "output_type": "execute_result"
    }
   ],
   "source": [
    "((2 * x**3 - 18 * x**2 + 52 * x - 48) / (x + Rational(1, 2))).simplify()"
   ]
  },
  {
   "cell_type": "code",
   "execution_count": 22,
   "metadata": {},
   "outputs": [
    {
     "data": {
      "image/png": "[encoded data removed]",
      "text/latex": [
       "$\\displaystyle \\frac{4 \\left(x^{3} - 9 x^{2} + 26 x - 24\\right)}{2 x - 1}$"
      ],
      "text/plain": [
       "  ⎛ 3      2            ⎞\n",
       "4⋅⎝x  - 9⋅x  + 26⋅x - 24⎠\n",
       "─────────────────────────\n",
       "         2⋅x - 1         "
      ]
     },
     "execution_count": 22,
     "metadata": {},
     "output_type": "execute_result"
    }
   ],
   "source": [
    "((2 * x**3 - 18 * x**2 + 52 * x - 48) / (x - Rational(1, 2))).simplify()"
   ]
  },
  {
   "cell_type": "code",
   "execution_count": 23,
   "metadata": {},
   "outputs": [
    {
     "data": {
      "image/png": "[encoded data removed]",
      "text/latex": [
       "$\\displaystyle \\frac{2 \\left(x^{3} - 9 x^{2} + 26 x - 24\\right)}{x + 2}$"
      ],
      "text/plain": [
       "  ⎛ 3      2            ⎞\n",
       "2⋅⎝x  - 9⋅x  + 26⋅x - 24⎠\n",
       "─────────────────────────\n",
       "          x + 2          "
      ]
     },
     "execution_count": 23,
     "metadata": {},
     "output_type": "execute_result"
    }
   ],
   "source": [
    "((2 * x**3 - 18 * x**2 + 52 * x - 48) / (x + 2)).simplify()"
   ]
  },
  {
   "cell_type": "code",
   "execution_count": 24,
   "metadata": {},
   "outputs": [
    {
     "data": {
      "image/png": "[encoded data removed]",
      "text/latex": [
       "$\\displaystyle 2 x^{2} - 14 x + 24$"
      ],
      "text/plain": [
       "   2            \n",
       "2⋅x  - 14⋅x + 24"
      ]
     },
     "execution_count": 24,
     "metadata": {},
     "output_type": "execute_result"
    }
   ],
   "source": [
    "((2 * x**3 - 18 * x**2 + 52 * x - 48) / (x - 2)).simplify()"
   ]
  },
  {
   "cell_type": "markdown",
   "metadata": {},
   "source": [
    "We see that $(x-2)$ divides $2x^{3} - 18 x^{2} + 52 x -48$. So far we have that $2x^{4} - 19 x^{3} + 61 x^{2} - 74 x + 24 = \\left( x - \\frac{1}{2} \\right) \\left( x-2 \\right) \\left( 2x^{2}-14x+24 \\right)$. There are already to roots know. They are $x=\\frac{1}{2}$ and $x=2$."
   ]
  },
  {
   "cell_type": "markdown",
   "metadata": {},
   "source": [
    "We can use the quadratic formula to factor the remaining quadratic equation. The solution is shown in __Equation 8.7.11__."
   ]
  },
  {
   "cell_type": "markdown",
   "metadata": {},
   "source": [
    "$$\n",
    "\\begin{align*}\n",
    "&2x^{2} - 14 x^{2} + 24 = 0 \\\\ \\\\\n",
    "&x = \\frac{14 \\pm \\sqrt{14^{2} - 4 \\cdot 2 \\cdot 24}}{2 \\cdot 2} \\\\ \\\\\n",
    "&x = \\frac{14 \\pm \\sqrt{4}}{4} \\\\ \\\\\n",
    "&x = \\frac{14 \\pm 2}{4} \\\\ \\\\\n",
    "&x = \\frac{16}{4} \\quad \\text{or} \\quad x = \\frac{12}{4} \\\\ \\\\\n",
    "&x = 4 \\quad \\text{or} \\quad x = 3\n",
    "\\end{align*}\n",
    "\\tag{Equation 8.7.11}\n",
    "$$"
   ]
  },
  {
   "cell_type": "markdown",
   "metadata": {},
   "source": [
    "We have all the roots and can write $x = \\frac{1}{2}$ or $x = 2$ or $x=3$ or $x=4$. We can use `sympy` to verify the result."
   ]
  },
  {
   "cell_type": "code",
   "execution_count": 25,
   "metadata": {},
   "outputs": [
    {
     "data": {
      "image/png": "[encoded data removed]",
      "text/latex": [
       "$\\displaystyle \\left[ \\frac{1}{2}, \\  2, \\  3, \\  4\\right]$"
      ],
      "text/plain": [
       "[1/2, 2, 3, 4]"
      ]
     },
     "execution_count": 25,
     "metadata": {},
     "output_type": "execute_result"
    }
   ],
   "source": [
    "solve(Eq(2 * x**4 - 19 * x**3 + 61 * x**2 - 74 * x + 24, 0), x)"
   ]
  },
  {
   "cell_type": "markdown",
   "metadata": {},
   "source": [
    "__Homework 8.7.1__ Solve the cubic equation $x^3 - 9x^2 + 26x - 24 = 0$."
   ]
  },
  {
   "cell_type": "markdown",
   "metadata": {},
   "source": [
    "## 8.8 Solving cubic equations using the cubic formula"
   ]
  },
  {
   "cell_type": "markdown",
   "metadata": {},
   "source": [
    "Just as we had the quadratic formula to solve quadratic equations, there is a formula for cubic equations."
   ]
  },
  {
   "cell_type": "markdown",
   "metadata": {},
   "source": [
    "__Definition 8.8.1__ The __cubic formula__ is a general formula for solving cubic equations. It is a generalization of the quadratic formula. The cubic formula is shown in __Equation 8.8.1__."
   ]
  },
  {
   "cell_type": "markdown",
   "metadata": {},
   "source": [
    "$$\n",
    "\\begin{align*}\n",
    "&x = \\sqrt[3]{\\frac{-q}{2} + \\sqrt{\\frac{q^{2}}{4} + \\frac{p^{3}}{27}}} + \\sqrt[3]{\\frac{-q}{2} - \\sqrt{\\frac{q^{2}}{4} + \\frac{p^{3}}{27}}}\n",
    "\\end{align*}\n",
    "\\tag{Equation 8.8.1}\n",
    "$$"
   ]
  },
  {
   "cell_type": "markdown",
   "metadata": {},
   "source": [
    "Note that there is also a formula for quartic equations. No formula exists for higher-order equations."
   ]
  },
  {
   "cell_type": "code",
   "execution_count": null,
   "metadata": {},
   "outputs": [],
   "source": []
  }
 ],
 "metadata": {
  "kernelspec": {
   "display_name": "mathematics",
   "language": "python",
   "name": "python3"
  },
  "language_info": {
   "codemirror_mode": {
    "name": "ipython",
    "version": 3
   },
   "file_extension": ".py",
   "mimetype": "text/x-python",
   "name": "python",
   "nbconvert_exporter": "python",
   "pygments_lexer": "ipython3",
   "version": "3.10.9"
  },
  "orig_nbformat": 4
 },
 "nbformat": 4,
 "nbformat_minor": 2
}
