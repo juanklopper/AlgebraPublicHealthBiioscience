{
 "cells": [
  {
   "cell_type": "markdown",
   "metadata": {},
   "source": [
    "# 6 | EQUATIONS"
   ]
  },
  {
   "cell_type": "markdown",
   "metadata": {},
   "source": [
    "><b>Dr J H Klopper</b></p>\n",
    ">Department of Biostatistics and Bioinformatics</br>\n",
    ">Milken Institute School of Public Health</br>\n",
    ">George Washington University"
   ]
  },
  {
   "cell_type": "markdown",
   "metadata": {},
   "source": [
    "<p xmlns:cc=\"http://creativecommons.org/ns#\" xmlns:dct=\"http://purl.org/dc/terms/\"><span property=\"dct:title\">This chapter of Algebra for Health Data Science</span> by <span property=\"cc:attributionName\">Dr JH Klopper</span> is licensed under <a href=\"http://creativecommons.org/licenses/by-nc-nd/4.0/?ref=chooser-v1\" target=\"_blank\" rel=\"license noopener noreferrer\" style=\"display:inline-block;\">Attribution-NonCommercial-NoDerivatives 4.0 International<img style=\"height:22px!important;margin-left:3px;vertical-align:text-bottom;\" src=\"https://mirrors.creativecommons.org/presskit/icons/cc.svg?ref=chooser-v1\"><img style=\"height:22px!important;margin-left:3px;vertical-align:text-bottom;\" src=\"https://mirrors.creativecommons.org/presskit/icons/by.svg?ref=chooser-v1\"><img style=\"height:22px!important;margin-left:3px;vertical-align:text-bottom;\" src=\"https://mirrors.creativecommons.org/presskit/icons/nc.svg?ref=chooser-v1\"><img style=\"height:22px!important;margin-left:3px;vertical-align:text-bottom;\" src=\"https://mirrors.creativecommons.org/presskit/icons/nd.svg?ref=chooser-v1\"></a></p>"
   ]
  },
  {
   "cell_type": "markdown",
   "metadata": {},
   "source": [
    "## 6.1 Packages used in this chapter"
   ]
  },
  {
   "cell_type": "markdown",
   "metadata": {},
   "source": [
    "As in the previous chapter, we only import the function from the `sympy` package that we will use in this chapter."
   ]
  },
  {
   "cell_type": "code",
   "execution_count": 1,
   "metadata": {},
   "outputs": [],
   "source": [
    "from sympy import init_printing, symbols, Eq, solve, Rational"
   ]
  },
  {
   "cell_type": "markdown",
   "metadata": {},
   "source": [
    "The `init_printing` function is used to display the output of `sympy` code in mathematical notation."
   ]
  },
  {
   "cell_type": "code",
   "execution_count": 2,
   "metadata": {},
   "outputs": [],
   "source": [
    "init_printing()"
   ]
  },
  {
   "cell_type": "markdown",
   "metadata": {},
   "source": [
    "## 6.2 Introduction"
   ]
  },
  {
   "cell_type": "markdown",
   "metadata": {},
   "source": [
    "In this chapter we explore equations and how to solve them.  Solving involves isolating the unknown variable on one side of the equation."
   ]
  },
  {
   "cell_type": "markdown",
   "metadata": {},
   "source": [
    "Formulas are typical examples of equations. We use formulas in health data science to calculate values of interest. At the end of this chapter we explore the concept of confidence intervals and how to manipulate the formula to find any value of interest."
   ]
  },
  {
   "cell_type": "markdown",
   "metadata": {},
   "source": [
    "## 6.3 Equations and their rules"
   ]
  },
  {
   "cell_type": "markdown",
   "metadata": {},
   "source": [
    "__Definition 6.3.1__ An __equation__ is a statement that consider two equal expressions. The expressions are called the left-hand side (LHS) and the right-hand side (RHS) of the equation. The LHS and RHS are separated by an equal sign, indicating the equality."
   ]
  },
  {
   "cell_type": "markdown",
   "metadata": {},
   "source": [
    "We see a very simple example of an equation in __Equation 6.3.1__."
   ]
  },
  {
   "cell_type": "markdown",
   "metadata": {},
   "source": [
    "$$\n",
    "x = 2\n",
    "\\tag{Equation 6.3.1}\n",
    "$$"
   ]
  },
  {
   "cell_type": "markdown",
   "metadata": {},
   "source": [
    "It is very clear that the only value that $x$ can take is $2$. This is because the LHS and RHS are equal. We can see that the equation is true for $2 = 2$."
   ]
  },
  {
   "cell_type": "markdown",
   "metadata": {},
   "source": [
    "In __Equation 6.3.2__ we see a more complicated equation."
   ]
  },
  {
   "cell_type": "markdown",
   "metadata": {},
   "source": [
    "$$\n",
    "x + 1 = 2\n",
    "\\tag{Equation 6.3.2}\n",
    "$$"
   ]
  },
  {
   "cell_type": "markdown",
   "metadata": {},
   "source": [
    "The aim of a single variable equation such as __Equation 6.3.2__ is to find the value of $x$ that makes the equation true. We need to _isolate_ the variable $x$ on one side of the equation, which is usually the LHS. To maintain equality between the LHS and the RHS of an equation, we must make the same changes on both sides of the equation. In the case of __Equation 6.3.2__ we can subtract $1$ from both sides of the equation. This gives us __Equation 6.3.3__."
   ]
  },
  {
   "cell_type": "markdown",
   "metadata": {},
   "source": [
    "$$\n",
    "x + 1 \\mathbf{- 1} = 2 \\mathbf{- 1}\n",
    "\\tag{Equation 6.3.3}\n",
    "$$"
   ]
  },
  {
   "cell_type": "markdown",
   "metadata": {},
   "source": [
    "Performing the arithmetic on both sides of the equation gives us __Equation 6.3.4__ and a solution to our equation."
   ]
  },
  {
   "cell_type": "markdown",
   "metadata": {},
   "source": [
    "$$\n",
    "x = 1\n",
    "\\tag{Equation 6.3.4}\n",
    "$$"
   ]
  },
  {
   "cell_type": "markdown",
   "metadata": {},
   "source": [
    "This solves the original equation since $1 + 1 = 2$ (where we substitute $x = 1$ into the original equation)."
   ]
  },
  {
   "cell_type": "markdown",
   "metadata": {},
   "source": [
    "While we can add or subtract on both sides of the equation, we can also divide. We must make sure, though, to divide all terms on each side. Such an example is shown in __Equation 6.3.5__."
   ]
  },
  {
   "cell_type": "markdown",
   "metadata": {},
   "source": [
    "$$\n",
    "2x = 4\n",
    "\\tag{Equation 6.3.5}\n",
    "$$"
   ]
  },
  {
   "cell_type": "markdown",
   "metadata": {},
   "source": [
    "We can divide both sides of the equation by $2$ to give us __Equation 6.3.6__."
   ]
  },
  {
   "cell_type": "markdown",
   "metadata": {},
   "source": [
    "$$\n",
    "\\frac{2x}{\\mathbf{2}} = \\frac{4}{\\mathbf{2}}\n",
    "\\tag{Equation 6.3.6}\n",
    "$$"
   ]
  },
  {
   "cell_type": "markdown",
   "metadata": {},
   "source": [
    "Now we need only perform the arithmetic on both sides of the equation to give us __Equation 6.3.7__."
   ]
  },
  {
   "cell_type": "markdown",
   "metadata": {},
   "source": [
    "$$\n",
    "x = 2\n",
    "\\tag{Equation 6.3.7}\n",
    "$$"
   ]
  },
  {
   "cell_type": "markdown",
   "metadata": {},
   "source": [
    "Note that we could also have multiplied both sides of the equation by a half to give us the same result. This is shown in __Equation 6.3.8__."
   ]
  },
  {
   "cell_type": "markdown",
   "metadata": {},
   "source": [
    "$$\n",
    "\\begin{align*}\n",
    "&\\mathbf{\\frac{1}{2}} \\times 2x = \\mathbf{\\frac{1}{2}} \\times 4 \\\\ \\\\\n",
    "&\\frac{2}{2} \\times x = \\frac{4}{2} \\\\ \\\\\n",
    "&x=2\n",
    "\\end{align*}\n",
    "\\tag{Equation 6.3.8}\n",
    "$$"
   ]
  },
  {
   "cell_type": "markdown",
   "metadata": {},
   "source": [
    "We can perform more complicated operations on both sides of the equation. We see an example of an equation with a square in __Equation 6.3.9__."
   ]
  },
  {
   "cell_type": "markdown",
   "metadata": {},
   "source": [
    "$$\n",
    "x^{2} = 4\n",
    "\\tag{Equation 6.3.9}\n",
    "$$"
   ]
  },
  {
   "cell_type": "markdown",
   "metadata": {},
   "source": [
    "In this case, we can take the square root of both sides of the equation. This gives us __Equation 6.3.10__."
   ]
  },
  {
   "cell_type": "markdown",
   "metadata": {},
   "source": [
    "$$\n",
    "\\begin{align*}\n",
    "&\\sqrt{x^{2}} = \\sqrt{4} \\\\ \\\\\n",
    "&x = \\pm 2\n",
    "\\end{align*}\n",
    "\\tag{Equation 6.3.10}\n",
    "$$"
   ]
  },
  {
   "cell_type": "markdown",
   "metadata": {},
   "source": [
    "We confirm the result by substituting $2$ and then $-2$ into __Equation 6.3.9__ and then noting that $2 \\times 2 = 4$ and $(-2) \\times (-2) = 4$. Both $2$ and $-2$ are solutions to the equation."
   ]
  },
  {
   "cell_type": "markdown",
   "metadata": {},
   "source": [
    "## 6.3 Solving equations using `sympy`"
   ]
  },
  {
   "cell_type": "markdown",
   "metadata": {},
   "source": [
    "We have seen that _solving_ an equation means finding the value of the variable that makes the equation true. That is to say, we want to isolate the variable on one side of the equation. We do this by performing the same operation on both sides of the equation."
   ]
  },
  {
   "cell_type": "markdown",
   "metadata": {},
   "source": [
    "__Problem 6.3.1__ Solve the equation in __Equation 6.3.1__."
   ]
  },
  {
   "cell_type": "markdown",
   "metadata": {},
   "source": [
    "$$\n",
    "2x = 16\n",
    "\\tag{Equation 6.3.1}\n",
    "$$"
   ]
  },
  {
   "cell_type": "markdown",
   "metadata": {},
   "source": [
    "We have seen how to solve the equation using the rules in __Section 6.3__. We can divide both sides of the equation by $2$ to give us __Equation 6.3.2__."
   ]
  },
  {
   "cell_type": "markdown",
   "metadata": {},
   "source": [
    "$$\n",
    "\\begin{align*}\n",
    "&\\frac{2x}{\\mathbf{2}} = \\frac{16}{\\mathbf{2}} \\\\ \\\\\n",
    "&x = 8\n",
    "\\end{align*}\n",
    "\\tag{Equation 6.3.2}\n",
    "$$"
   ]
  },
  {
   "cell_type": "markdown",
   "metadata": {},
   "source": [
    "In `sympy` we use the `Eq` function to create an equation. We start by defining the variable $x$ as a symbol."
   ]
  },
  {
   "cell_type": "code",
   "execution_count": 3,
   "metadata": {},
   "outputs": [],
   "source": [
    "# Define the symbol x and assign it to the variable x\n",
    "x = symbols('x')"
   ]
  },
  {
   "cell_type": "markdown",
   "metadata": {},
   "source": [
    "Now we can create the equation using the `Eq` function. We pass the LHS and RHS of the equation as arguments to the function."
   ]
  },
  {
   "cell_type": "code",
   "execution_count": 4,
   "metadata": {},
   "outputs": [
    {
     "data": {
      "image/png": "[encoded data removed]",
      "text/latex": [
       "$\\displaystyle 2 x = 16$"
      ],
      "text/plain": [
       "2⋅x = 16"
      ]
     },
     "execution_count": 4,
     "metadata": {},
     "output_type": "execute_result"
    }
   ],
   "source": [
    "# Creating the equation\n",
    "Eq(2*x, 16)"
   ]
  },
  {
   "cell_type": "markdown",
   "metadata": {},
   "source": [
    "The `solve` function in `sympy` is used to solve equations. We pass the equation as an argument to the function. The second argument states the variable that we wish to solve for. The function returns a list of solutions to the equation."
   ]
  },
  {
   "cell_type": "code",
   "execution_count": 5,
   "metadata": {},
   "outputs": [
    {
     "data": {
      "image/png": "[encoded data removed]",
      "text/latex": [
       "$\\displaystyle \\left[ 8\\right]$"
      ],
      "text/plain": [
       "[8]"
      ]
     },
     "execution_count": 5,
     "metadata": {},
     "output_type": "execute_result"
    }
   ],
   "source": [
    "# Solve the equation\n",
    "solve(Eq(2*x,16), x)"
   ]
  },
  {
   "cell_type": "markdown",
   "metadata": {},
   "source": [
    "There is only a single solution in the list. The value of $8$ confirms our result in __Equation 6.3.2__."
   ]
  },
  {
   "cell_type": "markdown",
   "metadata": {},
   "source": [
    "__Problem 6.3.2__ You have $99$ participants in a study that has to be divided equally into $3$ groups. How many participants are in each group?"
   ]
  },
  {
   "cell_type": "markdown",
   "metadata": {},
   "source": [
    "The problem can be written as an equation, where the unknown is the number of participants in each group and is assigned to the variable $x$. The equation and solution is shown in __Equation 6.3.3__."
   ]
  },
  {
   "cell_type": "markdown",
   "metadata": {},
   "source": [
    "$$\n",
    "\\begin{align*}\n",
    "&3x = 99 \\\\ \\\\\n",
    "&\\frac{3x}{\\mathbf{3}} = \\frac{99}{\\mathbf{3}} \\\\ \\\\\n",
    "&x = 33\n",
    "\\end{align*}\n",
    "\\tag{Equation 6.3.3}\n",
    "$$"
   ]
  },
  {
   "cell_type": "markdown",
   "metadata": {},
   "source": [
    "We use `sympy` to verify the solution."
   ]
  },
  {
   "cell_type": "code",
   "execution_count": 6,
   "metadata": {},
   "outputs": [
    {
     "data": {
      "image/png": "[encoded data removed]",
      "text/latex": [
       "$\\displaystyle \\left[ 33\\right]$"
      ],
      "text/plain": [
       "[33]"
      ]
     },
     "execution_count": 6,
     "metadata": {},
     "output_type": "execute_result"
    }
   ],
   "source": [
    "# Solve the equation using sympy\n",
    "solve(Eq(3 * x, 99), x)"
   ]
  },
  {
   "cell_type": "markdown",
   "metadata": {},
   "source": [
    "As expected, we need $33$ participants in each group."
   ]
  },
  {
   "cell_type": "markdown",
   "metadata": {},
   "source": [
    "__Problem 6.3.3__ Solve the equation in __Equation 6.3.4__."
   ]
  },
  {
   "cell_type": "markdown",
   "metadata": {},
   "source": [
    "$$\n",
    "\\frac{1}{11}x = 33\n",
    "\\tag{Equation 6.3.4}\n",
    "$$"
   ]
  },
  {
   "cell_type": "markdown",
   "metadata": {},
   "source": [
    "The solution is shown in __Equation 6.3.5__, where we multiply both sides by $11$."
   ]
  },
  {
   "cell_type": "markdown",
   "metadata": {},
   "source": [
    "$$\n",
    "\\begin{align*}\n",
    "&\\frac{1}{11}x \\mathbf{\\times 11} = 33 \\mathbf{\\times 11} \\\\ \\\\\n",
    "&x = 363\n",
    "\\end{align*}\n",
    "\\tag{Equation 6.3.5}\n",
    "$$"
   ]
  },
  {
   "cell_type": "markdown",
   "metadata": {},
   "source": [
    "We verify the result using `sympy`."
   ]
  },
  {
   "cell_type": "code",
   "execution_count": 7,
   "metadata": {},
   "outputs": [
    {
     "data": {
      "image/png": "[encoded data removed]",
      "text/latex": [
       "$\\displaystyle \\frac{x}{11} = 33$"
      ],
      "text/plain": [
       "x      \n",
       "── = 33\n",
       "11     "
      ]
     },
     "execution_count": 7,
     "metadata": {},
     "output_type": "execute_result"
    }
   ],
   "source": [
    "# Print the equation to the screen\n",
    "Eq(x/11, 33)"
   ]
  },
  {
   "cell_type": "code",
   "execution_count": 8,
   "metadata": {},
   "outputs": [
    {
     "data": {
      "image/png": "[encoded data removed]",
      "text/latex": [
       "$\\displaystyle \\left[ 363\\right]$"
      ],
      "text/plain": [
       "[363]"
      ]
     },
     "execution_count": 8,
     "metadata": {},
     "output_type": "execute_result"
    }
   ],
   "source": [
    "# Verify the result\n",
    "solve(Eq(x/11, 33), x)"
   ]
  },
  {
   "cell_type": "markdown",
   "metadata": {},
   "source": [
    "We can also multiply both sides of the equation by the variable."
   ]
  },
  {
   "cell_type": "markdown",
   "metadata": {},
   "source": [
    "__Problem 6.3.4__ Solve the equation in __Equation 6.3.6__."
   ]
  },
  {
   "cell_type": "markdown",
   "metadata": {},
   "source": [
    "$$\n",
    "\\frac{11}{x} = 33\n",
    "\\tag{Equation 6.3.6}\n",
    "$$"
   ]
  },
  {
   "cell_type": "markdown",
   "metadata": {},
   "source": [
    "The solution is shown in __Equation 6.3.7__."
   ]
  },
  {
   "cell_type": "markdown",
   "metadata": {},
   "source": [
    "$$\n",
    "\\begin{align*}\n",
    "&\\frac{11}{x} \\mathbf{\\times x} = 33 \\mathbf{\\times x} \\\\ \\\\\n",
    "&11 = 33x \\\\ \\\\\n",
    "&\\frac{11}{33} = \\frac{33x}{33} \\\\ \\\\\n",
    "&\\frac{11}{33} = x \\\\ \\\\\n",
    "&\\frac{1}{3} = x \\\\ \\\\ \n",
    "&x = \\frac{1}{3}\n",
    "\\end{align*}\n",
    "\\tag{Equation 6.3.7}\n",
    "$$"
   ]
  },
  {
   "cell_type": "markdown",
   "metadata": {},
   "source": [
    "The reciprocal of a fraction is found by inverting the fraction. For example, the reciprocal of $\\frac{1}{3}$ is $\\frac{3}{1}$. This can be useful when solving equations."
   ]
  },
  {
   "cell_type": "markdown",
   "metadata": {},
   "source": [
    "__Problem 6.3.5__ Solve the equation in __Equation 6.3.8__."
   ]
  },
  {
   "cell_type": "markdown",
   "metadata": {},
   "source": [
    "$$\n",
    "\\frac{4}{5}x=12\n",
    "\\tag{Equation 6.3.8}\n",
    "$$"
   ]
  },
  {
   "cell_type": "markdown",
   "metadata": {},
   "source": [
    "The solution is shown in __Equation 6.3.9__."
   ]
  },
  {
   "cell_type": "markdown",
   "metadata": {},
   "source": [
    "$$\n",
    "\\begin{align*}\n",
    "&\\frac{4}{5}x \\mathbf{\\times \\frac{5}{4}} = 12 \\mathbf{\\times \\frac{5}{4}} \\\\ \\\\\n",
    "&\\frac{20}{20}x = \\frac{60}{4} \\\\ \\\\\n",
    "&x = 15\n",
    "\\end{align*}\n",
    "\\tag{Equation 6.3.9}\n",
    "$$"
   ]
  },
  {
   "cell_type": "markdown",
   "metadata": {},
   "source": [
    "The result is verified using `sympy`."
   ]
  },
  {
   "cell_type": "code",
   "execution_count": 9,
   "metadata": {},
   "outputs": [
    {
     "data": {
      "image/png": "[encoded data removed]",
      "text/latex": [
       "$\\displaystyle \\frac{4 x}{5} = 12$"
      ],
      "text/plain": [
       "4⋅x     \n",
       "─── = 12\n",
       " 5      "
      ]
     },
     "execution_count": 9,
     "metadata": {},
     "output_type": "execute_result"
    }
   ],
   "source": [
    "# Print the problem to the screen\n",
    "Eq(Rational(4, 5)*x, 12)"
   ]
  },
  {
   "cell_type": "code",
   "execution_count": 6,
   "metadata": {},
   "outputs": [
    {
     "data": {
      "image/png": "[encoded data removed]",
      "text/latex": [
       "$\\displaystyle \\left[ 15\\right]$"
      ],
      "text/plain": [
       "[15]"
      ]
     },
     "execution_count": 6,
     "metadata": {},
     "output_type": "execute_result"
    }
   ],
   "source": [
    "# Verify the result\n",
    "solve(Eq((Rational(4, 5))*x, 12), x)"
   ]
  },
  {
   "cell_type": "markdown",
   "metadata": {},
   "source": [
    "It might be necessary to distribute a variable before isolating it. In __Problem 6.3.6__ we see an example of this, where we use parentheses and brackets to make the order of operations clear."
   ]
  },
  {
   "cell_type": "markdown",
   "metadata": {},
   "source": [
    "__Problem 6.3.6__ Solve the equation in __Equation 6.3.10__."
   ]
  },
  {
   "cell_type": "markdown",
   "metadata": {},
   "source": [
    "$$\n",
    "3 \\left[ 4x+5(x-2) \\right] + 6 = 1 - 2 \\left[ 9 - 2(x-4) \\right]\n",
    "\\tag{Equation 6.3.10}\n",
    "$$"
   ]
  },
  {
   "cell_type": "markdown",
   "metadata": {},
   "source": [
    "The solution is shown in __Equation 6.3.11__ and is verified using `sympy`."
   ]
  },
  {
   "cell_type": "markdown",
   "metadata": {},
   "source": [
    "$$\n",
    "\\begin{align*}\n",
    "&3 (4x + 5x -10) + 6 = 1 - 2 (9 - 2x + 8) \\\\ \\\\\n",
    "&3 (9x - 10) + 6 = 1 - 2 (-2x + 17) \\\\ \\\\\n",
    "&27x - 30 + 6 = 1 + 4x - 34 \\\\ \\\\\n",
    "&27x - 24 = 4x - 33 \\\\ \\\\\n",
    "&27x - 4x = -33 + 24 \\\\ \\\\\n",
    "&23x = -9 \\\\ \\\\\n",
    "&x = -\\frac{9}{23}\n",
    "\\end{align*}\n",
    "\\tag{Equation 6.3.11}\n",
    "$$"
   ]
  },
  {
   "cell_type": "code",
   "execution_count": 14,
   "metadata": {},
   "outputs": [
    {
     "data": {
      "image/png": "[encoded data removed]",
      "text/latex": [
       "$\\displaystyle 27 x - 24 = 4 x - 33$"
      ],
      "text/plain": [
       "27⋅x - 24 = 4⋅x - 33"
      ]
     },
     "execution_count": 14,
     "metadata": {},
     "output_type": "execute_result"
    }
   ],
   "source": [
    "# Print the problem to the screen\n",
    "Eq(3 * (4 * x + 5 * (x - 2)) + 6, 1 - 2 * (9 - 2 * (x - 4)))"
   ]
  },
  {
   "cell_type": "code",
   "execution_count": 15,
   "metadata": {},
   "outputs": [
    {
     "data": {
      "image/png": "[encoded data removed]",
      "text/latex": [
       "$\\displaystyle \\left[ - \\frac{9}{23}\\right]$"
      ],
      "text/plain": [
       "[-9/23]"
      ]
     },
     "execution_count": 15,
     "metadata": {},
     "output_type": "execute_result"
    }
   ],
   "source": [
    "# Verify the result\n",
    "solve(Eq(3 * (4 * x + 5 * (x - 2)) + 6, 1 - 2 * (9 - 2 * (x - 4))), x)"
   ]
  },
  {
   "cell_type": "markdown",
   "metadata": {},
   "source": [
    "__Problem 6.3.7__ Solve the equation in __Equation 6.3.12__."
   ]
  },
  {
   "cell_type": "markdown",
   "metadata": {},
   "source": [
    "__Equation 6.3.12__"
   ]
  },
  {
   "cell_type": "markdown",
   "metadata": {},
   "source": [
    "$$\n",
    "\\frac{3(x-2)}{4} + \\frac{1}{2}(5x+2) = \\frac{14x+12}{8} + 7\n",
    "\\tag{Equation 6.3.12}\n",
    "$$"
   ]
  },
  {
   "cell_type": "markdown",
   "metadata": {},
   "source": [
    "The solution is shown in __Equation 6.3.13__ and is verified using `sympy`."
   ]
  },
  {
   "cell_type": "markdown",
   "metadata": {},
   "source": [
    "$$\n",
    "\\begin{align*}\n",
    "&\\frac{3(x-2)}{4} + \\frac{1}{2}(5x+2) = \\frac{14x+12}{8} + 7 \\\\ \\\\\n",
    "&8 \\left[ \\frac{3(x-2)}{4} + \\frac{1}{2}(5x+2) \\right] = 8 \\left[ \\frac{14x+12}{8} + 7 \\right] \\\\ \\\\\n",
    "&6(x-2)+4(5x+2)=14x+12+56 \\\\ \\\\\n",
    "&6x-12+20x+8=14x+12+56 \\\\ \\\\\n",
    "&26x-4=14x+68 \\\\ \\\\\n",
    "&26x-14x=68+4 \\\\ \\\\\n",
    "&12x=72 \\\\ \\\\\n",
    "&x=6\n",
    "\\end{align*}\n",
    "\\tag{Equation 6.3.13}\n",
    "$$"
   ]
  },
  {
   "cell_type": "code",
   "execution_count": 16,
   "metadata": {},
   "outputs": [
    {
     "data": {
      "image/png": "[encoded data removed]",
      "text/latex": [
       "$\\displaystyle \\left[ 6\\right]$"
      ],
      "text/plain": [
       "[6]"
      ]
     },
     "execution_count": 16,
     "metadata": {},
     "output_type": "execute_result"
    }
   ],
   "source": [
    "# Verify the result\n",
    "solve(Eq(Rational(3, 4) * (x - 2) + Rational(1, 2) * (5 * x +2), Rational(1, 8) * (14 * x + 12) + 7), x)"
   ]
  },
  {
   "cell_type": "markdown",
   "metadata": {},
   "source": [
    "There are two more properties of equations that are demonstarted using variables in __Equation 6.3.14__, where $b \\ne 0$ and $d \\ne 0$, and in __Equation 6.3.15__, where $b \\ne 0$, $d \\ne 0$, and $e \\ne 0$."
   ]
  },
  {
   "cell_type": "markdown",
   "metadata": {},
   "source": [
    "By the property in __Equation 6.3.14__ we can multiply both sides of an equation by the denominator of a fraction to remove the fraction. We can also multiply both sides of an equation by a variable in the numerator of a fraction to remove it. This is shown in __Equation 6.3.15__."
   ]
  },
  {
   "cell_type": "markdown",
   "metadata": {},
   "source": [
    "$$\n",
    "\\begin{align*}\n",
    "&\\frac{a}{b} = \\frac{c}{d} \\\\ \\\\\n",
    "&bd \\times \\frac{a}{b}  = bd \\times\\frac{c}{d} \\text{ (multiply both sides by the product of the denominators} bd \\text{)} \\\\ \\\\\n",
    "&\\frac{b}{b}ad = \\frac{c}{c}bc \\text{ (rearrange)} \\\\ \\\\\n",
    "&ad = bc\n",
    "\\end{align*}\n",
    "\\tag{Equation 6.3.14}\n",
    "$$\n"
   ]
  },
  {
   "cell_type": "markdown",
   "metadata": {},
   "source": [
    "$$\n",
    "\\begin{align*}\n",
    "&\\frac{ef}{b} = \\frac{eg}{d} \\text{ (note that } e \\text{ is common to both numerators)} \\\\ \\\\\n",
    "&\\frac{1}{e}\\frac{ef}{b} = \\frac{1}{e}\\frac{eg}{d} \\text{ (multiply both sides by } \\frac{1}{e} \\text{)} \\\\ \\\\\n",
    "&\\frac{e}{e} \\frac{f}{b} = \\frac{e}{e} \\frac{g}{d} \\text{ (rearrange)} \\\\ \\\\\n",
    "&\\frac{f}{b} = \\frac{g}{d}\n",
    "\\end{align*}\n",
    "\\tag{Equation 6.3.15}\n",
    "$$"
   ]
  },
  {
   "cell_type": "markdown",
   "metadata": {},
   "source": [
    "We make use of these properties in __Problem 6.3.8__."
   ]
  },
  {
   "cell_type": "markdown",
   "metadata": {},
   "source": [
    "__Problem 6.3.8__ Solve the equation in __Equation 6.3.16__."
   ]
  },
  {
   "cell_type": "markdown",
   "metadata": {},
   "source": [
    "$$\n",
    "\\frac{3x-5}{x+3} = \\frac{24}{15}\n",
    "$$"
   ]
  },
  {
   "cell_type": "markdown",
   "metadata": {},
   "source": [
    "We start by multiplying both sides of the equation by $15(x+3)$ which is the product of the denominators in __Equation 6.3.16__. This _removes_ the denominators in the equation."
   ]
  },
  {
   "cell_type": "markdown",
   "metadata": {},
   "source": [
    "$$\n",
    "\\begin{align*}\n",
    "&15(x+3)\\frac{3x-5}{x+3} = 15(x+3)\\frac{24}{15} \\\\ \\\\\n",
    "&15(3x-5) = 24(x+3) \\\\ \\\\\n",
    "&45x-75 = 24x+72 \\\\ \\\\\n",
    "&45x-24x = 72+75 \\\\ \\\\\n",
    "&21x = 147 \\\\ \\\\\n",
    "&x = 7\n",
    "\\end{align*}\n",
    "\\tag{Equation 6.3.16}\n",
    "$$"
   ]
  },
  {
   "cell_type": "markdown",
   "metadata": {},
   "source": [
    "We verify the solution using `sympy`."
   ]
  },
  {
   "cell_type": "code",
   "execution_count": 17,
   "metadata": {},
   "outputs": [
    {
     "data": {
      "image/png": "[encoded data removed]",
      "text/latex": [
       "$\\displaystyle \\left[ 7\\right]$"
      ],
      "text/plain": [
       "[7]"
      ]
     },
     "execution_count": 17,
     "metadata": {},
     "output_type": "execute_result"
    }
   ],
   "source": [
    "# Verify the result\n",
    "solve(Eq((3 * x - 5) / (x + 3), Rational(24, 15)), x)"
   ]
  },
  {
   "cell_type": "markdown",
   "metadata": {},
   "source": [
    "## 6.4 Solving formulas"
   ]
  },
  {
   "cell_type": "markdown",
   "metadata": {},
   "source": [
    "Formulas are equation that are used to calculate a value. The formula for the area of a circle is an example. This formula is shown in __Equation 6.4.1__, where $A$ is the area and $r$ is the radius (or half the diameter) of the circle."
   ]
  },
  {
   "cell_type": "markdown",
   "metadata": {},
   "source": [
    "$$\n",
    "A = \\pi r^{2}\n",
    "\\tag{Equation 6.4.1}\n",
    "$$"
   ]
  },
  {
   "cell_type": "markdown",
   "metadata": {},
   "source": [
    "If we know the area in __Equation 6.4.1__ then we can solve for the radius, $r$. The process of solving for a variable in a formula is the same as solving an equation for that area. We can use the rules in __Section 6.2__ and in __Section 6.3__ to solve for the variable. We solve for the radius in __Equation 6.4.1__ in __Equation 6.4.2__."
   ]
  },
  {
   "cell_type": "markdown",
   "metadata": {},
   "source": [
    "$$\n",
    "\\begin{align*}\n",
    "&A = \\pi r^{2} \\\\ \\\\\n",
    "&\\frac{A}{\\pi} = \\frac{\\pi r^{2}}{\\pi} \\\\ \\\\\n",
    "&\\frac{A}{\\pi} = r^{2} \\\\ \\\\\n",
    "&\\sqrt{\\frac{A}{\\pi}} = \\sqrt{r^{2}} \\\\ \\\\\n",
    "&\\sqrt{\\frac{A}{\\pi}} = r \\\\ \\\\\n",
    "&r = \\sqrt{\\frac{A}{\\pi}}\n",
    "\\end{align*}\n",
    "\\tag{Equation 6.4.2}\n",
    "$$"
   ]
  },
  {
   "cell_type": "markdown",
   "metadata": {},
   "source": [
    "In public health research we often calculate the mean of a set of numbers taken from a sample of people. These numbers are called random variables and are number for a statistical variable such as age or height or serum glucose level. The people in a study are randomly selected from a population. Th mean of the random variables in the sample is denoted by $\\bar{X}$ and the mean of the variable values in the population is denoted by $\\mu$."
   ]
  },
  {
   "cell_type": "markdown",
   "metadata": {},
   "source": [
    "In most cases, we do not have data from a population. We only have data from a sample. We can use the mean of the sample to estimate the mean of the population. Once we have calculated the mean of the sample, we can use the formula in __Equation 6.4.3__ to calculate an interval estimate for the mean of the population."
   ]
  },
  {
   "cell_type": "markdown",
   "metadata": {},
   "source": [
    "The interval estimate has a lower and an upper value, and we express some level of confidence that the true population mean is within these bounds. The formula in __Equation 6.4.3__ calculates the lower an upper bounds given values of the sample mean, $\\bar{X}$, the sample standard deviation, $s$, the sample size, $n$, and the confidence coefficient, $c$."
   ]
  },
  {
   "cell_type": "markdown",
   "metadata": {},
   "source": [
    "$$\n",
    "\\begin{align*}\n",
    "&\\text{lower bound} = \\bar{X} - c \\frac{s}{\\sqrt{n}} \\\\ \\\\\n",
    "&\\text{upper bound} = \\bar{X} + c \\frac{s}{\\sqrt{n}} \\\\ \\\\\n",
    "\\end{align*}\n",
    "\\tag{Equation 6.4.3}\n",
    "$$"
   ]
  },
  {
   "cell_type": "markdown",
   "metadata": {},
   "source": [
    "The difference, $\\mathtt{upper bound - lower bound}$, is sometimes called the width."
   ]
  },
  {
   "cell_type": "markdown",
   "metadata": {},
   "source": [
    "__Problem 6.4.1__ Calculate the confidence coefficient, $c$, if $\\bar{X}=100$, the sample standard deviation, $s$, is $10$, the sample size, $n$, is $100$, and the width is $20$."
   ]
  },
  {
   "cell_type": "markdown",
   "metadata": {},
   "source": [
    "We build the solution in __Equation 6.4.4__."
   ]
  },
  {
   "cell_type": "markdown",
   "metadata": {},
   "source": [
    "$$\n",
    "\\begin{align*}\n",
    "&\\text{width} = \\text{upper bound} - \\text{lower bound} \\\\ \\\\\n",
    "&20 = \\bar{X} + c \\frac{s}{\\sqrt{n}} - \\left( \\bar{X} - c \\frac{s}{\\sqrt{n}} \\right) \\\\ \\\\\n",
    "&20 = \\bar{X} + c \\frac{s}{\\sqrt{n}} - \\bar{X} + c \\frac{s}{\\sqrt{n}} \\\\ \\\\\n",
    "&20 = 2c \\frac{s}{\\sqrt{n}} \\\\ \\\\\n",
    "&\\frac{20}{2} = c \\frac{s}{\\sqrt{n}} \\\\ \\\\\n",
    "&10 = c \\frac{s}{\\sqrt{n}} \\\\ \\\\\n",
    "&c = \\frac{10 \\sqrt{n}}{s} \\\\ \\\\\n",
    "&c = \\frac{10 \\sqrt{30}}{10} \\\\ \\\\\n",
    "&c \\approx 5.48\n",
    "\\end{align*}\n",
    "\\tag{Equation 6.4.4}\n",
    "$$"
   ]
  },
  {
   "cell_type": "code",
   "execution_count": null,
   "metadata": {},
   "outputs": [],
   "source": []
  }
 ],
 "metadata": {
  "kernelspec": {
   "display_name": "mathematics",
   "language": "python",
   "name": "python3"
  },
  "language_info": {
   "codemirror_mode": {
    "name": "ipython",
    "version": 3
   },
   "file_extension": ".py",
   "mimetype": "text/x-python",
   "name": "python",
   "nbconvert_exporter": "python",
   "pygments_lexer": "ipython3",
   "version": "3.10.13"
  },
  "orig_nbformat": 4
 },
 "nbformat": 4,
 "nbformat_minor": 2
}
