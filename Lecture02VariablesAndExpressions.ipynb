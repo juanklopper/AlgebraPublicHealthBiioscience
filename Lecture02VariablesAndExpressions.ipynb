{
 "cells": [
  {
   "cell_type": "markdown",
   "id": "c1b2d623-a891-4a98-bc36-648eabc72435",
   "metadata": {},
   "source": [
    "# 2 | VARIABLES AND EXPRESSION"
   ]
  },
  {
   "cell_type": "markdown",
   "id": "ce3a8946",
   "metadata": {},
   "source": [
    "><b>Dr J H Klopper</b></p>\n",
    ">Department of Biostatistics and Bioinformatics</br>\n",
    ">Milken Institute School of Public Health</br>\n",
    ">George Washington University"
   ]
  },
  {
   "cell_type": "markdown",
   "id": "28db9bf8",
   "metadata": {},
   "source": [
    "<p xmlns:cc=\"http://creativecommons.org/ns#\" xmlns:dct=\"http://purl.org/dc/terms/\"><span property=\"dct:title\">This chapter of Algebra for Health Data Science</span> by <span property=\"cc:attributionName\">Dr JH Klopper</span> is licensed under <a href=\"http://creativecommons.org/licenses/by-nc-nd/4.0/?ref=chooser-v1\" target=\"_blank\" rel=\"license noopener noreferrer\" style=\"display:inline-block;\">Attribution-NonCommercial-NoDerivatives 4.0 International<img style=\"height:22px!important;margin-left:3px;vertical-align:text-bottom;\" src=\"https://mirrors.creativecommons.org/presskit/icons/cc.svg?ref=chooser-v1\"><img style=\"height:22px!important;margin-left:3px;vertical-align:text-bottom;\" src=\"https://mirrors.creativecommons.org/presskit/icons/by.svg?ref=chooser-v1\"><img style=\"height:22px!important;margin-left:3px;vertical-align:text-bottom;\" src=\"https://mirrors.creativecommons.org/presskit/icons/nc.svg?ref=chooser-v1\"><img style=\"height:22px!important;margin-left:3px;vertical-align:text-bottom;\" src=\"https://mirrors.creativecommons.org/presskit/icons/nd.svg?ref=chooser-v1\"></a></p>"
   ]
  },
  {
   "cell_type": "markdown",
   "id": "2887f3e9-ca00-45bd-9111-106a233b1249",
   "metadata": {},
   "source": [
    "## 2.1 Packages used in this chapter"
   ]
  },
  {
   "cell_type": "markdown",
   "id": "2ebc27f1",
   "metadata": {},
   "source": [
    "We import the following packages to expand the functions and capabilities of the Python language."
   ]
  },
  {
   "cell_type": "markdown",
   "id": "d3aabf08",
   "metadata": {},
   "source": [
    "Single we will create a plot in this chapter we import the `pyplot` module from the `matplotlib` package. We will learn about graphs in the last chapter."
   ]
  },
  {
   "cell_type": "code",
   "execution_count": 1,
   "id": "5259be17",
   "metadata": {},
   "outputs": [],
   "source": [
    "from matplotlib import pyplot"
   ]
  },
  {
   "cell_type": "markdown",
   "id": "51b21da1",
   "metadata": {},
   "source": [
    "We use the `%config` magic command to create high resolution plots on monitors that have high pixel density."
   ]
  },
  {
   "cell_type": "code",
   "execution_count": 2,
   "id": "bd88371c",
   "metadata": {},
   "outputs": [],
   "source": [
    "%config InlineBackend.figure_format = 'retina'"
   ]
  },
  {
   "cell_type": "markdown",
   "id": "e3f96b29",
   "metadata": {},
   "source": [
    "We import the numerical Python pakcage `numpy`."
   ]
  },
  {
   "cell_type": "code",
   "execution_count": 3,
   "id": "1e61d9bd-4fb6-422a-be79-87f73b847f0d",
   "metadata": {},
   "outputs": [],
   "source": [
    "import numpy"
   ]
  },
  {
   "cell_type": "markdown",
   "id": "3caafe6f",
   "metadata": {},
   "source": [
    "Finally, we import the symbolic Python package `sympy`."
   ]
  },
  {
   "cell_type": "code",
   "execution_count": 4,
   "id": "de715af9",
   "metadata": {},
   "outputs": [],
   "source": [
    "import sympy"
   ]
  },
  {
   "cell_type": "markdown",
   "id": "6a6f92da",
   "metadata": {},
   "source": [
    "## 2.2 Introduction"
   ]
  },
  {
   "cell_type": "markdown",
   "id": "f7044286",
   "metadata": {},
   "source": [
    "In the previous chapter we familiarized ourselves with the everyday mathematics that we first encountered in school."
   ]
  },
  {
   "cell_type": "markdown",
   "id": "49267c22",
   "metadata": {},
   "source": [
    "In this chapter we develop the vocubulary of mathematics that we will use in the rest of this textbook. In most areas of study, we learn new words and their meaning. By defining what these words mean, we create a common understanding of an area of study. This is no different in matehmatics."
   ]
  },
  {
   "cell_type": "markdown",
   "id": "ad265308",
   "metadata": {},
   "source": [
    "Together with an introduction to vocubulary, we also introduce the concept of the sign referring to the positive or negative nature of a number. We often deal with values that are either more or less than zero in our calculations in the life sciences. It is important to understand how to deal with these values when we use them in our analyses."
   ]
  },
  {
   "cell_type": "markdown",
   "id": "014d94b2-01c2-4be8-8ad1-916a15ec2c1f",
   "metadata": {},
   "source": [
    "## 2.3 The vocabulary of algebra"
   ]
  },
  {
   "cell_type": "markdown",
   "id": "6ae7f7aa",
   "metadata": {},
   "source": [
    "There are some useful terms and defintions that are used throughout algebra. The two most common _entities_ used in algebra are constants and variables."
   ]
  },
  {
   "cell_type": "markdown",
   "id": "df57b9ee",
   "metadata": {},
   "source": [
    "__Definition 2.3.1__ A <span style=\"color:lightgreen\">__constant__</span> is a number that has a fixed value. For example the number $3$ is a constant, and so is the number $\\pi$."
   ]
  },
  {
   "cell_type": "markdown",
   "id": "e3008846",
   "metadata": {},
   "source": [
    "__Definition 2.3.2__ A <span style=\"color:lightgreen\">__variable__</span> is a symbol, usually a letter, that represents one or more numbers. For example $x$ is a variable. Until we assign a number to a variable, it remains an unknown."
   ]
  },
  {
   "cell_type": "markdown",
   "id": "83a14956",
   "metadata": {},
   "source": [
    "Note that we often use the term __mathematical variable__ to distinguish from a computer variable or a statistical variable."
   ]
  },
  {
   "cell_type": "markdown",
   "id": "dbe5c9da",
   "metadata": {},
   "source": [
    "__Problem 2.3.1__ Determine the constants and the variables used in __Equation 2.3.1__."
   ]
  },
  {
   "cell_type": "markdown",
   "id": "29f5c4f8",
   "metadata": {},
   "source": [
    "$$\n",
    "3xy - 4x + 2 + a \\sin(b \\pi)\n",
    "\\tag{Equation 2.3.1}\n",
    "$$"
   ]
  },
  {
   "cell_type": "markdown",
   "id": "7147abb5",
   "metadata": {},
   "source": [
    "The numbers $3$, $-4$, $2$, and $\\pi$ are constants and the symbols $a$, $b$, $x$ and $y$ are variables."
   ]
  },
  {
   "cell_type": "markdown",
   "id": "c0ac78ad",
   "metadata": {},
   "source": [
    "The `sympy` package allows us to use variables in their mathematical sense. Below we use the `symbols` function to assign the mathematical variables $x$ and $y$ to the computer variables `x` and `y`."
   ]
  },
  {
   "cell_type": "code",
   "execution_count": 5,
   "id": "80e41c41",
   "metadata": {},
   "outputs": [],
   "source": [
    "# Create the variables x and y and assign them to the mathematical symbols x and y\n",
    "x, y = sympy.symbols('x y')"
   ]
  },
  {
   "cell_type": "markdown",
   "metadata": {},
   "source": [
    "Note that the right-hand side of the assignment is the `symbols` function that contains a string as argument. The `symbols` package allows the elements in the string to be separated by a space. The string-type argument contains two mathematical variables $x$ and $y$. In Python we can assign more than one computer variable at a time. The left-hand side of the assignment therefor contains two computer variables (one for each mathematical variable on the right-hand side)."
   ]
  },
  {
   "cell_type": "markdown",
   "id": "d46bad70",
   "metadata": {},
   "source": [
    "We can also create a computer variable called `a` and assign it to the mathematical variable $a$. It is typical that mathematical variables such as $a$, $b$, and $c$ represent constants. Below, we use a second argument in the `symbols` function to indicate that `a` and `b` are real numbers."
   ]
  },
  {
   "cell_type": "code",
   "execution_count": 6,
   "id": "5e126262",
   "metadata": {},
   "outputs": [],
   "source": [
    "# We set the real keyword argument to True to indicate that the computer variables a and b are real numbers\n",
    "a, b = sympy.symbols('a b', real=True)"
   ]
  },
  {
   "cell_type": "markdown",
   "id": "27213e03",
   "metadata": {},
   "source": [
    "Together with the `sin` function and the `pi` symbol in `sympy` we can now recreate __Equation 2.3.1__."
   ]
  },
  {
   "cell_type": "code",
   "execution_count": 7,
   "id": "8e55daa8",
   "metadata": {},
   "outputs": [
    {
     "data": {
      "text/latex": [
       "$\\displaystyle a \\sin{\\left(\\pi b \\right)} + 3 x y - 4 x$"
      ],
      "text/plain": [
       "a*sin(pi*b) + 3*x*y - 4*x"
      ]
     },
     "execution_count": 7,
     "metadata": {},
     "output_type": "execute_result"
    }
   ],
   "source": [
    "# We still have to use multiplication symbols to indicate multiplication\n",
    "3 * x * y - 4 * x + a * sympy.sin(b * sympy.pi)"
   ]
  },
  {
   "cell_type": "markdown",
   "id": "9ef1b23f",
   "metadata": {},
   "source": [
    "The `sympy` package generates a different arrangement to the order in which we entered the expression."
   ]
  },
  {
   "cell_type": "markdown",
   "id": "aee2acb6-fb80-403e-9bdc-2afb6152b35f",
   "metadata": {},
   "source": [
    "__Defintion 2.3.3__ An <span style=\"color:lightgreen\">__expression__</span> is a mathematical combination of numbers and variables, with or without addition and subtraction."
   ]
  },
  {
   "cell_type": "markdown",
   "id": "8fc4a176",
   "metadata": {},
   "source": [
    "We may state $3x$ and by this we means $3$ times $x$, where $x$ is a variable that can hold different numbers. We usually omit the multiplication symbol and do not write $3 \\times x$. We can also multiply variables and write $xy$ indication that we are multiplying $x$ and $y$. As such, $xy$ is an expression, or $xy + x - y$ and $\\sin{x + y}$ are also expressions. As stated above, though, we still have to use the `*` multiplication symbol in code."
   ]
  },
  {
   "cell_type": "markdown",
   "id": "3b96fcfb-7d58-4bb3-bcf4-f61ee9e0eeda",
   "metadata": {},
   "source": [
    "Given a value for $x$ or values for $x$ and $y$ we can calculate a value for an expression. A good example is the expression that converts degrees Fahrenheit to degrees Celsius. For the variable $F$ that can hold a value in degrees Fahrenheit, we get the following expression in __Equation 2.3.2__."
   ]
  },
  {
   "cell_type": "markdown",
   "id": "662820c1-e50b-4ff4-bf61-f6d10eeea623",
   "metadata": {},
   "source": [
    "$$\\frac{5}{9}(F-32) \\tag{Equation 2.3.2}$$"
   ]
  },
  {
   "cell_type": "markdown",
   "id": "662bd508-a6b6-45e6-befd-2c603d738a55",
   "metadata": {},
   "source": [
    "For $100$<sup>o</sup>F, where $32$ is the value of the variable $F$ and <sup>o</sup>F is the units, we can calculate the temperature value in Celsius."
   ]
  },
  {
   "cell_type": "code",
   "execution_count": 8,
   "id": "3c2c2e46-08ea-4c3a-bee2-d2c2693f18af",
   "metadata": {},
   "outputs": [
    {
     "data": {
      "text/plain": [
       "37.77777777777778"
      ]
     },
     "execution_count": 8,
     "metadata": {},
     "output_type": "execute_result"
    }
   ],
   "source": [
    "# Convert 100 degrees F to degrees C\n",
    "(5/9) * (100 - 32)"
   ]
  },
  {
   "cell_type": "markdown",
   "id": "c6b51229",
   "metadata": {},
   "source": [
    "__Homework 2.3.1__ Calculate the <sup>o</sup>C value for $50$<sup>o</sup>F."
   ]
  },
  {
   "cell_type": "markdown",
   "id": "b9a2ad30",
   "metadata": {},
   "source": [
    "Instead of having to repeat the calculation for different values of $F$, we can create a user-defined function. We do so below and call the function `fahrenheit_to_celsius`. The function takes a single argument for which we use the placeholder `f`. The placeholder computer variable is there to hold the value of $F$ in degrees Fahrenheit when the function is called (used) and a value is entered as argument. The function returns the value in degrees Celsius according to __Equation 2.3.2__."
   ]
  },
  {
   "cell_type": "code",
   "execution_count": 9,
   "id": "0775907c",
   "metadata": {},
   "outputs": [],
   "source": [
    "def fahrenheit_to_celsius(f): # The f computer variable is a placeholder for the value that is passed to the function\n",
    "    return (5/9) * (f - 32) # The return keyword is used to return a value from a function"
   ]
  },
  {
   "cell_type": "markdown",
   "id": "e28fd8d6",
   "metadata": {},
   "source": [
    "We can now pass the value $100$ to the function. It confirms our earlier calculation."
   ]
  },
  {
   "cell_type": "code",
   "execution_count": 10,
   "id": "3d42ee2e",
   "metadata": {},
   "outputs": [
    {
     "data": {
      "text/plain": [
       "37.77777777777778"
      ]
     },
     "execution_count": 10,
     "metadata": {},
     "output_type": "execute_result"
    }
   ],
   "source": [
    "fahrenheit_to_celsius(100)"
   ]
  },
  {
   "cell_type": "markdown",
   "id": "131dedb7-1846-4c40-be35-e808c477b8ee",
   "metadata": {},
   "source": [
    "We see that the result is about $38$<sup>o</sup>C. For the sake of interest, we plot the conversion from degrees Fahrenheit to degrees Celcius on the interval $[-10,115]$<sup>o</sup>F."
   ]
  },
  {
   "cell_type": "code",
   "execution_count": 11,
   "id": "bb7e0e7a-609f-4ccb-87fd-168915c8e6ca",
   "metadata": {},
   "outputs": [
    {
     "data": {
      "image/png": "[encoded data removed]",
      "text/plain": [
       "<Figure size 640x480 with 1 Axes>"
      ]
     },
     "metadata": {
      "image/png": {
       "height": 454,
       "width": 574
      }
     },
     "output_type": "display_data"
    }
   ],
   "source": [
    "fig, ax = pyplot.subplots()\n",
    "\n",
    "ax.plot(numpy.arange(-10, 115, 5),\n",
    "       [fahrenheit_to_celsius(i) for i in numpy.arange(-10, 115, 5)],\n",
    "       \"b+\")\n",
    "ax.set_title(\"Degrees Celcius given degrees Fahrenheit\")\n",
    "ax.set_xlabel(\"Degrees Fahrenheit\")\n",
    "ax.set_ylabel(\"Degrees Celcius\")\n",
    "ax.grid();"
   ]
  },
  {
   "cell_type": "markdown",
   "id": "dc2a30ef",
   "metadata": {},
   "source": [
    "__Definition 2.3.4__ A <span style=\"color:lightgreen\">__term__</span> is a part (or whole) of an expression that is separated by addition or subtraction."
   ]
  },
  {
   "cell_type": "markdown",
   "id": "d5574488",
   "metadata": {},
   "source": [
    "In the expression $xy-2x+4$, we have three terms. They are $xy$, $2x$, and $4$."
   ]
  },
  {
   "cell_type": "markdown",
   "id": "07ea6cc6",
   "metadata": {},
   "source": [
    "__Definition 2.3.5__ An <span style=\"color:lightgreen\">__equation__</span> is a mathematical statement that two expressions are equal."
   ]
  },
  {
   "cell_type": "markdown",
   "id": "d55ac333",
   "metadata": {},
   "source": [
    "An equation has a left- and a right-hand side and the equal symbol `=` denotes that these sides are equal."
   ]
  },
  {
   "cell_type": "markdown",
   "id": "7a5bb22c",
   "metadata": {},
   "source": [
    "In computer languages, the equal symbol is an assignment operator. To determine if two expressions are equal in Python code, we use the double equal symbol `==`. We can also use the `!=` symbol to denote that two expressions are not equal. Using the `==` symbol, is also referred to as a conditional. A conditional evaluates to `True` or `False`. In the code cell below, we test if $3$ is equal to $4$."
   ]
  },
  {
   "cell_type": "code",
   "execution_count": 12,
   "id": "4b5b88a4-a217-411f-a254-1dfd3b5c315a",
   "metadata": {},
   "outputs": [
    {
     "data": {
      "text/plain": [
       "False"
      ]
     },
     "execution_count": 12,
     "metadata": {},
     "output_type": "execute_result"
    }
   ],
   "source": [
    "# Determine of 3 is equal to 4\n",
    "3 == 4"
   ]
  },
  {
   "cell_type": "markdown",
   "metadata": {},
   "source": [
    "The solution is `False` indicating that $3$ is not equal to $4$."
   ]
  },
  {
   "cell_type": "markdown",
   "id": "fdff29fe",
   "metadata": {},
   "source": [
    "__Homework 2.3.2__ Test if $5$ is not equal to $4$."
   ]
  },
  {
   "cell_type": "markdown",
   "id": "090d6ae7",
   "metadata": {},
   "source": [
    "__Defintion 2.3.6__ An <span style=\"color:lightgreen\">__operation__</span> is a mathematical procedure that takes one or more values and produces another value using a mathematical operator."
   ]
  },
  {
   "cell_type": "markdown",
   "id": "022e7adf",
   "metadata": {},
   "source": [
    "Common algebraic operations are addition $+$, subtraction $-$, multiplication $\\times$ or $\\cdot$, and division $/$ or $\\div$. We can also raise a value to a power, take the square root, and calculate the logarithm. We can also take the sine, cosine, and tangent of a value and calculate the absolute value of a number and much more."
   ]
  },
  {
   "cell_type": "markdown",
   "id": "97b0bca6",
   "metadata": {},
   "source": [
    "__Defitinition 2.3.7__ An <span style=\"color:lightgreen\">__operator__</span> is a symbol (or word) that indicates an operation to be performed."
   ]
  },
  {
   "cell_type": "markdown",
   "id": "2da9a9a2",
   "metadata": {},
   "source": [
    "__Definition 2.3.8__ A <span style=\"color:lightgreen\">__power__</span> is a number that indicates how many times a base is multiplied by itself."
   ]
  },
  {
   "cell_type": "markdown",
   "id": "dcd08962",
   "metadata": {},
   "source": [
    "Powers are written as superscripts, such that $x^{3} = x \\times x \\times x$ (multiplying the base $x$ three times as indicated by the power)."
   ]
  },
  {
   "cell_type": "markdown",
   "id": "a12f3615",
   "metadata": {},
   "source": [
    "Below is a table of commonly used symbols in algebra."
   ]
  },
  {
   "cell_type": "markdown",
   "id": "a906f2a5",
   "metadata": {},
   "source": [
    "| Symbol              | Name                   | Meaning                            |\n",
    "|:-:                  |:---                    |:---                                |\n",
    "| $+$                 | Addition               | Add two values                     |\n",
    "| $-$                 | Subtraction            | Subtract two values                |\n",
    "| $\\times$ or $\\cdot$ | Multiplication         | Multiply two values                |\n",
    "| $\\div$ or $/$       | Division               | Divide two values                  |\n",
    "| $\\sqrt{}$           | Square root            | Take the square root of a value    |\n",
    "| $\\vert \\; \\rvert$   | Absolute value         | Return the positive of any value   |\n",
    "| $\\approx$           | Approximately equal to | Two values are approximately equal |"
   ]
  },
  {
   "cell_type": "markdown",
   "id": "81b603e0",
   "metadata": {},
   "source": [
    "## 2.4 Working with signed numbers"
   ]
  },
  {
   "cell_type": "markdown",
   "id": "4b80b759",
   "metadata": {},
   "source": [
    "We often make use of parenthesis, brackets (square brackets), and braces (curly brackets) in algebra. While used to denote the order of arithmetical operations, they are also used do indicate and maintain the sign of constants, variables, terms, and expressions. For example, $-(x + 2)$ is different from $-x + 2$."
   ]
  },
  {
   "cell_type": "markdown",
   "id": "e256b9e3",
   "metadata": {},
   "source": [
    "The list below shows the sign of the result of an operation given the sign of the variables $a$ and $b$."
   ]
  },
  {
   "cell_type": "markdown",
   "id": "2a539448",
   "metadata": {},
   "source": [
    "- $a - (+b) = a + (-b)$\n",
    "- $a - (-b) = a + (+b)$\n",
    "- $-a - (+b) = -a + (-b)$\n",
    "- $-a - (-b) = -a + (+b)$"
   ]
  },
  {
   "cell_type": "markdown",
   "id": "b7e504e5",
   "metadata": {},
   "source": [
    "__Problem 2.4.1__ Show that $-16-14 = -16 + (-14)$"
   ]
  },
  {
   "cell_type": "markdown",
   "id": "8208060f",
   "metadata": {},
   "source": [
    "We use the `==` conditional to show that the two expressions are equal."
   ]
  },
  {
   "cell_type": "code",
   "execution_count": 13,
   "id": "cf14df6f",
   "metadata": {},
   "outputs": [
    {
     "data": {
      "text/plain": [
       "True"
      ]
     },
     "execution_count": 13,
     "metadata": {},
     "output_type": "execute_result"
    }
   ],
   "source": [
    "-16 - 14 == -16 + (-14)"
   ]
  },
  {
   "cell_type": "markdown",
   "metadata": {},
   "source": [
    "The result is indeed `True`."
   ]
  },
  {
   "cell_type": "markdown",
   "id": "5395d74c",
   "metadata": {},
   "source": [
    "By writing $+(-a)$ we actually mean $+1 \\times (-a) = -a$ and by writng $-(a)$ we actually mean $-1 \\times (a)$. Algebra often uses shorthand notation that can be difficult to intepret. Despite the notation, it is good to remember the following rules of multiplication with signs."
   ]
  },
  {
   "cell_type": "markdown",
   "id": "a8b76bfd",
   "metadata": {},
   "source": [
    "- $\\text{A } + \\text{ times a } + \\text{ is a } +$\n",
    "- $\\text{A } + \\text{ times a } - \\text{ is a } -$\n",
    "- $\\text{A } - \\text{ times a } + \\text{ is a } -$\n",
    "- $\\text{A } - \\text{ times a } - \\text{ is a } +$"
   ]
  },
  {
   "cell_type": "markdown",
   "id": "6b6866e0",
   "metadata": {},
   "source": [
    "In general we can state that a positive times a positive is a positive. A positive times a negative or a negative times a positive is a negative. A negative times a negative is a positive."
   ]
  },
  {
   "cell_type": "markdown",
   "id": "0535e272",
   "metadata": {},
   "source": [
    "We use code to demonstrate example from the list above. The code comments indicate the mathematical expression."
   ]
  },
  {
   "cell_type": "code",
   "execution_count": 14,
   "id": "8ed03e24",
   "metadata": {},
   "outputs": [
    {
     "data": {
      "text/plain": [
       "12"
      ]
     },
     "execution_count": 14,
     "metadata": {},
     "output_type": "execute_result"
    }
   ],
   "source": [
    "# +3 times +4\n",
    "3 * 4 # Note that we do not use leading + symbols in Python"
   ]
  },
  {
   "cell_type": "code",
   "execution_count": 15,
   "id": "4349d0c4",
   "metadata": {},
   "outputs": [
    {
     "data": {
      "text/plain": [
       "-12"
      ]
     },
     "execution_count": 15,
     "metadata": {},
     "output_type": "execute_result"
    }
   ],
   "source": [
    "# +3 times -4\n",
    "3 * (-4)"
   ]
  },
  {
   "cell_type": "code",
   "execution_count": 16,
   "id": "0d77f292",
   "metadata": {},
   "outputs": [
    {
     "data": {
      "text/plain": [
       "-12"
      ]
     },
     "execution_count": 16,
     "metadata": {},
     "output_type": "execute_result"
    }
   ],
   "source": [
    "# (-3) times 4\n",
    "(-3) * 4"
   ]
  },
  {
   "cell_type": "code",
   "execution_count": 17,
   "id": "f33cb5da",
   "metadata": {},
   "outputs": [
    {
     "data": {
      "text/plain": [
       "12"
      ]
     },
     "execution_count": 17,
     "metadata": {},
     "output_type": "execute_result"
    }
   ],
   "source": [
    "# (-3) times (-4)\n",
    "(-3) * (-4)"
   ]
  },
  {
   "cell_type": "markdown",
   "id": "7eb0e53d",
   "metadata": {},
   "source": [
    "The same rules apply to division. We see more examples using Python code below."
   ]
  },
  {
   "cell_type": "code",
   "execution_count": 18,
   "id": "d62252a1-5777-46ff-91d4-430ff0cdbe7a",
   "metadata": {},
   "outputs": [
    {
     "data": {
      "text/plain": [
       "0.75"
      ]
     },
     "execution_count": 18,
     "metadata": {},
     "output_type": "execute_result"
    }
   ],
   "source": [
    "# +3 divided by +4\n",
    "3 / 4"
   ]
  },
  {
   "cell_type": "code",
   "execution_count": 19,
   "id": "a412e747",
   "metadata": {},
   "outputs": [
    {
     "data": {
      "text/plain": [
       "-0.75"
      ]
     },
     "execution_count": 19,
     "metadata": {},
     "output_type": "execute_result"
    }
   ],
   "source": [
    "# +3 divided by -4\n",
    "3 / (-4)"
   ]
  },
  {
   "cell_type": "code",
   "execution_count": 20,
   "id": "825938be",
   "metadata": {},
   "outputs": [
    {
     "data": {
      "text/plain": [
       "-0.75"
      ]
     },
     "execution_count": 20,
     "metadata": {},
     "output_type": "execute_result"
    }
   ],
   "source": [
    "# -3 divided by +4\n",
    "(-3) / 4"
   ]
  },
  {
   "cell_type": "code",
   "execution_count": 21,
   "id": "fe594c64",
   "metadata": {},
   "outputs": [
    {
     "data": {
      "text/plain": [
       "0.75"
      ]
     },
     "execution_count": 21,
     "metadata": {},
     "output_type": "execute_result"
    }
   ],
   "source": [
    "# -3 divided by -4\n",
    "(-3) / (-4)"
   ]
  },
  {
   "cell_type": "markdown",
   "id": "e768fc05",
   "metadata": {},
   "source": [
    "__Definition 2.4.1__ The <span style=\"color:lightgreen\">__even-odd rule__</span> of multiplication and division states that the product or quotient of an even number of negative numbers is positive, and the product or quotient of an odd number of negative numbers is negative."
   ]
  },
  {
   "cell_type": "markdown",
   "id": "8eb8c3bd",
   "metadata": {},
   "source": [
    "__Problem 2.4.2__ Determine the sign of the expression below."
   ]
  },
  {
   "cell_type": "markdown",
   "id": "f89f78a9",
   "metadata": {},
   "source": [
    "$$\n",
    "\\frac{(-3)(2)(2)}{(-3)(-4)(2)(1)(-4)}\n",
    "$$"
   ]
  },
  {
   "cell_type": "markdown",
   "id": "f53d71d7",
   "metadata": {},
   "source": [
    "There is an even number of negative values and the result will be positive. This is confirmed using code below that calculates the solution."
   ]
  },
  {
   "cell_type": "code",
   "execution_count": 22,
   "id": "751f4760",
   "metadata": {},
   "outputs": [
    {
     "data": {
      "text/plain": [
       "0.125"
      ]
     },
     "execution_count": 22,
     "metadata": {},
     "output_type": "execute_result"
    }
   ],
   "source": [
    "((-3) * (2) * (2)) / ((-3) * (-4) * (2) * (1) * (-4))"
   ]
  },
  {
   "cell_type": "markdown",
   "id": "8fa8df74",
   "metadata": {},
   "source": [
    "__Problem 2.4.3__ Determine the sign of the expression below, where it is assumed that all $x,y,z$ are positive real numbers such that $-x$ for instance, is a negative number."
   ]
  },
  {
   "cell_type": "markdown",
   "id": "e1ed4f6d",
   "metadata": {},
   "source": [
    "$$\n",
    "\\frac{(-x)(y)(-z)}{(x)(-y)(z)(-x)(-y)}\n",
    "$$"
   ]
  },
  {
   "cell_type": "markdown",
   "id": "5661dca5",
   "metadata": {},
   "source": [
    "There is an odd number of negative values and the result will be negative. We can use the `positive` keyword argument in the `symbols` function to indicate that $x$, $y$, and $z$ are positive real numbers."
   ]
  },
  {
   "cell_type": "code",
   "execution_count": 23,
   "id": "c5d19581",
   "metadata": {},
   "outputs": [],
   "source": [
    "x, y, z = sympy.symbols('x y z', positive=True)"
   ]
  },
  {
   "cell_type": "markdown",
   "id": "07eaada1",
   "metadata": {},
   "source": [
    "Now we can enter the expression for the problem. The `sympy` package simplifies the expression and we see that the result is negative."
   ]
  },
  {
   "cell_type": "code",
   "execution_count": 24,
   "id": "ef250a25",
   "metadata": {},
   "outputs": [
    {
     "data": {
      "text/latex": [
       "$\\displaystyle - \\frac{z}{x y}$"
      ],
      "text/plain": [
       "-z/(x*y)"
      ]
     },
     "execution_count": 24,
     "metadata": {},
     "output_type": "execute_result"
    }
   ],
   "source": [
    "((-x) * (y) * (-z)) / ((x) * (-y) * (-x) * (-y))"
   ]
  }
 ],
 "metadata": {
  "kernelspec": {
   "display_name": "Python 3 (ipykernel)",
   "language": "python",
   "name": "python3"
  },
  "language_info": {
   "codemirror_mode": {
    "name": "ipython",
    "version": 3
   },
   "file_extension": ".py",
   "mimetype": "text/x-python",
   "name": "python",
   "nbconvert_exporter": "python",
   "pygments_lexer": "ipython3",
   "version": "3.10.9"
  }
 },
 "nbformat": 4,
 "nbformat_minor": 5
}
