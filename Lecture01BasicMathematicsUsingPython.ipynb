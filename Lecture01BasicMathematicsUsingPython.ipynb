{
 "cells": [
  {
   "cell_type": "markdown",
   "id": "fb6cab3f-4fb5-4575-8977-54096745d3a7",
   "metadata": {},
   "source": [
    "# 1 | BASIC MATHEMATICS USING PYTHON"
   ]
  },
  {
   "cell_type": "markdown",
   "id": "afbdb4d3",
   "metadata": {},
   "source": [
    "><b>Dr J H Klopper</b></p>\n",
    ">Department of Biostatistics and Bioinformatics</br>\n",
    ">Milken Institute School of Public Health</br>\n",
    ">George Washington University"
   ]
  },
  {
   "cell_type": "markdown",
   "id": "f7248074",
   "metadata": {},
   "source": [
    "<p xmlns:cc=\"http://creativecommons.org/ns#\" xmlns:dct=\"http://purl.org/dc/terms/\"><span property=\"dct:title\">This chapter of Algebra for Health Data Science</span> by <span property=\"cc:attributionName\">Dr JH Klopper</span> is licensed under <a href=\"http://creativecommons.org/licenses/by-nc-nd/4.0/?ref=chooser-v1\" target=\"_blank\" rel=\"license noopener noreferrer\" style=\"display:inline-block;\">Attribution-NonCommercial-NoDerivatives 4.0 International<img style=\"height:22px!important;margin-left:3px;vertical-align:text-bottom;\" src=\"https://mirrors.creativecommons.org/presskit/icons/cc.svg?ref=chooser-v1\"><img style=\"height:22px!important;margin-left:3px;vertical-align:text-bottom;\" src=\"https://mirrors.creativecommons.org/presskit/icons/by.svg?ref=chooser-v1\"><img style=\"height:22px!important;margin-left:3px;vertical-align:text-bottom;\" src=\"https://mirrors.creativecommons.org/presskit/icons/nc.svg?ref=chooser-v1\"><img style=\"height:22px!important;margin-left:3px;vertical-align:text-bottom;\" src=\"https://mirrors.creativecommons.org/presskit/icons/nd.svg?ref=chooser-v1\"></a></p>"
   ]
  },
  {
   "cell_type": "markdown",
   "id": "49d45e7c",
   "metadata": {},
   "source": [
    "## 1.1 Packages used in this chapter"
   ]
  },
  {
   "cell_type": "markdown",
   "id": "ac6a054a-878d-4683-9da8-0bc1f7750959",
   "metadata": {},
   "source": [
    "While there are many functions in Python, we can extend the language with packages that contains even more functions."
   ]
  },
  {
   "cell_type": "markdown",
   "id": "68a5d2b7",
   "metadata": {},
   "source": [
    "The `sympy` package, short for _symbolic Python_ is a Python package that contains functions for symbolic mathematics. This means that we can use Python to do mathematics in the same way that we would do it by hand. The `sympy` packages turns Python into a computer algebra system (CAS)."
   ]
  },
  {
   "cell_type": "markdown",
   "id": "ef48975e",
   "metadata": {},
   "source": [
    "The import keyword is used to import packages into Python. It is typical to use an abbreviation for packages and use the code `import sympy as sym`. This means that we can use the abbreviation `sym` to refer to the `sympy` package and call functions in the package such as `sqrt` (the square root) by typing `sym.sqrt`. By not using an abbreviation, we will have to type `sympy.sqrt` every time we want to use the square root function. The choice is a matter of style."
   ]
  },
  {
   "cell_type": "code",
   "execution_count": 2,
   "id": "aea67e45-6af5-4ae5-8689-25806f67ca11",
   "metadata": {},
   "outputs": [],
   "source": [
    "import sympy"
   ]
  },
  {
   "cell_type": "markdown",
   "id": "5e2c4a56",
   "metadata": {},
   "source": [
    "The `init_printing` function is used to make the output of the `sympy` package look like typeset mathematics. This is because it use LaTeX to print proper mathematical notation. The `init_printing` function has several arguments, which we will not use here."
   ]
  },
  {
   "cell_type": "code",
   "execution_count": 3,
   "id": "74a2803b-7527-4701-9091-c2590f174c81",
   "metadata": {},
   "outputs": [],
   "source": [
    "sympy.init_printing()"
   ]
  },
  {
   "cell_type": "markdown",
   "id": "02d8d89e",
   "metadata": {},
   "source": [
    "Python has a built-in package for mathematics called `math`. The `math` package does not use symbolic mathematics, but rather numerical mathematics. This means that the `math` package will give us numerical answers, while the `sympy` package will give us symbolic answers."
   ]
  },
  {
   "cell_type": "code",
   "execution_count": 4,
   "id": "c4e7cfd6-68c0-47c8-948e-921748af4b7e",
   "metadata": {},
   "outputs": [],
   "source": [
    "import math"
   ]
  },
  {
   "cell_type": "markdown",
   "id": "085c2e0b",
   "metadata": {},
   "source": [
    "The `matplotlib` package is a large Python packages used for generating plots. Here we use one of the models in the package called `pyplot`."
   ]
  },
  {
   "cell_type": "code",
   "execution_count": 5,
   "id": "35f0e1f3-d7e4-468b-bb21-5f1a5abf7605",
   "metadata": {},
   "outputs": [],
   "source": [
    "from matplotlib import pyplot"
   ]
  },
  {
   "cell_type": "markdown",
   "id": "cffdffff",
   "metadata": {},
   "source": [
    "Monitors with high-resolution screen such as those found on Apple computer can print plotrs with more detail. To make use of the detail, we use a magic command as is shown below."
   ]
  },
  {
   "cell_type": "code",
   "execution_count": 6,
   "id": "ef9c4921",
   "metadata": {},
   "outputs": [],
   "source": [
    "%config InlineBackend.figure_format = 'retina'"
   ]
  },
  {
   "cell_type": "markdown",
   "metadata": {},
   "source": [
    "While not the focus of this course, we will perform some statistical tests as motivation for the algebra that we want to explore. The `stats` module in the `scipy` package contains functions for statistical tests. We will use the `ttest_ind` function from this module to perform a _t_-test."
   ]
  },
  {
   "cell_type": "code",
   "execution_count": 7,
   "metadata": {},
   "outputs": [],
   "source": [
    "from scipy.stats import ttest_ind"
   ]
  },
  {
   "cell_type": "markdown",
   "id": "731a8219",
   "metadata": {},
   "source": [
    "Lastly, we import the `numpy` package, short for numerical Python. This package is used for numerical mathematics and is used to create arrays. Arrays are similar to lists, but are more efficient for numerical calculations."
   ]
  },
  {
   "cell_type": "code",
   "execution_count": 8,
   "id": "a322d30e-ab5f-4a92-aead-07d8f11a031d",
   "metadata": {},
   "outputs": [],
   "source": [
    "import numpy"
   ]
  },
  {
   "cell_type": "markdown",
   "id": "a52500f8",
   "metadata": {},
   "source": [
    "## 1.2 Introduction"
   ]
  },
  {
   "cell_type": "markdown",
   "id": "ced589f0",
   "metadata": {},
   "source": [
    "We use numbers every day of our lives. We count objects and we consider costs and spending. While counting usually involves the use of whole numbers, we also consider parts of the whole when we cut a pizza into slices. Pizza slices are fractions of the whole and we pay for the pizza using decimal numbers. Numbers are everywhere in the life sciences. We count, add, multiply, calculate means and standard deviations. The list is endless. "
   ]
  },
  {
   "cell_type": "markdown",
   "id": "06e25fb3",
   "metadata": {},
   "source": [
    "Computers and most computer languages can do mathematics. However, they do not do mathematics in the same way that we do mathematics by hand. Computers use numerical mathematics, which means that they use numbers to represent quantities. This is different from symbolic mathematics, which means that we use symbols to represent quantities. For example, we use the symbol $\\pi$ to represent the ratio of the circumference of a circle to its diameter and we use the symbols $x$ and $y$ to denote unknowns, and $f$ and $g$ to denote fuctions. With `numpy` and `sympy` Python can do both and we will explore how Python works with numbers and mathematical symbols."
   ]
  },
  {
   "cell_type": "markdown",
   "id": "60251f1a",
   "metadata": {},
   "source": [
    "In this textbook, we explore mathematics, and algebra in particular. While being able to use a pencil and paper is part of the visceral experience and understanding of mathematics, we live in an era of powerful computers in our pockets and software on our computers. The calculations in these notebooks will be laid out in detail. We will, though, also make use of modern technology to gain a level of familiarity. We will use technology to verify our results or to simply do the calculations for us. We will use modern technology as a tool to learn about and understand the mathematics. Technology is a companion to our pencils and paper."
   ]
  },
  {
   "cell_type": "markdown",
   "id": "f6a21397",
   "metadata": {},
   "source": [
    "Our technology partner will be the Python programming language. This is not a set of notebooks on Python and the material will not teach you how to become a Python programmer. It will simply serve as our calculator instead of the calculator on our phones. Along the way, though, we will come to realize how Python can help us build our intuition for the mathematics and how it helps us understand the mathematics. Python will be our teaching aid when we need it."
   ]
  },
  {
   "cell_type": "markdown",
   "id": "9a74401a",
   "metadata": {},
   "source": [
    "In this chapter, we explore basic number types and arithmetic as a foundation to exploring the use of algebra in public health and biomedical research in later notebooks. A proper foundation in algebra can be an enjoyable and simple task. Being comfortable with algebra will allow everyone who goes on to study statistics, to concentrate on the understanding of data and its analysis instead of being _afraid of_ or _sparring with_ the mathematics."
   ]
  },
  {
   "cell_type": "markdown",
   "id": "879044e2-9ec5-4335-bab4-ae7d811a5bd2",
   "metadata": {
    "jp-MarkdownHeadingCollapsed": true,
    "tags": []
   },
   "source": [
    "## 1.3 Number types"
   ]
  },
  {
   "cell_type": "markdown",
   "id": "d91cfa83-a7e3-46d5-9a42-c04b5735d927",
   "metadata": {
    "jp-MarkdownHeadingCollapsed": true,
    "tags": []
   },
   "source": [
    "### 1.3.1 Computer number types"
   ]
  },
  {
   "cell_type": "markdown",
   "id": "94d7737c",
   "metadata": {},
   "source": [
    "In Python we can refer to any item as an object. There are many object types in Python. Not all of these types are numbers."
   ]
  },
  {
   "cell_type": "markdown",
   "id": "8dcba368-3d2a-40d5-b166-72ffed01db57",
   "metadata": {},
   "source": [
    "We use the `type` function to return the type of a Python object. Strings are not numbers or mathematical symbols.  They are letter, words, sentences, and paragraphs of text. Strings are denoted by their enclosure in single or double quotes. Below we pass the string `'This is Python.'` to the `type` function."
   ]
  },
  {
   "cell_type": "code",
   "execution_count": 9,
   "id": "cb8dbff1-182e-4006-bd1c-aae1fa5eaf2e",
   "metadata": {},
   "outputs": [
    {
     "data": {
      "text/plain": [
       "str"
      ]
     },
     "execution_count": 9,
     "metadata": {},
     "output_type": "execute_result"
    }
   ],
   "source": [
    "type('This is Python.')"
   ]
  },
  {
   "cell_type": "markdown",
   "id": "c785679e",
   "metadata": {},
   "source": [
    "Python returns the value `str` to indicate that the object is a string. Next, we pass the number $1$ to the `type` function."
   ]
  },
  {
   "cell_type": "code",
   "execution_count": 10,
   "id": "a6ccf7f8-cdfe-42ef-a85f-c52b5aed96c3",
   "metadata": {},
   "outputs": [
    {
     "data": {
      "text/plain": [
       "int"
      ]
     },
     "execution_count": 10,
     "metadata": {},
     "output_type": "execute_result"
    }
   ],
   "source": [
    "type(1)"
   ]
  },
  {
   "cell_type": "markdown",
   "id": "723f782b",
   "metadata": {},
   "source": [
    "Python returns the value `int` to indicate that the object is an integer. Integers are whole numbers. We can also pass the number $1.0$ to the `type` function."
   ]
  },
  {
   "cell_type": "code",
   "execution_count": 11,
   "id": "05325bf8-5f7b-4897-a5a1-2a0b0ddb9f36",
   "metadata": {},
   "outputs": [
    {
     "data": {
      "text/plain": [
       "float"
      ]
     },
     "execution_count": 11,
     "metadata": {},
     "output_type": "execute_result"
    }
   ],
   "source": [
    "type(1.0)"
   ]
  },
  {
   "cell_type": "markdown",
   "id": "67448993",
   "metadata": {},
   "source": [
    "We see that $1.0$ is of type `float`. This is short for floating point number. Floating point numbers are numbers with a decimal point. We can also pass the number $1j$ to the `type` function."
   ]
  },
  {
   "cell_type": "code",
   "execution_count": 12,
   "id": "f1dbb94a-1503-408b-9f15-12d7205b5ea1",
   "metadata": {},
   "outputs": [
    {
     "data": {
      "text/plain": [
       "complex"
      ]
     },
     "execution_count": 12,
     "metadata": {},
     "output_type": "execute_result"
    }
   ],
   "source": [
    "type(1j)"
   ]
  },
  {
   "cell_type": "markdown",
   "id": "9275c257",
   "metadata": {},
   "source": [
    "The `1j` symbol is a complex number. Complex numbers are numbers with an imaginary part. The imaginary part is denoted by the symbol $i$ or $j$. In Python, the symbol $j$ is used to denote the imaginary part of a complex number. The symbol $i$ is used to denote the imaginary part of a complex number in mathematics."
   ]
  },
  {
   "cell_type": "markdown",
   "id": "e46e1a79",
   "metadata": {},
   "source": [
    "Boolean values are either `True` or `False`. We can pass the boolean values `True` and `False` to the `type` function."
   ]
  },
  {
   "cell_type": "code",
   "execution_count": 13,
   "id": "df05d68c",
   "metadata": {},
   "outputs": [
    {
     "data": {
      "text/plain": [
       "bool"
      ]
     },
     "execution_count": 13,
     "metadata": {},
     "output_type": "execute_result"
    }
   ],
   "source": [
    "type(True)"
   ]
  },
  {
   "cell_type": "markdown",
   "id": "cc5426c5",
   "metadata": {},
   "source": [
    "Python returns the value `bool` to indicate that the object is a Boolean value."
   ]
  },
  {
   "cell_type": "code",
   "execution_count": 14,
   "id": "9fe2b3c6",
   "metadata": {},
   "outputs": [
    {
     "data": {
      "text/plain": [
       "bool"
      ]
     },
     "execution_count": 14,
     "metadata": {},
     "output_type": "execute_result"
    }
   ],
   "source": [
    "type(False)"
   ]
  },
  {
   "cell_type": "markdown",
   "id": "0290b34a",
   "metadata": {},
   "source": [
    "`False` is also a Boolean value as indicated by the returned `bool` type."
   ]
  },
  {
   "cell_type": "markdown",
   "id": "13c6ed59",
   "metadata": {},
   "source": [
    "`True` and `False` in Python are stored as $1$ and $0$ respectively. We can add `True` and `False` values together."
   ]
  },
  {
   "cell_type": "code",
   "execution_count": 15,
   "id": "e366801b",
   "metadata": {},
   "outputs": [
    {
     "data": {
      "image/png": "[encoded data removed]",
      "text/latex": [
       "$\\displaystyle 2$"
      ],
      "text/plain": [
       "2"
      ]
     },
     "execution_count": 15,
     "metadata": {},
     "output_type": "execute_result"
    }
   ],
   "source": [
    "True + True"
   ]
  },
  {
   "cell_type": "code",
   "execution_count": 16,
   "id": "547f6c37",
   "metadata": {},
   "outputs": [
    {
     "data": {
      "image/png": "[encoded data removed]",
      "text/latex": [
       "$\\displaystyle 0$"
      ],
      "text/plain": [
       "0"
      ]
     },
     "execution_count": 16,
     "metadata": {},
     "output_type": "execute_result"
    }
   ],
   "source": [
    "False + False"
   ]
  },
  {
   "cell_type": "code",
   "execution_count": 17,
   "id": "1db93f0e",
   "metadata": {},
   "outputs": [
    {
     "data": {
      "image/png": "[encoded data removed]",
      "text/latex": [
       "$\\displaystyle 1$"
      ],
      "text/plain": [
       "1"
      ]
     },
     "execution_count": 17,
     "metadata": {},
     "output_type": "execute_result"
    }
   ],
   "source": [
    "True + False"
   ]
  },
  {
   "cell_type": "markdown",
   "id": "26bb69c4",
   "metadata": {},
   "source": [
    "We can also pass the value `None` to the `type` function."
   ]
  },
  {
   "cell_type": "code",
   "execution_count": 18,
   "id": "aa4434a0",
   "metadata": {},
   "outputs": [
    {
     "data": {
      "text/plain": [
       "NoneType"
      ]
     },
     "execution_count": 18,
     "metadata": {},
     "output_type": "execute_result"
    }
   ],
   "source": [
    "type(None)"
   ]
  },
  {
   "cell_type": "markdown",
   "id": "7e666d84",
   "metadata": {},
   "source": [
    "`None` indicates that the object has no value and has the specific type `NoneType`. This is different from `False`, which is a Boolean value."
   ]
  },
  {
   "cell_type": "markdown",
   "id": "d739c2e3-425e-4194-8bd2-21bb73b8ea26",
   "metadata": {
    "jp-MarkdownHeadingCollapsed": true,
    "tags": []
   },
   "source": [
    "### 1.3.2 Mathematical number types"
   ]
  },
  {
   "cell_type": "markdown",
   "id": "356eae03",
   "metadata": {},
   "source": [
    "In mathematics we put the elements of a set in curly braces, $\\{ 1,2,3,4, \\ldots \\}$. A <span style=\"color:lightgreen\">__set__</span> is any collection of objects, such as all the toppings on a pizza. With respect to numbers, the elememts are just that, numbers Each member (number) is separated by a comma. We also see a set of ellipses, $\\ldots$. Intuitively, we read this as a continuation along, or, following the pattern of elements, before the ellipses. This indicates a continuation of the numbers. The numbers never stop. The $\\ldots$ at the end of the list of elements indicate an infine extension of values. The  numbers go to infinity. We refer to the number of elements in a set as the <span style=\"color:lightgreen\">__cardinality__</span> or <span style=\"color:lightgreen\">__size__</span> of the set."
   ]
  },
  {
   "cell_type": "markdown",
   "id": "9e2ec8e1",
   "metadata": {},
   "source": [
    "In this section, we investigate the commonly used number system in mathematics."
   ]
  },
  {
   "cell_type": "markdown",
   "metadata": {},
   "source": [
    "Consider a list of the smoking status of participants in a study. In the table below, we note $10$ participants. Each participant has either _never smoked_, _smoked in the past_, or _currently smokes_."
   ]
  },
  {
   "cell_type": "markdown",
   "metadata": {},
   "source": [
    "| Participant | Smoking status     |\n",
    "|:------------|:-------------------|\n",
    "| 1           | Currently smokes   |\n",
    "| 2           | Never smoked       |\n",
    "| 3           | Smoked in the past |\n",
    "| 4           | Never smoked       |\n",
    "| 5           | Never smoked       |\n",
    "| 6           | Smoked in the past |\n",
    "| 7           | Smoked in the past |\n",
    "| 8           | Smoked in the past |\n",
    "| 9           | Currently smokes   |\n",
    "| 10          | Currently smokes   |"
   ]
  },
  {
   "cell_type": "markdown",
   "metadata": {},
   "source": [
    "We can count the number of occurrences of each smoking status. We can count the number of participants who _never smoked_ by counting the number of times the smoking status is _never smoked_. We can count the number of participants who _smoked in the past_ by counting the number of times the smoking status is _smoked in the past_. Lastly, we can count the number of participants who _currently smoke_ by counting the number of times the smoking status is _currently smokes_. From the data we note that $3$ participants _never smoked_, $4$ participants _smoked in the past_, and $3$ participants _currently smoke_. We cannot have that three-and-half participants _never smoked_, nor can we have a negative number of people who _cuttenrly smoke_. Each count is a counting number."
   ]
  },
  {
   "cell_type": "markdown",
   "id": "3772d6ae",
   "metadata": {},
   "source": [
    "__Definition 1.3.2.1__ The <span style=\"color:lightgreen\">__counting numbers__</span>, symbolized by $\\mathbb{N}$, are the set of numbers $\\{ 1,2,3,4,\\ldots \\}$."
   ]
  },
  {
   "cell_type": "markdown",
   "metadata": {},
   "source": [
    "To accomodate the case where we count a zero number of participants for a specific smoking status, we add the number $0$ to the set of counting numbers. We call this set of numbers the natural numbers."
   ]
  },
  {
   "cell_type": "markdown",
   "id": "ce396c18",
   "metadata": {},
   "source": [
    "__Definition 1.3.2.2__ The <span style=\"color:lightgreen\">__natural numbers__</span>, symbokized by $\\mathbb{N}_{0}$ are the set of numbers $\\{ 0,1,2,3,4,\\ldots \\}$."
   ]
  },
  {
   "cell_type": "markdown",
   "id": "4430e35a",
   "metadata": {},
   "source": [
    "In many cases, we want to consider a range of natural numbers. Age is a good example in public health and biomedical research, that is, caputuring peoples’ age in years. In fancy terms, we would say the unit of measurement of age is years."
   ]
  },
  {
   "cell_type": "markdown",
   "id": "1344930b",
   "metadata": {},
   "source": [
    "We consider a baby in its first year of life as being $0$ years old. Most humans do not live beyond $100$ years of age, let alone an infinite number of years. Maybe one day. As an android. Imagine that. Age can be expressed as a natural number in an interval. An interval (of ages) has a minimum and a maximum value. The minimum and maximum values for a set of age values are often quoted in research papers. In the set $\\{ 1,2,3, \\ldots , 10 \\}$ we use ellipses do denote the we follow the _pattern_ up until a maximum number. In this case, $10$."
   ]
  },
  {
   "cell_type": "markdown",
   "id": "ca305f1d",
   "metadata": {},
   "source": [
    "To sound like mathematicians, we note that there is an order to the symbols that we use to denote numbers. We know that $5$ is larger than $2$. In fact ordering is an imporant and sophisticated topic in math. Even so, we have a natural intuition for order and make use of it all the time."
   ]
  },
  {
   "cell_type": "markdown",
   "id": "273f2378",
   "metadata": {},
   "source": [
    "It is typical to use a lowercase letter as a symbol for an arbitrary number. For natural numbers, we typically use the symbols $i$, $j$, $k$, and $n$. In human research studies, we have a number of participants in a study. This number of people is referred to as the sample size. In many calculations, we would use the symbols $n$ to denote a sample size. The symbol $n$ takes on a specific value depending on how many people are in our study."
   ]
  },
  {
   "cell_type": "markdown",
   "id": "95f9ab31",
   "metadata": {},
   "source": [
    "Finally, we visualize the natural numbers (at least the first few) as markers on the horizontal axis of the familiar Cartesian plane (mutually perpendicular lines), shown in __Figure 1.3.2.1__."
   ]
  },
  {
   "cell_type": "code",
   "execution_count": 19,
   "id": "bd73b8b8",
   "metadata": {},
   "outputs": [
    {
     "data": {
      "image/png": "[encoded data removed]",
      "text/plain": [
       "<Figure size 800x200 with 1 Axes>"
      ]
     },
     "metadata": {
      "image/png": {
       "height": 197,
       "width": 701
      }
     },
     "output_type": "display_data"
    }
   ],
   "source": [
    "x = range(10)\n",
    "y = numpy.repeat(0, 10)\n",
    "\n",
    "pyplot.figure(figsize=(8, 2))\n",
    "pyplot.scatter(\n",
    "    x=x,\n",
    "    y=y,\n",
    "    s=60,\n",
    "    marker='o',\n",
    "    alpha=.8,\n",
    "    lw=1\n",
    ")\n",
    "pyplot.grid(color='0.5')\n",
    "for pos in ['right', 'top', 'bottom', 'left']:\n",
    "    pyplot.gca().spines[pos].set_visible(False)"
   ]
  },
  {
   "cell_type": "markdown",
   "metadata": {},
   "source": [
    "It may be useful to include what we refer to as additive inverses to the natural numbers. The additive inverse of a number is the number that we add to the number to get $0$. For example, the additive inverse of $3$ is $-3$ because $3+(-3)=0$. The additive inverse of $-3$ is $3$ because $-3+3=0$. We can extend the natural numbers to include the additive inverses of the natural numbers. We call this set of numbers the integers."
   ]
  },
  {
   "cell_type": "markdown",
   "id": "bfa03ef8",
   "metadata": {},
   "source": [
    "__Definition 1.3.2.3__ The <span style=\"color:lightgreen\">__integers__</span>, symbolized by $\\mathbb{Z}$ are the whole numbers $\\{ \\ldots , -3,-2,-1,0,1,2,3, \\ldots \\}$. The integers is the set of all natural numbers and their additive inverses. The additivive inverse of a natural number $n$ is $-n$ such that $n + (-n) = 0$."
   ]
  },
  {
   "cell_type": "markdown",
   "id": "c8a2b88a",
   "metadata": {},
   "source": [
    "Arbitrary integers are usually denoted by lowercase letters such as $a$, $b$, $c$, $p$, and $q$."
   ]
  },
  {
   "cell_type": "markdown",
   "id": "41739c8e",
   "metadata": {},
   "source": [
    "As with natural numbers, there are an infinite number of integers, and we can also specify an interval or intervals of integers."
   ]
  },
  {
   "cell_type": "markdown",
   "metadata": {},
   "source": [
    "Consider the case where we have $100$ participants in a study and $34$ of them suffer from hypertension. We might want to express the proportion of participants who have a diagnosis of hypertensions. To do this, we introduce rational numbers."
   ]
  },
  {
   "cell_type": "markdown",
   "id": "9e118e17",
   "metadata": {},
   "source": [
    "__Definition 1.3.2.4__ The <span style=\"color:lightgreen\">__rational numbers__</span>, symbolized by $\\mathbb{Q}$, are defined in __Equation 1.3.2.1__."
   ]
  },
  {
   "cell_type": "markdown",
   "id": "75802cf2",
   "metadata": {},
   "source": [
    "$$\n",
    "\\mathbb{Q} \\text{ is the set of all numbers of the form } \\frac{a}{b} \\text{ where } a,b \\in \\mathbb{Z} \\text{ and } b \\neq 0.\n",
    "\\tag{Equation 1.3.2.1}\n",
    "$$"
   ]
  },
  {
   "cell_type": "markdown",
   "id": "36766f3b",
   "metadata": {},
   "source": [
    "The top number $a$ is the <span style=\"color:lightgreen\">__numerator__</span> and the bottom number, $b$, is the <span style=\"color:lightgreen\">__denominator__</span>. Rational numbers are fractions and are often used when we express ratios, shown in __Equation 1.3.2.2__."
   ]
  },
  {
   "cell_type": "markdown",
   "id": "ce6d1db9",
   "metadata": {},
   "source": [
    "$$\n",
    "\\frac{a}{b} = \\frac{\\text{part}}{\\text{whole}} = \\frac{\\text{numerator}}{\\text{denominator}} = \\text{numerator} \\div \\text{denominator}\n",
    "\\tag{Equation 1.3.2.2}\n",
    "$$"
   ]
  },
  {
   "cell_type": "markdown",
   "metadata": {},
   "source": [
    "In the case of our $100$ participants where $34$ have hypertensions, we could state that the proportion of hypertensive participants is $34 \\div 100  =0.34$. We confirm this calculation using code below."
   ]
  },
  {
   "cell_type": "code",
   "execution_count": 20,
   "metadata": {},
   "outputs": [
    {
     "data": {
      "image/png": "[encoded data removed]",
      "text/latex": [
       "$\\displaystyle 0.34$"
      ],
      "text/plain": [
       "0.34"
      ]
     },
     "execution_count": 20,
     "metadata": {},
     "output_type": "execute_result"
    }
   ],
   "source": [
    "34 / 100"
   ]
  },
  {
   "cell_type": "markdown",
   "id": "502bd6a2",
   "metadata": {},
   "source": [
    "The word fraction is typically reserved for cases in which the numerator is smaller than the denominator. We consider a fraction of the whole. If we have are investigating $100$ people and $53$ of them are ill, we can concern ourlselves with the fraction of the whole (all $100$ people) that are ill. Fractions are very, very usefull. In resaerch, we often use these fractions as proportions."
   ]
  },
  {
   "cell_type": "markdown",
   "id": "8bef0ebf",
   "metadata": {},
   "source": [
    "The `Rational` function in the `sympy` package creates a rational number. The numerator and the denominator of the rational number are passed to the `Rational` function as arguments, separated by a comma."
   ]
  },
  {
   "cell_type": "code",
   "execution_count": 21,
   "id": "c99b2580-3acb-42c0-ae33-d43ea39beb37",
   "metadata": {},
   "outputs": [
    {
     "data": {
      "image/png": "[encoded data removed]",
      "text/latex": [
       "$\\displaystyle \\frac{3}{4}$"
      ],
      "text/plain": [
       "3/4"
      ]
     },
     "execution_count": 21,
     "metadata": {},
     "output_type": "execute_result"
    }
   ],
   "source": [
    "sympy.Rational(3, 4)"
   ]
  },
  {
   "cell_type": "markdown",
   "id": "81b7e59b",
   "metadata": {},
   "source": [
    "An integer can also be expressed as a rational number, shown in __Equation 1.3.2.3__."
   ]
  },
  {
   "cell_type": "markdown",
   "id": "36de9dd9",
   "metadata": {},
   "source": [
    "$$\n",
    "3 = \\frac{3}{1} = \\frac{6}{2} = \\frac{9}{3} = \\ldots\n",
    "\\tag{Equation 1.3.2.3}\n",
    "$$"
   ]
  },
  {
   "cell_type": "markdown",
   "id": "95ecd51e",
   "metadata": {},
   "source": [
    "Rational numbers can be expressed as decimal numbers and the latter can be expressed as a finite decimal number or a repeating decimal number. We see three such rational numbers in __Equation 1.3.2.4__, which is then expressed in code. They are treated as numerical value by Python when we do not use the `Rational` function from `sympy`."
   ]
  },
  {
   "cell_type": "markdown",
   "id": "3df8a711",
   "metadata": {},
   "source": [
    "$$\n",
    "\\begin{align*}\n",
    "& \\frac{3}{4} = 0.75 \\text{ (finite decimal digits)} \\\\ \\\\\n",
    "& \\frac{1}{3} = 0.\\overline{3} \\text{ (repeating pattern of decimal digits)} \\\\ \\\\\n",
    "& \\frac{1}{7} = 0.\\overline{142857} \\text{ (repeating pattern of decimal digits)}\n",
    "\\end{align*}\n",
    "\\tag{Equation 1.3.2.4}\n",
    "$$"
   ]
  },
  {
   "cell_type": "markdown",
   "id": "a0198f68",
   "metadata": {},
   "source": [
    "A bar is drawn over the repeating sequences of numbers. The bar is called a <span style=\"color:lightgreen\">__vinculum__</span>. The vinculum is used to indicate that the sequence of numbers repeats indefinitely. A finite numbert of decimal digits or an infinite number of repeating decimal digits are both hallmarks of rational numbers."
   ]
  },
  {
   "cell_type": "code",
   "execution_count": 22,
   "id": "0b84d949",
   "metadata": {},
   "outputs": [
    {
     "data": {
      "image/png": "[encoded data removed]",
      "text/latex": [
       "$\\displaystyle 0.75$"
      ],
      "text/plain": [
       "0.75"
      ]
     },
     "execution_count": 22,
     "metadata": {},
     "output_type": "execute_result"
    }
   ],
   "source": [
    "# Example of a finite decimal representation of a rational number\n",
    "3/4"
   ]
  },
  {
   "cell_type": "code",
   "execution_count": 23,
   "id": "5f21a274",
   "metadata": {},
   "outputs": [
    {
     "data": {
      "image/png": "[encoded data removed]",
      "text/latex": [
       "$\\displaystyle 0.333333333333333$"
      ],
      "text/plain": [
       "0.3333333333333333"
      ]
     },
     "execution_count": 23,
     "metadata": {},
     "output_type": "execute_result"
    }
   ],
   "source": [
    "# Example of a repeating decimal number\n",
    "1/3"
   ]
  },
  {
   "cell_type": "code",
   "execution_count": 24,
   "id": "6100fb20",
   "metadata": {},
   "outputs": [
    {
     "data": {
      "image/png": "[encoded data removed]",
      "text/latex": [
       "$\\displaystyle 0.142857142857143$"
      ],
      "text/plain": [
       "0.14285714285714285"
      ]
     },
     "execution_count": 24,
     "metadata": {},
     "output_type": "execute_result"
    }
   ],
   "source": [
    "# Example of a longer repeating decimal number (142857 142857)\n",
    "1/7"
   ]
  },
  {
   "cell_type": "markdown",
   "id": "67f2fbf2",
   "metadata": {},
   "source": [
    "In the case of the repeating decimal expansion, the repeating part is truncated in the output. As such, the decimal number is an approximation of the exact rational number as shown in __Equation 1.3.2.5__."
   ]
  },
  {
   "cell_type": "markdown",
   "id": "c11bd11e",
   "metadata": {},
   "source": [
    "$$\n",
    "\\begin{align*}\n",
    "&\\text{Exact value: } \\frac{1}{3} \\\\ \\\\\n",
    "&\\text{Numerical approximation: } 0.\\overline{3}\n",
    "\\end{align*}\n",
    "\\tag{Equation 1.3.2.5}\n",
    "$$"
   ]
  },
  {
   "cell_type": "markdown",
   "id": "beaa0ff6",
   "metadata": {},
   "source": [
    "The set of rational numbers also contain the primes numbers."
   ]
  },
  {
   "cell_type": "markdown",
   "metadata": {},
   "source": [
    "While we typically do not concern ourselves with prime nunmbers in the day-to-day analysis of data, we have to mention the prime numbers."
   ]
  },
  {
   "cell_type": "markdown",
   "id": "996001c3",
   "metadata": {},
   "source": [
    "__Definition 1.3.2.5__ A <span style=\"color:lightgreen\">__prime number__</span> is an integer that is divisible only by itself AND $1$."
   ]
  },
  {
   "cell_type": "markdown",
   "id": "7442144d",
   "metadata": {},
   "source": [
    "__Definition 1.3.2.6__ A number $a$ is <span style=\"color:lightgreen\"><b>divisible</b></span> by a number $b \\ne 0$ if there exists an integer $c$ such that $a = bc$. In other words, there is no remainder after division, shown in __Equation 1.3.2.6__."
   ]
  },
  {
   "cell_type": "markdown",
   "id": "e7608091",
   "metadata": {},
   "source": [
    "$$\n",
    "\\frac{a}{b} = c \\text{ (with no remainder)}\n",
    "\\tag{Equation 1.3.2.6}\n",
    "$$"
   ]
  },
  {
   "cell_type": "markdown",
   "id": "8d8a2b49",
   "metadata": {},
   "source": [
    "By definition, $1$ is not a prime number. The `isprime` function in the `sympy` package returns `True` if the input is a prime number and `False` otherwise."
   ]
  },
  {
   "cell_type": "code",
   "execution_count": 25,
   "id": "f4655590",
   "metadata": {},
   "outputs": [
    {
     "data": {
      "text/plain": [
       "False"
      ]
     },
     "execution_count": 25,
     "metadata": {},
     "output_type": "execute_result"
    }
   ],
   "source": [
    "# Use sympy to detrmine if 1 is a prime number\n",
    "sympy.isprime(1)"
   ]
  },
  {
   "cell_type": "markdown",
   "id": "b625a6e7",
   "metadata": {},
   "source": [
    "In the code cell below, we use list comprehension to print the prime numbers between $1$ and $100$."
   ]
  },
  {
   "cell_type": "code",
   "execution_count": 26,
   "id": "ae9eda67",
   "metadata": {},
   "outputs": [
    {
     "data": {
      "image/png": "[encoded data removed]",
      "text/latex": [
       "$\\displaystyle \\left[ 2, \\  3, \\  5, \\  7, \\  11, \\  13, \\  17, \\  19, \\  23, \\  29, \\  31, \\  37, \\  41, \\  43, \\  47, \\  53, \\  59, \\  61, \\  67, \\  71, \\  73, \\  79, \\  83, \\  89, \\  97\\right]$"
      ],
      "text/plain": [
       "[2, 3, 5, 7, 11, 13, 17, 19, 23, 29, 31, 37, 41, 43, 47, 53, 59, 61, 67, 71, 7\n",
       "3, 79, 83, 89, 97]"
      ]
     },
     "execution_count": 26,
     "metadata": {},
     "output_type": "execute_result"
    }
   ],
   "source": [
    "# Use list comprehension and the isprime function to determine the prime numbers less than 100\n",
    "[p for p in range(100) if sympy.isprime(p)]"
   ]
  },
  {
   "cell_type": "markdown",
   "metadata": {},
   "source": [
    "This brings us to our first exmaple problem."
   ]
  },
  {
   "cell_type": "markdown",
   "metadata": {},
   "source": [
    "__Problem 1.3.2.1__ Determine if $997$ is prime."
   ]
  },
  {
   "cell_type": "markdown",
   "metadata": {},
   "source": [
    "We use the `isprime` function in `sympy` and pass the number $997$ as an argument."
   ]
  },
  {
   "cell_type": "code",
   "execution_count": 27,
   "metadata": {},
   "outputs": [
    {
     "data": {
      "text/plain": [
       "True"
      ]
     },
     "execution_count": 27,
     "metadata": {},
     "output_type": "execute_result"
    }
   ],
   "source": [
    "sympy.isprime(997)"
   ]
  },
  {
   "cell_type": "markdown",
   "metadata": {},
   "source": [
    "We see that $997$ is indeed a prime number."
   ]
  },
  {
   "cell_type": "markdown",
   "id": "f865a9c3",
   "metadata": {},
   "source": [
    "__Homework 1.3.2.1__ Determine if $1001$ is prime."
   ]
  },
  {
   "cell_type": "markdown",
   "id": "aa6cac40",
   "metadata": {},
   "source": [
    "__Defintion 1.3.2.7__ A <span style=\"color:lightgreen\">__composite number__</span> is an integer that is not prime number, and is therefor divisible by at least one other number other than itself or $1$."
   ]
  },
  {
   "cell_type": "markdown",
   "id": "142b2904",
   "metadata": {},
   "source": [
    "The number $16$ is a composite number as it is divisible by $2$ and $8$ and $4$, as well as $1$ and $16$."
   ]
  },
  {
   "cell_type": "code",
   "execution_count": 28,
   "id": "077fd696",
   "metadata": {},
   "outputs": [
    {
     "data": {
      "text/plain": [
       "False"
      ]
     },
     "execution_count": 28,
     "metadata": {},
     "output_type": "execute_result"
    }
   ],
   "source": [
    "# Determine if 16 is a prime number\n",
    "sympy.isprime(16)"
   ]
  },
  {
   "cell_type": "markdown",
   "id": "d4eeee10",
   "metadata": {},
   "source": [
    "The `factorint` function in the `sympy` package returns the prime factors of a number and how many times each prime factor occurs."
   ]
  },
  {
   "cell_type": "code",
   "execution_count": 29,
   "id": "080a7ac1",
   "metadata": {},
   "outputs": [
    {
     "data": {
      "image/png": "[encoded data removed]",
      "text/latex": [
       "$\\displaystyle \\left\\{ 2 : 4\\right\\}$"
      ],
      "text/plain": [
       "{2: 4}"
      ]
     },
     "execution_count": 29,
     "metadata": {},
     "output_type": "execute_result"
    }
   ],
   "source": [
    "# Determine the prime factorization of 16\n",
    "sympy.factorint(16)"
   ]
  },
  {
   "cell_type": "markdown",
   "id": "343b790e",
   "metadata": {},
   "source": [
    "The `factorint` function returns a Python dictionary object (key-value pairs). The keys are the prime factors and the values are the number of times they occur in the prime factorization of the given number. This is termed the __multiplicities__ of a prime factor. For $16$ there is only a single prime. The prime factor is $2$ and there are four $2$’s in the prime facotrization of $16$. We write $16=2^{4}$."
   ]
  },
  {
   "cell_type": "markdown",
   "id": "aa97fd38",
   "metadata": {},
   "source": [
    "__Defintition 1.3.2.8__ The <span style=\"color:lightgreen\">__prime factorization__</span> of a number is the product of its prime factors."
   ]
  },
  {
   "cell_type": "markdown",
   "id": "b97feb9f",
   "metadata": {},
   "source": [
    "__Defintion 1.3.2.9__ The <span style=\"color:lightgreen\">__multiplicity__</span> of a prime factor is the number of times the prime factor occurs in the prime factorization of a number."
   ]
  },
  {
   "cell_type": "markdown",
   "id": "63f10cf4",
   "metadata": {},
   "source": [
    "__Homework 1.3.2.2__ Determine the prime factors of $23452$ and their multiplicities."
   ]
  },
  {
   "cell_type": "markdown",
   "id": "604b57df",
   "metadata": {},
   "source": [
    "__Definition 1.3.2.10__ The set of <span style=\"color:lightgreen\">__irrational numbers__</span> are the set of numbers that canot be expressed as a ratio of two integers."
   ]
  },
  {
   "cell_type": "code",
   "execution_count": 30,
   "id": "c3c8ad2b",
   "metadata": {},
   "outputs": [
    {
     "data": {
      "image/png": "[encoded data removed]",
      "text/latex": [
       "$\\displaystyle \\sqrt{2}$"
      ],
      "text/plain": [
       "√2"
      ]
     },
     "execution_count": 30,
     "metadata": {},
     "output_type": "execute_result"
    }
   ],
   "source": [
    "# Example of an irrational number\n",
    "sympy.sqrt(2)"
   ]
  },
  {
   "cell_type": "markdown",
   "id": "194d0439",
   "metadata": {},
   "source": [
    "The decimal approximation of $\\sqrt{2}$ is calculated below using the `evalf()` method."
   ]
  },
  {
   "cell_type": "code",
   "execution_count": 31,
   "id": "f3371984",
   "metadata": {},
   "outputs": [
    {
     "data": {
      "image/png": "[encoded data removed]",
      "text/latex": [
       "$\\displaystyle 1.4142135623731$"
      ],
      "text/plain": [
       "1.41421356237310"
      ]
     },
     "execution_count": 31,
     "metadata": {},
     "output_type": "execute_result"
    }
   ],
   "source": [
    "# Decimal approximation of square root of 2\n",
    "sympy.sqrt(2).evalf()"
   ]
  },
  {
   "cell_type": "markdown",
   "id": "c230b857",
   "metadata": {},
   "source": [
    "There is no termination to, and no repeating pattern in, the decimal expansion of $\\sqrt{2}$, making it an irrational number. If a decimal expansion of a number does not terminate or repeat, then it is irrational."
   ]
  },
  {
   "cell_type": "markdown",
   "id": "4438e93c",
   "metadata": {},
   "source": [
    "The number $\\pi$ is also an irrational number. The `pi` function from the `sympy` package returns the value of $\\pi$. The `evalf()` method returns the decimal approximation of $\\pi$ to the specified number of digits."
   ]
  },
  {
   "cell_type": "code",
   "execution_count": 32,
   "id": "5de0beef",
   "metadata": {},
   "outputs": [
    {
     "data": {
      "image/png": "[encoded data removed]",
      "text/latex": [
       "$\\displaystyle \\pi$"
      ],
      "text/plain": [
       "π"
      ]
     },
     "execution_count": 32,
     "metadata": {},
     "output_type": "execute_result"
    }
   ],
   "source": [
    "# Print the number pi\n",
    "sympy.pi"
   ]
  },
  {
   "cell_type": "code",
   "execution_count": 33,
   "id": "15880e23",
   "metadata": {},
   "outputs": [
    {
     "data": {
      "image/png": "[encoded data removed]",
      "text/latex": [
       "$\\displaystyle 3.1415926535897932384626433832795028841971693993751$"
      ],
      "text/plain": [
       "3.1415926535897932384626433832795028841971693993751"
      ]
     },
     "execution_count": 33,
     "metadata": {},
     "output_type": "execute_result"
    }
   ],
   "source": [
    "# Print the value of pi with 50 digits\n",
    "sympy.pi.evalf(50)"
   ]
  },
  {
   "cell_type": "markdown",
   "metadata": {},
   "source": [
    "So much of the data that we collected are real numbers, which we define in __Definition 1.3.2.9__."
   ]
  },
  {
   "cell_type": "markdown",
   "id": "005faa5c",
   "metadata": {},
   "source": [
    "__Defintion 1.3.2.11__ The <span style=\"color:lightgreen\">__real numbers__</span>, $\\mathbb{R}$, are the union (combination) of the rational and irrational numbers."
   ]
  },
  {
   "cell_type": "markdown",
   "metadata": {},
   "source": [
    "While we are often constrained by the accuracy of our measuring instruments, we can consider the real numbers to be continuous. So, if we state that a person is $6$ foot and $6$ inches tall, it is only an approximation. The person (well me, since I am $6' \\, 6''$ tall) is not exactly $6$ foot and $6$ inches tall. The person is $6$ foot and $6$ inches tall to the accuracy of our measurement accuracy."
   ]
  },
  {
   "cell_type": "markdown",
   "id": "f5d4ee97",
   "metadata": {},
   "source": [
    "The real numbers can be represented as a point on the number line. There are an infinite number of real numbers. In many cases, most of the statistical analysis that we do in public health and in biomedical research involve real numbers. We generate some pseudo-random numbers below and assign them to the computer variable `x`"
   ]
  },
  {
   "cell_type": "code",
   "execution_count": 34,
   "id": "0d4e967a",
   "metadata": {},
   "outputs": [
    {
     "data": {
      "text/plain": [
       "array([ 1.62434536, -0.61175641, -0.52817175, -1.07296862,  0.86540763,\n",
       "       -2.3015387 ,  1.74481176, -0.7612069 ,  0.3190391 , -0.24937038])"
      ]
     },
     "execution_count": 34,
     "metadata": {},
     "output_type": "execute_result"
    }
   ],
   "source": [
    "# Seed the pseudorandom number generator with the integer 1\n",
    "numpy.random.seed(1)\n",
    "\n",
    "# Create a variable called x that holds an array of 10 real numbers from the standard normal distribution\n",
    "x = numpy.random.randn(10)\n",
    "x"
   ]
  },
  {
   "cell_type": "markdown",
   "id": "dca93f79",
   "metadata": {},
   "source": [
    "__Figure 1.3.2.1__ shows the number line with the real numbers $x$."
   ]
  },
  {
   "cell_type": "code",
   "execution_count": 35,
   "id": "3fc6e532",
   "metadata": {},
   "outputs": [
    {
     "data": {
      "image/png": "[encoded data removed]",
      "text/plain": [
       "<Figure size 1000x200 with 1 Axes>"
      ]
     },
     "metadata": {
      "image/png": {
       "height": 219,
       "width": 860
      }
     },
     "output_type": "display_data"
    }
   ],
   "source": [
    "# Plot the values in the array x as markers on the x-axis\n",
    "pyplot.figure(figsize=(10, 2))\n",
    "pyplot.scatter(\n",
    "    x,\n",
    "    [0,0,0,0,0,0,0,0,0,0],\n",
    "    color='red',\n",
    "    marker='o',\n",
    "    s=100,\n",
    "    alpha=0.5,\n",
    "    label='x'\n",
    ")\n",
    "pyplot.grid()\n",
    "pyplot.xlim(-3, 3)\n",
    "pyplot.hlines(0, -3, 3, color='black')\n",
    "pyplot.gca().spines['top'].set_visible(False)\n",
    "pyplot.gca().spines['right'].set_visible(False)\n",
    "pyplot.gca().spines['bottom'].set_visible(False)\n",
    "pyplot.gca().spines['left'].set_visible(False)\n",
    "pyplot.title('Figure 1.3.2.1');"
   ]
  },
  {
   "cell_type": "markdown",
   "id": "5b207b00-dca4-4352-ae48-db2bee0cfae2",
   "metadata": {
    "tags": []
   },
   "source": [
    "## 1.4 Simple arithmetic"
   ]
  },
  {
   "cell_type": "markdown",
   "id": "e02e1d89-68ee-41de-bb56-78c427c04437",
   "metadata": {
    "jp-MarkdownHeadingCollapsed": true,
    "tags": []
   },
   "source": [
    "### 1.4.1 Rounding"
   ]
  },
  {
   "cell_type": "markdown",
   "metadata": {},
   "source": [
    "We often find that the results of statistical calculations contain values with many decimal places and we need to round these. Look at the _p_ value for the equal variance _t_ test below."
   ]
  },
  {
   "cell_type": "code",
   "execution_count": 36,
   "metadata": {},
   "outputs": [
    {
     "data": {
      "image/png": "[encoded data removed]",
      "text/latex": [
       "$\\displaystyle 0.0285355177361664$"
      ],
      "text/plain": [
       "0.02853551773616643"
      ]
     },
     "execution_count": 36,
     "metadata": {},
     "output_type": "execute_result"
    }
   ],
   "source": [
    "# Seed the numpy pseudorandom number generator with the integer 2\n",
    "numpy.random.seed(2)\n",
    "\n",
    "# Create a variable named groupA that holds an array of 100 real numbers from a normal distribution with a mean of 100 and a standard deviation of 10\n",
    "groupA = numpy.random.normal(100, 10, 100)\n",
    "\n",
    "# Create a variable named groupB that holds an array of 100 real numbers from a normal distribution with a mean of 101 and a standard deviation of 9\n",
    "groupB = numpy.random.normal(101, 9, 100)\n",
    "\n",
    "# Conduct an equal variance t test comparing the values in groupA to those in group Band show the p-value\n",
    "ttest_ind(groupA, groupB, equal_var=True)[1]"
   ]
  },
  {
   "cell_type": "markdown",
   "metadata": {},
   "source": [
    "We would typically round this _p_ value to two decimal places and write $0.03$."
   ]
  },
  {
   "cell_type": "markdown",
   "id": "54bebecb",
   "metadata": {},
   "source": [
    "The `round` function rounds a number to a specified number of decimal places. By default, the number fo decimal places is zero, but the function will add a single decimal place with a value of $0$ to the output."
   ]
  },
  {
   "cell_type": "code",
   "execution_count": 37,
   "id": "ce7fb77b-e6f7-4001-b5e6-9702a8961337",
   "metadata": {},
   "outputs": [
    {
     "data": {
      "image/png": "[encoded data removed]",
      "text/latex": [
       "$\\displaystyle 10$"
      ],
      "text/plain": [
       "10"
      ]
     },
     "execution_count": 37,
     "metadata": {},
     "output_type": "execute_result"
    }
   ],
   "source": [
    "# Round a number to the nearest whole number\n",
    "round(10.4)"
   ]
  },
  {
   "cell_type": "code",
   "execution_count": 38,
   "id": "c924fe22-296f-4b13-9d91-e9c93e37e6d6",
   "metadata": {},
   "outputs": [
    {
     "data": {
      "image/png": "[encoded data removed]",
      "text/latex": [
       "$\\displaystyle 11$"
      ],
      "text/plain": [
       "11"
      ]
     },
     "execution_count": 38,
     "metadata": {},
     "output_type": "execute_result"
    }
   ],
   "source": [
    "# Round a number to the nearest whole number\n",
    "round(10.51)"
   ]
  },
  {
   "cell_type": "markdown",
   "id": "ee68b190",
   "metadata": {},
   "source": [
    "A decimal digit with a value $5$ and up leads to the preceding digit being rounded up and a decimal value with a value of $4$ and down leads to the preceding decimal digit being rounded down."
   ]
  },
  {
   "cell_type": "markdown",
   "metadata": {},
   "source": [
    "Below, we round the _p_ value from our equal variance _t_ test to two decimal places."
   ]
  },
  {
   "cell_type": "code",
   "execution_count": 39,
   "id": "998dab6c",
   "metadata": {},
   "outputs": [
    {
     "data": {
      "image/png": "[encoded data removed]",
      "text/latex": [
       "$\\displaystyle 0.03$"
      ],
      "text/plain": [
       "0.03"
      ]
     },
     "execution_count": 39,
     "metadata": {},
     "output_type": "execute_result"
    }
   ],
   "source": [
    "# Round the number 10.59 to the nearest tenth (a single decimal place)\n",
    "round(0.0285355177361664, 2)"
   ]
  },
  {
   "cell_type": "markdown",
   "id": "77d1336c",
   "metadata": {},
   "source": [
    "__Homework 1.4.1.1__ Round $3.666666666667$ to two decimal places."
   ]
  },
  {
   "cell_type": "markdown",
   "id": "b6eaa0a5",
   "metadata": {},
   "source": [
    "In our solution the value $0.0285355177361664$ was printed to the screen. The decimal digits $0$ and $2$ are in the _first two places_. The next digit is an $8$, which is $5$ or more. As such, we round the $2$ up to a $3$ and the output is $0.03$."
   ]
  },
  {
   "cell_type": "markdown",
   "metadata": {},
   "source": [
    "Rounding to the nearest integer is not always desired. In many statistical tests we calculate the degrees of freedom. Below, we calculate the degrees of freedom for an unequal variance _t_ test. (Ignore the code and consider the results.)"
   ]
  },
  {
   "cell_type": "code",
   "execution_count": 40,
   "metadata": {},
   "outputs": [
    {
     "data": {
      "text/plain": [
       "TtestResult(statistic=0.01605247831794392, pvalue=0.9872145027924664, df=145.58823529411765)"
      ]
     },
     "execution_count": 40,
     "metadata": {},
     "output_type": "execute_result"
    }
   ],
   "source": [
    "# Seed the numpy pseudorandom number generator with the integer 2\n",
    "numpy.random.seed(2)\n",
    "\n",
    "# Create a variable named groupC that holds an array of 100 real numbers from a normal distribution with a mean of 101 and a standard deviation of 20\n",
    "groupC = numpy.random.normal(101, 20, 100)\n",
    "\n",
    "# Conduct an unequal variance t test comparing the values in groupA to those in group C and show the degrees of freedom\n",
    "ttest_ind(groupA, groupC, equal_var=False)"
   ]
  },
  {
   "cell_type": "markdown",
   "metadata": {},
   "source": [
    "We note that the degrees of freedom is $145.58823529411765$. In the case of degrees of freedom, we want to round down."
   ]
  },
  {
   "cell_type": "markdown",
   "id": "ec141f9d",
   "metadata": {},
   "source": [
    "The `math` package has a `floor` function that rounds a number down to the nearest integer. The `ceil` function rounds a number up to the nearest integer."
   ]
  },
  {
   "cell_type": "code",
   "execution_count": 41,
   "id": "7ae43f6a",
   "metadata": {},
   "outputs": [
    {
     "data": {
      "image/png": "[encoded data removed]",
      "text/latex": [
       "$\\displaystyle 145$"
      ],
      "text/plain": [
       "145"
      ]
     },
     "execution_count": 41,
     "metadata": {},
     "output_type": "execute_result"
    }
   ],
   "source": [
    "# Round down the number 145.58823529411765to the nearest whole number\n",
    "math.floor(145.58823529411765)"
   ]
  },
  {
   "cell_type": "markdown",
   "metadata": {},
   "source": [
    "We would state that the _T_ statistic has $145$ degrees of freedom."
   ]
  },
  {
   "cell_type": "markdown",
   "metadata": {},
   "source": [
    "As example, we also show the `ceil` function for the sake of completeness."
   ]
  },
  {
   "cell_type": "code",
   "execution_count": 42,
   "id": "b01fbbb8",
   "metadata": {},
   "outputs": [
    {
     "data": {
      "image/png": "[encoded data removed]",
      "text/latex": [
       "$\\displaystyle 11$"
      ],
      "text/plain": [
       "11"
      ]
     },
     "execution_count": 42,
     "metadata": {},
     "output_type": "execute_result"
    }
   ],
   "source": [
    "# Round up the number 10.1 to the nearest whole number\n",
    "math.ceil(10.1)"
   ]
  },
  {
   "cell_type": "markdown",
   "id": "afc146a1",
   "metadata": {},
   "source": [
    "__Homework 1.4.1.2__ Determine the ceiling an the floor of $\\pi$."
   ]
  },
  {
   "cell_type": "markdown",
   "id": "4b2992ed-e66f-41ce-b8c5-02831e524de0",
   "metadata": {
    "jp-MarkdownHeadingCollapsed": true,
    "tags": []
   },
   "source": [
    "### 1.4.2 Addition"
   ]
  },
  {
   "cell_type": "markdown",
   "metadata": {},
   "source": [
    "Arithmetic is the branch of mathematics that deals with the study of numbers and their operations. The four basic operations are addition, subtraction, multiplication, and division. We will explore each of these operations in turn."
   ]
  },
  {
   "cell_type": "markdown",
   "id": "41d73f76",
   "metadata": {},
   "source": [
    "The `+` symbol placed between two numbers add the numbers in Python. Below we calculate $3+4$."
   ]
  },
  {
   "cell_type": "code",
   "execution_count": 43,
   "id": "2207114a-65cb-4563-92c8-ff3d9158c018",
   "metadata": {},
   "outputs": [
    {
     "data": {
      "image/png": "[encoded data removed]",
      "text/latex": [
       "$\\displaystyle 7$"
      ],
      "text/plain": [
       "7"
      ]
     },
     "execution_count": 43,
     "metadata": {},
     "output_type": "execute_result"
    }
   ],
   "source": [
    "# Adding 3 and 4\n",
    "3 + 4"
   ]
  },
  {
   "cell_type": "markdown",
   "id": "7fe4ecd9",
   "metadata": {},
   "source": [
    "More than two numbers can be added. We calculate $3+4+5$."
   ]
  },
  {
   "cell_type": "code",
   "execution_count": 44,
   "id": "a848bae4-30a0-498b-8435-a691c50f64ab",
   "metadata": {},
   "outputs": [
    {
     "data": {
      "image/png": "[encoded data removed]",
      "text/latex": [
       "$\\displaystyle 12$"
      ],
      "text/plain": [
       "12"
      ]
     },
     "execution_count": 44,
     "metadata": {},
     "output_type": "execute_result"
    }
   ],
   "source": [
    "# Adding 3 and 4 and 5\n",
    "3 + 4 + 5"
   ]
  },
  {
   "cell_type": "markdown",
   "metadata": {},
   "source": [
    "__Problem 1.4.2.1__ Calculate $3+4+5+6+7+8+9+10$."
   ]
  },
  {
   "cell_type": "markdown",
   "metadata": {},
   "source": [
    "We use the `+` symbol to add the numbers."
   ]
  },
  {
   "cell_type": "code",
   "execution_count": 45,
   "metadata": {},
   "outputs": [
    {
     "data": {
      "image/png": "[encoded data removed]",
      "text/latex": [
       "$\\displaystyle 52$"
      ],
      "text/plain": [
       "52"
      ]
     },
     "execution_count": 45,
     "metadata": {},
     "output_type": "execute_result"
    }
   ],
   "source": [
    "3 + 4 + 5 + 6 + 7 + 8 + 9 + 10"
   ]
  },
  {
   "cell_type": "markdown",
   "id": "60d0df52",
   "metadata": {},
   "source": [
    "__Homework 1.4.2.1__ Calculate $1+2+3+4+5+6+7+8+9+10$."
   ]
  },
  {
   "cell_type": "markdown",
   "id": "8389d79a-ec4d-4d2d-979f-614112b54402",
   "metadata": {
    "jp-MarkdownHeadingCollapsed": true,
    "tags": []
   },
   "source": [
    "### 1.4.3 Subtraction"
   ]
  },
  {
   "cell_type": "markdown",
   "id": "1abd1b0c",
   "metadata": {},
   "source": [
    "The `-` symbol placed between two numbers subtracts the second number from the first number in Python. We calculate $3-4$."
   ]
  },
  {
   "cell_type": "code",
   "execution_count": 46,
   "id": "518ce30f-e78a-4a72-8a26-907c85c15524",
   "metadata": {},
   "outputs": [
    {
     "data": {
      "image/png": "[encoded data removed]",
      "text/latex": [
       "$\\displaystyle -1$"
      ],
      "text/plain": [
       "-1"
      ]
     },
     "execution_count": 46,
     "metadata": {},
     "output_type": "execute_result"
    }
   ],
   "source": [
    "# Subtracting 4 from 3\n",
    "3 - 4"
   ]
  },
  {
   "cell_type": "markdown",
   "id": "0b37d8d2",
   "metadata": {},
   "source": [
    "More than one number can be subtracted. We calculate $23-6-10$."
   ]
  },
  {
   "cell_type": "code",
   "execution_count": 47,
   "id": "b34f746f-bcab-4b76-a9d3-9fd57dcf87ac",
   "metadata": {},
   "outputs": [
    {
     "data": {
      "image/png": "[encoded data removed]",
      "text/latex": [
       "$\\displaystyle 7$"
      ],
      "text/plain": [
       "7"
      ]
     },
     "execution_count": 47,
     "metadata": {},
     "output_type": "execute_result"
    }
   ],
   "source": [
    "# Subtracting 6 and 10 from 23\n",
    "23 - 6 - 10"
   ]
  },
  {
   "cell_type": "markdown",
   "metadata": {},
   "source": [
    "__Problem 1.4.3.1__ Calculate $23-6-10-4-5-6-7-8-9-10$."
   ]
  },
  {
   "cell_type": "markdown",
   "metadata": {},
   "source": [
    "We use the `-` symbol to subtract the numbers."
   ]
  },
  {
   "cell_type": "code",
   "execution_count": 48,
   "metadata": {},
   "outputs": [
    {
     "data": {
      "image/png": "[encoded data removed]",
      "text/latex": [
       "$\\displaystyle -42$"
      ],
      "text/plain": [
       "-42"
      ]
     },
     "execution_count": 48,
     "metadata": {},
     "output_type": "execute_result"
    }
   ],
   "source": [
    "23 - 6 - 10 - 4 - 5 - 6 - 7 - 8 - 9 - 10"
   ]
  },
  {
   "cell_type": "markdown",
   "id": "5af0b1c9",
   "metadata": {},
   "source": [
    "__Homework 1.4.3.1__ Calculate $100-1-2-3-4-5-6-7-8-9-10$."
   ]
  },
  {
   "cell_type": "markdown",
   "id": "874c838b-47a6-44cf-855b-ae1229aec0e5",
   "metadata": {
    "jp-MarkdownHeadingCollapsed": true,
    "tags": []
   },
   "source": [
    "### 1.4.4 Multiplication"
   ]
  },
  {
   "cell_type": "markdown",
   "id": "72101ef7",
   "metadata": {},
   "source": [
    "The `*` symbol between two numbers multiplies the numbers in Python. We calculate $3 \\times 4$."
   ]
  },
  {
   "cell_type": "code",
   "execution_count": 49,
   "id": "f1bbbf86-07f0-45a5-845c-cfffd0bb0187",
   "metadata": {},
   "outputs": [
    {
     "data": {
      "image/png": "[encoded data removed]",
      "text/latex": [
       "$\\displaystyle 12$"
      ],
      "text/plain": [
       "12"
      ]
     },
     "execution_count": 49,
     "metadata": {},
     "output_type": "execute_result"
    }
   ],
   "source": [
    "# Mutiplying 3 and 4\n",
    "3 * 4"
   ]
  },
  {
   "cell_type": "markdown",
   "id": "9757f634",
   "metadata": {},
   "source": [
    "More than two numbers can be multiplied. We calculate $3 \\times 4 \\times 2$."
   ]
  },
  {
   "cell_type": "code",
   "execution_count": 50,
   "id": "ad66ba09-5ae7-4ebc-aff2-e94f347cc0ea",
   "metadata": {},
   "outputs": [
    {
     "data": {
      "image/png": "[encoded data removed]",
      "text/latex": [
       "$\\displaystyle 24$"
      ],
      "text/plain": [
       "24"
      ]
     },
     "execution_count": 50,
     "metadata": {},
     "output_type": "execute_result"
    }
   ],
   "source": [
    "# Multiplying 3 and 4 and 2\n",
    "3 * 4 * 2"
   ]
  },
  {
   "cell_type": "markdown",
   "metadata": {},
   "source": [
    "__Problem 1.4.4.1__ Calculate $3 \\times 4 \\times 2 \\times 5 \\times 6 \\times 7 \\times 8 \\times 9 \\times 10$."
   ]
  },
  {
   "cell_type": "markdown",
   "metadata": {},
   "source": [
    "We use the `*` symbol to multiply the numbers."
   ]
  },
  {
   "cell_type": "code",
   "execution_count": 51,
   "metadata": {},
   "outputs": [
    {
     "data": {
      "image/png": "[encoded data removed]",
      "text/latex": [
       "$\\displaystyle 3628800$"
      ],
      "text/plain": [
       "3628800"
      ]
     },
     "execution_count": 51,
     "metadata": {},
     "output_type": "execute_result"
    }
   ],
   "source": [
    "3 * 4 * 2 * 5 * 6 * 7 * 8 * 9 * 10"
   ]
  },
  {
   "cell_type": "markdown",
   "id": "239755ea",
   "metadata": {},
   "source": [
    "__Homework 1.4.4.1__ Calculate $1 \\times 2 \\times 3 \\times 4 \\times 5 \\times 6 \\times 7 \\times 8 \\times 9 \\times 10$."
   ]
  },
  {
   "cell_type": "markdown",
   "id": "956de93a-2bb8-4343-ae08-988f64bbf1a8",
   "metadata": {
    "jp-MarkdownHeadingCollapsed": true,
    "tags": []
   },
   "source": [
    "### 1.4.5 Division"
   ]
  },
  {
   "cell_type": "markdown",
   "id": "4df6473c",
   "metadata": {},
   "source": [
    "The forward slash `/` symbol between two numbers divides the first number by the second number in Python. We calculate $10$ divided by $2$."
   ]
  },
  {
   "cell_type": "code",
   "execution_count": 52,
   "id": "fe46066e-ce4c-452b-963c-9ce0d45f065a",
   "metadata": {},
   "outputs": [
    {
     "data": {
      "image/png": "[encoded data removed]",
      "text/latex": [
       "$\\displaystyle 5.0$"
      ],
      "text/plain": [
       "5.0"
      ]
     },
     "execution_count": 52,
     "metadata": {},
     "output_type": "execute_result"
    }
   ],
   "source": [
    "# Dividing 10 by 2\n",
    "10 / 2"
   ]
  },
  {
   "cell_type": "markdown",
   "id": "23952c3d",
   "metadata": {},
   "source": [
    "Note that we can write division using the $\\div$ symbols as $10 \\div 2$. We can also use the notation in __Equation 1.4.5.1__."
   ]
  },
  {
   "cell_type": "markdown",
   "id": "2385ce91",
   "metadata": {},
   "source": [
    "$$\n",
    "\\frac{10}{2}\n",
    "\\tag{Equation 1.4.5.1}\n",
    "$$"
   ]
  },
  {
   "cell_type": "markdown",
   "id": "4c5ac2ce",
   "metadata": {},
   "source": [
    "In the notation used in __Equation 1.4.5.1__, the number above the line is called the <span style=\"color:lightgreen\">__numerator__</span> and the number below the line is called the <span style=\"color:lightgreen\">__denominator__</span>."
   ]
  },
  {
   "cell_type": "markdown",
   "metadata": {},
   "source": [
    "__Problem 1.4.5.1__ Calculate $10$ divided by $2$ divided by $5$."
   ]
  },
  {
   "cell_type": "markdown",
   "metadata": {},
   "source": [
    "We use the `/` symbol to divide the numbers."
   ]
  },
  {
   "cell_type": "code",
   "execution_count": 53,
   "metadata": {},
   "outputs": [
    {
     "data": {
      "image/png": "[encoded data removed]",
      "text/latex": [
       "$\\displaystyle 1.0$"
      ],
      "text/plain": [
       "1.0"
      ]
     },
     "execution_count": 53,
     "metadata": {},
     "output_type": "execute_result"
    }
   ],
   "source": [
    "10 / 2 / 5"
   ]
  },
  {
   "cell_type": "markdown",
   "id": "d6b0db8e",
   "metadata": {},
   "source": [
    "__Homework 1.4.5.1__ Calculate $100$ divided by $2$ divided by $5$."
   ]
  },
  {
   "cell_type": "markdown",
   "id": "df6477c2-e535-48af-b21b-2579abb04d05",
   "metadata": {
    "jp-MarkdownHeadingCollapsed": true,
    "tags": []
   },
   "source": [
    "### 1.4.6 Powers"
   ]
  },
  {
   "cell_type": "markdown",
   "id": "47282ba3",
   "metadata": {},
   "source": [
    "We use short-hand notation when we want to multiply a number by itself a number of times. Instead of writing $2 \\times 2 \\times 2$, which is $2$ multiplied by itself $3$ times, we write $2^{3}$, placing the $3$ as a superscript after the $2$. This short-hand notation shows $2$ raised to the power $3$, which simply means $2$ multiplied by itself $3$ times."
   ]
  },
  {
   "cell_type": "markdown",
   "id": "6d1e5251",
   "metadata": {},
   "source": [
    "Th double star symbol `**` between two numbers raises the first number to the power of the second number in Python. We calculate $2$ raised to the power of $3$ or $2 \\times 2 \\times 2$."
   ]
  },
  {
   "cell_type": "code",
   "execution_count": 54,
   "id": "dd5f1145-c508-4fe0-9b37-2917c6efffab",
   "metadata": {},
   "outputs": [
    {
     "data": {
      "image/png": "[encoded data removed]",
      "text/latex": [
       "$\\displaystyle 8$"
      ],
      "text/plain": [
       "8"
      ]
     },
     "execution_count": 54,
     "metadata": {},
     "output_type": "execute_result"
    }
   ],
   "source": [
    "# 2 to the power of 3\n",
    "2 ** 3"
   ]
  },
  {
   "cell_type": "markdown",
   "metadata": {},
   "source": [
    "__Problem 1.4.6.1__ Calculate $2$ raised to the power of $4$."
   ]
  },
  {
   "cell_type": "markdown",
   "metadata": {},
   "source": [
    "__Equation 1.4.6.1__ shows the general form of the power in this problem."
   ]
  },
  {
   "cell_type": "markdown",
   "metadata": {},
   "source": [
    "$$\n",
    "2^{4} = 2 \\times 2 \\times 2 \\times 2 = 16\n",
    "\\tag{Equation 1.4.6.1}\n",
    "$$"
   ]
  },
  {
   "cell_type": "markdown",
   "id": "a89e2fea",
   "metadata": {},
   "source": [
    "__Homework 1.4.6.1__ Calculate $2$ raised to the power of $5$."
   ]
  },
  {
   "cell_type": "markdown",
   "metadata": {},
   "source": [
    "__Problem 1.4.6.2__ Calculate $3$ raised to the power of $2$ raised to the power of $3$."
   ]
  },
  {
   "cell_type": "markdown",
   "metadata": {},
   "source": [
    "__Equation 1.4.6.2__ shows the mathematical notations for this problem."
   ]
  },
  {
   "cell_type": "markdown",
   "metadata": {},
   "source": [
    "$$\n",
    "3^{2^{3}} = 3^{2 \\times 2 \\times 2} = 3^{\\left( 2^{3} \\right)} = 3^{8} = 6561\n",
    "\\tag{Equation 1.4.6.2}\n",
    "$$"
   ]
  },
  {
   "cell_type": "markdown",
   "metadata": {},
   "source": [
    "We use the `**` symbol to raise the first number to the power of the second number."
   ]
  },
  {
   "cell_type": "code",
   "execution_count": 55,
   "metadata": {},
   "outputs": [
    {
     "data": {
      "image/png": "[encoded data removed]",
      "text/latex": [
       "$\\displaystyle 6561$"
      ],
      "text/plain": [
       "6561"
      ]
     },
     "execution_count": 55,
     "metadata": {},
     "output_type": "execute_result"
    }
   ],
   "source": [
    "3**2**3"
   ]
  },
  {
   "cell_type": "markdown",
   "id": "e35b6704-9849-42f3-a8d4-b579cbd06895",
   "metadata": {
    "jp-MarkdownHeadingCollapsed": true,
    "tags": []
   },
   "source": [
    "### 1.4.7 Square root"
   ]
  },
  {
   "cell_type": "markdown",
   "id": "d07ca4eb",
   "metadata": {},
   "source": [
    "Consider the number resulting form $3 \\times 3$. The result is $9$. We state that the square roots of $9$ is $3$."
   ]
  },
  {
   "cell_type": "markdown",
   "id": "619c3b08",
   "metadata": {},
   "source": [
    "__Definition 1.4.7.1__ The <span style=\"color:lightgreen\">__square root__</span> of a number $a$ is the number $b$ such that $b \\times b = a$. We write $b = \\sqrt{a}$."
   ]
  },
  {
   "cell_type": "markdown",
   "id": "bf9ad35a",
   "metadata": {},
   "source": [
    "We can also write $\\sqrt{a}$ as $a^{\\frac{1}{2}}$."
   ]
  },
  {
   "cell_type": "markdown",
   "id": "8c0f33f1",
   "metadata": {},
   "source": [
    "Below, we calculate the square root of $9$ using the calculation in __Equation 1.4.7.1__."
   ]
  },
  {
   "cell_type": "markdown",
   "id": "3586c786",
   "metadata": {},
   "source": [
    "$$\n",
    "\\sqrt{9} = 9^{\\frac{1}{2}}\n",
    "\\tag{Equation 1.4.7.1}\n",
    "$$"
   ]
  },
  {
   "cell_type": "code",
   "execution_count": 56,
   "id": "895c08c0-194e-4059-86fe-da681791b63e",
   "metadata": {},
   "outputs": [
    {
     "data": {
      "image/png": "[encoded data removed]",
      "text/latex": [
       "$\\displaystyle 3.0$"
      ],
      "text/plain": [
       "3.0"
      ]
     },
     "execution_count": 56,
     "metadata": {},
     "output_type": "execute_result"
    }
   ],
   "source": [
    "# Positive square root of 9\n",
    "9 ** (1/2)"
   ]
  },
  {
   "cell_type": "markdown",
   "id": "87f4ea5c",
   "metadata": {},
   "source": [
    "We can also use the `sqrt` function in the `math` package to calculate the square root of $9$."
   ]
  },
  {
   "cell_type": "code",
   "execution_count": 57,
   "id": "f0b747b8-0d7e-4027-bd68-99658cdbe9e5",
   "metadata": {},
   "outputs": [
    {
     "data": {
      "image/png": "[encoded data removed]",
      "text/latex": [
       "$\\displaystyle 3.0$"
      ],
      "text/plain": [
       "3.0"
      ]
     },
     "execution_count": 57,
     "metadata": {},
     "output_type": "execute_result"
    }
   ],
   "source": [
    "# Positive square root of 9 using the sqrt function from numpy\n",
    "math.sqrt(9)"
   ]
  },
  {
   "cell_type": "markdown",
   "id": "9bfbfb2f",
   "metadata": {},
   "source": [
    "Only the positive square root value is returned. We do remember that $\\left(-3\\right)^{2}$ is also equal to $9$."
   ]
  },
  {
   "cell_type": "code",
   "execution_count": 58,
   "id": "ec3449fd",
   "metadata": {},
   "outputs": [
    {
     "data": {
      "image/png": "[encoded data removed]",
      "text/latex": [
       "$\\displaystyle 9$"
      ],
      "text/plain": [
       "9"
      ]
     },
     "execution_count": 58,
     "metadata": {},
     "output_type": "execute_result"
    }
   ],
   "source": [
    "# Show that -3 squared is 9\n",
    "(-3) ** 2"
   ]
  },
  {
   "cell_type": "markdown",
   "metadata": {},
   "source": [
    "The `sympy` package has a `sqrt` function that calculates the square root of a number analytically. We calculate the square root of $10$ using the `sqrt` function."
   ]
  },
  {
   "cell_type": "code",
   "execution_count": 59,
   "id": "9325c6ad",
   "metadata": {},
   "outputs": [
    {
     "data": {
      "image/png": "[encoded data removed]",
      "text/latex": [
       "$\\displaystyle \\sqrt{10}$"
      ],
      "text/plain": [
       "√10"
      ]
     },
     "execution_count": 59,
     "metadata": {},
     "output_type": "execute_result"
    }
   ],
   "source": [
    "# Symbolic computation of the square root of 10\n",
    "sympy.sqrt(10)"
   ]
  },
  {
   "cell_type": "markdown",
   "metadata": {},
   "source": [
    "Note that the exact solution $\\sqrt{10}$ is returned. We can also use the `evalf` method to return the decimal approximation of the square root of $10$ in `sympy`."
   ]
  },
  {
   "cell_type": "code",
   "execution_count": 60,
   "metadata": {},
   "outputs": [
    {
     "data": {
      "image/png": "[encoded data removed]",
      "text/latex": [
       "$\\displaystyle 3.16227766016838$"
      ],
      "text/plain": [
       "3.16227766016838"
      ]
     },
     "execution_count": 60,
     "metadata": {},
     "output_type": "execute_result"
    }
   ],
   "source": [
    "# Symbolic computation of the square root of 10 using numerical approximation\n",
    "sympy.sqrt(10).evalf()"
   ]
  },
  {
   "cell_type": "markdown",
   "metadata": {},
   "source": [
    "__Problem 1.4.7.1__ Calculate the square root of $81$."
   ]
  },
  {
   "cell_type": "markdown",
   "metadata": {},
   "source": [
    "We use the `sqrt` funtion in the `sympy` package to calculate the square root of $81$."
   ]
  },
  {
   "cell_type": "code",
   "execution_count": 61,
   "metadata": {},
   "outputs": [
    {
     "data": {
      "image/png": "[encoded data removed]",
      "text/latex": [
       "$\\displaystyle 9$"
      ],
      "text/plain": [
       "9"
      ]
     },
     "execution_count": 61,
     "metadata": {},
     "output_type": "execute_result"
    }
   ],
   "source": [
    "sympy.sqrt(81)"
   ]
  },
  {
   "cell_type": "markdown",
   "id": "644c225b",
   "metadata": {},
   "source": [
    "__Homework 1.4.7.1__ Calculate the square root of $100$."
   ]
  },
  {
   "cell_type": "markdown",
   "id": "9707b45a",
   "metadata": {},
   "source": [
    "The `sympy` package can manage the square root of negative numbers. We calculate the square root of $-9$."
   ]
  },
  {
   "cell_type": "code",
   "execution_count": 62,
   "id": "94cd78e7",
   "metadata": {},
   "outputs": [
    {
     "data": {
      "image/png": "[encoded data removed]",
      "text/latex": [
       "$\\displaystyle 3 i$"
      ],
      "text/plain": [
       "3⋅ⅈ"
      ]
     },
     "execution_count": 62,
     "metadata": {},
     "output_type": "execute_result"
    }
   ],
   "source": [
    "sympy.sqrt(-9)"
   ]
  },
  {
   "cell_type": "markdown",
   "metadata": {},
   "source": [
    "We see a complex number returned. The `sympy` package uses the symbol $i$ to denote the imaginary part of a complex number."
   ]
  },
  {
   "cell_type": "markdown",
   "id": "cacb46ec",
   "metadata": {},
   "source": [
    "### 1.4.8 Higher roots"
   ]
  },
  {
   "cell_type": "markdown",
   "id": "1a5ccead",
   "metadata": {},
   "source": [
    "We can also calculate higher roots. Below we calculate the cube root of $27$, using the calculation in __Equation 1.4.8.1__."
   ]
  },
  {
   "cell_type": "markdown",
   "id": "3d6cdc5b",
   "metadata": {},
   "source": [
    "$$\n",
    "\\sqrt[3]{27} = 27^{\\frac{1}{3}}\n",
    "\\tag{Equation 1.4.8.1}\n",
    "$$"
   ]
  },
  {
   "cell_type": "code",
   "execution_count": 63,
   "id": "4d599310",
   "metadata": {},
   "outputs": [
    {
     "data": {
      "image/png": "[encoded data removed]",
      "text/latex": [
       "$\\displaystyle 3.0$"
      ],
      "text/plain": [
       "3.0"
      ]
     },
     "execution_count": 63,
     "metadata": {},
     "output_type": "execute_result"
    }
   ],
   "source": [
    "# Cube root of 27\n",
    "27 ** (1/3)"
   ]
  },
  {
   "cell_type": "markdown",
   "id": "da871569",
   "metadata": {},
   "source": [
    "Next we calculate the root in __Equation 1.4.8.2__."
   ]
  },
  {
   "cell_type": "markdown",
   "id": "02b537aa",
   "metadata": {},
   "source": [
    "$$\n",
    "\\sqrt[4]{16} = 16^{\\frac{1}{4}}\n",
    "\\tag{Equation 1.4.8.2}\n",
    "$$"
   ]
  },
  {
   "cell_type": "code",
   "execution_count": 64,
   "id": "8d0d56b3",
   "metadata": {},
   "outputs": [
    {
     "data": {
      "image/png": "[encoded data removed]",
      "text/latex": [
       "$\\displaystyle 2.0$"
      ],
      "text/plain": [
       "2.0"
      ]
     },
     "execution_count": 64,
     "metadata": {},
     "output_type": "execute_result"
    }
   ],
   "source": [
    "# Fourth root of 16\n",
    "16 ** (1/4)"
   ]
  },
  {
   "cell_type": "markdown",
   "id": "1e8cc6cb",
   "metadata": {},
   "source": [
    "Obviously $-2$ is also a solution to $\\sqrt[4]{16}$ since $(-2) \\times (-2) \\times(-2) \\times(-2) =16$. We confirm this result using code below."
   ]
  },
  {
   "cell_type": "code",
   "execution_count": 65,
   "id": "6f2ce83f",
   "metadata": {},
   "outputs": [
    {
     "data": {
      "image/png": "[encoded data removed]",
      "text/latex": [
       "$\\displaystyle 16$"
      ],
      "text/plain": [
       "16"
      ]
     },
     "execution_count": 65,
     "metadata": {},
     "output_type": "execute_result"
    }
   ],
   "source": [
    "# Show that (-2) to the power of 4 is 16\n",
    "(-2) ** 4"
   ]
  },
  {
   "cell_type": "markdown",
   "metadata": {},
   "source": [
    "__Problem 1.4.8.1__ Calculate the cube root of $64$."
   ]
  },
  {
   "cell_type": "markdown",
   "metadata": {},
   "source": [
    "We use power notation, `**`, in Python to calculate the cube root of $64$."
   ]
  },
  {
   "cell_type": "code",
   "execution_count": 66,
   "metadata": {},
   "outputs": [
    {
     "data": {
      "image/png": "[encoded data removed]",
      "text/latex": [
       "$\\displaystyle 4.0$"
      ],
      "text/plain": [
       "3.9999999999999996"
      ]
     },
     "execution_count": 66,
     "metadata": {},
     "output_type": "execute_result"
    }
   ],
   "source": [
    "64**(1/3)"
   ]
  },
  {
   "cell_type": "markdown",
   "id": "3dd2355e",
   "metadata": {},
   "source": [
    "The `sympy` package contains the `root` function that calculates the $n$-th root of a number. We calculate the cube root of $64$ using the `root` function."
   ]
  },
  {
   "cell_type": "code",
   "execution_count": 67,
   "id": "1651af1c",
   "metadata": {},
   "outputs": [
    {
     "data": {
      "image/png": "[encoded data removed]",
      "text/latex": [
       "$\\displaystyle 4$"
      ],
      "text/plain": [
       "4"
      ]
     },
     "execution_count": 67,
     "metadata": {},
     "output_type": "execute_result"
    }
   ],
   "source": [
    "# Calculate the cube root of 64 using sympy\n",
    "sympy.root(64, 3)"
   ]
  },
  {
   "cell_type": "markdown",
   "id": "df4aa610",
   "metadata": {},
   "source": [
    "__Homework 1.4.8.1__ Calculate the cubic root of $1000$. Use pure Python (the exponentiation operator `**`), the `math` package, and the `sympy` package. Try to explain the difference in the results."
   ]
  },
  {
   "cell_type": "markdown",
   "id": "75fad03f",
   "metadata": {},
   "source": [
    "### 1.4.9 Absolute values"
   ]
  },
  {
   "cell_type": "markdown",
   "id": "20512157",
   "metadata": {},
   "source": [
    "The absolute value of a number is the distance of the number from zero on the number line. The absolute value of a number is always positive. It is written as $\\lvert a \\rvert$."
   ]
  },
  {
   "cell_type": "markdown",
   "id": "3dc195d1",
   "metadata": {},
   "source": [
    "The `abs()` function from the `numpy` package returns the absolute value of a number. We calculate $\\lvert -3 \\rvert$ below."
   ]
  },
  {
   "cell_type": "code",
   "execution_count": 68,
   "id": "e010e622",
   "metadata": {},
   "outputs": [
    {
     "data": {
      "image/png": "[encoded data removed]",
      "text/latex": [
       "$\\displaystyle 3$"
      ],
      "text/plain": [
       "3"
      ]
     },
     "execution_count": 68,
     "metadata": {},
     "output_type": "execute_result"
    }
   ],
   "source": [
    "# Asbolute value of -3\n",
    "abs(-3)"
   ]
  },
  {
   "cell_type": "markdown",
   "id": "6d0ce451",
   "metadata": {},
   "source": [
    "__Defintion 1.4.9.1__ The <span style=\"color:lightgreen\">__absolute value__</span> of a number $a$ is defined in __Equation 1.4.9.1__."
   ]
  },
  {
   "cell_type": "markdown",
   "id": "4f71e796",
   "metadata": {},
   "source": [
    "$$\n",
    "\\lvert a \\rvert = \\begin{cases} a & \\text{if } a \\ge 0 \\\\ -a & \\text{if } a < 0 \\end{cases}\n",
    "\\tag{Equation 1.4.9.1}\n",
    "$$"
   ]
  },
  {
   "cell_type": "markdown",
   "id": "6bbd7303",
   "metadata": {},
   "source": [
    "Form the defintion we have see why $\\lvert -3 \\rvert = - (-3) = 3$."
   ]
  },
  {
   "cell_type": "markdown",
   "id": "1968ce6e-4f32-4e3a-a07e-f7cde055ff8d",
   "metadata": {
    "tags": []
   },
   "source": [
    "### 1.4.10 Logarithm"
   ]
  },
  {
   "cell_type": "markdown",
   "metadata": {},
   "source": [
    "Logarithms are very frequenctly used in health data science. In __Figure 1.4.10.1__ we show a histogram of the age of participants in a study. (Ignore the code and consider the results.) We see that the distribution of age is skewed to the right. We can transform the data using a logarithm to make the distribution more symmetric, shown in __Figure 1.4.10.2__."
   ]
  },
  {
   "cell_type": "code",
   "execution_count": 69,
   "metadata": {},
   "outputs": [
    {
     "data": {
      "image/png": "[encoded data removed]",
      "text/plain": [
       "<Figure size 1000x200 with 1 Axes>"
      ]
     },
     "metadata": {
      "image/png": {
       "height": 219,
       "width": 837
      }
     },
     "output_type": "display_data"
    }
   ],
   "source": [
    "# Create an array of 100 values for a variable named \"age\" that is right-skewed\n",
    "age = numpy.random.gamma(2, 2, 100)\n",
    "\n",
    "# Create a histogram of the values in the array Age\n",
    "pyplot.figure(figsize=(10, 2))\n",
    "pyplot.hist(\n",
    "    age,\n",
    "    color='red',\n",
    "    alpha=0.5,\n",
    "    bins=20\n",
    ")\n",
    "pyplot.grid()\n",
    "pyplot.xlim(0, 20)\n",
    "pyplot.gca().spines['top'].set_visible(False)\n",
    "pyplot.gca().spines['right'].set_visible(False)\n",
    "pyplot.gca().spines['bottom'].set_visible(False)\n",
    "pyplot.gca().spines['left'].set_visible(False)\n",
    "pyplot.title('Figure 1.4.10.1');"
   ]
  },
  {
   "cell_type": "code",
   "execution_count": 70,
   "metadata": {},
   "outputs": [
    {
     "data": {
      "image/png": "[encoded data removed]",
      "text/plain": [
       "<Figure size 1000x200 with 1 Axes>"
      ]
     },
     "metadata": {
      "image/png": {
       "height": 219,
       "width": 833
      }
     },
     "output_type": "display_data"
    }
   ],
   "source": [
    "# Recreate the histogram but use a logarithm transformation of the values in the array age\n",
    "pyplot.figure(figsize=(10, 2))\n",
    "pyplot.hist(\n",
    "    numpy.log(age),\n",
    "    color='red',\n",
    "    alpha=0.5,\n",
    "    bins=20\n",
    ")\n",
    "pyplot.grid()\n",
    "pyplot.xlim(0, 3)\n",
    "pyplot.gca().spines['top'].set_visible(False)\n",
    "pyplot.gca().spines['right'].set_visible(False)\n",
    "pyplot.gca().spines['bottom'].set_visible(False)\n",
    "pyplot.gca().spines['left'].set_visible(False)\n",
    "pyplot.title('Figure 1.4.10.2');"
   ]
  },
  {
   "cell_type": "markdown",
   "id": "86daf3d0-d83a-4a50-839f-b4944ddbf44f",
   "metadata": {},
   "source": [
    "The logarithm of a number is defined by a base. As an example, we consider a base $10$. We can raise $10$ to any power. As an example we have that $10^{2}=100$. For the number $100$ and the base $10$, we would state that the logarithm base $10$ of $100$ is $2$, since it is $10$ raised to the power $2$ that is $100$. For the values $a,b,c$, we state the logarithm in __Equation 1.4.10.1__."
   ]
  },
  {
   "cell_type": "markdown",
   "id": "44f528fa-bda9-4780-8c13-99e7b6296ef1",
   "metadata": {},
   "source": [
    "$$\n",
    "\\text{If } a^{b}=c, \\text{ then } \\log_{a}{c}=b, \\, \\text{ for all } a>0\n",
    "\\tag{Equation 1.4.10.1}\n",
    "$$"
   ]
  },
  {
   "cell_type": "markdown",
   "id": "de84933f",
   "metadata": {},
   "source": [
    "From the defintion we note that $c>0$, since a positive value raised to any real-valued power is positive."
   ]
  },
  {
   "cell_type": "markdown",
   "id": "e75dacdb",
   "metadata": {},
   "source": [
    "The `log()` function from the `numpy` package calculates the logarithm of a number. The default base is $e$, Euler's number."
   ]
  },
  {
   "cell_type": "code",
   "execution_count": 71,
   "id": "5886b3c3-0008-4f4f-8c79-27ae6022245a",
   "metadata": {},
   "outputs": [
    {
     "data": {
      "image/png": "[encoded data removed]",
      "text/latex": [
       "$\\displaystyle 6.90775527898214$"
      ],
      "text/plain": [
       "6.907755278982137"
      ]
     },
     "execution_count": 71,
     "metadata": {},
     "output_type": "execute_result"
    }
   ],
   "source": [
    "# Natural log of 1000\n",
    "numpy.log(1000)"
   ]
  },
  {
   "cell_type": "markdown",
   "id": "0234e0ea",
   "metadata": {},
   "source": [
    "The `sympy` package can also calculate logarithms. The `log()` function from the `sympy` package calculates the logarithm of a number. The default base is $e$. Note that `sympy` returns an exact value."
   ]
  },
  {
   "cell_type": "code",
   "execution_count": 72,
   "id": "2879237a",
   "metadata": {},
   "outputs": [
    {
     "data": {
      "image/png": "[encoded data removed]",
      "text/latex": [
       "$\\displaystyle \\log{\\left(1000 \\right)}$"
      ],
      "text/plain": [
       "log(1000)"
      ]
     },
     "execution_count": 72,
     "metadata": {},
     "output_type": "execute_result"
    }
   ],
   "source": [
    "sympy.log(1000)"
   ]
  },
  {
   "cell_type": "markdown",
   "id": "3c237185",
   "metadata": {},
   "source": [
    "To return a number approximation in `sympy`, we use the `evalf` method."
   ]
  },
  {
   "cell_type": "code",
   "execution_count": 73,
   "id": "77dbec94",
   "metadata": {},
   "outputs": [
    {
     "data": {
      "image/png": "[encoded data removed]",
      "text/latex": [
       "$\\displaystyle 6.90775527898214$"
      ],
      "text/plain": [
       "6.90775527898214"
      ]
     },
     "execution_count": 73,
     "metadata": {},
     "output_type": "execute_result"
    }
   ],
   "source": [
    "sympy.log(1000).evalf()"
   ]
  },
  {
   "cell_type": "markdown",
   "id": "6dae8ba9-6f0a-49ef-9474-477b6f0bb5c0",
   "metadata": {},
   "source": [
    "Euler's number, $e$, is approximated below using the `numpy` function `exp`. We pass the argument value $1$, since any number raised to the power $1$ is itself and so $e^{1}=e$."
   ]
  },
  {
   "cell_type": "code",
   "execution_count": 74,
   "id": "e28672f6-36e4-4dab-9a39-56efedf45fb3",
   "metadata": {},
   "outputs": [
    {
     "data": {
      "image/png": "[encoded data removed]",
      "text/latex": [
       "$\\displaystyle 2.71828182845905$"
      ],
      "text/plain": [
       "2.718281828459045"
      ]
     },
     "execution_count": 74,
     "metadata": {},
     "output_type": "execute_result"
    }
   ],
   "source": [
    "# Express Euler's number e as a decimal number\n",
    "numpy.exp(1)"
   ]
  },
  {
   "cell_type": "markdown",
   "id": "6b801ebe",
   "metadata": {},
   "source": [
    "Once again, `sympy` returns an exact value."
   ]
  },
  {
   "cell_type": "code",
   "execution_count": 75,
   "id": "81c9b195",
   "metadata": {},
   "outputs": [
    {
     "data": {
      "image/png": "[encoded data removed]",
      "text/latex": [
       "$\\displaystyle e$"
      ],
      "text/plain": [
       "ℯ"
      ]
     },
     "execution_count": 75,
     "metadata": {},
     "output_type": "execute_result"
    }
   ],
   "source": [
    "sympy.exp(1)"
   ]
  },
  {
   "cell_type": "markdown",
   "metadata": {},
   "source": [
    "__Problem 1.4.10.1__ Calculate the logarithm base $e$ of $43545$."
   ]
  },
  {
   "cell_type": "markdown",
   "metadata": {},
   "source": [
    "The `log` function from the `numpy` package is used to calculate this natural logarithm."
   ]
  },
  {
   "cell_type": "code",
   "execution_count": 76,
   "metadata": {},
   "outputs": [
    {
     "data": {
      "image/png": "[encoded data removed]",
      "text/latex": [
       "$\\displaystyle 10.6815501651268$"
      ],
      "text/plain": [
       "10.68155016512684"
      ]
     },
     "execution_count": 76,
     "metadata": {},
     "output_type": "execute_result"
    }
   ],
   "source": [
    "numpy.log(43545)"
   ]
  },
  {
   "cell_type": "markdown",
   "id": "938b2f5a",
   "metadata": {},
   "source": [
    "The `log10` function from the `numpy` package calculates the logarithm of a number with a base of $10$."
   ]
  },
  {
   "cell_type": "code",
   "execution_count": 77,
   "id": "1435b237",
   "metadata": {},
   "outputs": [
    {
     "data": {
      "image/png": "[encoded data removed]",
      "text/latex": [
       "$\\displaystyle 3.0$"
      ],
      "text/plain": [
       "3.0"
      ]
     },
     "execution_count": 77,
     "metadata": {},
     "output_type": "execute_result"
    }
   ],
   "source": [
    "# Log base 10 of 1000\n",
    "numpy.log10(1000)"
   ]
  },
  {
   "cell_type": "markdown",
   "id": "9d883ac5",
   "metadata": {},
   "source": [
    "__Homework 1.4.10.1__ Calculate the logarithm base $10$ of $43545$."
   ]
  },
  {
   "cell_type": "markdown",
   "id": "9e1fa159",
   "metadata": {},
   "source": [
    "__Homework 1.4.10.2__ Calculate the natural logarithm of $43545$."
   ]
  },
  {
   "cell_type": "markdown",
   "id": "8e1d3748-15d5-441d-bb0b-1c8e120ae867",
   "metadata": {
    "tags": []
   },
   "source": [
    "### 1.4.11 Exponent"
   ]
  },
  {
   "cell_type": "markdown",
   "id": "e65092d2-9874-42ba-a968-a9895ef99b56",
   "metadata": {},
   "source": [
    "Euler's number is useful when modeling growth or decay. For a simple model, we may have exponential growth at every time step $t$. The number of cases may then be as shown in __Equation 1.4.11.1__ with the number of cases at $t=0$ of $1$."
   ]
  },
  {
   "cell_type": "markdown",
   "id": "3cd00505-459a-44e7-bbec-759b5cbaa97c",
   "metadata": {},
   "source": [
    "$$\n",
    "\\text{Number of organisms at time }t = e^{t}\n",
    "\\tag{Equation 1.4.11.1}\n",
    "$$"
   ]
  },
  {
   "cell_type": "markdown",
   "id": "a3e9d5d5-ff96-4cf7-89f1-2b31241008f8",
   "metadata": {},
   "source": [
    "At time $t=5$, we have $e^{5}$ organisms, which is $e \\times e \\times e \\times e \\times e$, calculated below using the `exp` function in `numpy`."
   ]
  },
  {
   "cell_type": "code",
   "execution_count": 78,
   "id": "f7dd814e-01cd-442c-84e5-4343dc4c87eb",
   "metadata": {},
   "outputs": [
    {
     "data": {
      "image/png": "[encoded data removed]",
      "text/latex": [
       "$\\displaystyle 148.413159102577$"
      ],
      "text/plain": [
       "148.4131591025766"
      ]
     },
     "execution_count": 78,
     "metadata": {},
     "output_type": "execute_result"
    }
   ],
   "source": [
    "numpy.exp(5)"
   ]
  },
  {
   "cell_type": "markdown",
   "id": "1113f585-ef0c-4bae-b426-dfcc9ab19bae",
   "metadata": {},
   "source": [
    "We can use the `floor` function to round the result down."
   ]
  },
  {
   "cell_type": "code",
   "execution_count": 79,
   "id": "33191421-3865-48ea-af3b-d9ae1ca6e815",
   "metadata": {},
   "outputs": [
    {
     "data": {
      "image/png": "[encoded data removed]",
      "text/latex": [
       "$\\displaystyle 148$"
      ],
      "text/plain": [
       "148"
      ]
     },
     "execution_count": 79,
     "metadata": {},
     "output_type": "execute_result"
    }
   ],
   "source": [
    "# Round exp(5) to 3 digits\n",
    "math.floor(numpy.exp(5))"
   ]
  },
  {
   "cell_type": "markdown",
   "id": "5f2db65c-0c27-4f44-9fa3-9d26b3457485",
   "metadata": {},
   "source": [
    "Starting with $e^{0}=1$ organism at $t=0$, we have that there will be $148$ organisms as $t=5$. __Figure 1.4.11.1__ demonstrates the growth."
   ]
  },
  {
   "cell_type": "code",
   "execution_count": 80,
   "id": "8107a5ed-35bc-4c42-b04e-1a72afae0e3e",
   "metadata": {},
   "outputs": [
    {
     "data": {
      "image/png": "[encoded data removed]",
      "text/plain": [
       "<Figure size 640x480 with 1 Axes>"
      ]
     },
     "metadata": {
      "image/png": {
       "height": 454,
       "width": 571
      }
     },
     "output_type": "display_data"
    }
   ],
   "source": [
    "fig, ax = pyplot.subplots()\n",
    "\n",
    "ax.plot([0, 1, 2, 3, 4, 5],\n",
    "       [numpy.exp(t) for t in [0, 1, 2, 3, 4, 5]],\n",
    "       \"b--\")\n",
    "ax.grid()\n",
    "ax.set_title(\"Figure 1.4.11.1\")\n",
    "ax.set_xlabel(\"Time\")\n",
    "ax.set_ylabel(\"Number of cases\")\n",
    "pyplot.hlines(0, 0, 5, color='black')\n",
    "pyplot.vlines(0, 0, 150, color='black')\n",
    "pyplot.gca().spines['top'].set_visible(False)\n",
    "pyplot.gca().spines['right'].set_visible(False)\n",
    "pyplot.gca().spines['bottom'].set_visible(False)\n",
    "pyplot.gca().spines['left'].set_visible(False);"
   ]
  },
  {
   "cell_type": "markdown",
   "metadata": {},
   "source": [
    "We will learn more about exponents in later chapters."
   ]
  },
  {
   "cell_type": "markdown",
   "id": "e867a661-9fc2-4c01-9616-b301a2723644",
   "metadata": {
    "jp-MarkdownHeadingCollapsed": true,
    "tags": []
   },
   "source": [
    "### 1.4.12 Order of arithmetic operations"
   ]
  },
  {
   "cell_type": "markdown",
   "id": "8b77a317-0290-48f0-8adf-0391dc9e2bd3",
   "metadata": {},
   "source": [
    "We will commonly use the following order of arithmetic operations, expressed using the acronymn PEMDAS.\n",
    "\n",
    "1. __P__ arentheses\n",
    "2. __E__ xponents (powers and roots)\n",
    "3. __M__ ultiplication and __D__ ivision\n",
    "4. __A__ ddition and __S__ ubtraction"
   ]
  },
  {
   "cell_type": "markdown",
   "id": "c9d412d4",
   "metadata": {},
   "source": [
    "We start by calculating $3+2 \\times 4$, which is $3 + (2 \\times 4) = 3 + 8 = 11$."
   ]
  },
  {
   "cell_type": "code",
   "execution_count": 81,
   "id": "1a7a4740-696d-44d3-893c-9e95ba2c3d65",
   "metadata": {},
   "outputs": [
    {
     "data": {
      "image/png": "[encoded data removed]",
      "text/latex": [
       "$\\displaystyle 11$"
      ],
      "text/plain": [
       "11"
      ]
     },
     "execution_count": 81,
     "metadata": {},
     "output_type": "execute_result"
    }
   ],
   "source": [
    "# Expression with addition and multiplication\n",
    "3 + 2 * 4"
   ]
  },
  {
   "cell_type": "markdown",
   "id": "5a132b1c",
   "metadata": {},
   "source": [
    "We can use parenthesis to first add $3+2$ and then multiply by $4$. This is $(3+2) \\times 4 = 5 \\times 4 = 20$."
   ]
  },
  {
   "cell_type": "code",
   "execution_count": 82,
   "id": "ff5aee81-a966-4f63-99d6-26ce7fcaaac1",
   "metadata": {},
   "outputs": [
    {
     "data": {
      "image/png": "[encoded data removed]",
      "text/latex": [
       "$\\displaystyle 20$"
      ],
      "text/plain": [
       "20"
      ]
     },
     "execution_count": 82,
     "metadata": {},
     "output_type": "execute_result"
    }
   ],
   "source": [
    "# Using parenthesis to change the order of operations (addition before multiplication)\n",
    "(3 + 2) * 4"
   ]
  },
  {
   "cell_type": "markdown",
   "id": "566c6637",
   "metadata": {},
   "source": [
    "In the examples below, we simplificy the indicated expressions, where the symbol $\\cdot$ indicates multiplication."
   ]
  },
  {
   "cell_type": "markdown",
   "id": "73000764",
   "metadata": {},
   "source": [
    "__Problem 1.4.12.1__ Calculate the expression in __Equation 1.4.12.1__."
   ]
  },
  {
   "cell_type": "markdown",
   "id": "98722c58",
   "metadata": {},
   "source": [
    "$$\\left( 3 \\cdot 2 \\right)^{2} - 4 (6+2) \\tag{Equation 1.4.12.1}$$"
   ]
  },
  {
   "cell_type": "code",
   "execution_count": 83,
   "id": "ab2df1fc",
   "metadata": {},
   "outputs": [
    {
     "data": {
      "image/png": "[encoded data removed]",
      "text/latex": [
       "$\\displaystyle 4$"
      ],
      "text/plain": [
       "4"
      ]
     },
     "execution_count": 83,
     "metadata": {},
     "output_type": "execute_result"
    }
   ],
   "source": [
    "(3 * 2)**2 - 4 * (6 + 2)"
   ]
  },
  {
   "cell_type": "markdown",
   "id": "c622cdc9",
   "metadata": {},
   "source": [
    "__Problem 1.4.12.2__ Calculate the expression in __Equation 1.4.12.2__."
   ]
  },
  {
   "cell_type": "markdown",
   "id": "80e95b03",
   "metadata": {},
   "source": [
    "$$\\frac{5^{2} - 4}{7} - \\sqrt{11-2} \\tag{1.4.12.2}$$"
   ]
  },
  {
   "cell_type": "code",
   "execution_count": 84,
   "id": "fbbdb2b1",
   "metadata": {},
   "outputs": [
    {
     "data": {
      "image/png": "[encoded data removed]",
      "text/latex": [
       "$\\displaystyle 0.0$"
      ],
      "text/plain": [
       "0.0"
      ]
     },
     "execution_count": 84,
     "metadata": {},
     "output_type": "execute_result"
    }
   ],
   "source": [
    "((5**2 - 4) / 7) - numpy.sqrt(11 - 2)"
   ]
  },
  {
   "cell_type": "markdown",
   "id": "a345bd91",
   "metadata": {},
   "source": [
    "__Problem 1.4.12.3__ Calculate the expression in __Equation 1.4.12.3__."
   ]
  },
  {
   "cell_type": "markdown",
   "id": "83ea4d64",
   "metadata": {},
   "source": [
    "$$6 - \\lvert 5 - 8 \\rvert + 3(4 - 1) \\tag{1.4.12.3}$$"
   ]
  },
  {
   "cell_type": "code",
   "execution_count": 85,
   "id": "2294e2e6",
   "metadata": {},
   "outputs": [
    {
     "data": {
      "image/png": "[encoded data removed]",
      "text/latex": [
       "$\\displaystyle 12$"
      ],
      "text/plain": [
       "12"
      ]
     },
     "execution_count": 85,
     "metadata": {},
     "output_type": "execute_result"
    }
   ],
   "source": [
    "6 - abs(5 - 8) + 3 * (4 - 1)"
   ]
  },
  {
   "cell_type": "markdown",
   "id": "2af81de6",
   "metadata": {},
   "source": [
    "__Homework 1.4.12.1__ Calculate the expression in __Equation 1.4.12.4__."
   ]
  },
  {
   "cell_type": "markdown",
   "id": "5b5bb7a1",
   "metadata": {},
   "source": [
    "$$\n",
    "\\frac{3\\pi - \\lvert 1 - \\sqrt{2} \\rvert}{27 \\times 3 - 1}\n",
    "\\tag{Equation 1.4.12.4}\n",
    "$$"
   ]
  },
  {
   "cell_type": "markdown",
   "id": "f1ca36ca",
   "metadata": {},
   "source": [
    "## 1.5 Properties of real numbers"
   ]
  },
  {
   "cell_type": "markdown",
   "metadata": {},
   "source": [
    "There are many useful properties of real numbers. We will explore some of these properties in this section."
   ]
  },
  {
   "cell_type": "markdown",
   "id": "1c70a1d0",
   "metadata": {},
   "source": [
    "__Defintion 1.5.1__ The <span style=\"color:lightgreen\">__commutative property of addition__</span> states that the order of the numbers does not matter. We have that $a+b=b+a$ for two real numbers $a$ and $b$"
   ]
  },
  {
   "cell_type": "markdown",
   "id": "e3d5fbc0",
   "metadata": {},
   "source": [
    "We use the comparison operator `==` to test if two numbers are equal. The output is a boolean value, either `True` or `False`."
   ]
  },
  {
   "cell_type": "markdown",
   "id": "670534e1",
   "metadata": {},
   "source": [
    "__Problem 1.5.1__ Determine if $3+4=4+3$."
   ]
  },
  {
   "cell_type": "code",
   "execution_count": 86,
   "id": "82f68eab",
   "metadata": {},
   "outputs": [
    {
     "data": {
      "text/plain": [
       "True"
      ]
     },
     "execution_count": 86,
     "metadata": {},
     "output_type": "execute_result"
    }
   ],
   "source": [
    "# Show that 3 + 4 = 4 + 3\n",
    "3 + 4 == 4 + 3"
   ]
  },
  {
   "cell_type": "markdown",
   "id": "853b78b5",
   "metadata": {},
   "source": [
    "The result is the boolean value `True`, which indicates that indeed $3+4=4+3$."
   ]
  },
  {
   "cell_type": "markdown",
   "id": "8eb7e9fe",
   "metadata": {},
   "source": [
    "__Defintion 1.5.2__ The <span style=\"color:lightgreen\">__commutative property of multiplication__</span> states that the order of the numbers does not matter. We have that $a \\cdot b = b \\cdot a$ for two real numbers $a$ and $b$."
   ]
  },
  {
   "cell_type": "markdown",
   "id": "eb9e81c9",
   "metadata": {},
   "source": [
    "__Problem 1.5.2__ Determine if $3 \\times 4 = 4 \\times 3$."
   ]
  },
  {
   "cell_type": "code",
   "execution_count": 87,
   "id": "9ace59bd",
   "metadata": {},
   "outputs": [
    {
     "data": {
      "text/plain": [
       "True"
      ]
     },
     "execution_count": 87,
     "metadata": {},
     "output_type": "execute_result"
    }
   ],
   "source": [
    "# Show that 3 x 4 = 4 x 3\n",
    "3 * 4 == 4 * 3"
   ]
  },
  {
   "cell_type": "markdown",
   "id": "566f75df",
   "metadata": {},
   "source": [
    "Neither subtraction nor division is commutative. The `!=` comparison operator tests if two numbers are not equal."
   ]
  },
  {
   "cell_type": "markdown",
   "id": "02dfa4c9",
   "metadata": {},
   "source": [
    "__Problem 1.5.3__ Determine if $3-4=4-3$."
   ]
  },
  {
   "cell_type": "code",
   "execution_count": 88,
   "id": "33b6b9a4",
   "metadata": {},
   "outputs": [
    {
     "data": {
      "text/plain": [
       "True"
      ]
     },
     "execution_count": 88,
     "metadata": {},
     "output_type": "execute_result"
    }
   ],
   "source": [
    "# Show that 3 - 4 is not equal to 4 - 3\n",
    "3 - 4 != 4 - 3"
   ]
  },
  {
   "cell_type": "markdown",
   "id": "81d91652",
   "metadata": {},
   "source": [
    "By using the _is equal to_ `==` comparison operator, we see that $3-4 \\neq 4-3$, by considering that the result is `False`. The $\\neq$ symbol means that the tow sides are not equal to each other."
   ]
  },
  {
   "cell_type": "code",
   "execution_count": 89,
   "id": "008a7f17",
   "metadata": {},
   "outputs": [
    {
     "data": {
      "text/plain": [
       "False"
      ]
     },
     "execution_count": 89,
     "metadata": {},
     "output_type": "execute_result"
    }
   ],
   "source": [
    "# Alternative way to show that 3 - 4 is not equal to 4 - 3\n",
    "3 - 4 == 4 - 3"
   ]
  },
  {
   "cell_type": "markdown",
   "id": "ae084221",
   "metadata": {},
   "source": [
    "__Problem 1.5.4__ Determine if $10 \\div 5 = 5 \\div 10$."
   ]
  },
  {
   "cell_type": "markdown",
   "id": "49758550",
   "metadata": {},
   "source": [
    "We use the `/` symbol for division and consider the cases using `!=` and `==`."
   ]
  },
  {
   "cell_type": "code",
   "execution_count": 90,
   "id": "90428cd6",
   "metadata": {},
   "outputs": [
    {
     "data": {
      "text/plain": [
       "True"
      ]
     },
     "execution_count": 90,
     "metadata": {},
     "output_type": "execute_result"
    }
   ],
   "source": [
    "# Show that 10 divided by 5 is not equal to 5 divided by 10\n",
    "10 / 5 != 5 / 10"
   ]
  },
  {
   "cell_type": "code",
   "execution_count": 91,
   "id": "e8d3c593",
   "metadata": {},
   "outputs": [
    {
     "data": {
      "text/plain": [
       "False"
      ]
     },
     "execution_count": 91,
     "metadata": {},
     "output_type": "execute_result"
    }
   ],
   "source": [
    "# Alternative way to show that 10 divided by 5 is not equal to 5 divided by 10\n",
    "10 / 5 == 5 / 10"
   ]
  },
  {
   "cell_type": "markdown",
   "id": "abb98f6d",
   "metadata": {},
   "source": [
    "__Defintion 1.5.3__ The <span style=\"color:lightgreen\">__associative property of addition__</span> holds such that $a + (b + c) = (a + b) + c$, for three real numbers $a,b,c$."
   ]
  },
  {
   "cell_type": "markdown",
   "id": "a26649d1",
   "metadata": {},
   "source": [
    "__Problem 1.5.5__ Determine if $3 + (4 + 5) = (3 + 4) + 5$."
   ]
  },
  {
   "cell_type": "code",
   "execution_count": 92,
   "id": "10c50681",
   "metadata": {},
   "outputs": [
    {
     "data": {
      "text/plain": [
       "True"
      ]
     },
     "execution_count": 92,
     "metadata": {},
     "output_type": "execute_result"
    }
   ],
   "source": [
    "# Show that (3 + 4) + 5 is equal to 3 + (4 + 5)\n",
    "(3 + 4) + 5 == 3 + (4 + 5)"
   ]
  },
  {
   "cell_type": "markdown",
   "id": "630ad94f",
   "metadata": {},
   "source": [
    "__Definition 1.5.4__ The <span style=\"color:lightgreen\">__associative property of multiplication__</span> holds such that $a \\cdot (b \\cdot c) = (a \\cdot b) \\cdot c$, for three real numbers $a,b,c$."
   ]
  },
  {
   "cell_type": "markdown",
   "id": "ea686654",
   "metadata": {},
   "source": [
    "__Problem 1.5.6__ Determine if $\\left( 3 \\times 4 \\right) \\times 5 = 3 \\times \\left( 4 \\times 5 \\right)$."
   ]
  },
  {
   "cell_type": "code",
   "execution_count": 93,
   "id": "070de0b8",
   "metadata": {},
   "outputs": [
    {
     "data": {
      "text/plain": [
       "True"
      ]
     },
     "execution_count": 93,
     "metadata": {},
     "output_type": "execute_result"
    }
   ],
   "source": [
    "# Show that (3 x 4) x 5 is equal to 3 x (4 x 6)\n",
    "(3 * 4) * 5 == 3 * (4 * 5)"
   ]
  },
  {
   "cell_type": "markdown",
   "id": "b6e840a0",
   "metadata": {},
   "source": [
    "Associativity does not hold for subtraction or division. We see an example of subtraction below, where the `==` logical operator tests if two numbers are equal and returns a value of `False` when comparing $(10-3)-2$ and $10 - (3 - 2)$."
   ]
  },
  {
   "cell_type": "code",
   "execution_count": 94,
   "metadata": {},
   "outputs": [
    {
     "data": {
      "text/plain": [
       "False"
      ]
     },
     "execution_count": 94,
     "metadata": {},
     "output_type": "execute_result"
    }
   ],
   "source": [
    "# Show that (10 - 3) - 2 is not equal to 10 - (3 - 2)\n",
    "(10 - 3) - 2 == 10 - (3 - 2)"
   ]
  },
  {
   "cell_type": "markdown",
   "id": "74674cf0",
   "metadata": {},
   "source": [
    "__Defintion 1.5.5__ The <span style=\"color:lightgreen\">__distributive property__</span> holds such that $a(b + c) = ab + ac$, for three real numbers $a,b,c$. That is to say that multiplication distributes over addition. The distributive property also holds for subtraction. It does, however, not hold for division, nor for addition or subtraction over multiplication."
   ]
  },
  {
   "cell_type": "markdown",
   "id": "487703d4",
   "metadata": {},
   "source": [
    "__Problem 1.5.7__ Determine if $3 \\left( 2 + 7 \\right) = \\left( 3 \\times 2 \\right) + \\left() 3 \\times 7 \\right)$."
   ]
  },
  {
   "cell_type": "code",
   "execution_count": 95,
   "id": "c6ad59b2",
   "metadata": {},
   "outputs": [
    {
     "data": {
      "text/plain": [
       "True"
      ]
     },
     "execution_count": 95,
     "metadata": {},
     "output_type": "execute_result"
    }
   ],
   "source": [
    "# Show that 3(2 + 7) is equal to 3 x 2 + 3 x 7\n",
    "3 * (2 + 7) == 3 * 2 + 3 * 7"
   ]
  },
  {
   "cell_type": "markdown",
   "id": "6340de00",
   "metadata": {},
   "source": [
    "There is a special case of distributivity that holds for subtraction. We have that $a - (b + c) = a - b - c$, for three real numbers $a,b$ and $c$."
   ]
  },
  {
   "cell_type": "markdown",
   "id": "728b7110",
   "metadata": {},
   "source": [
    "__Problem 1.5.8__ Determine if $3 - \\left( 2 + 1 \\right) = 3 - 2 - 1$."
   ]
  },
  {
   "cell_type": "code",
   "execution_count": 96,
   "id": "a723524f",
   "metadata": {},
   "outputs": [
    {
     "data": {
      "text/plain": [
       "True"
      ]
     },
     "execution_count": 96,
     "metadata": {},
     "output_type": "execute_result"
    }
   ],
   "source": [
    "# Show that 3 - (2 + 1) is equal to 3 - 2 - 1\n",
    "3 - (2 + 1) == 3 - 2 - 1"
   ]
  },
  {
   "cell_type": "markdown",
   "id": "544c36b7",
   "metadata": {},
   "source": [
    "__Definition 1.5.6__ The number $0$ is the <span style=\"color:lightgreen\">__additive identity__</span> of real numbers. We have that $a + 0 = a$ for any real number $a$."
   ]
  },
  {
   "cell_type": "markdown",
   "id": "8a3e20a6",
   "metadata": {},
   "source": [
    "__Problem 1.5.9__ Determine if $5 + 0 = 5$."
   ]
  },
  {
   "cell_type": "code",
   "execution_count": 97,
   "id": "d43c18ce",
   "metadata": {},
   "outputs": [
    {
     "data": {
      "text/plain": [
       "True"
      ]
     },
     "execution_count": 97,
     "metadata": {},
     "output_type": "execute_result"
    }
   ],
   "source": [
    "# Show to 5 + 0 = 5\n",
    "5 + 0 == 5"
   ]
  },
  {
   "cell_type": "markdown",
   "id": "c265031b",
   "metadata": {},
   "source": [
    "__Definition 1.5.7__ The number $1$ is the <span style=\"color:lightgreen\">__multiplicative identity__</span> of real numbers. We have that $a \\cdot 1 = a$ for any real number $a$."
   ]
  },
  {
   "cell_type": "markdown",
   "id": "0d4dbdfa",
   "metadata": {},
   "source": [
    "__Problem 1.5.10__ Determine if $5 \\times 1 = 5$."
   ]
  },
  {
   "cell_type": "code",
   "execution_count": 98,
   "id": "8a787178",
   "metadata": {},
   "outputs": [
    {
     "data": {
      "text/plain": [
       "True"
      ]
     },
     "execution_count": 98,
     "metadata": {},
     "output_type": "execute_result"
    }
   ],
   "source": [
    "# Show that 5 x 1 i s equal to 5\n",
    "5 * 1 == 5"
   ]
  },
  {
   "cell_type": "markdown",
   "id": "c533bff1",
   "metadata": {},
   "source": [
    "__Defintion 1.5.8__ The <span style=\"color:lightgreen\">__additive inverse__</span> of a real number $a$ is the number $-a$ such that $a + (-a) = 0$."
   ]
  },
  {
   "cell_type": "markdown",
   "id": "6a2deb62",
   "metadata": {},
   "source": [
    "__Problem 1.5.11__ Determine if $5 + \\left( -5 \\right) = 0$."
   ]
  },
  {
   "cell_type": "code",
   "execution_count": 99,
   "id": "dad94fe9",
   "metadata": {},
   "outputs": [
    {
     "data": {
      "text/plain": [
       "True"
      ]
     },
     "execution_count": 99,
     "metadata": {},
     "output_type": "execute_result"
    }
   ],
   "source": [
    "# Show that 5 + (-5) is equal to 0\n",
    "5 + (-5) == 0"
   ]
  },
  {
   "cell_type": "markdown",
   "id": "b72208fe",
   "metadata": {},
   "source": [
    "__Problem 1.5.12__ Show that $3$ is the additive inverse of $-3$."
   ]
  },
  {
   "cell_type": "markdown",
   "id": "006a6079",
   "metadata": {},
   "source": [
    "If $3$ is the additiive inverse of $-3$ then $3 + \\left( -3 \\right)$ should be equal to $0$."
   ]
  },
  {
   "cell_type": "code",
   "execution_count": 100,
   "id": "e95c3964",
   "metadata": {},
   "outputs": [
    {
     "data": {
      "text/plain": [
       "True"
      ]
     },
     "execution_count": 100,
     "metadata": {},
     "output_type": "execute_result"
    }
   ],
   "source": [
    "# Show that 3 is the additive inverse of -3\n",
    "(-3) + 3 == 0"
   ]
  },
  {
   "cell_type": "markdown",
   "id": "0e9c923b",
   "metadata": {},
   "source": [
    "Since the additive inverse of any number $a$ is $-a$ we have that the additive inverse of $-3$ is $- \\left( -3 \\right)$, which is $3$."
   ]
  },
  {
   "cell_type": "markdown",
   "id": "304fdebd",
   "metadata": {},
   "source": [
    "__Definition 1.5.9__ The <span style=\"color:lightgreen\">__multiplicative inverse__</span> of a real number $a$ is the number $\\frac{1}{a}$ such that $a \\cdot \\frac{1}{a} = 1$ and $a \\ne 0$."
   ]
  },
  {
   "cell_type": "markdown",
   "id": "920aa9ba",
   "metadata": {},
   "source": [
    "__Problem 1.5.13__ Show that $\\frac{1}{5}$ is the multiplicative inverse of $5$."
   ]
  },
  {
   "cell_type": "code",
   "execution_count": 101,
   "id": "558ca8bf",
   "metadata": {},
   "outputs": [
    {
     "data": {
      "text/plain": [
       "True"
      ]
     },
     "execution_count": 101,
     "metadata": {},
     "output_type": "execute_result"
    }
   ],
   "source": [
    "# Show that 5 x (1/5) is equal to 1\n",
    "5 * (1/5) == 1"
   ]
  },
  {
   "cell_type": "markdown",
   "id": "a0196442",
   "metadata": {},
   "source": [
    "## 1.6 The uses of division"
   ]
  },
  {
   "cell_type": "markdown",
   "metadata": {},
   "source": [
    "In health data science we often have to consider values that are fractions. Fractions involve division, which we also commonly use in ratios."
   ]
  },
  {
   "cell_type": "markdown",
   "id": "751e805b",
   "metadata": {},
   "source": [
    "### 1.6.1 Fractions and ratios"
   ]
  },
  {
   "cell_type": "markdown",
   "id": "44af3bea",
   "metadata": {},
   "source": [
    "A <span style=\"color:lightgreen\">__ratio__</span> is a calculation that divides two counts. A <span style=\"color:lightgreen\">__fraction__</span> is also a ratio and is similarly calculated using division. We do reserve the keyword _fraction_ when the numerator is smaller than the denominator. In general, a ratio can have a numerator that is larger than the denominator."
   ]
  },
  {
   "cell_type": "markdown",
   "metadata": {},
   "source": [
    "We see both, and the fact that we accomplish both calculations by division, in __Equation 1.6.1.1__. In either case, $a$ and $b$ are integers and we always have that $b \\ne 0$. We also omit the case where $a=b$, which is simply $1$. We also remeber that if $a=0$, we have that our fraction or ratio is $0$."
   ]
  },
  {
   "cell_type": "markdown",
   "id": "e02c456f",
   "metadata": {},
   "source": [
    "$$\n",
    "\\begin{align*}\n",
    "&\\text{Fraction: } \\frac{a}{b}, \\text{ where } a < b \\text{ and } b \\ne 0 \\\\ \\\\\n",
    "&\\text{Ratio: } \\frac{a}{b}, \\text{ where } a < b \\text{ or } a > b \\text{ or } a = b \\\\ \\\\\n",
    "&\\;\\;\\;\\text{ and } b \\text{ is never equal to } 0\n",
    "\\end{align*}\n",
    "\\tag{Equation 1.6.1.1}"
   ]
  },
  {
   "cell_type": "markdown",
   "id": "fd1bebfd",
   "metadata": {},
   "source": [
    "It is important to understand the basics of fractions and ratios. The basics include the _mechanics_ of the parts of a fraction or a ratio and the comparison of different fractions and ratios."
   ]
  },
  {
   "cell_type": "markdown",
   "id": "644f80a4",
   "metadata": {},
   "source": [
    "We have seen that a fraction or a ratio has a numerator and a denominator. Note that in the case of ratios we also use the terms divided or antecedent for the numerator and the term consequent for the denominator. A fraction desribes a count of parts of a whole. By parts of the whole, we are referring to the denominator. The numerator describes how many of those parts we count."
   ]
  },
  {
   "cell_type": "markdown",
   "id": "788e53da",
   "metadata": {},
   "source": [
    "Consider any shape, such as a square or a circle. We can divide a shape into equal parts. That would be $b$ equal parts. If $b=2$ then we have divided the shape into halves. If $b=4$, then we have divided the shape into $4$ equally sized parts called quarters. This is the value of the denominator."
   ]
  },
  {
   "cell_type": "markdown",
   "id": "197123d2",
   "metadata": {},
   "source": [
    "The numerator, $a$, counts the number of $b$-parts of the whole. In __Figure 1.6.1.1__, we have divided the whole (of a circle) into $b=4$ equal parts (the denominator) and we consider $a=3$ of those $b=4$ parts (the numerator)."
   ]
  },
  {
   "cell_type": "code",
   "execution_count": 102,
   "id": "0a798bd3",
   "metadata": {},
   "outputs": [
    {
     "data": {
      "image/png": "[encoded data removed]",
      "text/plain": [
       "<Figure size 640x480 with 1 Axes>"
      ]
     },
     "metadata": {
      "image/png": {
       "height": 410,
       "width": 389
      }
     },
     "output_type": "display_data"
    }
   ],
   "source": [
    "pyplot.pie(\n",
    "    [1, 1, 1, 1],\n",
    "    colors=['red', 'red', 'red', 'lightgray'],\n",
    "    wedgeprops={\"edgecolor\":\"k\",'linewidth': 1}\n",
    ")\n",
    "pyplot.title('Figure 1.6.1.1')\n",
    "pyplot.show()"
   ]
  },
  {
   "cell_type": "markdown",
   "id": "ad70a428",
   "metadata": {},
   "source": [
    "In __Figure 1.6.1.2__, we visualize the difference between three eights and seven eights, seen in __Equation 1.6.1.2__. We keep $b=8$ fixed and compare $a=3$ to $a=7$."
   ]
  },
  {
   "cell_type": "markdown",
   "id": "714d2560",
   "metadata": {},
   "source": [
    "$$\n",
    "\\frac{3}{8} < \\frac{7}{8}\n",
    "\\tag{Equation 1.6.1.2}\n",
    "$$"
   ]
  },
  {
   "cell_type": "code",
   "execution_count": 103,
   "id": "16391d9c",
   "metadata": {},
   "outputs": [
    {
     "data": {
      "image/png": "[encoded data removed]",
      "text/plain": [
       "<Figure size 640x480 with 2 Axes>"
      ]
     },
     "metadata": {
      "image/png": {
       "height": 266,
       "width": 515
      }
     },
     "output_type": "display_data"
    }
   ],
   "source": [
    "fig, ax = pyplot.subplots(1, 2)\n",
    "ax[0].pie(\n",
    "    [1, 1, 1, 1, 1, 1, 1, 1],\n",
    "    colors=['red', 'red', 'red', 'lightgray', 'lightgray', 'lightgray', 'lightgray', 'lightgray'],\n",
    "    wedgeprops={\"edgecolor\":\"k\",'linewidth': 1}\n",
    ")\n",
    "\n",
    "ax[1].pie(\n",
    "    [1, 1, 1, 1, 1, 1, 1, 1],\n",
    "    colors=['red', 'red', 'red', 'red', 'red', 'red', 'red', 'lightgray'],\n",
    "    wedgeprops={\"edgecolor\":\"k\",'linewidth': 1}\n",
    ")\n",
    "ax[0].set_title('Figure 1.6.1.2')\n",
    "pyplot.show()"
   ]
  },
  {
   "cell_type": "markdown",
   "id": "159c3cb4",
   "metadata": {},
   "source": [
    "With a good understanding of the parts of a fraction or a ratio, we consider the _mechanics_. By the mechanics we mean, changes in the values of $a$ or $b$, where we consider a change in one, while keeping the other constant."
   ]
  },
  {
   "cell_type": "markdown",
   "id": "9c57a1bf",
   "metadata": {},
   "source": [
    "If we keep $b$ constant and we increase $a$, we are counting more of the parts. The actual _overall_ value that the fraction or ratio describes gets bigger. If we decrease $a$, then we have fewer parts, and the overall value gets smaller."
   ]
  },
  {
   "cell_type": "markdown",
   "id": "dc196b47",
   "metadata": {},
   "source": [
    "In __Figure 1.6.1.3__, we visualize the difference between three eighths (on the left) and three fifths (on the right), seen in __Equation 1.6.1.3__."
   ]
  },
  {
   "cell_type": "markdown",
   "id": "53dbcde0",
   "metadata": {},
   "source": [
    "$$\n",
    "\\frac{3}{8} < \\frac{3}{5}\n",
    "\\tag{Equation 1.6.1.3}\n",
    "$$"
   ]
  },
  {
   "cell_type": "code",
   "execution_count": 104,
   "id": "4137c5f4",
   "metadata": {},
   "outputs": [
    {
     "data": {
      "image/png": "[encoded data removed]",
      "text/plain": [
       "<Figure size 640x480 with 2 Axes>"
      ]
     },
     "metadata": {
      "image/png": {
       "height": 266,
       "width": 515
      }
     },
     "output_type": "display_data"
    }
   ],
   "source": [
    "fig, ax = pyplot.subplots(1, 2)\n",
    "ax[0].pie(\n",
    "    [1, 1, 1, 1, 1, 1, 1, 1],\n",
    "    colors=['red', 'red', 'red', 'lightgray', 'lightgray', 'lightgray', 'lightgray', 'lightgray'],\n",
    "    wedgeprops={\"edgecolor\":\"k\",'linewidth': 1}\n",
    ")\n",
    "ax[0].set_title('Figure 1.6.1.3')\n",
    "\n",
    "ax[1].pie(\n",
    "    [1, 1, 1, 1, 1],\n",
    "    colors=['red', 'red', 'red', 'lightgray', 'lightgray'],\n",
    "    wedgeprops={\"edgecolor\":\"k\",'linewidth': 1}\n",
    ")\n",
    "pyplot.show()"
   ]
  },
  {
   "cell_type": "markdown",
   "metadata": {},
   "source": [
    "It is clear that $3$ parts of $8$ must be smaller than $3$ parts of $5$. In essence, keeping the numerator constant, the final values increases when the denominator get smaller and decreases when the demominator gets bigger."
   ]
  },
  {
   "cell_type": "markdown",
   "id": "3443d8d0",
   "metadata": {},
   "source": [
    "Understanding the mechanics, leads us to comparing fractions and ratios. When is one smaller or larger than the other?"
   ]
  },
  {
   "cell_type": "markdown",
   "id": "b172e1a0",
   "metadata": {},
   "source": [
    "To answer this question, we must have equal $b$ parts (equal denominators). In __Equation 1.6.1.3__ we made such a comparison. We can make a direct comparison by _equalling_ $b=8$ and $b=5$. The easiest way to do this is to start by considering multiplying both by $1$. The number $1$ can be written as a fraction, in many ways, as we see in __Equation 1.6.1.4__, as long as $b \\ne 0$."
   ]
  },
  {
   "cell_type": "markdown",
   "id": "33ee71ec",
   "metadata": {},
   "source": [
    "$$\n",
    "1 = \\frac{1}{1} = \\frac{2}{2} = \\frac{1206}{1206} = \\frac{b}{b}\n",
    "\\tag{Equation 1.6.1.4}\n",
    "$$"
   ]
  },
  {
   "cell_type": "markdown",
   "id": "64563544",
   "metadata": {},
   "source": [
    "Multiplying by $1$ does not change a number. All we have to do is write $1$ as a fraction. We do so my choosing the _opposite_ value of $b$, shown in __Equation 1.6.1.5__, remembering that we multiply numerator by numerator and denominator by denominator, we now have equal parts $b=40$."
   ]
  },
  {
   "cell_type": "markdown",
   "id": "db6a340b",
   "metadata": {},
   "source": [
    "$$\n",
    "\\begin{align*}\n",
    "&\\frac{3}{8} \\text{ vs. } \\frac{3}{5} \\\\ \\\\\n",
    "&\\frac{3}{8} \\times \\frac{5}{5} \\text{ vs. } \\frac{3}{5} \\times \\frac{8}{8} \\\\ \\\\\n",
    "&\\frac{3 \\times 5}{8 \\times 5} \\text{ vs. } \\frac{3 \\times 8}{5 \\times 8} \\text{ (see section 1.6.2 below)} \\\\ \\\\\n",
    "&\\frac{15}{40} \\text{ vs. } \\frac{21}{40}\n",
    "\\end{align*}\n",
    "\\tag{Equation 1.6.1.5}\n",
    "$$"
   ]
  },
  {
   "cell_type": "markdown",
   "id": "3aadcb59",
   "metadata": {},
   "source": [
    "Clearly $15 < 21$ and three eighths is smaller than three fifths."
   ]
  },
  {
   "cell_type": "markdown",
   "id": "e6266b69",
   "metadata": {},
   "source": [
    "The `sympy` package makes such a comparison easy. We use the `Rational` function to create the fractions and the `>` and `<` symbols (which are comparison operators) to compare the fractions. We print the two fractions to the screen to see the use of the `Rational` function."
   ]
  },
  {
   "cell_type": "code",
   "execution_count": 105,
   "metadata": {},
   "outputs": [
    {
     "data": {
      "image/png": "[encoded data removed]",
      "text/latex": [
       "$\\displaystyle \\frac{3}{8}$"
      ],
      "text/plain": [
       "3/8"
      ]
     },
     "execution_count": 105,
     "metadata": {},
     "output_type": "execute_result"
    }
   ],
   "source": [
    "# Print the rational three-eighths\n",
    "sympy.Rational(3, 8)"
   ]
  },
  {
   "cell_type": "code",
   "execution_count": 106,
   "metadata": {},
   "outputs": [
    {
     "data": {
      "image/png": "[encoded data removed]",
      "text/latex": [
       "$\\displaystyle \\frac{3}{8}$"
      ],
      "text/plain": [
       "3/8"
      ]
     },
     "execution_count": 106,
     "metadata": {},
     "output_type": "execute_result"
    }
   ],
   "source": [
    "# Print the rational three-eighths\n",
    "sympy.Rational(3, 8)"
   ]
  },
  {
   "cell_type": "markdown",
   "metadata": {},
   "source": [
    " In the code cell below, we ask the question: _Is three eighths smaller than three fifths?_ Note the use of the less than `<` comparison operation."
   ]
  },
  {
   "cell_type": "code",
   "execution_count": 107,
   "id": "226df007",
   "metadata": {},
   "outputs": [
    {
     "data": {
      "image/png": "[encoded data removed]",
      "text/latex": [
       "$\\displaystyle \\text{True}$"
      ],
      "text/plain": [
       "True"
      ]
     },
     "execution_count": 107,
     "metadata": {},
     "output_type": "execute_result"
    }
   ],
   "source": [
    "sympy.Rational(3, 8) < sympy.Rational(3, 5)"
   ]
  },
  {
   "cell_type": "markdown",
   "id": "37d397ad",
   "metadata": {},
   "source": [
    "The `sympy` package returns `True` to indicate that three eighths is smaller than three fifths."
   ]
  },
  {
   "cell_type": "markdown",
   "id": "62a0537f",
   "metadata": {},
   "source": [
    "Depending on the propblem, we can multiply both sides by $1$ expressed in smaller values for the numerator and denominator. The next problem shows the intuition."
   ]
  },
  {
   "cell_type": "markdown",
   "id": "2f6298d2",
   "metadata": {},
   "source": [
    "__Problem 1.6.1.1__ Compare the two fractions in __Equation 1.6.1.6__ and determine which is larger."
   ]
  },
  {
   "cell_type": "markdown",
   "id": "9cf0b973",
   "metadata": {},
   "source": [
    "$$\n",
    "\\frac{3}{8} \\text{ vs. } \\frac{1}{4}\n",
    "\\tag{Equation 1.6.1.6}\n",
    "$$"
   ]
  },
  {
   "cell_type": "markdown",
   "id": "7ca21e4d",
   "metadata": {},
   "source": [
    "The results is shown in __Equation 1.6.1.7__."
   ]
  },
  {
   "cell_type": "markdown",
   "id": "644b22dd",
   "metadata": {},
   "source": [
    "$$\n",
    "\\begin{align*}\n",
    "&\\frac{3}{8} \\text{ vs. } \\frac{1}{4} \\\\ \\\\\n",
    "&\\frac{3}{8} \\times \\frac{1}{1} \\text{ vs. } \\frac{1}{4} \\times \\frac{2}{2} \\\\ \\\\\n",
    "&\\frac{3}{8} \\text{ vs. } \\frac{2}{8} \\\\ \\\\\n",
    "&\\frac{3}{8} > \\frac{2}{8} \\\\ \\\\\n",
    "&\\frac{3}{8} > \\frac{1}{4} \\text{ (original problem)}\n",
    "\\end{align*}\n",
    "\\tag{Equation 1.6.1.7}\n",
    "$$"
   ]
  },
  {
   "cell_type": "markdown",
   "id": "0ee463ac",
   "metadata": {},
   "source": [
    "Clearly, three eights is larger than two eights and therefor three-eights is larger than a quarter."
   ]
  },
  {
   "cell_type": "markdown",
   "id": "c76170fe",
   "metadata": {},
   "source": [
    "We use `sympy` again to verify the result. Note that in this case we use the larger than `>` comparison operator."
   ]
  },
  {
   "cell_type": "code",
   "execution_count": 108,
   "id": "efecda1d",
   "metadata": {},
   "outputs": [
    {
     "data": {
      "image/png": "[encoded data removed]",
      "text/latex": [
       "$\\displaystyle \\text{True}$"
      ],
      "text/plain": [
       "True"
      ]
     },
     "execution_count": 108,
     "metadata": {},
     "output_type": "execute_result"
    }
   ],
   "source": [
    "sympy.Rational(3, 8) > sympy.Rational(1, 4)"
   ]
  },
  {
   "cell_type": "markdown",
   "metadata": {},
   "source": [
    "If we use the less than `<` comparison operator (keeping the order of the fractions the same), we get `False`."
   ]
  },
  {
   "cell_type": "code",
   "execution_count": 109,
   "metadata": {},
   "outputs": [
    {
     "data": {
      "image/png": "[encoded data removed]",
      "text/latex": [
       "$\\displaystyle \\text{False}$"
      ],
      "text/plain": [
       "False"
      ]
     },
     "execution_count": 109,
     "metadata": {},
     "output_type": "execute_result"
    }
   ],
   "source": [
    "sympy.Rational(3, 8) < sympy.Rational(1, 4)"
   ]
  },
  {
   "cell_type": "markdown",
   "metadata": {},
   "source": [
    "__Problem 1.6.1.1__ Is $\\frac{21}{43}$ larger than $\\frac{51}{100}$?"
   ]
  },
  {
   "cell_type": "markdown",
   "metadata": {},
   "source": [
    "We multiply both sides with $1$ as represented in __Equation 1.6.1.8__."
   ]
  },
  {
   "cell_type": "markdown",
   "metadata": {},
   "source": [
    "$$\n",
    "\\begin{align*}\n",
    "&\\frac{21}{43} \\times \\frac{100}{100} \\text{ vs. } \\frac{51}{100} \\times \\frac{43}{43} \\\\ \\\\\n",
    "&\\frac{2100}{4300} \\text{ vs. } \\frac{2193}{4300} \\\\ \\\\\n",
    "&\\frac{2100}{4300} < \\frac{2193}{4300}\n",
    "\\end{align*}\n",
    "\\tag{Equation 1.6.1.8}\n",
    "$$"
   ]
  },
  {
   "cell_type": "markdown",
   "metadata": {},
   "source": [
    "We note that $\\frac{21}{43}$ is not larger than $\\frac{51}{100}$. In fact, it is smaller. We confirm this with code below."
   ]
  },
  {
   "cell_type": "code",
   "execution_count": 110,
   "metadata": {},
   "outputs": [
    {
     "data": {
      "image/png": "[encoded data removed]",
      "text/latex": [
       "$\\displaystyle \\text{False}$"
      ],
      "text/plain": [
       "False"
      ]
     },
     "execution_count": 110,
     "metadata": {},
     "output_type": "execute_result"
    }
   ],
   "source": [
    "sympy.Rational(21, 43) > sympy.Rational(51, 100)"
   ]
  },
  {
   "cell_type": "markdown",
   "metadata": {},
   "source": [
    "We do not require the `Rational` function to create the fractions. We can simply use the `/` symbol to create the fractions and the great than `>` or less than `<` comparison operators as required."
   ]
  },
  {
   "cell_type": "code",
   "execution_count": 111,
   "metadata": {},
   "outputs": [
    {
     "data": {
      "text/plain": [
       "False"
      ]
     },
     "execution_count": 111,
     "metadata": {},
     "output_type": "execute_result"
    }
   ],
   "source": [
    "(21 / 43) > (51 / 100)"
   ]
  },
  {
   "cell_type": "markdown",
   "id": "691c6408",
   "metadata": {},
   "source": [
    "__Homework 1.6.1.1__ Is $\\frac{3}{13}$ smaller than $\\frac{7}{30}$?"
   ]
  },
  {
   "cell_type": "markdown",
   "id": "185c817c",
   "metadata": {},
   "source": [
    "### 1.6.2 Multiplication of fractions"
   ]
  },
  {
   "cell_type": "markdown",
   "id": "cf30df60",
   "metadata": {},
   "source": [
    "The multiplication of fractions is quite simple. In __Equation 1.6.2.1__, we see two fractions, where each of $a,b,c$, and $d$ are integers, and neither $b$ nor $d$ are equal to $0$."
   ]
  },
  {
   "cell_type": "markdown",
   "id": "9c676807",
   "metadata": {},
   "source": [
    "$$\n",
    "\\frac{a}{b} \\times \\frac{c}{d} = \\frac{a \\times c}{b \\times d}\n",
    "\\tag{Equation 1.6.2.1}\n",
    "$$"
   ]
  },
  {
   "cell_type": "markdown",
   "id": "5ca90ec2",
   "metadata": {},
   "source": [
    "__Equation 1.6.2.2__ shows an example of multiplying two fractions."
   ]
  },
  {
   "cell_type": "markdown",
   "id": "5b4ee4bf",
   "metadata": {},
   "source": [
    "$$\n",
    "\\frac{3}{11} \\times \\frac{7}{20}\n",
    "\\tag{Equation 1.6.2.2}\n",
    "$$"
   ]
  },
  {
   "cell_type": "markdown",
   "id": "4477987b",
   "metadata": {},
   "source": [
    "We use `sympy` to solve the problem."
   ]
  },
  {
   "cell_type": "code",
   "execution_count": 112,
   "id": "2e8811ef",
   "metadata": {},
   "outputs": [
    {
     "data": {
      "image/png": "[encoded data removed]",
      "text/latex": [
       "$\\displaystyle \\frac{21}{220}$"
      ],
      "text/plain": [
       " 21\n",
       "───\n",
       "220"
      ]
     },
     "execution_count": 112,
     "metadata": {},
     "output_type": "execute_result"
    }
   ],
   "source": [
    "sympy.Rational(3, 11) * sympy.Rational(7, 20)"
   ]
  },
  {
   "cell_type": "markdown",
   "metadata": {},
   "source": [
    "Below, we calculate the same product using simple Python mathematical notation."
   ]
  },
  {
   "cell_type": "code",
   "execution_count": 113,
   "metadata": {},
   "outputs": [
    {
     "data": {
      "image/png": "[encoded data removed]",
      "text/latex": [
       "$\\displaystyle 0.0954545454545454$"
      ],
      "text/plain": [
       "0.09545454545454544"
      ]
     },
     "execution_count": 113,
     "metadata": {},
     "output_type": "execute_result"
    }
   ],
   "source": [
    "(3 / 11) * (7 / 20)"
   ]
  },
  {
   "cell_type": "markdown",
   "metadata": {},
   "source": [
    "The result is a numerical approximation."
   ]
  },
  {
   "cell_type": "markdown",
   "id": "3e53a4a0",
   "metadata": {},
   "source": [
    "Note that `sympy` will automatically simplify any fraction. In __Equation 1.6.2.3__ we see such a simplification where five tenths is eqal to a half."
   ]
  },
  {
   "cell_type": "markdown",
   "id": "30e7e877",
   "metadata": {},
   "source": [
    "$$\n",
    "\\frac{5}{10} = \\frac{1}{2}\n",
    "\\tag{Equation 1.6.2.3}\n",
    "$$"
   ]
  },
  {
   "cell_type": "markdown",
   "id": "4ae48c61",
   "metadata": {},
   "source": [
    "Below, we see that `sympy` simplifies the fraction."
   ]
  },
  {
   "cell_type": "code",
   "execution_count": 114,
   "id": "3ad3dbfc",
   "metadata": {},
   "outputs": [
    {
     "data": {
      "image/png": "[encoded data removed]",
      "text/latex": [
       "$\\displaystyle \\frac{1}{2}$"
      ],
      "text/plain": [
       "1/2"
      ]
     },
     "execution_count": 114,
     "metadata": {},
     "output_type": "execute_result"
    }
   ],
   "source": [
    "sympy.Rational(5, 10)"
   ]
  },
  {
   "cell_type": "markdown",
   "id": "4c363e39",
   "metadata": {},
   "source": [
    "### 1.6.3 The least common denominator"
   ]
  },
  {
   "cell_type": "markdown",
   "id": "6ccf343b",
   "metadata": {},
   "source": [
    "We have seen that comparisons of fractions are easier when the denominator is the same. Arithmetic with fraction is in general easier when the denominators are the same. In fact, in the case of addition and subtraction the denominators have to be the same. To do this, we need to find the least common denominator."
   ]
  },
  {
   "cell_type": "markdown",
   "id": "9fe84ec5",
   "metadata": {},
   "source": [
    "In __Equation 1.6.3.1__, we see the addition of two fractions. We rewrite each fraction by multiplying it by $1$, written as a fraction where the numerator and denominator are the denominator of the _other fraction_."
   ]
  },
  {
   "cell_type": "markdown",
   "id": "c8a111e7",
   "metadata": {},
   "source": [
    "$$\n",
    "\\begin{align*}\n",
    "\\frac{3}{4} + \\frac{5}{6} &= \\left( \\frac{3}{4} \\times \\frac{6}{6} \\right) + \\left( \\frac{5}{6} \\times \\frac{4}{4} \\right) \\\\ \\\\ \n",
    "&= \\frac{18}{24} + \\frac{20}{24} \n",
    "\\end{align*}\n",
    "\\tag{Equation 1.6.3.1}\n",
    "$$"
   ]
  },
  {
   "cell_type": "markdown",
   "id": "48a3e6fb",
   "metadata": {},
   "source": [
    "In __Equation 1.6.3.2__, we see an alternative way to solve __Equation 1.6.3.1__."
   ]
  },
  {
   "cell_type": "markdown",
   "id": "95160f6f",
   "metadata": {},
   "source": [
    "$$\n",
    "\\begin{align*}\n",
    "\\frac{3}{4} + \\frac{5}{6} &= \\left( \\frac{3}{4} \\times \\frac{3}{3} \\right) + \\left( \\frac{5}{6} \\times \\frac{2}{2} \\right) \\\\ \\\\ \n",
    "&= \\frac{9}{12} + \\frac{10}{12} \n",
    "\\end{align*}\n",
    "\\tag{Equation 1.6.3.2}\n",
    "$$"
   ]
  },
  {
   "cell_type": "markdown",
   "id": "9bad06fd",
   "metadata": {},
   "source": [
    "We have recognized that $12$ is the least common denominator between $4$ and $6$. Both $4$ and $6$ divide $12$. We can use the `lcm` function from the `sympy` package to find the least common denominator."
   ]
  },
  {
   "cell_type": "code",
   "execution_count": 115,
   "id": "defda522",
   "metadata": {},
   "outputs": [
    {
     "data": {
      "image/png": "[encoded data removed]",
      "text/latex": [
       "$\\displaystyle 12$"
      ],
      "text/plain": [
       "12"
      ]
     },
     "execution_count": 115,
     "metadata": {},
     "output_type": "execute_result"
    }
   ],
   "source": [
    "sympy.lcm(4, 6)"
   ]
  },
  {
   "cell_type": "markdown",
   "id": "6bc67d07",
   "metadata": {},
   "source": [
    "We still have to determine if the solutions in __Equation 1.6.3.1__ and in __Equation 1.6.3.2__ are the same. To do this, we see the rule of addition of fractions in __Equation 1.6.3.3__. Fractions can only be added (or subtracted) if they have the same denominator. The addition of two fractions with the same denominator is shown in __Equation 1.6.3.3__ where $c \\ne 0$ and $a,b,$ and $c$ are integers."
   ]
  },
  {
   "cell_type": "markdown",
   "id": "64ceac90",
   "metadata": {},
   "source": [
    "$$\n",
    "\\frac{a}{c} + \\frac{b}{c} = \\frac{a+b}{c}\n",
    "\\tag{Equation 1.6.3.3}\n",
    "$$"
   ]
  },
  {
   "cell_type": "markdown",
   "id": "8d828d86",
   "metadata": {},
   "source": [
    "Our two solutions are shown in __Equation 1.6.3.4__."
   ]
  },
  {
   "cell_type": "markdown",
   "id": "2f919c8b",
   "metadata": {},
   "source": [
    "$$\n",
    "\\frac{38}{24} \\text{ and } \\frac{19}{12}\n",
    "\\tag{Equation 1.6.3.4}\n",
    "$$"
   ]
  },
  {
   "cell_type": "markdown",
   "id": "63274710",
   "metadata": {},
   "source": [
    "These two fractions are indeed the same. In __Equation 1.6.3.5__ we simplify thirty-eight twenty-fourths by multiplying it by $1$ in the form of a half over a half."
   ]
  },
  {
   "cell_type": "markdown",
   "id": "96caa66f",
   "metadata": {},
   "source": [
    "$$\n",
    "\\begin{align*}\n",
    "&\\frac{38}{24} \\times \\frac{\\frac{1}{2}}{\\frac{1}{2}} = \\frac{\\frac{38}{2}}{\\frac{24}{2}} = \\frac{19}{12}\n",
    "\\end{align*}\n",
    "\\tag{1.6.3.5}\n",
    "$$"
   ]
  },
  {
   "cell_type": "markdown",
   "id": "97240b55",
   "metadata": {},
   "source": [
    "We can use `sympy` to verify this."
   ]
  },
  {
   "cell_type": "code",
   "execution_count": 116,
   "id": "032d14f6",
   "metadata": {},
   "outputs": [
    {
     "data": {
      "image/png": "[encoded data removed]",
      "text/latex": [
       "$\\displaystyle \\frac{19}{12}$"
      ],
      "text/plain": [
       "19\n",
       "──\n",
       "12"
      ]
     },
     "execution_count": 116,
     "metadata": {},
     "output_type": "execute_result"
    }
   ],
   "source": [
    "sympy.Rational(38, 24)"
   ]
  },
  {
   "cell_type": "markdown",
   "id": "613de897",
   "metadata": {},
   "source": [
    "This brings us to an important topic for the least common denominator. We can _break down_ or rewrite any integer into the multilication of other interegers. In more advanced algebra, we learn that these _other integers_ (if the _break down_ is complete) are all prime numbers (numbers that are only divisible by $1$ and themselves). We see an example in __Equation 1.6.3.6__, where we consider the integers that multiply to get $18$ and $9$, with $18 = 2 \\times 3 \\times 3$ and $9 = 3 \\times 3$."
   ]
  },
  {
   "cell_type": "markdown",
   "id": "f16cade3",
   "metadata": {},
   "source": [
    "$$\n",
    "\\begin{array}{cccc}\n",
    "18: & 2 & 3 & 3 \\\\ \n",
    "9: & & 3 & 3\n",
    "\\end{array}\n",
    "\\tag{Equation 1.6.3.6}\n",
    "$$"
   ]
  },
  {
   "cell_type": "markdown",
   "id": "b6f70ee7",
   "metadata": {},
   "source": [
    "We have taken care to write similar numbers in the same columns. In __Equation 1.6.3.7__, we add a new line by _bringing down_ or representing all the numbers."
   ]
  },
  {
   "cell_type": "markdown",
   "id": "bb492f9b",
   "metadata": {},
   "source": [
    "$$\n",
    "\\begin{array}{cccc}\n",
    "18: & 2 & 3 & 3 \\\\ \n",
    "9: & & 3 & 3 \\\\ \n",
    "- & - & - & - \\\\ \n",
    " & 2 & 3 & 3\n",
    "\\end{array}\n",
    "\\tag{1.6.3.7}\n",
    "$$"
   ]
  },
  {
   "cell_type": "markdown",
   "id": "3fe0d3e5",
   "metadata": {},
   "source": [
    "If we multiply the numbers in the new row in __Equation 1.6.3.7__, we find the least common denominator of $18$ and $9$, which is $2 \\times 3 \\times 3 = 18$. So, instead of __Equation 1.6.3.8__, we can do __Equation 1.6.3.9__."
   ]
  },
  {
   "cell_type": "markdown",
   "id": "d098ce5d",
   "metadata": {},
   "source": [
    "$$\n",
    "\\begin{align*}\n",
    "\\text{Longer method: } \\\\ \\\\\n",
    "\\frac{4}{9} + \\frac{11}{18} &= \\left( \\frac{4}{9} \\times \\frac{18}{18} \\right) + \\left( \\frac{11}{18} \\times \\frac{9}{9} \\right) \\\\ \\\\ \n",
    "&= \\frac{72}{162} + \\frac{99}{162} \\\\ \\\\ \n",
    "&= \\frac{171}{192}\n",
    "\\end{align*}\n",
    "\\tag{Equation 1.6.3.8}\n",
    "$$"
   ]
  },
  {
   "cell_type": "markdown",
   "id": "1938146e",
   "metadata": {},
   "source": [
    "$$\n",
    "\\begin{align*}\n",
    "\\text{Shorther method: } \\\\ \\\\\n",
    "\\frac{4}{9} + \\frac{11}{18} &= \\left( \\frac{4}{9} \\times \\frac{2}{2} \\right) + \\left( \\frac{11}{18} \\right) \\\\ \\\\ \n",
    "&= \\frac{8}{18} + \\frac{11}{18} \\\\ \\\\ \n",
    "&= \\frac{19}{18}\n",
    "\\end{align*}\n",
    "\\tag{1.6.3.9}\n",
    "$$"
   ]
  },
  {
   "cell_type": "markdown",
   "id": "a7c6b3f4",
   "metadata": {},
   "source": [
    "We recognized that we do not have to perform the multiplication by rewriting $1$ as a fraction using the _other_ fraction's denominator. Since $18$ was the least common denominator, we only have to consider how to change the $9$ into an $18$ and that was mutiplying by $2$."
   ]
  },
  {
   "cell_type": "markdown",
   "id": "3e93d2a0",
   "metadata": {},
   "source": [
    "__Problem 1.6.3.1__ Find the least common denominator of $12$ and $15$."
   ]
  },
  {
   "cell_type": "markdown",
   "id": "03ef918a",
   "metadata": {},
   "source": [
    "The process of _breaking down_ an integer can be tedious. For the relatively small integers that we deal with in the life sciences, we can start by dividing repeatedly by $2$, then $3$, then $5$, and so on, using the primes in an iterative process. Remember, that primes are only divisible by $1$ and themselves. We do so for $12$ and $15$ in __Equation 1.6.3.10__"
   ]
  },
  {
   "cell_type": "markdown",
   "id": "872ab028",
   "metadata": {},
   "source": [
    "$$\n",
    "\\begin{array}{ccccc}\n",
    "12: & 2 & 2 & 3 & \\\\ \n",
    "15: & &  & 3 & 5 \\\\ \n",
    "- & - & - & - & - \\\\ \n",
    " & 2 & 2 & 3 & 5\n",
    "\\end{array}\n",
    "\\tag{Equation 1.6.3.10}\n",
    "$$"
   ]
  },
  {
   "cell_type": "markdown",
   "id": "dca7edfd",
   "metadata": {},
   "source": [
    "We have that $2 \\times 2 \\times 3 \\times 5 = 60$. This is smaller than $12 \\times 15 = 180$. We can use the `lcm` function from the `sympy` package to verify our result."
   ]
  },
  {
   "cell_type": "code",
   "execution_count": 117,
   "id": "62672103",
   "metadata": {},
   "outputs": [
    {
     "data": {
      "image/png": "[encoded data removed]",
      "text/latex": [
       "$\\displaystyle 60$"
      ],
      "text/plain": [
       "60"
      ]
     },
     "execution_count": 117,
     "metadata": {},
     "output_type": "execute_result"
    }
   ],
   "source": [
    "sympy.lcm(12, 15)"
   ]
  },
  {
   "cell_type": "markdown",
   "id": "aff14797",
   "metadata": {},
   "source": [
    "__Homework 1.6.3.1__ Find the least common multiple of $13$ and $17$."
   ]
  },
  {
   "cell_type": "markdown",
   "id": "999a3c21",
   "metadata": {},
   "source": [
    "__Problem 1.6.3.2__ Add the fractions in __Eqiation 1.6.3.11__."
   ]
  },
  {
   "cell_type": "markdown",
   "id": "aea13fe1",
   "metadata": {},
   "source": [
    "$$\n",
    "\\frac{5}{12} + \\frac{7}{15}\n",
    "\\tag{Equation 1.6.3.11}\n",
    "$$"
   ]
  },
  {
   "cell_type": "markdown",
   "id": "48704e59",
   "metadata": {},
   "source": [
    "We have to _turn_ $12$ into $60$ and $15$ into $60$. This is simple and is shown in __Equation 1.6.3.12__."
   ]
  },
  {
   "cell_type": "markdown",
   "id": "0da244a2",
   "metadata": {},
   "source": [
    "$$\n",
    "\\frac{60}{12} = 5, \\; \\; \\frac{60}{15} = 4\n",
    "\\tag{Equation 1.6.3.12}\n",
    "$$"
   ]
  },
  {
   "cell_type": "markdown",
   "id": "66f4adfd",
   "metadata": {},
   "source": [
    "We have found the way to rewrite $1$ as fractions for this problem. The solution is shown in __Equation 1.6.3.13__."
   ]
  },
  {
   "cell_type": "markdown",
   "id": "3bd33781",
   "metadata": {},
   "source": [
    "$$\n",
    "\\begin{align*}\n",
    "\\frac{5}{12} + \\frac{7}{15} &= \\left( \\frac{5}{12} \\times \\frac{5}{5} \\right) + \\left( \\frac{7}{15} \\times \\frac{4}{4} \\right) \\\\ \\\\ \n",
    "&= \\frac{25}{60} + \\frac{28}{60} \\\\ \\\\ \n",
    "&= \\frac{25 + 28}{60} \\\\ \\\\ \n",
    "&= \\frac{53}{60}\n",
    "\\end{align*}\n",
    "\\tag{Equation 1.6.3.13}\n",
    "$$"
   ]
  },
  {
   "cell_type": "markdown",
   "id": "cb6bfbed",
   "metadata": {},
   "source": [
    "We use `sympy` to confirm the result."
   ]
  },
  {
   "cell_type": "code",
   "execution_count": 118,
   "id": "0b1a57fd",
   "metadata": {},
   "outputs": [
    {
     "data": {
      "image/png": "[encoded data removed]",
      "text/latex": [
       "$\\displaystyle \\frac{53}{60}$"
      ],
      "text/plain": [
       "53\n",
       "──\n",
       "60"
      ]
     },
     "execution_count": 118,
     "metadata": {},
     "output_type": "execute_result"
    }
   ],
   "source": [
    "sympy.Rational(5, 12) + sympy.Rational(7, 15)"
   ]
  },
  {
   "cell_type": "markdown",
   "id": "f5ae86cf",
   "metadata": {},
   "source": [
    "__Homework 1.6.3.2__ Add the fractions in __Equation 1.6.3.14__."
   ]
  },
  {
   "cell_type": "markdown",
   "id": "763126af",
   "metadata": {},
   "source": [
    "$$\n",
    "\\frac{7}{12} + \\frac{5}{6}\n",
    "\\tag{Equation 1.6.3.14}\n",
    "$$"
   ]
  },
  {
   "cell_type": "markdown",
   "id": "f759b6b2",
   "metadata": {},
   "source": [
    "### 1.6.4 Remainders"
   ]
  },
  {
   "cell_type": "markdown",
   "id": "c46afacb",
   "metadata": {},
   "source": [
    "A fraction does not change in value if we divide the numerator and the denominator by the same value. This is shown in __Equation 1.6.4.1__."
   ]
  },
  {
   "cell_type": "markdown",
   "id": "939cc634",
   "metadata": {},
   "source": [
    "$$\n",
    "\\frac{p}{q} = \\frac{\\frac{p}{k}}{\\frac{q}{k}}, \\text{ where } p,k \\ne 0\n",
    "\\tag{Equation 1.6.4.1}\n",
    "$$"
   ]
  },
  {
   "cell_type": "markdown",
   "id": "6dd869c1",
   "metadata": {},
   "source": [
    "In __Equation 1.6.4.2__, we note the equality between six-eights and a three-quarters."
   ]
  },
  {
   "cell_type": "markdown",
   "id": "122b67b7",
   "metadata": {},
   "source": [
    "$$\n",
    "\\frac{6}{8} = \\frac{\\frac{6}{2}}{\\frac{8}{2}} = \\frac{3}{4}\n",
    "\\tag{Equation 1.6.4.2}\n",
    "$$"
   ]
  },
  {
   "cell_type": "markdown",
   "id": "8b52a4e7",
   "metadata": {},
   "source": [
    "In the case of six-eigths, we can divide the numberator and the denominator by the same number (and hence not change the value of the fraction). In this case, we can divide both by $2$ to get theee quarters. To do the simplification, we made use of the fact that $2$ divides both $6$ and $8$."
   ]
  },
  {
   "cell_type": "markdown",
   "id": "d419d85a",
   "metadata": {},
   "source": [
    "We could not divide $3$ and $4$ by another integer that divides both $3$ and $4$. By divides in this case, we mean, division without a remainder, or then, a remainder of $0$."
   ]
  },
  {
   "cell_type": "markdown",
   "id": "679ac386",
   "metadata": {},
   "source": [
    "Consider, though, dividing $11$ by $4$. We know that $4$ does not divide $10$. If we divide $11$ by $4$ and still require this division to produce a whole number, we can at best get $2$ with a remainder of $3$. We see this in __Equation 1.6.4.3__."
   ]
  },
  {
   "cell_type": "markdown",
   "id": "13ede2c8",
   "metadata": {},
   "source": [
    "$$\n",
    "\\frac{11}{4} = 2 \\text{ with a remainder of } 3 \n",
    "\\tag{Equation 1.6.4.3}\n",
    "$$"
   ]
  },
  {
   "cell_type": "markdown",
   "id": "aa1d4264",
   "metadata": {},
   "source": [
    "We have that $4$ divides into $11$ twice, with a remainder of $3$ since $2 \\times 4 = 8$ and $8 + 3 = 12$. We can write this in more egneral terms as shown in __Equation 1.6.4.4__."
   ]
  },
  {
   "cell_type": "markdown",
   "id": "6843eb40",
   "metadata": {},
   "source": [
    "$$\n",
    "\\begin{align*}\n",
    "&11 = 2 \\times 4 + 3 \\\\ \\\\\n",
    "&b = c a + r\n",
    "\\end{align*}\n",
    "\\tag{Equation 1.6.4.4}\n",
    "$$"
   ]
  },
  {
   "cell_type": "markdown",
   "id": "fac266fe",
   "metadata": {},
   "source": [
    "If $r=0$, we say that $a$ divides $b$ and $b=ca$, or then, $b$ is a constant multiple of $a$."
   ]
  },
  {
   "cell_type": "markdown",
   "id": "0609ee99",
   "metadata": {},
   "source": [
    "__Problem 1.6.4.1__ Caclulate the remainder when $13$ is divided by $2$."
   ]
  },
  {
   "cell_type": "markdown",
   "id": "05ef6ba6",
   "metadata": {},
   "source": [
    "We note that $2$ goes into $13$ a total of $6$ times. Since $6 \\times 2 = 12$, we have a remainder of $1$. In __Equation 1.6.4.5__ we see the calculation. In the last line we also see a common notation for the remainder, where we state that $13$ divided by $2$ is $6$ and a half."
   ]
  },
  {
   "cell_type": "markdown",
   "id": "27f8a583",
   "metadata": {},
   "source": [
    "$$\n",
    "\\begin{align*}\n",
    "&\\frac{13}{2} = 6 \\text{ with a remainder of } 1 \\\\ \\\\\n",
    "&\\frac{13}{2} = 6 \\, \\frac{1}{2}\n",
    "\\end{align*}\n",
    "\\tag{Equation 1.6.4.5}\n",
    "$$"
   ]
  },
  {
   "cell_type": "markdown",
   "id": "58b6d4ab",
   "metadata": {},
   "source": [
    "The `Mod` function in `sympy` returns the remainder and we use it below to verify the result."
   ]
  },
  {
   "cell_type": "code",
   "execution_count": 119,
   "id": "ef98c374",
   "metadata": {},
   "outputs": [
    {
     "data": {
      "image/png": "[encoded data removed]",
      "text/latex": [
       "$\\displaystyle 1$"
      ],
      "text/plain": [
       "1"
      ]
     },
     "execution_count": 119,
     "metadata": {},
     "output_type": "execute_result"
    }
   ],
   "source": [
    "sympy.Mod(13, 2)"
   ]
  },
  {
   "cell_type": "markdown",
   "id": "a779a9c2",
   "metadata": {},
   "source": [
    "__Homework 1.6.4.1__ What is the remainder when we divide $125$ by $7$."
   ]
  },
  {
   "cell_type": "markdown",
   "id": "58405e97-adb2-4226-96db-266f49950c7e",
   "metadata": {
    "jp-MarkdownHeadingCollapsed": true,
    "tags": []
   },
   "source": [
    "## 1.7 Trigonometric functions (optional)"
   ]
  },
  {
   "cell_type": "markdown",
   "id": "688c56f7",
   "metadata": {},
   "source": [
    "In this section, we take a brief look at basic trigonometry. The trigonomtery that we explore here concenrs the right triangled triangle. A right triangle is a triangle with one angle of $90^{\\circ}$."
   ]
  },
  {
   "cell_type": "markdown",
   "id": "15779e9a",
   "metadata": {},
   "source": [
    "__Figure 1.7.1__ shows a right triangle with the angle $\\theta$. The sides are named in relation to the angle $\\theta$."
   ]
  },
  {
   "cell_type": "code",
   "execution_count": 120,
   "id": "f5efe4d3",
   "metadata": {},
   "outputs": [
    {
     "data": {
      "image/png": "[encoded data removed]",
      "text/plain": [
       "<Figure size 640x480 with 1 Axes>"
      ]
     },
     "metadata": {
      "image/png": {
       "height": 410,
       "width": 515
      }
     },
     "output_type": "display_data"
    }
   ],
   "source": [
    "# Use matplotlib to plot a triangle\n",
    "fig, ax = pyplot.subplots()\n",
    "ax.plot([0, 1, 0, 0], [0, 0, 1, 0], 'k')\n",
    "ax.set_title('Figure 1.7.1')\n",
    "pyplot.xlim(-1, 1.5)\n",
    "pyplot.ylim(-0.5, 1.5)\n",
    "pyplot.vlines(0, 0, 1, color='black')\n",
    "pyplot.gca().spines['top'].set_visible(False)\n",
    "pyplot.gca().spines['right'].set_visible(False)\n",
    "pyplot.gca().spines['bottom'].set_visible(False)\n",
    "pyplot.gca().spines['left'].set_visible(False)\n",
    "pyplot.text(0.25, -0.125, 'adjacent', fontsize=12, color='black')\n",
    "pyplot.text(-0.5, 0.5, 'opposite', fontsize=12, color='black')\n",
    "pyplot.text(0.55, 0.5, 'hypoteneuse', fontsize=12, color='black')\n",
    "pyplot.text(0.75, 0.047, r'$\\theta$', fontsize=12, color='black')\n",
    "pyplot.xticks([])\n",
    "pyplot.yticks([])\n",
    "pyplot.show()"
   ]
  },
  {
   "cell_type": "markdown",
   "id": "6bbf694e",
   "metadata": {},
   "source": [
    "The trigonometric functions sine, cosine, tangent, cosine, secant, and cotangent are defined in __Equation 1.7.1__."
   ]
  },
  {
   "cell_type": "markdown",
   "id": "106d5f22",
   "metadata": {},
   "source": [
    "$$\n",
    "\\begin{align*}\n",
    "&\\text{Sine: } \\sin{\\theta} = \\frac{\\text{opposite}}{\\text{hypotenuse}} \\\\ \\\\\n",
    "&\\text{Cosine: } \\cos{\\theta} = \\frac{\\text{adjacent}}{\\text{hypotenuse}} \\\\ \\\\\n",
    "&\\text{Tangent: } \\tan{\\theta} = \\frac{\\text{opposite}}{\\text{adjacent}} \\\\ \\\\\n",
    "&\\text{Cosecant: } \\csc{\\theta} = \\frac{\\text{hypotenuse}}{\\text{opposite}} \\\\ \\\\\n",
    "&\\text{Secant: } \\sec{\\theta} = \\frac{\\text{hypotenuse}}{\\text{adjacent}} \\\\ \\\\\n",
    "&\\text{Cotangent: } \\cot{\\theta} = \\frac{\\text{adjacent}}{\\text{opposite}}\n",
    "\\end{align*}\n",
    "\\tag{Equation 1.7.1}\n",
    "$$"
   ]
  },
  {
   "cell_type": "markdown",
   "id": "27264c1d",
   "metadata": {},
   "source": [
    "It is common to use $\\pi$ when dealing with trigonometric functions. We can express $pi$ as a numerical approximation using the `numpy` package and as an exact value using the `sympy` package."
   ]
  },
  {
   "cell_type": "code",
   "execution_count": 121,
   "id": "8c28f6cb-2469-4d89-ae96-eb1a437c7995",
   "metadata": {},
   "outputs": [
    {
     "data": {
      "image/png": "[encoded data removed]",
      "text/latex": [
       "$\\displaystyle 3.14159265358979$"
      ],
      "text/plain": [
       "3.141592653589793"
      ]
     },
     "execution_count": 121,
     "metadata": {},
     "output_type": "execute_result"
    }
   ],
   "source": [
    "numpy.pi"
   ]
  },
  {
   "cell_type": "code",
   "execution_count": 122,
   "id": "44f1c93e",
   "metadata": {},
   "outputs": [
    {
     "data": {
      "image/png": "[encoded data removed]",
      "text/latex": [
       "$\\displaystyle \\pi$"
      ],
      "text/plain": [
       "π"
      ]
     },
     "execution_count": 122,
     "metadata": {},
     "output_type": "execute_result"
    }
   ],
   "source": [
    "sympy.pi"
   ]
  },
  {
   "cell_type": "markdown",
   "id": "4ea5bd1b",
   "metadata": {},
   "source": [
    "There are two common measures of any angle $\\theta$. We can use degrees or radians. Degrees span a circle from $0^{\\circ}$ to $360^{\\circ}$. Radians span a circle from $0$ to $2\\pi$. We can convert between degrees and radians using __Equation 1.7.2__."
   ]
  },
  {
   "cell_type": "markdown",
   "id": "b146abce",
   "metadata": {},
   "source": [
    "$$\n",
    "\\begin{align*}\n",
    "&\\text{Degrees to radians: } \\theta \\times \\frac{\\pi}{180} \\\\ \\\\\n",
    "&\\text{Radians to degrees: } \\theta \\times \\frac{180}{\\pi}\n",
    "\\end{align*}\n",
    "\\tag{Equation 1.7.2}\n",
    "$$"
   ]
  },
  {
   "cell_type": "markdown",
   "id": "5a4a8be1",
   "metadata": {},
   "source": [
    "We can also use code to convert between degrees and radians. We use the `radians` function from the `numpy` package to convert degrees to radians. We use the `degrees` function from the `numpy` package to convert radians to degrees."
   ]
  },
  {
   "cell_type": "code",
   "execution_count": 123,
   "id": "a3626e15-9f8d-485b-adbf-ebbd6dcf70ef",
   "metadata": {},
   "outputs": [
    {
     "data": {
      "image/png": "[encoded data removed]",
      "text/latex": [
       "$\\displaystyle 3.14159265358979$"
      ],
      "text/plain": [
       "3.141592653589793"
      ]
     },
     "execution_count": 123,
     "metadata": {},
     "output_type": "execute_result"
    }
   ],
   "source": [
    "numpy.radians(180)"
   ]
  },
  {
   "cell_type": "code",
   "execution_count": 124,
   "id": "faab1700-c8d9-4844-beca-e22d7169ad0c",
   "metadata": {},
   "outputs": [
    {
     "data": {
      "image/png": "[encoded data removed]",
      "text/latex": [
       "$\\displaystyle 180.0$"
      ],
      "text/plain": [
       "180.0"
      ]
     },
     "execution_count": 124,
     "metadata": {},
     "output_type": "execute_result"
    }
   ],
   "source": [
    "numpy.degrees(numpy.pi)"
   ]
  },
  {
   "cell_type": "markdown",
   "id": "c2424563",
   "metadata": {},
   "source": [
    "__Problem 1.7.1__ Calculate the sine of $\\pi$ radians."
   ]
  },
  {
   "cell_type": "markdown",
   "id": "49c84b96",
   "metadata": {},
   "source": [
    "The `sympy` package contains functions for all the trigonometric functions. These functions use angles is radians. We use the `sin` function to calculate the sine of $\\pi$."
   ]
  },
  {
   "cell_type": "code",
   "execution_count": 125,
   "id": "561043e3",
   "metadata": {},
   "outputs": [
    {
     "data": {
      "image/png": "[encoded data removed]",
      "text/latex": [
       "$\\displaystyle 0$"
      ],
      "text/plain": [
       "0"
      ]
     },
     "execution_count": 125,
     "metadata": {},
     "output_type": "execute_result"
    }
   ],
   "source": [
    "# Calculate the sime of pi radians\n",
    "sympy.sin(sympy.pi)"
   ]
  },
  {
   "cell_type": "markdown",
   "id": "e5f886b0",
   "metadata": {},
   "source": [
    "__Problem 1.7.2__ Calculate the cosine of $\\frac{\\pi}{2}$ radians."
   ]
  },
  {
   "cell_type": "markdown",
   "id": "f3732f40",
   "metadata": {},
   "source": [
    "We use the `cos` function from the `sympy` package to calculate the cosine."
   ]
  },
  {
   "cell_type": "code",
   "execution_count": 126,
   "id": "c2de27a1",
   "metadata": {},
   "outputs": [
    {
     "data": {
      "image/png": "[encoded data removed]",
      "text/latex": [
       "$\\displaystyle 0$"
      ],
      "text/plain": [
       "0"
      ]
     },
     "execution_count": 126,
     "metadata": {},
     "output_type": "execute_result"
    }
   ],
   "source": [
    "# calculate the cosine of a half pi radians\n",
    "sympy.cos(sympy.pi / 2)"
   ]
  },
  {
   "cell_type": "code",
   "execution_count": null,
   "id": "52980b50",
   "metadata": {},
   "outputs": [],
   "source": []
  },
  {
   "cell_type": "markdown",
   "id": "b378e350",
   "metadata": {},
   "source": [
    "__Problem 1.7.3__ Calculate the tangent of $\\frac{\\pi}{6}$."
   ]
  },
  {
   "cell_type": "markdown",
   "id": "f45464d6",
   "metadata": {},
   "source": [
    "We use the `tan` function from the `sympy` package to calculate the tangent."
   ]
  },
  {
   "cell_type": "code",
   "execution_count": 128,
   "id": "a17e0b8b",
   "metadata": {},
   "outputs": [
    {
     "data": {
      "image/png": "[encoded data removed]",
      "text/latex": [
       "$\\displaystyle \\frac{\\sqrt{3}}{3}$"
      ],
      "text/plain": [
       "√3\n",
       "──\n",
       "3 "
      ]
     },
     "execution_count": 128,
     "metadata": {},
     "output_type": "execute_result"
    }
   ],
   "source": [
    "# calculate the tangent of pi over 6\n",
    "sympy.tan(sympy.pi / 6)"
   ]
  }
 ],
 "metadata": {
  "kernelspec": {
   "display_name": "Python 3 (ipykernel)",
   "language": "python",
   "name": "python3"
  },
  "language_info": {
   "codemirror_mode": {
    "name": "ipython",
    "version": 3
   },
   "file_extension": ".py",
   "mimetype": "text/x-python",
   "name": "python",
   "nbconvert_exporter": "python",
   "pygments_lexer": "ipython3",
   "version": "3.10.9"
  }
 },
 "nbformat": 4,
 "nbformat_minor": 5
}
