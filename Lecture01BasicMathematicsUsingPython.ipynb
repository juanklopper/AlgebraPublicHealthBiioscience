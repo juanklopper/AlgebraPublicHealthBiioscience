{
 "cells": [
  {
   "cell_type": "markdown",
   "id": "fb6cab3f-4fb5-4575-8977-54096745d3a7",
   "metadata": {},
   "source": [
    "# 1 | MATHEMATICS BASICS USING PYTHON"
   ]
  },
  {
   "cell_type": "markdown",
   "id": "49d45e7c",
   "metadata": {},
   "source": [
    "## 1.1 Introdution"
   ]
  },
  {
   "cell_type": "markdown",
   "id": "22d9bfcf-09c9-4bfb-b6e6-ae26bc3147dd",
   "metadata": {
    "jp-MarkdownHeadingCollapsed": true,
    "tags": []
   },
   "source": [
    "## 1.2 Python functions"
   ]
  },
  {
   "cell_type": "markdown",
   "id": "d2d382cc-85b0-468e-b225-5881c7268c8e",
   "metadata": {},
   "source": [
    "The Python language contains many keywords that are part of the language. These keywords are reserved words. Given some input, the functions produce a result."
   ]
  },
  {
   "cell_type": "markdown",
   "id": "62be1775-30ce-4569-b978-2f6b999c1e6f",
   "metadata": {},
   "source": [
    "In the example below, we use the `print()` function. Note the use of parentheses that directly follow the function name. It is inside of the parentheses that we pass the input that the function can use. The `print()` function prints the information that it gets (inside the parentheses) to the screen. We pass a string (identified as such by the enclosing quotation marks)."
   ]
  },
  {
   "cell_type": "code",
   "execution_count": 1,
   "id": "b93ff6a9-01b5-4e64-aee4-4e4a34c11469",
   "metadata": {},
   "outputs": [
    {
     "name": "stdout",
     "output_type": "stream",
     "text": [
      "This is Python.\n"
     ]
    }
   ],
   "source": [
    "print(\"This is Python.\")"
   ]
  },
  {
   "cell_type": "markdown",
   "id": "7f504482-f6a6-41ed-95bb-1b9050ff89cb",
   "metadata": {
    "tags": []
   },
   "source": [
    "## Packages"
   ]
  },
  {
   "cell_type": "markdown",
   "id": "ac6a054a-878d-4683-9da8-0bc1f7750959",
   "metadata": {},
   "source": [
    "While there are many functions in Python, we can extend the language with packages that contains many more functions."
   ]
  },
  {
   "cell_type": "code",
   "execution_count": 1,
   "id": "aea67e45-6af5-4ae5-8689-25806f67ca11",
   "metadata": {},
   "outputs": [],
   "source": [
    "import sympy"
   ]
  },
  {
   "cell_type": "code",
   "execution_count": 2,
   "id": "74a2803b-7527-4701-9091-c2590f174c81",
   "metadata": {},
   "outputs": [],
   "source": [
    "sympy.init_printing()"
   ]
  },
  {
   "cell_type": "code",
   "execution_count": 3,
   "id": "c4e7cfd6-68c0-47c8-948e-921748af4b7e",
   "metadata": {},
   "outputs": [],
   "source": [
    "import math"
   ]
  },
  {
   "cell_type": "code",
   "execution_count": 4,
   "id": "35f0e1f3-d7e4-468b-bb21-5f1a5abf7605",
   "metadata": {},
   "outputs": [],
   "source": [
    "from matplotlib import pyplot"
   ]
  },
  {
   "cell_type": "code",
   "execution_count": 5,
   "id": "ef9c4921",
   "metadata": {},
   "outputs": [],
   "source": [
    "%config InlineBackend.figure_format = 'retina'"
   ]
  },
  {
   "cell_type": "code",
   "execution_count": 6,
   "id": "a322d30e-ab5f-4a92-aead-07d8f11a031d",
   "metadata": {},
   "outputs": [],
   "source": [
    "import numpy"
   ]
  },
  {
   "cell_type": "markdown",
   "id": "879044e2-9ec5-4335-bab4-ae7d811a5bd2",
   "metadata": {
    "jp-MarkdownHeadingCollapsed": true,
    "tags": []
   },
   "source": [
    "## Number types"
   ]
  },
  {
   "cell_type": "markdown",
   "id": "d91cfa83-a7e3-46d5-9a42-c04b5735d927",
   "metadata": {
    "jp-MarkdownHeadingCollapsed": true,
    "tags": []
   },
   "source": [
    "### Computer number types"
   ]
  },
  {
   "cell_type": "markdown",
   "id": "8dcba368-3d2a-40d5-b166-72ffed01db57",
   "metadata": {},
   "source": [
    "We use the `type()` function to return the type of a Python object."
   ]
  },
  {
   "cell_type": "code",
   "execution_count": 7,
   "id": "cb8dbff1-182e-4006-bd1c-aae1fa5eaf2e",
   "metadata": {},
   "outputs": [
    {
     "data": {
      "text/plain": [
       "str"
      ]
     },
     "execution_count": 7,
     "metadata": {},
     "output_type": "execute_result"
    }
   ],
   "source": [
    "type(\"This is Python.\")"
   ]
  },
  {
   "cell_type": "code",
   "execution_count": 8,
   "id": "a6ccf7f8-cdfe-42ef-a85f-c52b5aed96c3",
   "metadata": {},
   "outputs": [
    {
     "data": {
      "text/plain": [
       "int"
      ]
     },
     "execution_count": 8,
     "metadata": {},
     "output_type": "execute_result"
    }
   ],
   "source": [
    "type(1)"
   ]
  },
  {
   "cell_type": "code",
   "execution_count": 9,
   "id": "05325bf8-5f7b-4897-a5a1-2a0b0ddb9f36",
   "metadata": {},
   "outputs": [
    {
     "data": {
      "text/plain": [
       "float"
      ]
     },
     "execution_count": 9,
     "metadata": {},
     "output_type": "execute_result"
    }
   ],
   "source": [
    "type(1.0)"
   ]
  },
  {
   "cell_type": "code",
   "execution_count": 10,
   "id": "f1dbb94a-1503-408b-9f15-12d7205b5ea1",
   "metadata": {},
   "outputs": [
    {
     "data": {
      "text/plain": [
       "complex"
      ]
     },
     "execution_count": 10,
     "metadata": {},
     "output_type": "execute_result"
    }
   ],
   "source": [
    "type(1j)"
   ]
  },
  {
   "cell_type": "markdown",
   "id": "d739c2e3-425e-4194-8bd2-21bb73b8ea26",
   "metadata": {
    "jp-MarkdownHeadingCollapsed": true,
    "tags": []
   },
   "source": [
    "### Mathematical number types"
   ]
  },
  {
   "cell_type": "markdown",
   "id": "3772d6ae",
   "metadata": {},
   "source": [
    "The counting numbers $\\mathbb{N} = \\{ 1,2,3,4,\\ldots \\}$."
   ]
  },
  {
   "cell_type": "code",
   "execution_count": 11,
   "id": "8c0f0d85-020e-4733-a9d7-e3c2bbe6ca08",
   "metadata": {},
   "outputs": [
    {
     "data": {
      "image/png": "[encoded data removed]",
      "text/latex": [
       "$\\displaystyle 1$"
      ],
      "text/plain": [
       "1"
      ]
     },
     "execution_count": 11,
     "metadata": {},
     "output_type": "execute_result"
    }
   ],
   "source": [
    "# Example of a counting number\n",
    "1"
   ]
  },
  {
   "cell_type": "markdown",
   "id": "ce396c18",
   "metadata": {},
   "source": [
    "The natural numbers, $\\mathbb{N}_{0} = \\{ 0,1,2,3,4,\\ldots \\}$."
   ]
  },
  {
   "cell_type": "code",
   "execution_count": 12,
   "id": "bf300ee2",
   "metadata": {},
   "outputs": [
    {
     "data": {
      "image/png": "[encoded data removed]",
      "text/latex": [
       "$\\displaystyle 0$"
      ],
      "text/plain": [
       "0"
      ]
     },
     "execution_count": 12,
     "metadata": {},
     "output_type": "execute_result"
    }
   ],
   "source": [
    "# Example of a natural number\n",
    "0"
   ]
  },
  {
   "cell_type": "markdown",
   "id": "bfa03ef8",
   "metadata": {},
   "source": [
    "The integers $\\mathbb{Z} = \\{ \\ldots , -3,-2,-1,0,1,2,3, \\ldots \\}$. The integers is the set of all natural numbers and their additive inverses. The additivive inverse of a natural number$n$ is $-n$ such that $n + (-n) = 0$."
   ]
  },
  {
   "cell_type": "code",
   "execution_count": 13,
   "id": "164487c6-c241-4062-8ef3-82a67de209b0",
   "metadata": {},
   "outputs": [
    {
     "data": {
      "image/png": "[encoded data removed]",
      "text/latex": [
       "$\\displaystyle -1$"
      ],
      "text/plain": [
       "-1"
      ]
     },
     "execution_count": 13,
     "metadata": {},
     "output_type": "execute_result"
    }
   ],
   "source": [
    "# Example of an integer\n",
    "-1"
   ]
  },
  {
   "cell_type": "markdown",
   "id": "9e118e17",
   "metadata": {},
   "source": [
    "__Defintion__ The __rational numbers__, $\\mathbb{Q}$, are defined below."
   ]
  },
  {
   "cell_type": "markdown",
   "id": "75802cf2",
   "metadata": {},
   "source": [
    "$$\n",
    "\\mathbb{Q} \\text{ is the set of all numbers of the form } \\frac{a}{b} \\text{ where } a,b \\in \\mathbb{Z} \\text{ and } b \\neq 0.\n",
    "$$"
   ]
  },
  {
   "cell_type": "markdown",
   "id": "8bef0ebf",
   "metadata": {},
   "source": [
    "The `Rational` function in the `sympy` package creates a rational number. "
   ]
  },
  {
   "cell_type": "code",
   "execution_count": 14,
   "id": "c99b2580-3acb-42c0-ae33-d43ea39beb37",
   "metadata": {},
   "outputs": [
    {
     "data": {
      "image/png": "[encoded data removed]",
      "text/latex": [
       "$\\displaystyle \\frac{3}{4}$"
      ],
      "text/plain": [
       "3/4"
      ]
     },
     "execution_count": 14,
     "metadata": {},
     "output_type": "execute_result"
    }
   ],
   "source": [
    "sympy.Rational(3, 4)"
   ]
  },
  {
   "cell_type": "markdown",
   "id": "81b7e59b",
   "metadata": {},
   "source": [
    "An integer can also be expressed as a rational number."
   ]
  },
  {
   "cell_type": "markdown",
   "id": "36de9dd9",
   "metadata": {},
   "source": [
    "$$\n",
    "3 = \\frac{3}{1} = \\frac{6}{2} = \\frac{9}{3} = \\ldots\n",
    "$$"
   ]
  },
  {
   "cell_type": "markdown",
   "id": "95ecd51e",
   "metadata": {},
   "source": [
    "Rational numbers can be expressed as decimal numbers and the latter can be expressed as a finite decimal number or a repeating decimal number."
   ]
  },
  {
   "cell_type": "code",
   "execution_count": 15,
   "id": "0b84d949",
   "metadata": {},
   "outputs": [
    {
     "data": {
      "image/png": "[encoded data removed]",
      "text/latex": [
       "$\\displaystyle 0.75$"
      ],
      "text/plain": [
       "0.75"
      ]
     },
     "execution_count": 15,
     "metadata": {},
     "output_type": "execute_result"
    }
   ],
   "source": [
    "# Example of a finite decimal representation of a rational number\n",
    "3/4"
   ]
  },
  {
   "cell_type": "code",
   "execution_count": 16,
   "id": "5f21a274",
   "metadata": {},
   "outputs": [
    {
     "data": {
      "image/png": "[encoded data removed]",
      "text/latex": [
       "$\\displaystyle 0.333333333333333$"
      ],
      "text/plain": [
       "0.3333333333333333"
      ]
     },
     "execution_count": 16,
     "metadata": {},
     "output_type": "execute_result"
    }
   ],
   "source": [
    "# Example of a repeating decimal number\n",
    "1/3"
   ]
  },
  {
   "cell_type": "code",
   "execution_count": 17,
   "id": "6100fb20",
   "metadata": {},
   "outputs": [
    {
     "data": {
      "image/png": "[encoded data removed]",
      "text/latex": [
       "$\\displaystyle 0.714285714285714$"
      ],
      "text/plain": [
       "0.7142857142857143"
      ]
     },
     "execution_count": 17,
     "metadata": {},
     "output_type": "execute_result"
    }
   ],
   "source": [
    "# Example of a longer repeating decimal number (714285 714285)\n",
    "5/7"
   ]
  },
  {
   "cell_type": "markdown",
   "id": "67f2fbf2",
   "metadata": {},
   "source": [
    "In the case of the repeating decimal expansion, the repeating part is truncated in the output. As such, the decimal number is and approximation of the exact rational number."
   ]
  },
  {
   "cell_type": "markdown",
   "id": "c11bd11e",
   "metadata": {},
   "source": [
    "$$\n",
    "\\begin{align*}\n",
    "&\\text{Exact value: } \\frac{1}{3} \\\\ \\\\\n",
    "&\\text{Decimal approximation: } 0.3333333\n",
    "\\end{align*}\n",
    "$$"
   ]
  },
  {
   "cell_type": "markdown",
   "id": "beaa0ff6",
   "metadata": {},
   "source": [
    "The set of rational number also contain the primes numbers."
   ]
  },
  {
   "cell_type": "markdown",
   "id": "996001c3",
   "metadata": {},
   "source": [
    "__Definition__ A __prime number__ is an integer that is divisible only by itself AND $1$."
   ]
  },
  {
   "cell_type": "markdown",
   "id": "7442144d",
   "metadata": {},
   "source": [
    "__Definition__ A number $a$ is divisible by a number $b \\ne 0$ if there exists an integer $c$ such that $a = bc$. In other words, there is no remainder after division."
   ]
  },
  {
   "cell_type": "markdown",
   "id": "e7608091",
   "metadata": {},
   "source": [
    "$$\n",
    "\\frac{a}{b} = c \\text{ (with no remainder)}\n",
    "$$"
   ]
  },
  {
   "cell_type": "markdown",
   "id": "8d8a2b49",
   "metadata": {},
   "source": [
    "By definition, $1$ is not a prime number. The `isprime` function in the `sympy` package returns `True` if the input is a prime number and `False` otherwise."
   ]
  },
  {
   "cell_type": "code",
   "execution_count": 18,
   "id": "f4655590",
   "metadata": {},
   "outputs": [
    {
     "data": {
      "text/plain": [
       "False"
      ]
     },
     "execution_count": 18,
     "metadata": {},
     "output_type": "execute_result"
    }
   ],
   "source": [
    "# Use sympy to detrmine if 1 is a prime number\n",
    "sympy.isprime(1)"
   ]
  },
  {
   "cell_type": "markdown",
   "id": "b625a6e7",
   "metadata": {},
   "source": [
    "We use list comprehension to print the prime numbers between $1$ and $100$."
   ]
  },
  {
   "cell_type": "code",
   "execution_count": 19,
   "id": "ae9eda67",
   "metadata": {},
   "outputs": [
    {
     "data": {
      "image/png": "[encoded data removed]",
      "text/latex": [
       "$\\displaystyle \\left[ 2, \\  3, \\  5, \\  7, \\  11, \\  13, \\  17, \\  19, \\  23, \\  29, \\  31, \\  37, \\  41, \\  43, \\  47, \\  53, \\  59, \\  61, \\  67, \\  71, \\  73, \\  79, \\  83, \\  89, \\  97\\right]$"
      ],
      "text/plain": [
       "[2, 3, 5, 7, 11, 13, 17, 19, 23, 29, 31, 37, 41, 43, 47, 53, 59, 61, 67, 71, 7\n",
       "3, 79, 83, 89, 97]"
      ]
     },
     "execution_count": 19,
     "metadata": {},
     "output_type": "execute_result"
    }
   ],
   "source": [
    "# Use list comprehension and the isprime function to determine the prime numbers less than 100\n",
    "[p for p in range(100) if sympy.isprime(p)]"
   ]
  },
  {
   "cell_type": "markdown",
   "id": "aa6cac40",
   "metadata": {},
   "source": [
    "__Defintion__ A __composite number__ is an integer that is not prime number, and is therefor divisible by at least one other number other than itself or $1$."
   ]
  },
  {
   "cell_type": "markdown",
   "id": "142b2904",
   "metadata": {},
   "source": [
    "The number $16$ is divisible by $2$ and $8$ and $4$ and $1$ and $16$."
   ]
  },
  {
   "cell_type": "code",
   "execution_count": 20,
   "id": "077fd696",
   "metadata": {},
   "outputs": [
    {
     "data": {
      "text/plain": [
       "False"
      ]
     },
     "execution_count": 20,
     "metadata": {},
     "output_type": "execute_result"
    }
   ],
   "source": [
    "# Determine if 16 is a prime number\n",
    "sympy.isprime(16)"
   ]
  },
  {
   "cell_type": "markdown",
   "id": "604b57df",
   "metadata": {},
   "source": [
    "__Definition__ The set of __irrational numbers__ are the set of numbers that canot be expressed as a ratio of two integers."
   ]
  },
  {
   "cell_type": "code",
   "execution_count": 22,
   "id": "c3c8ad2b",
   "metadata": {},
   "outputs": [
    {
     "data": {
      "image/png": "[encoded data removed]",
      "text/latex": [
       "$\\displaystyle \\sqrt{2}$"
      ],
      "text/plain": [
       "√2"
      ]
     },
     "execution_count": 22,
     "metadata": {},
     "output_type": "execute_result"
    }
   ],
   "source": [
    "# Example of an irrational number\n",
    "sympy.sqrt(2)"
   ]
  },
  {
   "cell_type": "markdown",
   "id": "194d0439",
   "metadata": {},
   "source": [
    "The decimal approximation of $\\sqrt{2}$ is calculated below using the `evalf()` method."
   ]
  },
  {
   "cell_type": "code",
   "execution_count": 23,
   "id": "f3371984",
   "metadata": {},
   "outputs": [
    {
     "data": {
      "image/png": "[encoded data removed]",
      "text/latex": [
       "$\\displaystyle 1.4142135623731$"
      ],
      "text/plain": [
       "1.41421356237310"
      ]
     },
     "execution_count": 23,
     "metadata": {},
     "output_type": "execute_result"
    }
   ],
   "source": [
    "# Decimal representation of square root of 2 displaing 15 numbers in total\n",
    "sympy.sqrt(2).evalf(15)"
   ]
  },
  {
   "cell_type": "markdown",
   "id": "c230b857",
   "metadata": {},
   "source": [
    "There is no termination to, and no repeating pattern in, the decimal expansion of $\\sqrt{2}$, making it an irrational number. If a decimal expansion of a number does not terminate or repeat, then it is irrational."
   ]
  },
  {
   "cell_type": "markdown",
   "id": "4438e93c",
   "metadata": {},
   "source": [
    "The number $\\pi$ is also an irrational number. The `pi` function from the `sympy` package returns the value of $\\pi$. The `evalf()` method returns the decimal approximation of $\\pi$ to the specified number of digits."
   ]
  },
  {
   "cell_type": "code",
   "execution_count": 24,
   "id": "5de0beef",
   "metadata": {},
   "outputs": [
    {
     "data": {
      "image/png": "[encoded data removed]",
      "text/latex": [
       "$\\displaystyle \\pi$"
      ],
      "text/plain": [
       "π"
      ]
     },
     "execution_count": 24,
     "metadata": {},
     "output_type": "execute_result"
    }
   ],
   "source": [
    "# Print the number pi\n",
    "sympy.pi"
   ]
  },
  {
   "cell_type": "code",
   "execution_count": 26,
   "id": "15880e23",
   "metadata": {},
   "outputs": [
    {
     "data": {
      "image/png": "[encoded data removed]",
      "text/latex": [
       "$\\displaystyle 3.1415926535897932384626433832795028841971693993751$"
      ],
      "text/plain": [
       "3.1415926535897932384626433832795028841971693993751"
      ]
     },
     "execution_count": 26,
     "metadata": {},
     "output_type": "execute_result"
    }
   ],
   "source": [
    "# Print the value of pi with 50 digits\n",
    "sympy.pi.evalf(50)"
   ]
  },
  {
   "cell_type": "markdown",
   "id": "005faa5c",
   "metadata": {},
   "source": [
    "__Defintion__ The __real numbers__, $\\mathbb{R}$, are the union (combination) of the rational and irrational numbers."
   ]
  },
  {
   "cell_type": "markdown",
   "id": "f5d4ee97",
   "metadata": {},
   "source": [
    "The real numbers can be represented as a point on the number line."
   ]
  },
  {
   "cell_type": "code",
   "execution_count": 27,
   "id": "0d4e967a",
   "metadata": {},
   "outputs": [
    {
     "data": {
      "text/plain": [
       "array([ 1.62434536, -0.61175641, -0.52817175, -1.07296862,  0.86540763,\n",
       "       -2.3015387 ,  1.74481176, -0.7612069 ,  0.3190391 , -0.24937038])"
      ]
     },
     "execution_count": 27,
     "metadata": {},
     "output_type": "execute_result"
    }
   ],
   "source": [
    "# Seed the pseudorandom number generator with the integer 1\n",
    "numpy.random.seed(1)\n",
    "\n",
    "# Create a variable called x that holds an array of 10 real numbers from the standard normal distribution\n",
    "x = numpy.random.randn(10)\n",
    "x"
   ]
  },
  {
   "cell_type": "code",
   "execution_count": 28,
   "id": "3fc6e532",
   "metadata": {},
   "outputs": [
    {
     "data": {
      "image/png": "[encoded data removed]",
      "text/plain": [
       "<Figure size 1000x200 with 1 Axes>"
      ]
     },
     "metadata": {
      "image/png": {
       "height": 219,
       "width": 860
      }
     },
     "output_type": "display_data"
    }
   ],
   "source": [
    "# Plot the values in the array x as markers on the x-axis\n",
    "pyplot.figure(figsize=(10, 2))\n",
    "pyplot.scatter(\n",
    "    x,\n",
    "    [0,0,0,0,0,0,0,0,0,0],\n",
    "    color='red',\n",
    "    marker='o',\n",
    "    s=100,\n",
    "    alpha=0.5,\n",
    "    label='x'\n",
    ")\n",
    "pyplot.title('Random real numbers on the x-axis')\n",
    "pyplot.grid()\n",
    "pyplot.xlim(-3, 3)\n",
    "pyplot.hlines(0, -3, 3, color='black')\n",
    "pyplot.gca().spines['top'].set_visible(False)\n",
    "pyplot.gca().spines['right'].set_visible(False)\n",
    "pyplot.gca().spines['bottom'].set_visible(False)\n",
    "pyplot.gca().spines['left'].set_visible(False);"
   ]
  },
  {
   "cell_type": "markdown",
   "id": "5b207b00-dca4-4352-ae48-db2bee0cfae2",
   "metadata": {
    "tags": []
   },
   "source": [
    "## Simple arithmetic"
   ]
  },
  {
   "cell_type": "markdown",
   "id": "e02e1d89-68ee-41de-bb56-78c427c04437",
   "metadata": {
    "jp-MarkdownHeadingCollapsed": true,
    "tags": []
   },
   "source": [
    "### Rounding"
   ]
  },
  {
   "cell_type": "markdown",
   "id": "54bebecb",
   "metadata": {},
   "source": [
    "The `numpy` `round` function rounds a number to a specified number of decimal places. By default, the number fo decimal places is zero, but the function will add a single decimal place with a value of $0$ to the output."
   ]
  },
  {
   "cell_type": "code",
   "execution_count": null,
   "id": "ce7fb77b-e6f7-4001-b5e6-9702a8961337",
   "metadata": {},
   "outputs": [
    {
     "data": {
      "image/png": "[encoded data removed]",
      "text/latex": [
       "$\\displaystyle 10.0$"
      ],
      "text/plain": [
       "10.0"
      ]
     },
     "execution_count": 70,
     "metadata": {},
     "output_type": "execute_result"
    }
   ],
   "source": [
    "# Round a number to the nearest whole number\n",
    "round(10.4)"
   ]
  },
  {
   "cell_type": "code",
   "execution_count": null,
   "id": "c924fe22-296f-4b13-9d91-e9c93e37e6d6",
   "metadata": {},
   "outputs": [
    {
     "data": {
      "image/png": "[encoded data removed]",
      "text/latex": [
       "$\\displaystyle 11.0$"
      ],
      "text/plain": [
       "11.0"
      ]
     },
     "execution_count": 69,
     "metadata": {},
     "output_type": "execute_result"
    }
   ],
   "source": [
    "# Round a number to the nearest whole number\n",
    "round(10.51)"
   ]
  },
  {
   "cell_type": "markdown",
   "id": "4b2992ed-e66f-41ce-b8c5-02831e524de0",
   "metadata": {
    "jp-MarkdownHeadingCollapsed": true,
    "tags": []
   },
   "source": [
    "### Addition"
   ]
  },
  {
   "cell_type": "code",
   "execution_count": null,
   "id": "2207114a-65cb-4563-92c8-ff3d9158c018",
   "metadata": {},
   "outputs": [
    {
     "data": {
      "image/png": "[encoded data removed]",
      "text/latex": [
       "$\\displaystyle 7$"
      ],
      "text/plain": [
       "7"
      ]
     },
     "execution_count": 18,
     "metadata": {},
     "output_type": "execute_result"
    }
   ],
   "source": [
    "# Adding 3 and 4\n",
    "3 + 4"
   ]
  },
  {
   "cell_type": "code",
   "execution_count": null,
   "id": "a848bae4-30a0-498b-8435-a691c50f64ab",
   "metadata": {},
   "outputs": [
    {
     "data": {
      "image/png": "[encoded data removed]",
      "text/latex": [
       "$\\displaystyle 12$"
      ],
      "text/plain": [
       "12"
      ]
     },
     "execution_count": 71,
     "metadata": {},
     "output_type": "execute_result"
    }
   ],
   "source": [
    "# Adding 3 and 4 and 5\n",
    "3 + 4 + 5"
   ]
  },
  {
   "cell_type": "markdown",
   "id": "8389d79a-ec4d-4d2d-979f-614112b54402",
   "metadata": {
    "jp-MarkdownHeadingCollapsed": true,
    "tags": []
   },
   "source": [
    "### Subtraction"
   ]
  },
  {
   "cell_type": "code",
   "execution_count": null,
   "id": "518ce30f-e78a-4a72-8a26-907c85c15524",
   "metadata": {},
   "outputs": [
    {
     "data": {
      "image/png": "[encoded data removed]",
      "text/latex": [
       "$\\displaystyle -1$"
      ],
      "text/plain": [
       "-1"
      ]
     },
     "execution_count": 72,
     "metadata": {},
     "output_type": "execute_result"
    }
   ],
   "source": [
    "# Subtracting 4 from 3\n",
    "3 - 4"
   ]
  },
  {
   "cell_type": "code",
   "execution_count": null,
   "id": "b34f746f-bcab-4b76-a9d3-9fd57dcf87ac",
   "metadata": {},
   "outputs": [
    {
     "data": {
      "image/png": "[encoded data removed]",
      "text/latex": [
       "$\\displaystyle 7$"
      ],
      "text/plain": [
       "7"
      ]
     },
     "execution_count": 73,
     "metadata": {},
     "output_type": "execute_result"
    }
   ],
   "source": [
    "# Subtracting 6 and 10 from 23\n",
    "23 - 6 - 10"
   ]
  },
  {
   "cell_type": "markdown",
   "id": "874c838b-47a6-44cf-855b-ae1229aec0e5",
   "metadata": {
    "jp-MarkdownHeadingCollapsed": true,
    "tags": []
   },
   "source": [
    "### Multiplication"
   ]
  },
  {
   "cell_type": "code",
   "execution_count": null,
   "id": "f1bbbf86-07f0-45a5-845c-cfffd0bb0187",
   "metadata": {},
   "outputs": [
    {
     "data": {
      "image/png": "[encoded data removed]",
      "text/latex": [
       "$\\displaystyle 12$"
      ],
      "text/plain": [
       "12"
      ]
     },
     "execution_count": 74,
     "metadata": {},
     "output_type": "execute_result"
    }
   ],
   "source": [
    "# Mutiplying 3 and 4\n",
    "3 * 4"
   ]
  },
  {
   "cell_type": "code",
   "execution_count": null,
   "id": "ad66ba09-5ae7-4ebc-aff2-e94f347cc0ea",
   "metadata": {},
   "outputs": [
    {
     "data": {
      "image/png": "[encoded data removed]",
      "text/latex": [
       "$\\displaystyle 24$"
      ],
      "text/plain": [
       "24"
      ]
     },
     "execution_count": 75,
     "metadata": {},
     "output_type": "execute_result"
    }
   ],
   "source": [
    "# Multiplying 3 and 4 and 2\n",
    "3 * 4 * 2"
   ]
  },
  {
   "cell_type": "markdown",
   "id": "956de93a-2bb8-4343-ae08-988f64bbf1a8",
   "metadata": {
    "jp-MarkdownHeadingCollapsed": true,
    "tags": []
   },
   "source": [
    "### Division"
   ]
  },
  {
   "cell_type": "code",
   "execution_count": null,
   "id": "fe46066e-ce4c-452b-963c-9ce0d45f065a",
   "metadata": {},
   "outputs": [
    {
     "data": {
      "image/png": "[encoded data removed]",
      "text/latex": [
       "$\\displaystyle 5.0$"
      ],
      "text/plain": [
       "5.0"
      ]
     },
     "execution_count": 76,
     "metadata": {},
     "output_type": "execute_result"
    }
   ],
   "source": [
    "# Dividing 10 by 2\n",
    "10 / 2"
   ]
  },
  {
   "cell_type": "markdown",
   "id": "df6477c2-e535-48af-b21b-2579abb04d05",
   "metadata": {
    "jp-MarkdownHeadingCollapsed": true,
    "tags": []
   },
   "source": [
    "### Powers"
   ]
  },
  {
   "cell_type": "code",
   "execution_count": null,
   "id": "dd5f1145-c508-4fe0-9b37-2917c6efffab",
   "metadata": {},
   "outputs": [
    {
     "data": {
      "image/png": "[encoded data removed]",
      "text/latex": [
       "$\\displaystyle 9$"
      ],
      "text/plain": [
       "9"
      ]
     },
     "execution_count": 77,
     "metadata": {},
     "output_type": "execute_result"
    }
   ],
   "source": [
    "# 3 to the power of 2\n",
    "3 ** 2"
   ]
  },
  {
   "cell_type": "markdown",
   "id": "e35b6704-9849-42f3-a8d4-b579cbd06895",
   "metadata": {
    "jp-MarkdownHeadingCollapsed": true,
    "tags": []
   },
   "source": [
    "### Square root"
   ]
  },
  {
   "cell_type": "code",
   "execution_count": null,
   "id": "895c08c0-194e-4059-86fe-da681791b63e",
   "metadata": {},
   "outputs": [
    {
     "data": {
      "image/png": "[encoded data removed]",
      "text/latex": [
       "$\\displaystyle 3.0$"
      ],
      "text/plain": [
       "3.0"
      ]
     },
     "execution_count": 78,
     "metadata": {},
     "output_type": "execute_result"
    }
   ],
   "source": [
    "# Positive square root of 9\n",
    "9 ** (1/2)"
   ]
  },
  {
   "cell_type": "code",
   "execution_count": null,
   "id": "f0b747b8-0d7e-4027-bd68-99658cdbe9e5",
   "metadata": {},
   "outputs": [
    {
     "data": {
      "image/png": "[encoded data removed]",
      "text/latex": [
       "$\\displaystyle 3.0$"
      ],
      "text/plain": [
       "3.0"
      ]
     },
     "execution_count": 80,
     "metadata": {},
     "output_type": "execute_result"
    }
   ],
   "source": [
    "# Positive square root of 9 using the sqrt function from numpy\n",
    "sqrt(9)"
   ]
  },
  {
   "cell_type": "code",
   "execution_count": null,
   "id": "ec3449fd",
   "metadata": {},
   "outputs": [
    {
     "data": {
      "image/png": "[encoded data removed]",
      "text/latex": [
       "$\\displaystyle 9$"
      ],
      "text/plain": [
       "9"
      ]
     },
     "execution_count": 81,
     "metadata": {},
     "output_type": "execute_result"
    }
   ],
   "source": [
    "# Showe that -3 squared is 9\n",
    "(-3) ** 2"
   ]
  },
  {
   "cell_type": "markdown",
   "id": "cacb46ec",
   "metadata": {},
   "source": [
    "### Higher roots"
   ]
  },
  {
   "cell_type": "code",
   "execution_count": null,
   "id": "4d599310",
   "metadata": {},
   "outputs": [
    {
     "data": {
      "image/png": "[encoded data removed]",
      "text/latex": [
       "$\\displaystyle 3.0$"
      ],
      "text/plain": [
       "3.0"
      ]
     },
     "execution_count": 105,
     "metadata": {},
     "output_type": "execute_result"
    }
   ],
   "source": [
    "# Cube root of 27\n",
    "27 ** (1/3)"
   ]
  },
  {
   "cell_type": "code",
   "execution_count": null,
   "id": "8d0d56b3",
   "metadata": {},
   "outputs": [
    {
     "data": {
      "image/png": "[encoded data removed]",
      "text/latex": [
       "$\\displaystyle 2.0$"
      ],
      "text/plain": [
       "2.0"
      ]
     },
     "execution_count": 106,
     "metadata": {},
     "output_type": "execute_result"
    }
   ],
   "source": [
    "# Fourth root of 16\n",
    "16 ** (1/4)"
   ]
  },
  {
   "cell_type": "markdown",
   "id": "1e8cc6cb",
   "metadata": {},
   "source": [
    "Obviously $-2$ is also a solution to $\\sqrt[4]{16}$ since $(-2) \\times (-2) \\times(-2) \\times(-2) =16$."
   ]
  },
  {
   "cell_type": "code",
   "execution_count": null,
   "id": "6f2ce83f",
   "metadata": {},
   "outputs": [
    {
     "data": {
      "image/png": "[encoded data removed]",
      "text/latex": [
       "$\\displaystyle 16$"
      ],
      "text/plain": [
       "16"
      ]
     },
     "execution_count": 107,
     "metadata": {},
     "output_type": "execute_result"
    }
   ],
   "source": [
    "# Show that (-2) to the power of 4 is 16\n",
    "(-2) ** 4"
   ]
  },
  {
   "cell_type": "markdown",
   "id": "75fad03f",
   "metadata": {},
   "source": [
    "### Absolute values"
   ]
  },
  {
   "cell_type": "markdown",
   "id": "20512157",
   "metadata": {},
   "source": [
    "The absolute value of a number is the distance of the number from zero on the number line. The absolute value of a number is always positive. It is written as $\\lvert a \\rvert$."
   ]
  },
  {
   "cell_type": "markdown",
   "id": "3dc195d1",
   "metadata": {},
   "source": [
    "The `abs()` function from the `numpy` package returns the absolute value of a number."
   ]
  },
  {
   "cell_type": "code",
   "execution_count": null,
   "id": "e010e622",
   "metadata": {},
   "outputs": [
    {
     "data": {
      "text/plain": [
       "3"
      ]
     },
     "execution_count": 108,
     "metadata": {},
     "output_type": "execute_result"
    }
   ],
   "source": [
    "# Asbolute value of -3\n",
    "abs(-3)"
   ]
  },
  {
   "cell_type": "markdown",
   "id": "1968ce6e-4f32-4e3a-a07e-f7cde055ff8d",
   "metadata": {
    "tags": []
   },
   "source": [
    "### Logarithm"
   ]
  },
  {
   "cell_type": "markdown",
   "id": "86daf3d0-d83a-4a50-839f-b4944ddbf44f",
   "metadata": {},
   "source": [
    "The logarithm of a number is defined by a base. As an example, we consider a base $10$. We can raise $10$ to any power. In this case $10^{2}=100$. For the number $100$ and the base $10$, we would state that the logarithm base $10$ of $100$ is $2$, since it is $10$ raised to the power $2$ that is $100$. For the values $a,b,c$, we state the logarithm below."
   ]
  },
  {
   "cell_type": "markdown",
   "id": "44f528fa-bda9-4780-8c13-99e7b6296ef1",
   "metadata": {},
   "source": [
    "$$\n",
    "\\text{If } a^{b}=c, \\text{ then } \\log_{a}{c}=b\n",
    "$$ {#eq-log}"
   ]
  },
  {
   "cell_type": "markdown",
   "id": "e75dacdb",
   "metadata": {},
   "source": [
    "The `log()` function from the numpy package calculates the logarithm of a number. The default base is $e$."
   ]
  },
  {
   "cell_type": "code",
   "execution_count": null,
   "id": "5886b3c3-0008-4f4f-8c79-27ae6022245a",
   "metadata": {},
   "outputs": [
    {
     "data": {
      "image/png": "[encoded data removed]",
      "text/latex": [
       "$\\displaystyle 6.90775527898214$"
      ],
      "text/plain": [
       "6.907755278982137"
      ]
     },
     "execution_count": 89,
     "metadata": {},
     "output_type": "execute_result"
    }
   ],
   "source": [
    "# Natural log of 1000\n",
    "log(1000)"
   ]
  },
  {
   "cell_type": "markdown",
   "id": "6dae8ba9-6f0a-49ef-9474-477b6f0bb5c0",
   "metadata": {},
   "source": [
    "Euler's number, $e$, is approximated below."
   ]
  },
  {
   "cell_type": "code",
   "execution_count": null,
   "id": "e28672f6-36e4-4dab-9a39-56efedf45fb3",
   "metadata": {},
   "outputs": [
    {
     "data": {
      "image/png": "[encoded data removed]",
      "text/latex": [
       "$\\displaystyle 2.71828182845905$"
      ],
      "text/plain": [
       "2.718281828459045"
      ]
     },
     "execution_count": 84,
     "metadata": {},
     "output_type": "execute_result"
    }
   ],
   "source": [
    "# Express Euler's number e as a decimal number\n",
    "exp(1)"
   ]
  },
  {
   "cell_type": "markdown",
   "id": "938b2f5a",
   "metadata": {},
   "source": [
    "The `log10` function from the numpy package calculates the logarithm of a number with a base of $10$."
   ]
  },
  {
   "cell_type": "code",
   "execution_count": null,
   "id": "1435b237",
   "metadata": {},
   "outputs": [
    {
     "data": {
      "image/png": "[encoded data removed]",
      "text/latex": [
       "$\\displaystyle 3.0$"
      ],
      "text/plain": [
       "3.0"
      ]
     },
     "execution_count": 88,
     "metadata": {},
     "output_type": "execute_result"
    }
   ],
   "source": [
    "# Log base 10 of 1000\n",
    "log10(1000)"
   ]
  },
  {
   "cell_type": "markdown",
   "id": "8e1d3748-15d5-441d-bb0b-1c8e120ae867",
   "metadata": {
    "tags": []
   },
   "source": [
    "### Exponent"
   ]
  },
  {
   "cell_type": "markdown",
   "id": "e65092d2-9874-42ba-a968-a9895ef99b56",
   "metadata": {},
   "source": [
    "Euler's number is useful when modeling growth or decay. For a simple model, we may have exponential growth at every time step $t$. The number of cases may then be as below, with the number of cases at $t=0$ of $1$."
   ]
  },
  {
   "cell_type": "markdown",
   "id": "3cd00505-459a-44e7-bbec-759b5cbaa97c",
   "metadata": {},
   "source": [
    "$$\n",
    "\\text{Number of organisms at time }t = e^{t}\n",
    "$$"
   ]
  },
  {
   "cell_type": "markdown",
   "id": "a3e9d5d5-ff96-4cf7-89f1-2b31241008f8",
   "metadata": {},
   "source": [
    "At time $t=10$, we have $e^{10}$ organisms, calculated below using the `exp()` function."
   ]
  },
  {
   "cell_type": "code",
   "execution_count": null,
   "id": "f7dd814e-01cd-442c-84e5-4343dc4c87eb",
   "metadata": {},
   "outputs": [
    {
     "data": {
      "image/png": "[encoded data removed]",
      "text/latex": [
       "$\\displaystyle 22026.4657948067$"
      ],
      "text/plain": [
       "22026.465794806718"
      ]
     },
     "execution_count": 32,
     "metadata": {},
     "output_type": "execute_result"
    }
   ],
   "source": [
    "exp(10)"
   ]
  },
  {
   "cell_type": "markdown",
   "id": "1113f585-ef0c-4bae-b426-dfcc9ab19bae",
   "metadata": {},
   "source": [
    "We can use the `round()` function to round the results."
   ]
  },
  {
   "cell_type": "code",
   "execution_count": null,
   "id": "33191421-3865-48ea-af3b-d9ae1ca6e815",
   "metadata": {},
   "outputs": [
    {
     "data": {
      "image/png": "[encoded data removed]",
      "text/latex": [
       "$\\displaystyle 22026.466$"
      ],
      "text/plain": [
       "22026.466"
      ]
     },
     "execution_count": 96,
     "metadata": {},
     "output_type": "execute_result"
    }
   ],
   "source": [
    "# Round exp(10) to 3 digits\n",
    "round(exp(10), 3)"
   ]
  },
  {
   "cell_type": "markdown",
   "id": "5f2db65c-0c27-4f44-9fa3-9d26b3457485",
   "metadata": {},
   "source": [
    "Starting with $e^{0}=1$ organism at $t=0$, we have that there will be about $22026$ organisms as $t=10$."
   ]
  },
  {
   "cell_type": "code",
   "execution_count": null,
   "id": "1f436c7e-79fd-4ea1-881f-9f43c8db9590",
   "metadata": {},
   "outputs": [],
   "source": [
    "def exponentialGrowth(t):\n",
    "    return exp(t)"
   ]
  },
  {
   "cell_type": "code",
   "execution_count": null,
   "id": "8107a5ed-35bc-4c42-b04e-1a72afae0e3e",
   "metadata": {},
   "outputs": [
    {
     "data": {
      "image/png": "[encoded data removed]",
      "text/plain": [
       "<Figure size 640x480 with 1 Axes>"
      ]
     },
     "metadata": {
      "image/png": {
       "height": 454,
       "width": 571
      }
     },
     "output_type": "display_data"
    }
   ],
   "source": [
    "fig, ax = pyplot.subplots()\n",
    "\n",
    "ax.plot([0, 1, 2, 3, 4, 5],\n",
    "       [exp(t) for t in [0, 1, 2, 3, 4, 5]],\n",
    "       \"b--\")\n",
    "ax.grid()\n",
    "ax.set_title(\"Exponential growth\")\n",
    "ax.set_xlabel(\"Time\")\n",
    "ax.set_ylabel(\"Number of cases\")\n",
    "pyplot.hlines(0, 0, 5, color='black')\n",
    "pyplot.vlines(0, 0, 150, color='black')\n",
    "pyplot.gca().spines['top'].set_visible(False)\n",
    "pyplot.gca().spines['right'].set_visible(False)\n",
    "pyplot.gca().spines['bottom'].set_visible(False)\n",
    "pyplot.gca().spines['left'].set_visible(False);"
   ]
  },
  {
   "cell_type": "markdown",
   "id": "e867a661-9fc2-4c01-9616-b301a2723644",
   "metadata": {
    "jp-MarkdownHeadingCollapsed": true,
    "tags": []
   },
   "source": [
    "### Order of arithmetic operations"
   ]
  },
  {
   "cell_type": "markdown",
   "id": "8b77a317-0290-48f0-8adf-0391dc9e2bd3",
   "metadata": {},
   "source": [
    "We will commonly use the following order, expressed using the acronymn PEMDAS.\n",
    "\n",
    "1. __P__ arentheses\n",
    "2. __E__ xponents (powers and roots)\n",
    "3. __M__ ultiplication and __D__ ivision\n",
    "4. __A__ ddition and __S__ ubtraction"
   ]
  },
  {
   "cell_type": "code",
   "execution_count": null,
   "id": "1a7a4740-696d-44d3-893c-9e95ba2c3d65",
   "metadata": {},
   "outputs": [
    {
     "data": {
      "image/png": "[encoded data removed]",
      "text/latex": [
       "$\\displaystyle 11$"
      ],
      "text/plain": [
       "11"
      ]
     },
     "execution_count": 100,
     "metadata": {},
     "output_type": "execute_result"
    }
   ],
   "source": [
    "# Expression with addition and multiplication\n",
    "3 + 2 * 4"
   ]
  },
  {
   "cell_type": "code",
   "execution_count": null,
   "id": "ff5aee81-a966-4f63-99d6-26ce7fcaaac1",
   "metadata": {},
   "outputs": [
    {
     "data": {
      "image/png": "[encoded data removed]",
      "text/latex": [
       "$\\displaystyle 20$"
      ],
      "text/plain": [
       "20"
      ]
     },
     "execution_count": 101,
     "metadata": {},
     "output_type": "execute_result"
    }
   ],
   "source": [
    "# Using parenthesis to change the order of operations (addition before multiplication)\n",
    "(3 + 2) * 4"
   ]
  },
  {
   "cell_type": "markdown",
   "id": "a09e3bea",
   "metadata": {},
   "source": [
    "### Examples of arithmetic operations"
   ]
  },
  {
   "cell_type": "markdown",
   "id": "566c6637",
   "metadata": {},
   "source": [
    "Simplification of the indicated expressions, where the symbol $\\cdot$ indicates multiplication."
   ]
  },
  {
   "cell_type": "markdown",
   "id": "98722c58",
   "metadata": {},
   "source": [
    "$\\left( 3 \\cdot 2 \\right)^{2} - 4 (6+2)$"
   ]
  },
  {
   "cell_type": "code",
   "execution_count": null,
   "id": "ab2df1fc",
   "metadata": {},
   "outputs": [
    {
     "data": {
      "image/png": "[encoded data removed]",
      "text/latex": [
       "$\\displaystyle 4$"
      ],
      "text/plain": [
       "4"
      ]
     },
     "execution_count": 110,
     "metadata": {},
     "output_type": "execute_result"
    }
   ],
   "source": [
    "(3 * 2)**2 - 4 * (6 + 2)"
   ]
  },
  {
   "cell_type": "markdown",
   "id": "80e95b03",
   "metadata": {},
   "source": [
    "$\\frac{5^{2} - 4}{7} - \\sqrt{11-2}$"
   ]
  },
  {
   "cell_type": "code",
   "execution_count": null,
   "id": "fbbdb2b1",
   "metadata": {},
   "outputs": [
    {
     "data": {
      "image/png": "[encoded data removed]",
      "text/latex": [
       "$\\displaystyle 0.0$"
      ],
      "text/plain": [
       "0.0"
      ]
     },
     "execution_count": 111,
     "metadata": {},
     "output_type": "execute_result"
    }
   ],
   "source": [
    "((5**2 - 4) / 7) - sqrt(11 - 2)"
   ]
  },
  {
   "cell_type": "markdown",
   "id": "83ea4d64",
   "metadata": {},
   "source": [
    "$6 - \\lvert 5 - 8 \\rvert + 3(4 - 1)$"
   ]
  },
  {
   "cell_type": "code",
   "execution_count": null,
   "id": "2294e2e6",
   "metadata": {},
   "outputs": [
    {
     "data": {
      "text/plain": [
       "12"
      ]
     },
     "execution_count": 109,
     "metadata": {},
     "output_type": "execute_result"
    }
   ],
   "source": [
    "6 - abs(5 - 8) + 3 * (4 - 1)"
   ]
  },
  {
   "cell_type": "markdown",
   "id": "f1ca36ca",
   "metadata": {},
   "source": [
    "## Properties of real numbers"
   ]
  },
  {
   "cell_type": "markdown",
   "id": "1c70a1d0",
   "metadata": {},
   "source": [
    "The __commutative property of addition__ states that the order of the numbers does not matter. We have that $a+b=b+a$ for two real numbers $a$ and $b$"
   ]
  },
  {
   "cell_type": "markdown",
   "id": "e3d5fbc0",
   "metadata": {},
   "source": [
    "We use the logical operator `==` to test if two numbers are equal. The output is a boolean value, either `True` or `False`."
   ]
  },
  {
   "cell_type": "code",
   "execution_count": null,
   "id": "82f68eab",
   "metadata": {},
   "outputs": [
    {
     "data": {
      "text/plain": [
       "True"
      ]
     },
     "execution_count": 112,
     "metadata": {},
     "output_type": "execute_result"
    }
   ],
   "source": [
    "# Show that 3 + 4 = 4 + 3\n",
    "3 + 4 == 4 + 3"
   ]
  },
  {
   "cell_type": "markdown",
   "id": "8eb7e9fe",
   "metadata": {},
   "source": [
    "The __commutative property of multiplication__ states that the order of the numbers does not matter. We have that $a \\cdot b = b \\cdot a$ for two real numbers $a$ and $b$."
   ]
  },
  {
   "cell_type": "code",
   "execution_count": null,
   "id": "9ace59bd",
   "metadata": {},
   "outputs": [
    {
     "data": {
      "text/plain": [
       "True"
      ]
     },
     "execution_count": 113,
     "metadata": {},
     "output_type": "execute_result"
    }
   ],
   "source": [
    "# Show that 3 x 4 = 4 x 3\n",
    "3 * 4 == 4 * 3"
   ]
  },
  {
   "cell_type": "markdown",
   "id": "566f75df",
   "metadata": {},
   "source": [
    "Neither subtraction nor division is commutative. The `!=` logical operator tests if two numbers are not equal."
   ]
  },
  {
   "cell_type": "code",
   "execution_count": null,
   "id": "33b6b9a4",
   "metadata": {},
   "outputs": [
    {
     "data": {
      "text/plain": [
       "True"
      ]
     },
     "execution_count": 114,
     "metadata": {},
     "output_type": "execute_result"
    }
   ],
   "source": [
    "# Show that 3 - 4 is not equal to 4 - 3\n",
    "3 - 4 != 4 - 3"
   ]
  },
  {
   "cell_type": "code",
   "execution_count": null,
   "id": "008a7f17",
   "metadata": {},
   "outputs": [
    {
     "data": {
      "text/plain": [
       "False"
      ]
     },
     "execution_count": 115,
     "metadata": {},
     "output_type": "execute_result"
    }
   ],
   "source": [
    "# Alternative way to show that 3 - 4 is not equal to 4 - 3\n",
    "3 - 4 == 4 - 3"
   ]
  },
  {
   "cell_type": "code",
   "execution_count": null,
   "id": "90428cd6",
   "metadata": {},
   "outputs": [
    {
     "data": {
      "text/plain": [
       "True"
      ]
     },
     "execution_count": 116,
     "metadata": {},
     "output_type": "execute_result"
    }
   ],
   "source": [
    "# Show that 10 divided by 5 is not equal to 5 divided by 10\n",
    "10 / 5 != 5 / 10"
   ]
  },
  {
   "cell_type": "code",
   "execution_count": null,
   "id": "e8d3c593",
   "metadata": {},
   "outputs": [
    {
     "data": {
      "text/plain": [
       "False"
      ]
     },
     "execution_count": 117,
     "metadata": {},
     "output_type": "execute_result"
    }
   ],
   "source": [
    "# Alternative way to show that 10 divided by 5 is not equal to 5 divided by 10\n",
    "10 / 5 == 5 / 10"
   ]
  },
  {
   "cell_type": "markdown",
   "id": "abb98f6d",
   "metadata": {},
   "source": [
    "The __associative property of addition__ holds such that $a + (b + c) = (a + b) + c$, for three real numbers $a,b,c$."
   ]
  },
  {
   "cell_type": "code",
   "execution_count": null,
   "id": "10c50681",
   "metadata": {},
   "outputs": [
    {
     "data": {
      "text/plain": [
       "True"
      ]
     },
     "execution_count": 118,
     "metadata": {},
     "output_type": "execute_result"
    }
   ],
   "source": [
    "# Show that (3 + 4) + 5 is equal to 3 + (4 + 5)\n",
    "(3 + 4) + 5 == 3 + (4 + 5)"
   ]
  },
  {
   "cell_type": "markdown",
   "id": "630ad94f",
   "metadata": {},
   "source": [
    "The __associative property of multiplication__ holds such that $a \\cdot (b \\cdot c) = (a \\cdot b) \\cdot c$, for three real numbers $a,b,c$."
   ]
  },
  {
   "cell_type": "code",
   "execution_count": null,
   "id": "070de0b8",
   "metadata": {},
   "outputs": [
    {
     "data": {
      "text/plain": [
       "True"
      ]
     },
     "execution_count": 119,
     "metadata": {},
     "output_type": "execute_result"
    }
   ],
   "source": [
    "# Show that (3 x 4) x 5 is equal to 3 x (4 x 6)\n",
    "(3 * 4) * 5 == 3 * (4 * 5)"
   ]
  },
  {
   "cell_type": "markdown",
   "id": "b6e840a0",
   "metadata": {},
   "source": [
    "Associativity does not hold for subtraction or division."
   ]
  },
  {
   "cell_type": "markdown",
   "id": "74674cf0",
   "metadata": {},
   "source": [
    "The __distributive property__ holds such that $a(b + c) = ab + ac$, for three real numbers $a,b,c$. That is to say that multiplication distributes over addition. The distributive property also holds for subtraction. It does, however, not hold for division, nor for addition or subtraction over multiplication."
   ]
  },
  {
   "cell_type": "code",
   "execution_count": null,
   "id": "c6ad59b2",
   "metadata": {},
   "outputs": [
    {
     "data": {
      "text/plain": [
       "True"
      ]
     },
     "execution_count": 120,
     "metadata": {},
     "output_type": "execute_result"
    }
   ],
   "source": [
    "# Show that 3(2 + 7) is equal to 3 x 2 + 3 x 7\n",
    "3 * (2 + 7) == 3 * 2 + 3 * 7"
   ]
  },
  {
   "cell_type": "markdown",
   "id": "6340de00",
   "metadata": {},
   "source": [
    "There is a special case of distributivity that holds for subtraction. We have that $a - (b + c) = a - b - c$, for three real numbers $a,b$ and $c$."
   ]
  },
  {
   "cell_type": "code",
   "execution_count": null,
   "id": "a723524f",
   "metadata": {},
   "outputs": [
    {
     "data": {
      "text/plain": [
       "True"
      ]
     },
     "execution_count": 121,
     "metadata": {},
     "output_type": "execute_result"
    }
   ],
   "source": [
    "# Show that 3 - (2 + 1) is equal to 3 - 2 - 1\n",
    "3 - (2 + 1) == 3 - 2 - 1"
   ]
  },
  {
   "cell_type": "markdown",
   "id": "544c36b7",
   "metadata": {},
   "source": [
    "The number $0$ is the __additive identity__ of real numbers. We have that $a + 0 = a$ for any real number $a$."
   ]
  },
  {
   "cell_type": "code",
   "execution_count": null,
   "id": "d43c18ce",
   "metadata": {},
   "outputs": [
    {
     "data": {
      "text/plain": [
       "True"
      ]
     },
     "execution_count": 122,
     "metadata": {},
     "output_type": "execute_result"
    }
   ],
   "source": [
    "# Show to 5 + 0 = 5\n",
    "5 + 0 == 5"
   ]
  },
  {
   "cell_type": "markdown",
   "id": "c265031b",
   "metadata": {},
   "source": [
    "The number $1$ is the __multiplicative identity__ of real numbers. We have that $a \\cdot 1 = a$ for any real number $a$."
   ]
  },
  {
   "cell_type": "code",
   "execution_count": null,
   "id": "8a787178",
   "metadata": {},
   "outputs": [
    {
     "data": {
      "text/plain": [
       "True"
      ]
     },
     "execution_count": 123,
     "metadata": {},
     "output_type": "execute_result"
    }
   ],
   "source": [
    "# Show that 5 x 1 i s equal to 5\n",
    "5 * 1 == 5"
   ]
  },
  {
   "cell_type": "markdown",
   "id": "c533bff1",
   "metadata": {},
   "source": [
    "The __additive inverse__ of a real number $a$ is the number $-a$ such that $a + (-a) = 0$."
   ]
  },
  {
   "cell_type": "code",
   "execution_count": null,
   "id": "dad94fe9",
   "metadata": {},
   "outputs": [
    {
     "data": {
      "text/plain": [
       "True"
      ]
     },
     "execution_count": 124,
     "metadata": {},
     "output_type": "execute_result"
    }
   ],
   "source": [
    "# Show that 5 + (-5) is equal to 0\n",
    "5 + (-5) == 0"
   ]
  },
  {
   "cell_type": "code",
   "execution_count": null,
   "id": "e95c3964",
   "metadata": {},
   "outputs": [
    {
     "data": {
      "text/plain": [
       "True"
      ]
     },
     "execution_count": 126,
     "metadata": {},
     "output_type": "execute_result"
    }
   ],
   "source": [
    "# Show that 3 is the additive inverse of -3\n",
    "(-3) + 3 == 0"
   ]
  },
  {
   "cell_type": "markdown",
   "id": "304fdebd",
   "metadata": {},
   "source": [
    "The __multiplicative inverse__ of a real number $a$ is the number $\\frac{1}{a}$ such that $a \\cdot \\frac{1}{a} = 1$ and $a \\ne 0$."
   ]
  },
  {
   "cell_type": "code",
   "execution_count": null,
   "id": "558ca8bf",
   "metadata": {},
   "outputs": [
    {
     "data": {
      "text/plain": [
       "True"
      ]
     },
     "execution_count": 125,
     "metadata": {},
     "output_type": "execute_result"
    }
   ],
   "source": [
    "# Show that 5 x (1/5) is equal to 1\n",
    "5 * (1/5) == 1"
   ]
  },
  {
   "cell_type": "code",
   "execution_count": null,
   "id": "d4956a60",
   "metadata": {},
   "outputs": [
    {
     "data": {
      "text/plain": [
       "True"
      ]
     },
     "execution_count": 127,
     "metadata": {},
     "output_type": "execute_result"
    }
   ],
   "source": [
    "# Show that (1/3) is the multiplicative inverse of 3\n",
    "(1/3) * 3 == 1"
   ]
  },
  {
   "cell_type": "markdown",
   "id": "139ee705",
   "metadata": {},
   "source": [
    "## Evaluating algebraic expressions"
   ]
  },
  {
   "cell_type": "markdown",
   "id": "f1f90ec6",
   "metadata": {},
   "source": [
    "An __algebraic expression__ is defined as a combination of variables, numbers and operations. The operations vsn br one or more of the arithmetical operations that we have explore so far, as well as many others including the trigonometric functions. An algebraic expression does not contain an equal sign."
   ]
  },
  {
   "cell_type": "markdown",
   "id": "d05ef6d2",
   "metadata": {},
   "source": [
    "Algebraic expressions can contain numbers, called __constants__, and unknowns, called __variables__. Variables are letters and symbols (usually Greek symbols) such as $x,y,z,a,b,\\alpha,\\beta, \\ldots$. Variables can be substituted with numbers."
   ]
  },
  {
   "cell_type": "markdown",
   "id": "58405e97-adb2-4226-96db-266f49950c7e",
   "metadata": {
    "jp-MarkdownHeadingCollapsed": true,
    "tags": []
   },
   "source": [
    "### Trigonometric functions"
   ]
  },
  {
   "cell_type": "code",
   "execution_count": null,
   "id": "8c28f6cb-2469-4d89-ae96-eb1a437c7995",
   "metadata": {},
   "outputs": [
    {
     "data": {
      "image/png": "[encoded data removed]",
      "text/latex": [
       "$\\displaystyle 3.14159265358979$"
      ],
      "text/plain": [
       "3.141592653589793"
      ]
     },
     "execution_count": 60,
     "metadata": {},
     "output_type": "execute_result"
    }
   ],
   "source": [
    "pi"
   ]
  },
  {
   "cell_type": "code",
   "execution_count": null,
   "id": "faab1700-c8d9-4844-beca-e22d7169ad0c",
   "metadata": {},
   "outputs": [
    {
     "data": {
      "image/png": "[encoded data removed]",
      "text/latex": [
       "$\\displaystyle 180.0$"
      ],
      "text/plain": [
       "180.0"
      ]
     },
     "execution_count": 59,
     "metadata": {},
     "output_type": "execute_result"
    }
   ],
   "source": [
    "degrees(pi)"
   ]
  },
  {
   "cell_type": "code",
   "execution_count": null,
   "id": "a3626e15-9f8d-485b-adbf-ebbd6dcf70ef",
   "metadata": {},
   "outputs": [
    {
     "data": {
      "image/png": "[encoded data removed]",
      "text/latex": [
       "$\\displaystyle 3.14159265358979$"
      ],
      "text/plain": [
       "3.141592653589793"
      ]
     },
     "execution_count": 62,
     "metadata": {},
     "output_type": "execute_result"
    }
   ],
   "source": [
    "radians(180)"
   ]
  },
  {
   "cell_type": "code",
   "execution_count": null,
   "id": "1c0029d1-5920-432a-b86b-471ffab029b6",
   "metadata": {},
   "outputs": [
    {
     "data": {
      "image/png": "[encoded data removed]",
      "text/plain": [
       "<Figure size 640x480 with 1 Axes>"
      ]
     },
     "metadata": {},
     "output_type": "display_data"
    }
   ],
   "source": [
    "fig, ax = pyplot.subplots()\n",
    "\n",
    "ax.plot(arange(0, 2 * pi, pi/100),\n",
    "       [sin(t) for t in arange(0, 2 * pi, pi/100)],\n",
    "       \"r-\")\n",
    "ax.grid()\n",
    "ax.set_title(\"Sine function\");"
   ]
  },
  {
   "cell_type": "code",
   "execution_count": null,
   "id": "376db8fd-cfde-4cf4-9970-41f318565630",
   "metadata": {},
   "outputs": [
    {
     "data": {
      "image/png": "[encoded data removed]",
      "text/latex": [
       "$\\displaystyle 1.0$"
      ],
      "text/plain": [
       "1.0"
      ]
     },
     "execution_count": 63,
     "metadata": {},
     "output_type": "execute_result"
    }
   ],
   "source": [
    "sin(pi/2)"
   ]
  },
  {
   "cell_type": "code",
   "execution_count": null,
   "id": "ef1fa58a-4453-4f69-b197-20d6f345edd8",
   "metadata": {},
   "outputs": [
    {
     "data": {
      "image/png": "[encoded data removed]",
      "text/latex": [
       "$\\displaystyle 1.0$"
      ],
      "text/plain": [
       "1.0"
      ]
     },
     "execution_count": 64,
     "metadata": {},
     "output_type": "execute_result"
    }
   ],
   "source": [
    "cos(0)"
   ]
  },
  {
   "cell_type": "code",
   "execution_count": null,
   "id": "975842d7-0f8d-4ea3-bd83-32620bbe087b",
   "metadata": {},
   "outputs": [
    {
     "data": {
      "image/png": "[encoded data removed]",
      "text/latex": [
       "$\\displaystyle 1.0$"
      ],
      "text/plain": [
       "0.9999999999999999"
      ]
     },
     "execution_count": 67,
     "metadata": {},
     "output_type": "execute_result"
    }
   ],
   "source": [
    "tan(pi/4)"
   ]
  },
  {
   "cell_type": "markdown",
   "id": "19acdca5-e9ce-4b7a-9ba9-468c5099cfba",
   "metadata": {
    "tags": []
   },
   "source": [
    "## Exercises"
   ]
  },
  {
   "cell_type": "markdown",
   "id": "89d67580-e233-497f-acdd-30683e1bc896",
   "metadata": {
    "jp-MarkdownHeadingCollapsed": true,
    "tags": []
   },
   "source": [
    "### Problems"
   ]
  },
  {
   "cell_type": "markdown",
   "id": "c6db6da4-bd64-4a7c-8317-1f324c4a583e",
   "metadata": {},
   "source": [
    "Calculate the following.\n",
    "\n",
    "$$\n",
    "\\begin{align}\n",
    "&3 + 4 - 2 \\\\ \\\\ \n",
    "&3 \\times 4 + 2 \\\\ \\\\ \n",
    "&\\log_{10}{1000} \\\\ \\\\ \n",
    "&e^{-2} \\\\ \\\\ \n",
    "&\\sqrt[3]{27}\n",
    "\\end{align}\n",
    "$$"
   ]
  },
  {
   "cell_type": "markdown",
   "id": "5c481616-2f34-4932-b46d-c565f646413b",
   "metadata": {
    "jp-MarkdownHeadingCollapsed": true,
    "tags": []
   },
   "source": [
    "### Solutions"
   ]
  },
  {
   "cell_type": "code",
   "execution_count": null,
   "id": "07a279c5-f514-4e32-b9bf-1f0a077a0583",
   "metadata": {},
   "outputs": [
    {
     "data": {
      "image/png": "[encoded data removed]",
      "text/latex": [
       "$\\displaystyle 5$"
      ],
      "text/plain": [
       "5"
      ]
     },
     "execution_count": 74,
     "metadata": {},
     "output_type": "execute_result"
    }
   ],
   "source": [
    "3 + 4 - 2"
   ]
  },
  {
   "cell_type": "code",
   "execution_count": null,
   "id": "80215865-fb09-45b8-bbdd-1f057d17cfc2",
   "metadata": {},
   "outputs": [
    {
     "data": {
      "image/png": "[encoded data removed]",
      "text/latex": [
       "$\\displaystyle 14$"
      ],
      "text/plain": [
       "14"
      ]
     },
     "execution_count": 75,
     "metadata": {},
     "output_type": "execute_result"
    }
   ],
   "source": [
    "3 * 4 + 2"
   ]
  },
  {
   "cell_type": "code",
   "execution_count": null,
   "id": "ad225aba-559c-4da6-8f93-ac65e6c92dc1",
   "metadata": {},
   "outputs": [
    {
     "data": {
      "image/png": "[encoded data removed]",
      "text/latex": [
       "$\\displaystyle 3.0$"
      ],
      "text/plain": [
       "2.9999999999999996"
      ]
     },
     "execution_count": 76,
     "metadata": {},
     "output_type": "execute_result"
    }
   ],
   "source": [
    "log(1000, 10)"
   ]
  },
  {
   "cell_type": "code",
   "execution_count": null,
   "id": "d8dec36d-bbcb-4b73-9605-bd2594b54db2",
   "metadata": {},
   "outputs": [
    {
     "data": {
      "image/png": "[encoded data removed]",
      "text/latex": [
       "$\\displaystyle 0.135335283236613$"
      ],
      "text/plain": [
       "0.1353352832366127"
      ]
     },
     "execution_count": 77,
     "metadata": {},
     "output_type": "execute_result"
    }
   ],
   "source": [
    "exp(-2)"
   ]
  },
  {
   "cell_type": "code",
   "execution_count": null,
   "id": "18478d7f-9d32-4a97-93f1-9a9a98efd596",
   "metadata": {},
   "outputs": [
    {
     "data": {
      "image/png": "[encoded data removed]",
      "text/latex": [
       "$\\displaystyle 3.0$"
      ],
      "text/plain": [
       "3.0"
      ]
     },
     "execution_count": 78,
     "metadata": {},
     "output_type": "execute_result"
    }
   ],
   "source": [
    "27**(1/3)"
   ]
  },
  {
   "cell_type": "code",
   "execution_count": null,
   "id": "8f4983cf-6c16-4422-9e5c-566422ca7680",
   "metadata": {},
   "outputs": [],
   "source": []
  }
 ],
 "metadata": {
  "kernelspec": {
   "display_name": "Python 3 (ipykernel)",
   "language": "python",
   "name": "python3"
  },
  "language_info": {
   "codemirror_mode": {
    "name": "ipython",
    "version": 3
   },
   "file_extension": ".py",
   "mimetype": "text/x-python",
   "name": "python",
   "nbconvert_exporter": "python",
   "pygments_lexer": "ipython3",
   "version": "3.10.13"
  }
 },
 "nbformat": 4,
 "nbformat_minor": 5
}
