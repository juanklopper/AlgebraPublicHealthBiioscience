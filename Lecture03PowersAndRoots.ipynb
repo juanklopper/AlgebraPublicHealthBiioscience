{
 "cells": [
  {
   "cell_type": "markdown",
   "metadata": {},
   "source": [
    "# 3 | POWERS AND ROOTS"
   ]
  },
  {
   "cell_type": "markdown",
   "metadata": {},
   "source": [
    "><b>Dr J H Klopper</b></p>\n",
    ">Department of Biostatistics and Bioinformatics</br>\n",
    ">Milken Institute School of Public Health</br>\n",
    ">George Washington University"
   ]
  },
  {
   "cell_type": "markdown",
   "metadata": {},
   "source": [
    "<p xmlns:cc=\"http://creativecommons.org/ns#\" xmlns:dct=\"http://purl.org/dc/terms/\"><span property=\"dct:title\">This chapter of Algebra for Health Data Science</span> by <span property=\"cc:attributionName\">Dr JH Klopper</span> is licensed under <a href=\"http://creativecommons.org/licenses/by-nc-nd/4.0/?ref=chooser-v1\" target=\"_blank\" rel=\"license noopener noreferrer\" style=\"display:inline-block;\">Attribution-NonCommercial-NoDerivatives 4.0 International<img style=\"height:22px!important;margin-left:3px;vertical-align:text-bottom;\" src=\"https://mirrors.creativecommons.org/presskit/icons/cc.svg?ref=chooser-v1\"><img style=\"height:22px!important;margin-left:3px;vertical-align:text-bottom;\" src=\"https://mirrors.creativecommons.org/presskit/icons/by.svg?ref=chooser-v1\"><img style=\"height:22px!important;margin-left:3px;vertical-align:text-bottom;\" src=\"https://mirrors.creativecommons.org/presskit/icons/nc.svg?ref=chooser-v1\"><img style=\"height:22px!important;margin-left:3px;vertical-align:text-bottom;\" src=\"https://mirrors.creativecommons.org/presskit/icons/nd.svg?ref=chooser-v1\"></a></p>"
   ]
  },
  {
   "cell_type": "markdown",
   "metadata": {},
   "source": [
    "## 3.1 Packages used in this chapter"
   ]
  },
  {
   "cell_type": "markdown",
   "metadata": {},
   "source": [
    "In this chapter we will only use the `symbols`, `init_printing`, and `Rational` functions from the `sympy` package. Instead or importing the entire package, we specify only the required packages using the `from` keyword."
   ]
  },
  {
   "cell_type": "code",
   "execution_count": 19,
   "metadata": {},
   "outputs": [],
   "source": [
    "from sympy import init_printing, symbols, Rational, sqrt"
   ]
  },
  {
   "cell_type": "markdown",
   "metadata": {},
   "source": [
    "We call the `init_printing` function to print proper mathematical notation to the screen."
   ]
  },
  {
   "cell_type": "code",
   "execution_count": 3,
   "metadata": {},
   "outputs": [],
   "source": [
    "init_printing()"
   ]
  },
  {
   "cell_type": "markdown",
   "metadata": {},
   "source": [
    "## 3.2 Introduction"
   ]
  },
  {
   "cell_type": "markdown",
   "metadata": {},
   "source": [
    "In this chapter we explore the concepts and mathematical rules for powers and roots. We will also explore the use of the `sympy` package to perform these operations."
   ]
  },
  {
   "cell_type": "markdown",
   "metadata": {},
   "source": [
    "The use of variables with symbols such as $x$ and $y$ is used extensively in health data science. We often raise these variable to a power or take a root of these variables. The ability to work with powers and roots are some th the most useful skills toi have in health data analysis."
   ]
  },
  {
   "cell_type": "markdown",
   "metadata": {},
   "source": [
    "## 3.3 Powers"
   ]
  },
  {
   "cell_type": "markdown",
   "metadata": {},
   "source": [
    "Before algebraic notation in its current form was created, repeated multiplication was written as __Equation 3.3.1__, where the number $3$ is multiplied by itself, $5$ times."
   ]
  },
  {
   "cell_type": "markdown",
   "metadata": {},
   "source": [
    "$$\n",
    "3 \\times 3 \\times 3 \\times 3 \\times 3\n",
    "\\tag{Equation 3.3.1}\n",
    "$$"
   ]
  },
  {
   "cell_type": "markdown",
   "metadata": {},
   "source": [
    "In modern algebra, we use use short-hand notation instead of writing out the multiplication repeatedly. Below are three definitions commonly used in repeated multiplication."
   ]
  },
  {
   "cell_type": "markdown",
   "metadata": {},
   "source": [
    "__Definition 3.3.1__  The short-hand notation for repeated multiplication is called **power notation**."
   ]
  },
  {
   "cell_type": "markdown",
   "metadata": {},
   "source": [
    "The power notation for __Equation 3.3.1__ is shown in __Equation 3.3.2__."
   ]
  },
  {
   "cell_type": "markdown",
   "metadata": {},
   "source": [
    "$$\n",
    "3 \\times 3 \\times 3 \\times 3 \\times 3 = 3^{5}\n",
    "\\tag{Equation 3.3.2}\n",
    "$$"
   ]
  },
  {
   "cell_type": "markdown",
   "metadata": {},
   "source": [
    "__Definition 3.3.2__ The number that is repeatedly multiplied is termed the **base**."
   ]
  },
  {
   "cell_type": "markdown",
   "metadata": {},
   "source": [
    "The base in __Equation 3.3.2__ is $3$."
   ]
  },
  {
   "cell_type": "markdown",
   "metadata": {},
   "source": [
    "__Definition 3.3.3__  The number of times that a number is repeatedly multiplied is the **power**."
   ]
  },
  {
   "cell_type": "markdown",
   "metadata": {},
   "source": [
    "The power in __Equation 3.3.2__ is $5$. Note that some text refer to the power as the exponent. We will reserve the term exponent to refer to algebra invloving Euler's number, $e$. If a number $x \\in \\mathbb{R}$ is repeatedly multiplied $n$ times, we use power notation and write $x^{n}$, where $x$ is then the base and $n \\in \\mathbb{Z}$ is the power, written as a superscript value."
   ]
  },
  {
   "cell_type": "markdown",
   "metadata": {},
   "source": [
    "__Problem 3.3.1__ Calculate $3^7$."
   ]
  },
  {
   "cell_type": "markdown",
   "metadata": {},
   "source": [
    "The double asterisk symbol, `**`, is used to denote the power in Python."
   ]
  },
  {
   "cell_type": "code",
   "execution_count": 67,
   "metadata": {},
   "outputs": [
    {
     "data": {
      "image/png": "[encoded data removed]",
      "text/latex": [
       "$\\displaystyle 2187$"
      ],
      "text/plain": [
       "2187"
      ]
     },
     "execution_count": 67,
     "metadata": {},
     "output_type": "execute_result"
    }
   ],
   "source": [
    "# Use Python power notation to calculated 3 to the power 7\n",
    "3**7"
   ]
  },
  {
   "cell_type": "markdown",
   "metadata": {},
   "source": [
    "We can verify the result using repeated multiplication."
   ]
  },
  {
   "cell_type": "code",
   "execution_count": 43,
   "metadata": {},
   "outputs": [
    {
     "data": {
      "text/plain": [
       "2187"
      ]
     },
     "execution_count": 43,
     "metadata": {},
     "output_type": "execute_result"
    }
   ],
   "source": [
    "# Verifying the result using repeated multiplication\n",
    "3 * 3 * 3 * 3 * 3 * 3 * 3"
   ]
  },
  {
   "cell_type": "markdown",
   "metadata": {},
   "source": [
    "## 3.4 Properties of powers"
   ]
  },
  {
   "cell_type": "markdown",
   "metadata": {},
   "source": [
    "### 3.4.1 Powers using $0$ and $1$"
   ]
  },
  {
   "cell_type": "markdown",
   "metadata": {},
   "source": [
    "There are several properties of powers to explore. We set out the first four below that use a base and a power of $0$ or $1$."
   ]
  },
  {
   "cell_type": "markdown",
   "metadata": {},
   "source": [
    "1. $x^{1}= x$\n",
    "2. $x^{0} = 1$ (expect when $x=0$)\n",
    "3. $0^{n} = 0$ (expect when $n=0$)\n",
    "4. $0^{0}$ is undefined"
   ]
  },
  {
   "cell_type": "markdown",
   "metadata": {},
   "source": [
    "Note that although $0^{0}$ is undefined, it is often convenient to define $0^{0}=1$ as is the case in the Python language."
   ]
  },
  {
   "cell_type": "code",
   "execution_count": 1,
   "metadata": {},
   "outputs": [
    {
     "data": {
      "text/plain": [
       "1"
      ]
     },
     "execution_count": 1,
     "metadata": {},
     "output_type": "execute_result"
    }
   ],
   "source": [
    "0**0"
   ]
  },
  {
   "cell_type": "markdown",
   "metadata": {},
   "source": [
    "### 3.4.2 Products of powers"
   ]
  },
  {
   "cell_type": "markdown",
   "metadata": {},
   "source": [
    "The next property that we explore is that of the product of variables with powers."
   ]
  },
  {
   "cell_type": "markdown",
   "metadata": {},
   "source": [
    "__Defintion 3.4.2.1__ The product of the same variable with powers is known as the property of __power products__, and is the base raised to the sum of the powers, defined in __Equation 3.4.2.1__, where $x \\in \\mathbb{R}$ and $a,b \\in \\mathbb{Z}$."
   ]
  },
  {
   "cell_type": "markdown",
   "metadata": {},
   "source": [
    "$$\n",
    "x^{a} \\, x^{b} = x^{a+b}\n",
    "\\tag{Equation 3.4.2.1}\n",
    "$$"
   ]
  },
  {
   "cell_type": "markdown",
   "metadata": {},
   "source": [
    "__Problem 3.4.2.1__ The symbols $x$, $a$, and $b$ are defined as mathematical symbols using the `symbols` function in `sympy`. Use the symbols and the `simplify` method to show that the property of power products holds."
   ]
  },
  {
   "cell_type": "code",
   "execution_count": 4,
   "metadata": {},
   "outputs": [],
   "source": [
    "# Define the mathematical symbols x, a, and b and assign them to Python variables x, a, and b\n",
    "x, a, b = symbols('x a b')"
   ]
  },
  {
   "cell_type": "markdown",
   "metadata": {},
   "source": [
    "Now we write code to represent __Equation 3.4.2.1__."
   ]
  },
  {
   "cell_type": "code",
   "execution_count": 5,
   "metadata": {},
   "outputs": [
    {
     "data": {
      "image/png": "[encoded data removed]",
      "text/latex": [
       "$\\displaystyle x^{a} x^{b}$"
      ],
      "text/plain": [
       " a  b\n",
       "x ⋅x "
      ]
     },
     "execution_count": 5,
     "metadata": {},
     "output_type": "execute_result"
    }
   ],
   "source": [
    "# Print x^a * x^b to the screen\n",
    "x**a * x**b"
   ]
  },
  {
   "cell_type": "markdown",
   "metadata": {},
   "source": [
    "Adding the `simplify` method to the end of the code will simplify the expression."
   ]
  },
  {
   "cell_type": "code",
   "execution_count": 7,
   "metadata": {},
   "outputs": [
    {
     "data": {
      "image/png": "[encoded data removed]",
      "text/latex": [
       "$\\displaystyle x^{a + b}$"
      ],
      "text/plain": [
       " a + b\n",
       "x     "
      ]
     },
     "execution_count": 7,
     "metadata": {},
     "output_type": "execute_result"
    }
   ],
   "source": [
    "# calculate the expression and simplify it\n",
    "(x**a * x**b).simplify()"
   ]
  },
  {
   "cell_type": "markdown",
   "metadata": {},
   "source": [
    "The results shows that the property of power products holds."
   ]
  },
  {
   "cell_type": "markdown",
   "metadata": {},
   "source": [
    "The `expand` method can be used to show that $x^{a+b}=x^{a}x^{b}$. We print $x^{a+b}$ to the screen and then use the `expand` method."
   ]
  },
  {
   "cell_type": "code",
   "execution_count": 71,
   "metadata": {},
   "outputs": [
    {
     "data": {
      "image/png": "[encoded data removed]",
      "text/latex": [
       "$\\displaystyle x^{a + b}$"
      ],
      "text/plain": [
       " a + b\n",
       "x     "
      ]
     },
     "execution_count": 71,
     "metadata": {},
     "output_type": "execute_result"
    }
   ],
   "source": [
    "# Print x^(a+b) to the screen\n",
    "x**(a+b)"
   ]
  },
  {
   "cell_type": "code",
   "execution_count": 72,
   "metadata": {},
   "outputs": [
    {
     "data": {
      "image/png": "[encoded data removed]",
      "text/latex": [
       "$\\displaystyle x^{a} x^{b}$"
      ],
      "text/plain": [
       " a  b\n",
       "x ⋅x "
      ]
     },
     "execution_count": 72,
     "metadata": {},
     "output_type": "execute_result"
    }
   ],
   "source": [
    "# Expand x^(a+b)\n",
    "(x**(a + b)).expand()"
   ]
  },
  {
   "cell_type": "markdown",
   "metadata": {},
   "source": [
    "The results show the expansion of the property of power products."
   ]
  },
  {
   "cell_type": "markdown",
   "metadata": {},
   "source": [
    "__Problem 3.4.2.2__ Show that the equation below holds. "
   ]
  },
  {
   "cell_type": "markdown",
   "metadata": {},
   "source": [
    "$$\n",
    "2^{3} \\, 2^{4} = 2^{3+4} = 2^{7}\n",
    "$$"
   ]
  },
  {
   "cell_type": "markdown",
   "metadata": {},
   "source": [
    "We use a conditional statement, `==`, to show that the equation holds."
   ]
  },
  {
   "cell_type": "code",
   "execution_count": 50,
   "metadata": {},
   "outputs": [
    {
     "data": {
      "text/plain": [
       "True"
      ]
     },
     "execution_count": 50,
     "metadata": {},
     "output_type": "execute_result"
    }
   ],
   "source": [
    "# Using a conditional\n",
    "2**3 * 2**4 == 2**(3 + 4)"
   ]
  },
  {
   "cell_type": "markdown",
   "metadata": {},
   "source": [
    "Python returns `True` to show that the left-hand and the right-hand sides are equal. When we write out the powers, it is easy to see that the result holds. We do so in __Equation 3.4.2.2__."
   ]
  },
  {
   "cell_type": "markdown",
   "metadata": {},
   "source": [
    "$$\n",
    "\\begin{align*}\n",
    "2^{3} \\, 2^{4} &= 2^{7} \\\\ \\\\\n",
    "\\left( 2 \\times 2 \\times 2 \\right) \\times \\left( 2 \\times 2 \\times 2 \\times 2 \\right) &= 2 \\times 2 \\times 2 \\times 2 \\times 2 \\times 2 \\times 2 \\\\ \\\\\n",
    "8 \\times 16 &= 128 \\\\ \\\\\n",
    "128 &= 128\n",
    "\\end{align*}\n",
    "\\tag{Equation 3.4.2.2}\n",
    "$$"
   ]
  },
  {
   "cell_type": "markdown",
   "metadata": {},
   "source": [
    "Note that when the bases are not the same, the product of the exponents cannot be simplified."
   ]
  },
  {
   "cell_type": "markdown",
   "metadata": {},
   "source": [
    "__Problem 3.4.2.3__ Simplify the expression in __Equation 3.4.2.3__ using the property of exponent products."
   ]
  },
  {
   "cell_type": "markdown",
   "metadata": {},
   "source": [
    "$$\n",
    "2^{3} \\, 4 \\, x^{6} \\, y^{5} \\, x^{4} \\, y\n",
    "\\tag{Equation 3.4.2.3}\n",
    "$$"
   ]
  },
  {
   "cell_type": "markdown",
   "metadata": {},
   "source": [
    "The result is written in __Equation 3.4.2.4__, where we write $4=2^{2}$."
   ]
  },
  {
   "cell_type": "markdown",
   "metadata": {},
   "source": [
    "$$\n",
    "2^{3} \\, 4 \\, x^{6} \\, y^{5} \\, x^{4} \\, y = 2^{3} \\, 2^{2} \\, x^{6+4} \\, y^{5+1} = 2^{3+2} \\, x^{6+4} \\, y^{5+1} = 2^{5} \\, x^{10} \\, y^{6} = 32 \\, x^{10} \\, y^{6}\n",
    "\\tag{Equation 3.4.2.4}\n",
    "$$"
   ]
  },
  {
   "cell_type": "markdown",
   "metadata": {},
   "source": [
    "We can confirm this with code, after definting $y$ as a mathematical symbol assigned to the variable `y`."
   ]
  },
  {
   "cell_type": "code",
   "execution_count": 51,
   "metadata": {},
   "outputs": [],
   "source": [
    "# Define y as a mathematical symbol and assign it to the variable y\n",
    "y = symbols('y')"
   ]
  },
  {
   "cell_type": "code",
   "execution_count": 52,
   "metadata": {},
   "outputs": [
    {
     "data": {
      "text/latex": [
       "$\\displaystyle 32 x^{10} y^{6}$"
      ],
      "text/plain": [
       "32*x**10*y**6"
      ]
     },
     "execution_count": 52,
     "metadata": {},
     "output_type": "execute_result"
    }
   ],
   "source": [
    "# Simplify the expression\n",
    "(2**3) * 4 * (x**6) * (y**5) * (x**4) * y"
   ]
  },
  {
   "cell_type": "markdown",
   "metadata": {},
   "source": [
    "### 3.4.3 Quotients of powers"
   ]
  },
  {
   "cell_type": "markdown",
   "metadata": {},
   "source": [
    "Powers can be used in quotients or fractions."
   ]
  },
  {
   "cell_type": "markdown",
   "metadata": {},
   "source": [
    "__Defintion 3.4.3.1__ The quotient of a variable with a power, known as the property of __power quotients__, is the base raised to the difference of the powers, defined in __Equation 3.4.2.5__, where $x \\in \\mathbb{R}$ and $a,b \\in \\mathbb{Z}$ and $x^{b} \\ne 0$ and $x$ and $b$ are not both $0$."
   ]
  },
  {
   "cell_type": "markdown",
   "metadata": {},
   "source": [
    "$$\n",
    "x^{a} \\div x^{b} = \\frac{x^{a}}{x^{b}} = x^{a-b}\n",
    "\\tag{Equation 3.4.2.5}\n",
    "$$"
   ]
  },
  {
   "cell_type": "markdown",
   "metadata": {},
   "source": [
    "__Problem 3.4.3.1__ Calculate $2^{5} \\div 2^{3}$."
   ]
  },
  {
   "cell_type": "markdown",
   "metadata": {},
   "source": [
    "The solution is shown in __Equation 3.4.2.6__ and confirmed using code."
   ]
  },
  {
   "cell_type": "markdown",
   "metadata": {},
   "source": [
    "$$\n",
    "\\frac{2^{5}}{2^{3}} = 2^{5-3} = 2^{2} = 4\n",
    "\\tag{Equation 3.4.2.6}\n",
    "$$"
   ]
  },
  {
   "cell_type": "code",
   "execution_count": 53,
   "metadata": {},
   "outputs": [
    {
     "data": {
      "text/plain": [
       "4.0"
      ]
     },
     "execution_count": 53,
     "metadata": {},
     "output_type": "execute_result"
    }
   ],
   "source": [
    "# Use the forward slash symbol for division in Python\n",
    "2**5 / 2**3"
   ]
  },
  {
   "cell_type": "markdown",
   "metadata": {},
   "source": [
    "__Problem 3.4.3.2__ Simplify the expression in __Equation 3.4.2.7__ using the property of power quotients."
   ]
  },
  {
   "cell_type": "markdown",
   "metadata": {},
   "source": [
    "$$\n",
    "\\frac{2^{5} \\, 3^{6} \\, 5^{5}}{3^{5} \\, 5^{4}}\n",
    "\\tag{Equation 3.4.2.7}\n",
    "$$"
   ]
  },
  {
   "cell_type": "markdown",
   "metadata": {},
   "source": [
    "The solution is presented in __Equation 3.4.2.8__ and the result is confirmed using code."
   ]
  },
  {
   "cell_type": "markdown",
   "metadata": {},
   "source": [
    "$$\n",
    "\\frac{2^{5} \\, 3^{6} \\, 5^{5}}{3^{5} \\, 5^{4}} = 2^{5} \\times 3^{6-5} \\times 5^{5-4} = 2^{5} \\times 3^{1} \\times 5^{1} = 2^{5} \\times 3 \\times 5 = 480\n",
    "\\tag{Equation 3.4.2.8}\n",
    "$$"
   ]
  },
  {
   "cell_type": "code",
   "execution_count": 54,
   "metadata": {},
   "outputs": [
    {
     "data": {
      "text/plain": [
       "480.0"
      ]
     },
     "execution_count": 54,
     "metadata": {},
     "output_type": "execute_result"
    }
   ],
   "source": [
    "(2**5 * 3**6 * 5**5) / (3**5 * 5**4)"
   ]
  },
  {
   "cell_type": "markdown",
   "metadata": {},
   "source": [
    "__Problem 3.4.3.3__ Simplify the expression in __Equation 3.4.2.9__ using the property of power quotients."
   ]
  },
  {
   "cell_type": "markdown",
   "metadata": {},
   "source": [
    "$$\n",
    "4 \\, x^{6} \\, y^{3} \\, z^{2} \\div 2 \\, x^{4} \\, y^{3} \\, z\n",
    "\\tag{Equation 3.4.2.9}\n",
    "$$"
   ]
  },
  {
   "cell_type": "markdown",
   "metadata": {},
   "source": [
    "The solution follows in __Equation 3.4.2.10__."
   ]
  },
  {
   "cell_type": "markdown",
   "metadata": {},
   "source": [
    "$$\n",
    "\\begin{align*}\n",
    "\\frac{4 \\, x^{6} \\, y^{3} \\, z^{2}}{2 \\, x^{4} \\, y^{3} \\, z} &= \\frac{2^{2} \\, x^{6} \\, y^{3} \\, z^{2}}{2 \\, x^{4} \\, y^{3} \\, z} \\\\ \\\\ \n",
    "&= 2^{2-1} \\, x^{6-4} \\, y^{3-3} \\, z^{2-1} \\\\ \\\\\n",
    "&= 2^{1} \\, x^{2} \\, y^{0} \\, z^{1}  \\\\ \\\\ \n",
    "&= 2 \\, x^{2} \\, z\n",
    "\\end{align*}\n",
    "\\tag{Equation 3.4.2.10}\n",
    "$$"
   ]
  },
  {
   "cell_type": "markdown",
   "metadata": {},
   "source": [
    "To confirm the result using `sympy`, we need to define $z$ as a mathematical symbol and assign it to the variable `z`. (The matheatical variables $x$ and $y$ have already been defined and assigned to the computer variables `x` and `y`.)"
   ]
  },
  {
   "cell_type": "code",
   "execution_count": 55,
   "metadata": {},
   "outputs": [],
   "source": [
    "z = symbols('z')"
   ]
  },
  {
   "cell_type": "code",
   "execution_count": 56,
   "metadata": {},
   "outputs": [
    {
     "data": {
      "text/latex": [
       "$\\displaystyle 2 x^{2} z$"
      ],
      "text/plain": [
       "2*x**2*z"
      ]
     },
     "execution_count": 56,
     "metadata": {},
     "output_type": "execute_result"
    }
   ],
   "source": [
    "# Confirm the result using sympy\n",
    "(4 * x**6 * y**3 * z**2) / (2 * x**4 * y**3 * z)"
   ]
  },
  {
   "cell_type": "markdown",
   "metadata": {},
   "source": [
    "### 3.4.4 Negative powers"
   ]
  },
  {
   "cell_type": "markdown",
   "metadata": {},
   "source": [
    "Negative powers are one consequence of the property of power quotients. We see two examples in __Equation 3.4.4.1__."
   ]
  },
  {
   "cell_type": "markdown",
   "metadata": {},
   "source": [
    "$$\n",
    "\\begin{align*}\n",
    "&\\frac{x^{2}}{x^{3}} = x^{2-3} = x^{-1} = \\frac{1}{x} \\\\ \\\\ \n",
    "&\\frac{x^{3}}{x^{7}} = x^{3-7} = x^{-4} = \\frac{1}{x^{4}}\n",
    "\\end{align*}\n",
    "\\tag{Equation 3.4.4.1}\n",
    "$$"
   ]
  },
  {
   "cell_type": "markdown",
   "metadata": {},
   "source": [
    "__Definition 3.4.4.1__ A __negative power__ is the reciprocal of the base raised to the positive power, defined in __Equation 3.4.4.2__, where $x \\in \\mathbb{R}$ and $a \\in \\mathbb{Z}$ and $x^{a} \\ne 0$."
   ]
  },
  {
   "cell_type": "markdown",
   "metadata": {},
   "source": [
    "$$\n",
    "x^{-a} = \\frac{1}{x^{a}}\n",
    "\\tag{Equation 3.4.4.2}\n",
    "$$"
   ]
  },
  {
   "cell_type": "markdown",
   "metadata": {},
   "source": [
    "__Problem 3.4.4.1__ Simplify the expression in __Equation 3.4.4.3__ using the property of negative powers."
   ]
  },
  {
   "cell_type": "markdown",
   "metadata": {},
   "source": [
    "$$\n",
    "2^{-3}\n",
    "\\tag{Equation 3.4.4.3}\n",
    "$$"
   ]
  },
  {
   "cell_type": "markdown",
   "metadata": {},
   "source": [
    "The solution follows in __Equation 3.4.4.4__ and is confirmed using code."
   ]
  },
  {
   "cell_type": "markdown",
   "metadata": {},
   "source": [
    "$$\n",
    "2^{-3} = \\frac{1}{2^{3}} = \\frac{1}{8} = 0.125\n",
    "\\tag{Equation 3.4.4.4}\n",
    "$$"
   ]
  },
  {
   "cell_type": "code",
   "execution_count": 57,
   "metadata": {},
   "outputs": [
    {
     "data": {
      "text/plain": [
       "0.125"
      ]
     },
     "execution_count": 57,
     "metadata": {},
     "output_type": "execute_result"
    }
   ],
   "source": [
    "2**(-3)"
   ]
  },
  {
   "cell_type": "markdown",
   "metadata": {},
   "source": [
    "__Problem 3.4.4.2__ Simplify the expression in __Equation 3.4.4.5__ using the property of negative powers."
   ]
  },
  {
   "cell_type": "markdown",
   "metadata": {},
   "source": [
    "$$\n",
    "\\frac{1}{x^{-3}}\n",
    "\\tag{Equation 3.4.4.5}\n",
    "$$"
   ]
  },
  {
   "cell_type": "markdown",
   "metadata": {},
   "source": [
    "The solution follows in __Equation 3.4.4.6__ and is confirmed using code."
   ]
  },
  {
   "cell_type": "markdown",
   "metadata": {},
   "source": [
    "$$\n",
    "\\frac{1}{x^{-3}} = x^{-(-3)} = x^{3}\n",
    "\\tag{Equation 3.4.4.6}\n",
    "$$"
   ]
  },
  {
   "cell_type": "markdown",
   "metadata": {},
   "source": [
    "__Problem 3.4.4.3__ Solve the _complicated_ fraction in __Equation 3.4.4.7__ using the property of negative powers."
   ]
  },
  {
   "cell_type": "markdown",
   "metadata": {},
   "source": [
    "$$\n",
    "\\frac{1}{\\frac{1}{x^{4}}}\n",
    "\\tag{Equation 3.4.4.7}\n",
    "$$"
   ]
  },
  {
   "cell_type": "markdown",
   "metadata": {},
   "source": [
    "The solution follows in __Equation 3.4.4.8__ and is confirmed using code."
   ]
  },
  {
   "cell_type": "markdown",
   "metadata": {},
   "source": [
    "$$\n",
    "\\frac{1}{\\frac{1}{x^{4}}} = \\frac{1}{x^{-4}} = x^{-(-4)} = x^{4}\n",
    "\\tag{Equation 3.4.4.8}\n",
    "$$"
   ]
  },
  {
   "cell_type": "code",
   "execution_count": 58,
   "metadata": {},
   "outputs": [
    {
     "data": {
      "text/latex": [
       "$\\displaystyle x^{4}$"
      ],
      "text/plain": [
       "x**4"
      ]
     },
     "execution_count": 58,
     "metadata": {},
     "output_type": "execute_result"
    }
   ],
   "source": [
    "1 / (1 / x**4)"
   ]
  },
  {
   "cell_type": "markdown",
   "metadata": {},
   "source": [
    "### 3.4.5 Powers of powers"
   ]
  },
  {
   "cell_type": "markdown",
   "metadata": {},
   "source": [
    "__Defintion 3.4.5.1__ The power of variable with a power, known as the property of the __power of powers__, is the base raised to the product of the powers, defined in __Equation 3.4.5.1__, where $x \\in \\mathbb{R}$ and $a,b \\in \\mathbb{Z}$."
   ]
  },
  {
   "cell_type": "markdown",
   "metadata": {},
   "source": [
    "$$\n",
    "\\left( x^{a} \\right)^{b} = x^{a \\, b}\n",
    "\\tag{Equation 3.4.5.1}\n",
    "$$"
   ]
  },
  {
   "cell_type": "markdown",
   "metadata": {},
   "source": [
    "__Problem 3.4.5.1__ Simplify the expression in __Equation 3.4.5.2__ using the property of the power of powers."
   ]
  },
  {
   "cell_type": "markdown",
   "metadata": {},
   "source": [
    "$$\n",
    "\\left( 2^{-3} \\right)^{2}\n",
    "$$"
   ]
  },
  {
   "cell_type": "markdown",
   "metadata": {},
   "source": [
    "The solution follows in __Equation 3.4.5.3__ and is confirmed using code."
   ]
  },
  {
   "cell_type": "markdown",
   "metadata": {},
   "source": [
    "$$\n",
    "\\left( 2^{-3} \\right)^{2} = \\left( 2^{-3} \\right) \\left( 2^{-3} \\right) = 2^{(-3)+(-3)} = 2^{-6} = \\frac{1}{2^{6}} = \\frac{1}{64} = 0.015625\n",
    "\\tag{Equation 3.4.5.3}\n",
    "$$"
   ]
  },
  {
   "cell_type": "code",
   "execution_count": 62,
   "metadata": {},
   "outputs": [
    {
     "data": {
      "text/plain": [
       "0.015625"
      ]
     },
     "execution_count": 62,
     "metadata": {},
     "output_type": "execute_result"
    }
   ],
   "source": [
    "(2**(-3))**2"
   ]
  },
  {
   "cell_type": "markdown",
   "metadata": {},
   "source": [
    "We see in __Equation 3.4.5.3__ that the multiplication of the powers of the base $2$, that is $-3 \\times 2$ in a consequence of the property of power products."
   ]
  },
  {
   "cell_type": "markdown",
   "metadata": {},
   "source": [
    "__Problem 3.4.5.2__ Simplify the expression in __Equation 3.4.5.4__ using the property of the power of powers."
   ]
  },
  {
   "cell_type": "markdown",
   "metadata": {},
   "source": [
    "$$\n",
    "\\left( 3 \\, x^{2} \\, y^{3} \\right)^{2}\n",
    "\\tag{Equation 3.4.5.4}\n",
    "$$"
   ]
  },
  {
   "cell_type": "markdown",
   "metadata": {},
   "source": [
    "The result is shown in __Equation 3.4.5.5__ and confirmed using code."
   ]
  },
  {
   "cell_type": "markdown",
   "metadata": {},
   "source": [
    "$$\n",
    "\\left( 3 \\, x^{2} \\, y^{3} \\right)^{2} = 3^{2} \\, x^{2 \\times 2} \\, y^{3 \\times 2} = 9 \\, x^{4} \\, y^{6}\n",
    "\\tag{Equation 3.4.5.5}\n",
    "$$"
   ]
  },
  {
   "cell_type": "code",
   "execution_count": 63,
   "metadata": {},
   "outputs": [
    {
     "data": {
      "text/latex": [
       "$\\displaystyle 9 x^{4} y^{6}$"
      ],
      "text/plain": [
       "9*x**4*y**6"
      ]
     },
     "execution_count": 63,
     "metadata": {},
     "output_type": "execute_result"
    }
   ],
   "source": [
    "# Verify the result using sympy\n",
    "(3 * x**2 * y**3)**2"
   ]
  },
  {
   "cell_type": "markdown",
   "metadata": {},
   "source": [
    "### 3.4.6 Power roots"
   ]
  },
  {
   "cell_type": "markdown",
   "metadata": {},
   "source": [
    "Powers can involve roots as well as integers. We explore the properties of roots in this section."
   ]
  },
  {
   "cell_type": "markdown",
   "metadata": {},
   "source": [
    "__Definition 3.4.6.1__ The root of a power, known as the property of __power roots__, is the base raised to the quotient of the powers, defined in __Equation 3.4.6.1__, where $x \\in \\mathbb{R}$ and $a,b \\in \\mathbb{Z}$ and $x^{b} \\ne 0$."
   ]
  },
  {
   "cell_type": "markdown",
   "metadata": {},
   "source": [
    "$$\n",
    "x^{\\frac{a}{b}} = \\sqrt[b]{x^{a}} = \\left( \\sqrt[b]{x} \\right)^{a}\n",
    "\\tag{Equation 3.4.6.1}\n",
    "$$"
   ]
  },
  {
   "cell_type": "markdown",
   "metadata": {},
   "source": [
    "These types of expressions, where the power is a fraction or a rational number, are called __radicals__. The denominator of the fraction is called the __index__ of the radical. In the defintion above, this would be $b$. The numerator of the fraction is called the __radicand__. In the definition above, this would be $a$."
   ]
  },
  {
   "cell_type": "markdown",
   "metadata": {},
   "source": [
    "__Problem 3.4.6.1__ Simplify the expression in __Equation 3.4.6.2__ using the property of power roots."
   ]
  },
  {
   "cell_type": "markdown",
   "metadata": {},
   "source": [
    "$$\n",
    "x^{\\frac{1}{2}}\n",
    "\\tag{Equation 3.4.6.2}\n",
    "$$"
   ]
  },
  {
   "cell_type": "markdown",
   "metadata": {},
   "source": [
    "The solution follows in __Equation 3.4.6.3__ and is confirmed using code."
   ]
  },
  {
   "cell_type": "markdown",
   "metadata": {},
   "source": [
    "$$\n",
    "x^{\\frac{1}{2}} = \\sqrt{x}\n",
    "\\tag{Equation 3.4.6.3}\n",
    "$$"
   ]
  },
  {
   "cell_type": "code",
   "execution_count": 8,
   "metadata": {},
   "outputs": [
    {
     "data": {
      "image/png": "[encoded data removed]",
      "text/latex": [
       "$\\displaystyle \\sqrt{x}$"
      ],
      "text/plain": [
       "√x"
      ]
     },
     "execution_count": 8,
     "metadata": {},
     "output_type": "execute_result"
    }
   ],
   "source": [
    "# Verify the solution\n",
    "x**(Rational(1, 2))"
   ]
  },
  {
   "cell_type": "markdown",
   "metadata": {},
   "source": [
    "__Problem 3.4.6.2__ Simplify the expression in __Equation 3.4.6.4__ using the property of power roots."
   ]
  },
  {
   "cell_type": "markdown",
   "metadata": {},
   "source": [
    "$$\n",
    "x^{\\frac{2}{3}}\n",
    "\\tag{Equation 3.4.6.4}\n",
    "$$"
   ]
  },
  {
   "cell_type": "markdown",
   "metadata": {},
   "source": [
    "The solution follows in __Equation 3.4.6.5__ and is confirmed using code."
   ]
  },
  {
   "cell_type": "markdown",
   "metadata": {},
   "source": [
    "$$\n",
    "x^{\\frac{2}{3}} = \\sqrt[3]{x^{2}} = \\left( \\sqrt[3]{x} \\right)^{2}\n",
    "\\tag{Equation 3.4.6.5}\n",
    "$$"
   ]
  },
  {
   "cell_type": "code",
   "execution_count": 25,
   "metadata": {},
   "outputs": [
    {
     "data": {
      "text/plain": [
       "True"
      ]
     },
     "execution_count": 25,
     "metadata": {},
     "output_type": "execute_result"
    }
   ],
   "source": [
    "# Verify the solution\n",
    "x**(Rational(2, 3)) == (x**(Rational(1, 3)))**2"
   ]
  },
  {
   "cell_type": "markdown",
   "metadata": {},
   "source": [
    "When powers include rational numbers and the indices are the same, the radicands can be combined , as shown in __Equation 3.4.6.6__."
   ]
  },
  {
   "cell_type": "markdown",
   "metadata": {},
   "source": [
    "$$\n",
    "\\sqrt[a]{x} \\, \\sqrt[a]{y} = \\sqrt[a]{x \\, y}\n",
    "\\tag{Equation 3.4.6.6}\n",
    "$$"
   ]
  },
  {
   "cell_type": "markdown",
   "metadata": {},
   "source": [
    "__Problem 3.4.6.3__ Simplify the expression in __Equation 3.4.6.7__."
   ]
  },
  {
   "cell_type": "markdown",
   "metadata": {},
   "source": [
    "$$\n",
    "\\sqrt{2} \\, \\sqrt{3}\n",
    "\\tag{Equation 3.4.6.7}\n",
    "$$"
   ]
  },
  {
   "cell_type": "markdown",
   "metadata": {},
   "source": [
    "We note that we can rewrite the problem as shon in __Equation 3.4.6.8__."
   ]
  },
  {
   "cell_type": "markdown",
   "metadata": {},
   "source": [
    "$$\n",
    "2^{\\frac{1}{2}} \\times 3^{\\frac{1}{2}}\n",
    "\\tag{Equation 3.4.6.8}\n",
    "$$"
   ]
  },
  {
   "cell_type": "markdown",
   "metadata": {},
   "source": [
    "In both parts of the expression, the index is $2$. We can combine the radicands as sshown in __Equation 3.4.6.9__."
   ]
  },
  {
   "cell_type": "markdown",
   "metadata": {},
   "source": [
    "$$\n",
    "(2 \\times 3)^{\\frac{1}{2}} = 6^{\\frac{1}{2}} = \\sqrt{6}\n",
    "\\tag{Equation 3.4.6.9}\n",
    "$$"
   ]
  },
  {
   "cell_type": "markdown",
   "metadata": {},
   "source": [
    "This property also applies to division, as shown in __Equation 3.4.6.10__."
   ]
  },
  {
   "cell_type": "markdown",
   "metadata": {},
   "source": [
    "$$\n",
    "\\frac{\\sqrt[a]{x}}{\\sqrt[a]{y}} = \\sqrt[a]{\\frac{x}{y}}, \\quad y \\ne 0\n",
    "\\tag{Equation 3.4.6.10}\n",
    "$$"
   ]
  },
  {
   "cell_type": "markdown",
   "metadata": {},
   "source": [
    "__Problem 3.4.6.4__ Simplify the expression in __Equation 3.4.6.11__."
   ]
  },
  {
   "cell_type": "markdown",
   "metadata": {},
   "source": [
    "$$\n",
    "\\sqrt[3]{2} \\div \\sqrt[3]{3}\n",
    "\\tag{Equation 3.4.6.11}\n",
    "$$"
   ]
  },
  {
   "cell_type": "markdown",
   "metadata": {},
   "source": [
    "The solution follows in __Equation 3.4.6.12__ and is confirmed using code."
   ]
  },
  {
   "cell_type": "markdown",
   "metadata": {},
   "source": [
    "$$\n",
    "\\frac{\\sqrt[3]{2}}{\\sqrt[3]{3}} = \\sqrt[3]{\\frac{2}{3}}\n",
    "\\tag{Equation 3.4.6.12}\n",
    "$$"
   ]
  },
  {
   "cell_type": "code",
   "execution_count": null,
   "metadata": {},
   "outputs": [
    {
     "data": {
      "text/latex": [
       "$\\displaystyle \\frac{\\sqrt[3]{2} \\cdot 3^{\\frac{2}{3}}}{3}$"
      ],
      "text/plain": [
       "2**(1/3)*3**(2/3)/3"
      ]
     },
     "execution_count": 62,
     "metadata": {},
     "output_type": "execute_result"
    }
   ],
   "source": [
    "# Verify the solution\n",
    "(2**Rational(1, 3)) / (3**Rational(1, 3))"
   ]
  },
  {
   "cell_type": "markdown",
   "metadata": {},
   "source": [
    "Note that this does not apply to addition and subtraction. We have that $\\sqrt[a]{x} + \\sqrt[a]{y} \\ne \\sqrt[a]{x+y}$ and $\\sqrt[a]{x} - \\sqrt[a]{y} \\ne \\sqrt[a]{x-y}$."
   ]
  },
  {
   "cell_type": "markdown",
   "metadata": {},
   "source": [
    "There are some common use cases that are easy to remember. They are listed below for $m,n,c \\in \\mathbb{R}$ and $a,b \\in \\mathbb{N}$."
   ]
  },
  {
   "cell_type": "markdown",
   "metadata": {},
   "source": [
    "- $m \\sqrt[a]{x} + n \\sqrt[a]{x} = \\left( m + n \\right) \\sqrt[a]{x}$\n",
    "\n",
    "- $m \\sqrt[a]{x} - n \\sqrt[a]{x} = \\left( m - n \\right) \\sqrt[a]{x}$\n",
    "\n",
    "- $\\sqrt{c} \\, \\sqrt{c} = \\sqrt{c^{2}} = \\lvert c \\rvert$\n",
    "\n",
    "- $\\sqrt[a]{x} = x^{\\frac{1}{a}}$\n",
    "\n",
    "- $\\sqrt[a]{x^{b}} = x^{\\frac{b}{a}}$"
   ]
  }
 ],
 "metadata": {
  "kernelspec": {
   "display_name": "mathematics",
   "language": "python",
   "name": "python3"
  },
  "language_info": {
   "codemirror_mode": {
    "name": "ipython",
    "version": 3
   },
   "file_extension": ".py",
   "mimetype": "text/x-python",
   "name": "python",
   "nbconvert_exporter": "python",
   "pygments_lexer": "ipython3",
   "version": "3.10.13"
  },
  "orig_nbformat": 4
 },
 "nbformat": 4,
 "nbformat_minor": 2
}
