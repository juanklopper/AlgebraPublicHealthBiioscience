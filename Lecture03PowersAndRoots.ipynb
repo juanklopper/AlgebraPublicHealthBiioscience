{
 "cells": [
  {
   "cell_type": "markdown",
   "metadata": {},
   "source": [
    "# 3 | POWERS ROOTS EXPONENTIALS AND LOGARITHMS"
   ]
  },
  {
   "cell_type": "markdown",
   "metadata": {},
   "source": [
    "><b>Dr J H Klopper</b></p>\n",
    ">Department of Biostatistics and Bioinformatics</br>\n",
    ">Milken Institute School of Public Health</br>\n",
    ">George Washington University"
   ]
  },
  {
   "cell_type": "markdown",
   "metadata": {},
   "source": [
    "<p xmlns:cc=\"http://creativecommons.org/ns#\" xmlns:dct=\"http://purl.org/dc/terms/\"><span property=\"dct:title\">This chapter of Algebra for Health Data Science</span> by <span property=\"cc:attributionName\">Dr JH Klopper</span> is licensed under <a href=\"http://creativecommons.org/licenses/by-nc-nd/4.0/?ref=chooser-v1\" target=\"_blank\" rel=\"license noopener noreferrer\" style=\"display:inline-block;\">Attribution-NonCommercial-NoDerivatives 4.0 International<img style=\"height:22px!important;margin-left:3px;vertical-align:text-bottom;\" src=\"https://mirrors.creativecommons.org/presskit/icons/cc.svg?ref=chooser-v1\"><img style=\"height:22px!important;margin-left:3px;vertical-align:text-bottom;\" src=\"https://mirrors.creativecommons.org/presskit/icons/by.svg?ref=chooser-v1\"><img style=\"height:22px!important;margin-left:3px;vertical-align:text-bottom;\" src=\"https://mirrors.creativecommons.org/presskit/icons/nc.svg?ref=chooser-v1\"><img style=\"height:22px!important;margin-left:3px;vertical-align:text-bottom;\" src=\"https://mirrors.creativecommons.org/presskit/icons/nd.svg?ref=chooser-v1\"></a></p>"
   ]
  },
  {
   "cell_type": "markdown",
   "metadata": {},
   "source": [
    "- Watch the pencil and paper video lecture [HERE](https://youtu.be/gtIRlEydYOE)\n",
    "\n",
    "- Watch the Python video lecture [HERE](https://youtu.be/BQnIaDgqS1k)"
   ]
  },
  {
   "cell_type": "markdown",
   "metadata": {},
   "source": [
    "## 3.1 Packages used in this chapter"
   ]
  },
  {
   "cell_type": "markdown",
   "metadata": {},
   "source": [
    "In this chapter we will only use the `symbols`, `init_printing`, `Rational`, `exp`, and `log` functions from the `sympy` package. Instead or importing the entire package, we specify only the required functions using the `from` keyword."
   ]
  },
  {
   "cell_type": "code",
   "execution_count": 4,
   "metadata": {},
   "outputs": [],
   "source": [
    "from sympy import init_printing, symbols, Rational, exp, log"
   ]
  },
  {
   "cell_type": "markdown",
   "metadata": {},
   "source": [
    "We call the `init_printing` function to make the output mathematical notation using code."
   ]
  },
  {
   "cell_type": "code",
   "execution_count": 5,
   "metadata": {},
   "outputs": [],
   "source": [
    "init_printing()"
   ]
  },
  {
   "cell_type": "markdown",
   "metadata": {},
   "source": [
    "This chapter includes a graph of the standard normal distributrion. We use the `pyplot` module in the `matplotlib` package to create the graph."
   ]
  },
  {
   "cell_type": "code",
   "execution_count": 6,
   "metadata": {},
   "outputs": [],
   "source": [
    "from matplotlib import pyplot"
   ]
  },
  {
   "cell_type": "markdown",
   "metadata": {},
   "source": [
    "The `%config` magic command is used to produce high resolution plots on high pixel density monitors."
   ]
  },
  {
   "cell_type": "code",
   "execution_count": 7,
   "metadata": {},
   "outputs": [],
   "source": [
    "%config InlineBackend.figure_format = 'retina'"
   ]
  },
  {
   "cell_type": "markdown",
   "metadata": {},
   "source": [
    "We also import the numerical Pyhton package `numpy` to use the `arange` function to create the x-axis values for the graph."
   ]
  },
  {
   "cell_type": "code",
   "execution_count": 8,
   "metadata": {},
   "outputs": [],
   "source": [
    "import numpy"
   ]
  },
  {
   "cell_type": "markdown",
   "metadata": {},
   "source": [
    "## 3.2 Introduction"
   ]
  },
  {
   "cell_type": "markdown",
   "metadata": {},
   "source": [
    "In the previous chapter we had a brief introduction to powers. In this chapter we continue exploring the concepts and the mathematical rules for powers and roots, as well as exponentials and logarithms. We will also explore the use of the `sympy` package to perform these operations."
   ]
  },
  {
   "cell_type": "markdown",
   "metadata": {},
   "source": [
    "Powers are short-hand notation for repeated multiplication in algebra. We commonly use roots when creating the graph of a function and find these roots where the graphs intersect the horizontal or $x$-axis. Exponentials and logarithms are very commonly used in health data science. We start by exploring the concept of powers."
   ]
  },
  {
   "cell_type": "markdown",
   "metadata": {},
   "source": [
    "## 3.3 Powers"
   ]
  },
  {
   "cell_type": "markdown",
   "metadata": {},
   "source": [
    "Without the use of power notation, repeated multiplication is written as below, where the number $3$ is multiplied by itself, $5$ times."
   ]
  },
  {
   "cell_type": "markdown",
   "metadata": {},
   "source": [
    "$$\n",
    "3 \\times 3 \\times 3 \\times 3 \\times 3\n",
    "$$"
   ]
  },
  {
   "cell_type": "markdown",
   "metadata": {},
   "source": [
    "In algebra, we use use short-hand notation instead of writing out the multiplication repeatedly. Below are three definitions commonly used in repeated multiplication."
   ]
  },
  {
   "cell_type": "markdown",
   "metadata": {},
   "source": [
    "__Definition 3.3.1__  The short-hand notation for repeated multiplication is called <span style=\"color:lightgreen\">**power notation**</span>."
   ]
  },
  {
   "cell_type": "markdown",
   "metadata": {},
   "source": [
    "__Definition 3.3.2__ The number that is repeatedly multiplied is termed the <span style=\"color:lightgreen\">**base**</span>."
   ]
  },
  {
   "cell_type": "markdown",
   "metadata": {},
   "source": [
    "__Definition 3.3.3__  The number of times that a number is repeatedly multiplied is the <span style=\"color:lightgreen\">**power**</span>. Many textbooks also refer to this as the <span style=\"color:lightgreen\">__exponent__</span>."
   ]
  },
  {
   "cell_type": "markdown",
   "metadata": {},
   "source": [
    "If a number $x \\in \\mathbb{R}$ is repeatedly multiplied $n$ times, we use power notation and write $x^{n}$, where $x$ is then the base and $n \\in \\mathbb{Z}$ is the power, written as a superscript value."
   ]
  },
  {
   "cell_type": "markdown",
   "metadata": {},
   "source": [
    "__Problem 3.3.1__ Calculate $3^7$."
   ]
  },
  {
   "cell_type": "markdown",
   "metadata": {},
   "source": [
    "The double asterisk symbol `**` is used to denote power in Python. We calculate $3^{7}$ below."
   ]
  },
  {
   "cell_type": "code",
   "execution_count": 9,
   "metadata": {},
   "outputs": [
    {
     "data": {
      "image/png": "[encoded data removed]",
      "text/latex": [
       "$\\displaystyle 2187$"
      ],
      "text/plain": [
       "2187"
      ]
     },
     "execution_count": 9,
     "metadata": {},
     "output_type": "execute_result"
    }
   ],
   "source": [
    "# Use Python power notation to calculated 3 to the power 7\n",
    "3**7"
   ]
  },
  {
   "cell_type": "markdown",
   "metadata": {},
   "source": [
    "We can verify the result using repeated multiplication."
   ]
  },
  {
   "cell_type": "code",
   "execution_count": 10,
   "metadata": {},
   "outputs": [
    {
     "data": {
      "image/png": "[encoded data removed]",
      "text/latex": [
       "$\\displaystyle 2187$"
      ],
      "text/plain": [
       "2187"
      ]
     },
     "execution_count": 10,
     "metadata": {},
     "output_type": "execute_result"
    }
   ],
   "source": [
    "# Verifying the result using repeated multiplication\n",
    "3 * 3 * 3 * 3 * 3 * 3 * 3"
   ]
  },
  {
   "cell_type": "markdown",
   "metadata": {},
   "source": [
    "__Homework 3.3.1__ Calculate $45^{5}$."
   ]
  },
  {
   "cell_type": "markdown",
   "metadata": {},
   "source": [
    "## 3.4 Properties of powers"
   ]
  },
  {
   "cell_type": "markdown",
   "metadata": {},
   "source": [
    "There are a number of properties of powers that we will explore in this section. We will use the `sympy` package to explore examples of these properties, starting with the powers $0$ and $1$."
   ]
  },
  {
   "cell_type": "markdown",
   "metadata": {},
   "source": [
    "### 3.4.1 Powers using $0$ and $1$"
   ]
  },
  {
   "cell_type": "markdown",
   "metadata": {},
   "source": [
    "The following properties of the powers $0$ and $1$ are important to remember."
   ]
  },
  {
   "cell_type": "markdown",
   "metadata": {},
   "source": [
    "1. $x^{1}= x$\n",
    "2. $x^{0} = 1$ (expect when $x=0$)\n",
    "3. $0^{n} = 0$ (expect when $n=0$)\n",
    "4. $0^{0}$ is undefined"
   ]
  },
  {
   "cell_type": "markdown",
   "metadata": {},
   "source": [
    "Note that although $0^{0}$ is undefined, it is often convenient to define $0^{0}=1$ as is done using Python code."
   ]
  },
  {
   "cell_type": "code",
   "execution_count": 11,
   "metadata": {},
   "outputs": [
    {
     "data": {
      "image/png": "[encoded data removed]",
      "text/latex": [
       "$\\displaystyle 1$"
      ],
      "text/plain": [
       "1"
      ]
     },
     "execution_count": 11,
     "metadata": {},
     "output_type": "execute_result"
    }
   ],
   "source": [
    "# Python cosniders 0 to the power 0 as 1\n",
    "0**0"
   ]
  },
  {
   "cell_type": "markdown",
   "metadata": {},
   "source": [
    "### 3.4.2 Products of powers"
   ]
  },
  {
   "cell_type": "markdown",
   "metadata": {},
   "source": [
    "The next property that we explore is that of the product of variables with powers."
   ]
  },
  {
   "cell_type": "markdown",
   "metadata": {},
   "source": [
    "__Defintion 3.4.2.1__ The product of the same variable with separate powers is known as the property of <span style=\"color:lightgreen\">__power products__</span>, and is the base raised to the sum of the powers, defined in __Equation 3.4.2.1__, where $x \\in \\mathbb{R}$ and $a,b \\in \\mathbb{Z}$."
   ]
  },
  {
   "cell_type": "markdown",
   "metadata": {},
   "source": [
    "$$\n",
    "x^{a} \\, x^{b} = x^{a+b}\n",
    "\\tag{Equation 3.4.2.1}\n",
    "$$"
   ]
  },
  {
   "cell_type": "markdown",
   "metadata": {},
   "source": [
    "__Problem 3.4.2.1__ The symbols $x$, $a$, and $b$ are defined as mathematical symbols using the `symbols` function in `sympy`. Use the symbols and the `simplify` method to show that the property of power products holds."
   ]
  },
  {
   "cell_type": "code",
   "execution_count": 12,
   "metadata": {},
   "outputs": [],
   "source": [
    "# Define the mathematical symbols x, a, and b and assign them to Python variables x, a, and b\n",
    "x, a, b = symbols('x a b')"
   ]
  },
  {
   "cell_type": "markdown",
   "metadata": {},
   "source": [
    "We print $x^{a}x^{b}$ to the screen."
   ]
  },
  {
   "cell_type": "code",
   "execution_count": 13,
   "metadata": {},
   "outputs": [
    {
     "data": {
      "image/png": "[encoded data removed]",
      "text/latex": [
       "$\\displaystyle x^{a} x^{b}$"
      ],
      "text/plain": [
       " a  b\n",
       "x ⋅x "
      ]
     },
     "execution_count": 13,
     "metadata": {},
     "output_type": "execute_result"
    }
   ],
   "source": [
    "# Print x^a * x^b to the screen\n",
    "x**a * x**b"
   ]
  },
  {
   "cell_type": "markdown",
   "metadata": {},
   "source": [
    "The `simplify` method is used to apply __Equation 3.4.2.1__."
   ]
  },
  {
   "cell_type": "code",
   "execution_count": 14,
   "metadata": {},
   "outputs": [
    {
     "data": {
      "image/png": "[encoded data removed]",
      "text/latex": [
       "$\\displaystyle x^{a + b}$"
      ],
      "text/plain": [
       " a + b\n",
       "x     "
      ]
     },
     "execution_count": 14,
     "metadata": {},
     "output_type": "execute_result"
    }
   ],
   "source": [
    "# Calculate the expression and simplify it\n",
    "(x**a * x**b).simplify()"
   ]
  },
  {
   "cell_type": "markdown",
   "metadata": {},
   "source": [
    "__Homework 3.4.2.1__ Simplify $x^{a}x^{b}x^{c}$ for $x \\in \\mathbb{R}$ and $a,c,b \\in \\mathbb{Z}$."
   ]
  },
  {
   "cell_type": "markdown",
   "metadata": {},
   "source": [
    "__Problem 3.4.2.2__ Show that __Equation 3.4.2.2__ holds. "
   ]
  },
  {
   "cell_type": "markdown",
   "metadata": {},
   "source": [
    "$$\n",
    "\\begin{align*}\n",
    "&2^{3} \\, 2^{4} = 2^{7} \\\\ \\\\\n",
    "&2^{3+4} = 2^{7}\n",
    "\\end{align*}\n",
    "\\tag{Equation 3.4.2.2}\n",
    "$$"
   ]
  },
  {
   "cell_type": "markdown",
   "metadata": {},
   "source": [
    "We use a conditional statement to show that the equation holds."
   ]
  },
  {
   "cell_type": "code",
   "execution_count": 15,
   "metadata": {},
   "outputs": [
    {
     "data": {
      "text/plain": [
       "True"
      ]
     },
     "execution_count": 15,
     "metadata": {},
     "output_type": "execute_result"
    }
   ],
   "source": [
    "# Using a conditional\n",
    "2**3 * 2**4 == 2**(3 + 4)"
   ]
  },
  {
   "cell_type": "markdown",
   "metadata": {},
   "source": [
    "When we write out the powers, it is easy to see that the result holds. We do so in __Eqiation 3.4.2.3__."
   ]
  },
  {
   "cell_type": "markdown",
   "metadata": {},
   "source": [
    "$$\n",
    "\\begin{align*}\n",
    "2^{3} \\, 2^{4} &= 2^{7} \\\\ \\\\\n",
    "\\left( 2 \\times 2 \\times 2 \\right) \\times \\left( 2 \\times 2 \\times 2 \\times 2 \\right) &= 2 \\times 2 \\times 2 \\times 2 \\times 2 \\times 2 \\times 2 \\\\ \\\\\n",
    "8 \\times 16 &= 128 \\\\ \\\\\n",
    "128 &= 128\n",
    "\\end{align*}\n",
    "\\tag{Equation 3.4.2.3}\n",
    "$$"
   ]
  },
  {
   "cell_type": "markdown",
   "metadata": {},
   "source": [
    "__Homework 3.4.2.2__ Show that $x^{3}x^{4} \\ne x^{12}$."
   ]
  },
  {
   "cell_type": "markdown",
   "metadata": {},
   "source": [
    "Note that when the bases are not the same, the product of the exponents cannot be simplified."
   ]
  },
  {
   "cell_type": "markdown",
   "metadata": {},
   "source": [
    "__Problem 3.4.2.3__ Simplify the expression in __Equation 3.4.2.4__ using the property of exponent products."
   ]
  },
  {
   "cell_type": "markdown",
   "metadata": {},
   "source": [
    "$$\n",
    "2^{3} \\, 4 \\, x^{6} \\, y^{5} \\, x^{4} \\, y\n",
    "\\tag{Equation 3.4.2.4}\n",
    "$$"
   ]
  },
  {
   "cell_type": "markdown",
   "metadata": {},
   "source": [
    "The result is written in __Equation 3.4.2.5__."
   ]
  },
  {
   "cell_type": "markdown",
   "metadata": {},
   "source": [
    "$$\n",
    "2^{3} \\, 4 \\, x^{6} \\, y^{5} \\, x^{4} \\, y = 2^{3} \\, 2^{2} \\, x^{6+4} \\, y^{5+1} = 2^{5} \\, x^{10} \\, y^{6} = 32 \\, x^{10} \\, y^{6}\n",
    "\\tag{Equation 3.4.2.5}\n",
    "$$"
   ]
  },
  {
   "cell_type": "markdown",
   "metadata": {},
   "source": [
    "We can confirm this with code, after definting $y$ as a mathematical symbol assigened to the variable `y`."
   ]
  },
  {
   "cell_type": "code",
   "execution_count": 16,
   "metadata": {},
   "outputs": [],
   "source": [
    "# Define y as a mathematical symbol and assign it to the variable y\n",
    "y = symbols('y')"
   ]
  },
  {
   "cell_type": "code",
   "execution_count": 17,
   "metadata": {},
   "outputs": [
    {
     "data": {
      "image/png": "[encoded data removed]",
      "text/latex": [
       "$\\displaystyle 32 x^{10} y^{6}$"
      ],
      "text/plain": [
       "    10  6\n",
       "32⋅x  ⋅y "
      ]
     },
     "execution_count": 17,
     "metadata": {},
     "output_type": "execute_result"
    }
   ],
   "source": [
    "# Simplify the expression\n",
    "(2**3) * 4 * (x**6) * (y**5) * (x**4) * y"
   ]
  },
  {
   "cell_type": "markdown",
   "metadata": {},
   "source": [
    "__Homework 3.4.2.3__ Simplify the expression $x^{3}y^{4}x^{10}y^{-1}$."
   ]
  },
  {
   "cell_type": "markdown",
   "metadata": {},
   "source": [
    "### 3.4.3 Quotients of powers"
   ]
  },
  {
   "cell_type": "markdown",
   "metadata": {},
   "source": [
    "Powers can be used in quotients or fractions."
   ]
  },
  {
   "cell_type": "markdown",
   "metadata": {},
   "source": [
    "__Defintion 3.4.3.1__ The quotient of a variable with a power, known as the property of <span style=\"color:lightgreen\">__power quotients__</span>, is the base raised to the difference of the powers, defined in __Equation 3.4.2.5__, where $x \\in \\mathbb{R}$ and $a,b \\in \\mathbb{Z}$ and $x^{b} \\ne 0$."
   ]
  },
  {
   "cell_type": "markdown",
   "metadata": {},
   "source": [
    "$$\n",
    "x^{a} \\div x^{b} = \\frac{x^{a}}{x^{b}} = x^{a-b}\n",
    "\\tag{Equation 3.4.2.5}\n",
    "$$"
   ]
  },
  {
   "cell_type": "markdown",
   "metadata": {},
   "source": [
    "__Problem 3.4.3.1__ Calculate $2^{5} \\div 2^{3}$."
   ]
  },
  {
   "cell_type": "markdown",
   "metadata": {},
   "source": [
    "The solution is shown in __Equation 3.4.2.6__ and confirmed using code."
   ]
  },
  {
   "cell_type": "markdown",
   "metadata": {},
   "source": [
    "$$\n",
    "\\frac{2^{5}}{2^{3}} = 2^{5-3} = 2^{2} = 4\n",
    "\\tag{Equation 3.4.2.6}\n",
    "$$"
   ]
  },
  {
   "cell_type": "code",
   "execution_count": 18,
   "metadata": {},
   "outputs": [
    {
     "data": {
      "image/png": "[encoded data removed]",
      "text/latex": [
       "$\\displaystyle 4.0$"
      ],
      "text/plain": [
       "4.0"
      ]
     },
     "execution_count": 18,
     "metadata": {},
     "output_type": "execute_result"
    }
   ],
   "source": [
    "# Use the forward slash symbol for division in Python\n",
    "2**5 / 2**3"
   ]
  },
  {
   "cell_type": "markdown",
   "metadata": {},
   "source": [
    "__Homework 3.4.3.1__ Calculate $3^{9} \\div 3^{5}$."
   ]
  },
  {
   "cell_type": "markdown",
   "metadata": {},
   "source": [
    "__Problem 3.4.3.2__ Simplify the expression in __Equation 3.4.2.7__ using the property of exponent quotients."
   ]
  },
  {
   "cell_type": "markdown",
   "metadata": {},
   "source": [
    "$$\n",
    "\\frac{2^{5} \\, 3^{6} \\, 5^{5}}{3^{5} \\, 5^{4}}\n",
    "\\tag{Equation 3.4.2.7}\n",
    "$$"
   ]
  },
  {
   "cell_type": "markdown",
   "metadata": {},
   "source": [
    "The solution is presented in __Equation 3.4.2.8__ and the result is confirmed using code."
   ]
  },
  {
   "cell_type": "markdown",
   "metadata": {},
   "source": [
    "$$\n",
    "\\frac{2^{5} \\, 3^{6} \\, 5^{5}}{3^{5} \\, 5^{4}} = 2^{5} \\times 3^{6-5} \\times 5^{5-4} = 2^{5} \\times 3^{1} \\times 5^{1} = 2^{5} \\times 3 \\times 5 = 480\n",
    "\\tag{Equation 3.4.2.8}\n",
    "$$"
   ]
  },
  {
   "cell_type": "code",
   "execution_count": 19,
   "metadata": {},
   "outputs": [
    {
     "data": {
      "image/png": "[encoded data removed]",
      "text/latex": [
       "$\\displaystyle 480.0$"
      ],
      "text/plain": [
       "480.0"
      ]
     },
     "execution_count": 19,
     "metadata": {},
     "output_type": "execute_result"
    }
   ],
   "source": [
    "(2**5 * 3**6 * 5**5) / (3**5 * 5**4)"
   ]
  },
  {
   "cell_type": "markdown",
   "metadata": {},
   "source": [
    "__Problem 3.4.3.3__ Simplify the expression in __Equation 3.4.2.9__ using the property of exponent quotients."
   ]
  },
  {
   "cell_type": "markdown",
   "metadata": {},
   "source": [
    "$$\n",
    "4 \\, x^{6} \\, y^{3} \\, z^{2} \\div 2 \\, x^{4} \\, y^{3} \\, z\n",
    "\\tag{Equation 3.4.2.9}\n",
    "$$"
   ]
  },
  {
   "cell_type": "markdown",
   "metadata": {},
   "source": [
    "The solution follows in __Equation 3.4.2.10__."
   ]
  },
  {
   "cell_type": "markdown",
   "metadata": {},
   "source": [
    "$$\n",
    "\\begin{align*}\n",
    "\\frac{4 \\, x^{6} \\, y^{3} \\, z^{2}}{2 \\, x^{4} \\, y^{3} \\, z} &= \\frac{2^{2} \\, x^{6} \\, y^{3} \\, z^{2}}{2 \\, x^{4} \\, y^{3} \\, z} \\\\ \\\\ \n",
    "&= 2^{2-1} \\, x^{6-4} \\, y^{3-3} \\, z^{2-1} \\\\ \\\\\n",
    "&= 2^{1} \\, x^{2} \\, y^{0} \\, z^{1}  \\\\ \\\\ \n",
    "&= 2 \\, x^{2} \\, z\n",
    "\\end{align*}\n",
    "\\tag{Equation 3.4.2.10}\n",
    "$$"
   ]
  },
  {
   "cell_type": "markdown",
   "metadata": {},
   "source": [
    "To confirm the result using `sympy`, we need to define $z$ as a mathematical symbol and assign it to the variable `z`. (Note that $x$ and $y$ have already been defined.)"
   ]
  },
  {
   "cell_type": "code",
   "execution_count": 20,
   "metadata": {},
   "outputs": [],
   "source": [
    "z = symbols('z')"
   ]
  },
  {
   "cell_type": "code",
   "execution_count": 21,
   "metadata": {},
   "outputs": [
    {
     "data": {
      "image/png": "[encoded data removed]",
      "text/latex": [
       "$\\displaystyle 2 x^{2} z$"
      ],
      "text/plain": [
       "   2  \n",
       "2⋅x ⋅z"
      ]
     },
     "execution_count": 21,
     "metadata": {},
     "output_type": "execute_result"
    }
   ],
   "source": [
    "# Confirm the result using sympy\n",
    "(4 * x**6 * y**3 * z**2) / (2 * x**4 * y**3 * z)"
   ]
  },
  {
   "cell_type": "markdown",
   "metadata": {},
   "source": [
    "__Homework 3.4.3.2__ Simplify the expression in __Equation 3.4.2.11__."
   ]
  },
  {
   "cell_type": "markdown",
   "metadata": {},
   "source": [
    "$$\n",
    "\\frac{x^{10}y^{15}z}{x^{5}y^{10}}\n",
    "$$"
   ]
  },
  {
   "cell_type": "markdown",
   "metadata": {},
   "source": [
    "### 3.4.4 Negative powers"
   ]
  },
  {
   "cell_type": "markdown",
   "metadata": {},
   "source": [
    "Negative powers are a consequence of the proprty of power quotients. We see two examples in __Equation 3.4.4.1__."
   ]
  },
  {
   "cell_type": "markdown",
   "metadata": {},
   "source": [
    "$$\n",
    "\\begin{align*}\n",
    "&\\frac{x^{2}}{x^{3}} = x^{2-3} = x^{-1} = \\frac{1}{x} \\\\ \\\\ \n",
    "&\\frac{x^{3}}{x^{7}} = x^{3-7} = x^{-4} = \\frac{1}{x^{4}}\n",
    "\\end{align*}\n",
    "\\tag{Equation 3.4.4.1}\n",
    "$$"
   ]
  },
  {
   "cell_type": "markdown",
   "metadata": {},
   "source": [
    "To define a negative powwer we revisit the concept of the reciprocal of a number. The reciprocal of a number $x$ is $\\frac{1}{x}$. For instance, the reciprocal of $4$ is $\\frac{1}{4}$. We can use the reciprocal to define negative powers."
   ]
  },
  {
   "cell_type": "markdown",
   "metadata": {},
   "source": [
    "__Definition 3.4.4.1__ A <span style=\"color:lightgreen\">__negative power__</span> is the reciprocal of the base raised to the positive power, defined in __Equation 3.4.4.2__, where $x \\in \\mathbb{R}$ and $a \\in \\mathbb{Z}$ and $x^{a} \\ne 0$."
   ]
  },
  {
   "cell_type": "markdown",
   "metadata": {},
   "source": [
    "$$\n",
    "x^{-a} = \\frac{1}{x^{a}}\n",
    "\\tag{Equation 3.4.4.2}\n",
    "$$"
   ]
  },
  {
   "cell_type": "markdown",
   "metadata": {},
   "source": [
    "__Problem 3.4.4.1__ Simplify the expression in __Equation 3.4.4.3__ using the property of negative powers."
   ]
  },
  {
   "cell_type": "markdown",
   "metadata": {},
   "source": [
    "$$\n",
    "2^{-3}\n",
    "\\tag{Equation 3.4.4.3}\n",
    "$$"
   ]
  },
  {
   "cell_type": "markdown",
   "metadata": {},
   "source": [
    "The solution follows in __Equation 3.4.4.4__ and is confirmed using code."
   ]
  },
  {
   "cell_type": "markdown",
   "metadata": {},
   "source": [
    "$$\n",
    "2^{-3} = \\frac{1}{2^{3}} = \\frac{1}{8} = 0.125\n",
    "\\tag{Equation 3.4.4.4}\n",
    "$$"
   ]
  },
  {
   "cell_type": "markdown",
   "metadata": {},
   "source": [
    "We confirm the result using Python code."
   ]
  },
  {
   "cell_type": "code",
   "execution_count": 22,
   "metadata": {},
   "outputs": [
    {
     "data": {
      "image/png": "[encoded data removed]",
      "text/latex": [
       "$\\displaystyle 0.125$"
      ],
      "text/plain": [
       "0.125"
      ]
     },
     "execution_count": 22,
     "metadata": {},
     "output_type": "execute_result"
    }
   ],
   "source": [
    "# Confirm the result of Problem 3.4.4.1\n",
    "2**(-3)"
   ]
  },
  {
   "cell_type": "markdown",
   "metadata": {},
   "source": [
    "This is indeed the same as $1 \\div 8$ confirmed using Python code below."
   ]
  },
  {
   "cell_type": "code",
   "execution_count": 23,
   "metadata": {},
   "outputs": [
    {
     "data": {
      "image/png": "[encoded data removed]",
      "text/latex": [
       "$\\displaystyle 0.125$"
      ],
      "text/plain": [
       "0.125"
      ]
     },
     "execution_count": 23,
     "metadata": {},
     "output_type": "execute_result"
    }
   ],
   "source": [
    "# Confirmation that 2 raised to the power -3 is 1 divided by 8\n",
    "1 / 8"
   ]
  },
  {
   "cell_type": "markdown",
   "metadata": {},
   "source": [
    "__Homework 3.4.4.1__ Simplify the expression $3^{-3}$."
   ]
  },
  {
   "cell_type": "markdown",
   "metadata": {},
   "source": [
    "__Problem 3.4.4.2__ Simplify the expression in __Equation 3.4.4.5__ using the property of negative powers."
   ]
  },
  {
   "cell_type": "markdown",
   "metadata": {},
   "source": [
    "$$\n",
    "\\frac{1}{x^{-3}}\n",
    "\\tag{Equation 3.4.4.5}\n",
    "$$"
   ]
  },
  {
   "cell_type": "markdown",
   "metadata": {},
   "source": [
    "The solution follows in __Equation 3.4.4.6__ and is confirmed using code."
   ]
  },
  {
   "cell_type": "markdown",
   "metadata": {},
   "source": [
    "$$\n",
    "\\frac{1}{x^{-3}} = x^{-(-3)} = x^{3}\n",
    "\\tag{Equation 3.4.4.6}\n",
    "$$"
   ]
  },
  {
   "cell_type": "markdown",
   "metadata": {},
   "source": [
    "__Problem 3.4.4.3__ Solve the _complicated_ fraction in __Equation 3.4.4.7__ using the property of negative powers."
   ]
  },
  {
   "cell_type": "markdown",
   "metadata": {},
   "source": [
    "$$\n",
    "\\frac{1}{\\frac{1}{x^{4}}}\n",
    "\\tag{Equation 3.4.4.7}\n",
    "$$"
   ]
  },
  {
   "cell_type": "markdown",
   "metadata": {},
   "source": [
    "The solution follows in __Equation 3.4.4.8__ and is confirmed using code."
   ]
  },
  {
   "cell_type": "markdown",
   "metadata": {},
   "source": [
    "$$\n",
    "\\frac{1}{\\frac{1}{x^{4}}} = \\frac{1}{x^{-4}} = x^{-(-4)} = x^{4}\n",
    "\\tag{Equation 3.4.4.8}\n",
    "$$"
   ]
  },
  {
   "cell_type": "code",
   "execution_count": 24,
   "metadata": {},
   "outputs": [
    {
     "data": {
      "image/png": "[encoded data removed]",
      "text/latex": [
       "$\\displaystyle x^{4}$"
      ],
      "text/plain": [
       " 4\n",
       "x "
      ]
     },
     "execution_count": 24,
     "metadata": {},
     "output_type": "execute_result"
    }
   ],
   "source": [
    "1 / (1 / x**4)"
   ]
  },
  {
   "cell_type": "markdown",
   "metadata": {},
   "source": [
    "__Homework 3.4.4.2__ Simplify the expression $\\frac{1}{x^{-5}}$."
   ]
  },
  {
   "cell_type": "markdown",
   "metadata": {},
   "source": [
    "### 3.4.5 Powers of powers"
   ]
  },
  {
   "cell_type": "markdown",
   "metadata": {},
   "source": [
    "__Defintion 3.4.5.1__ The power of variable with a power, known as the property of the <span style=\"color:lightgreen\">__power of powers__</span>, is the base raised to the product of the powers, defined in __Equation 3.4.5.1__, where $x \\in \\mathbb{R}$ and $a,b \\in \\mathbb{Z}$."
   ]
  },
  {
   "cell_type": "markdown",
   "metadata": {},
   "source": [
    "$$\n",
    "\\left( x^{a} \\right)^{b} = x^{a \\, b}\n",
    "\\tag{Equation 3.4.5.1}\n",
    "$$"
   ]
  },
  {
   "cell_type": "markdown",
   "metadata": {},
   "source": [
    "__Problem 3.4.5.1__ Simplify the expression in __Equation 3.4.5.2__ using the property of the power of powers."
   ]
  },
  {
   "cell_type": "markdown",
   "metadata": {},
   "source": [
    "$$\n",
    "\\left( 2^{-3} \\right)^{2}\n",
    "$$"
   ]
  },
  {
   "cell_type": "markdown",
   "metadata": {},
   "source": [
    "The solution follows in __Equation 3.4.5.3__ and is confirmed using code."
   ]
  },
  {
   "cell_type": "markdown",
   "metadata": {},
   "source": [
    "$$\n",
    "\\left( 2^{-3} \\right)^{2} = 2^{-6} = \\frac{1}{2^{6}} = \\frac{1}{64} = 0.015625\n",
    "\\tag{Equation 3.4.5.3}\n",
    "$$"
   ]
  },
  {
   "cell_type": "code",
   "execution_count": 25,
   "metadata": {},
   "outputs": [
    {
     "data": {
      "image/png": "[encoded data removed]",
      "text/latex": [
       "$\\displaystyle 0.015625$"
      ],
      "text/plain": [
       "0.015625"
      ]
     },
     "execution_count": 25,
     "metadata": {},
     "output_type": "execute_result"
    }
   ],
   "source": [
    "(2**(-3))**2"
   ]
  },
  {
   "cell_type": "markdown",
   "metadata": {},
   "source": [
    "__Homework 3.4.5.1__ Simplify the expression $\\left( 3^{3} \\right)^{2}$."
   ]
  },
  {
   "cell_type": "markdown",
   "metadata": {},
   "source": [
    "__Problem 3.4.5.2__ Simplify the expression in __Equation 3.4.5.4__ using the property of exponent powers."
   ]
  },
  {
   "cell_type": "markdown",
   "metadata": {},
   "source": [
    "$$\n",
    "\\left( 3 \\, x^{2} \\, y^{3} \\right)^{2}\n",
    "\\tag{Equation 3.4.5.4}\n",
    "$$"
   ]
  },
  {
   "cell_type": "markdown",
   "metadata": {},
   "source": [
    "The result is shown in __Equation 3.4.5.5__ and confirmed using code."
   ]
  },
  {
   "cell_type": "markdown",
   "metadata": {},
   "source": [
    "$$\n",
    "\\left( 3 \\, x^{2} \\, y^{3} \\right)^{2} = 3^{2} \\, x^{2 \\times 2} \\, y^{3 \\times 2} = 9 \\, x^{4} \\, y^{6}\n",
    "\\tag{Equation 3.4.5.5}\n",
    "$$"
   ]
  },
  {
   "cell_type": "code",
   "execution_count": 26,
   "metadata": {},
   "outputs": [
    {
     "data": {
      "image/png": "[encoded data removed]",
      "text/latex": [
       "$\\displaystyle 9 x^{4} y^{6}$"
      ],
      "text/plain": [
       "   4  6\n",
       "9⋅x ⋅y "
      ]
     },
     "execution_count": 26,
     "metadata": {},
     "output_type": "execute_result"
    }
   ],
   "source": [
    "# Verify the result using sympy\n",
    "(3 * x**2 * y**3)**2"
   ]
  },
  {
   "cell_type": "markdown",
   "metadata": {},
   "source": [
    "__Homework 3.4.5.2__ Simplify the expression $\\left( 2 \\, x^{3} \\, y^{4} \\right)^{3}$."
   ]
  },
  {
   "cell_type": "markdown",
   "metadata": {},
   "source": [
    "### 3.4.6 Power roots"
   ]
  },
  {
   "cell_type": "markdown",
   "metadata": {},
   "source": [
    "Powers can involve non-integers as well. We explore the properties of roots in this section."
   ]
  },
  {
   "cell_type": "markdown",
   "metadata": {},
   "source": [
    "__Definition 3.4.6.1__ The property of <span style=\"color:lightgreen\">__power roots__</span> is the base raised to a quotient defined in __Equation 3.4.6.1__, where $x \\in \\mathbb{R}$ and $a,b \\in \\mathbb{Z}$ and $x^{b} \\ne 0$."
   ]
  },
  {
   "cell_type": "markdown",
   "metadata": {},
   "source": [
    "$$\n",
    "x^{\\frac{a}{b}} = \\sqrt[b]{x^{a}} = \\left( \\sqrt[b]{x} \\right)^{a}\n",
    "\\tag{Equation 3.4.6.1}\n",
    "$$"
   ]
  },
  {
   "cell_type": "markdown",
   "metadata": {},
   "source": [
    "These types of expressions, where the power is a fraction or a rational number, are called <span style=\"color:lightgreen\">__radicals__</span>. The denominator of the fraction is called the <span style=\"color:lightgreen\">__index__</span> of the radical. In the defintion above, this would be $b$. The number $x^{a}$ is called the <span style=\"color:lightgreen\">__radicand__</span>."
   ]
  },
  {
   "cell_type": "markdown",
   "metadata": {},
   "source": [
    "__Problem 3.4.6.1__ Simplify the expression in __Equation 3.4.6.2__ using the property of exponent roots."
   ]
  },
  {
   "cell_type": "markdown",
   "metadata": {},
   "source": [
    "$$\n",
    "x^{\\frac{1}{2}}\n",
    "\\tag{Equation 3.4.6.2}\n",
    "$$"
   ]
  },
  {
   "cell_type": "markdown",
   "metadata": {},
   "source": [
    "The solution follows in __Equation 3.4.6.3__ and is confirmed using code."
   ]
  },
  {
   "cell_type": "markdown",
   "metadata": {},
   "source": [
    "$$\n",
    "x^{\\frac{1}{2}} = \\sqrt{x}\n",
    "\\tag{Equation 3.4.6.3}\n",
    "$$"
   ]
  },
  {
   "cell_type": "code",
   "execution_count": 27,
   "metadata": {},
   "outputs": [
    {
     "data": {
      "image/png": "[encoded data removed]",
      "text/latex": [
       "$\\displaystyle \\sqrt{x}$"
      ],
      "text/plain": [
       "√x"
      ]
     },
     "execution_count": 27,
     "metadata": {},
     "output_type": "execute_result"
    }
   ],
   "source": [
    "# Verify the solution\n",
    "x**(Rational(1, 2))"
   ]
  },
  {
   "cell_type": "markdown",
   "metadata": {},
   "source": [
    "__Homework 3.4.6.1__ Simplify the expression $x^{\\frac{1}{3}}$."
   ]
  },
  {
   "cell_type": "markdown",
   "metadata": {},
   "source": [
    "__Problem 3.4.6.2__ Simplify the expression in __Equation 3.4.6.4__ using the property of power roots."
   ]
  },
  {
   "cell_type": "markdown",
   "metadata": {},
   "source": [
    "$$\n",
    "x^{\\frac{2}{3}}\n",
    "\\tag{Equation 3.4.6.4}\n",
    "$$"
   ]
  },
  {
   "cell_type": "markdown",
   "metadata": {},
   "source": [
    "The solution follows in __Equation 3.4.6.5__ and is confirmed using code."
   ]
  },
  {
   "cell_type": "markdown",
   "metadata": {},
   "source": [
    "$$\n",
    "x^{\\frac{2}{3}} = \\sqrt[3]{x^{2}} = \\left( \\sqrt[3]{x} \\right)^{2}\n",
    "\\tag{Equation 3.4.6.5}\n",
    "$$"
   ]
  },
  {
   "cell_type": "code",
   "execution_count": 28,
   "metadata": {},
   "outputs": [
    {
     "data": {
      "image/png": "[encoded data removed]",
      "text/latex": [
       "$\\displaystyle x^{\\frac{2}{3}}$"
      ],
      "text/plain": [
       " 2/3\n",
       "x   "
      ]
     },
     "execution_count": 28,
     "metadata": {},
     "output_type": "execute_result"
    }
   ],
   "source": [
    "# Verify the solution\n",
    "x**(Rational(2, 3))"
   ]
  },
  {
   "cell_type": "markdown",
   "metadata": {},
   "source": [
    "When the radicands are non-negative numbers and the indices are the same, the radicals can be combined , as shown in __Equation 3.4.6.6__ where $x,y \\ge 0$."
   ]
  },
  {
   "cell_type": "markdown",
   "metadata": {},
   "source": [
    "$$\n",
    "\\sqrt[a]{x} \\, \\sqrt[a]{y} = \\sqrt[a]{x \\, y}\n",
    "\\tag{Equation 3.4.6.6}\n",
    "$$"
   ]
  },
  {
   "cell_type": "markdown",
   "metadata": {},
   "source": [
    "__Problem 3.4.6.3__ Simplify the expression in __Equation 3.4.6.7__."
   ]
  },
  {
   "cell_type": "markdown",
   "metadata": {},
   "source": [
    "$$\n",
    "\\sqrt{2} \\, \\sqrt{3}\n",
    "\\tag{Equation 3.4.6.7}\n",
    "$$"
   ]
  },
  {
   "cell_type": "markdown",
   "metadata": {},
   "source": [
    "We note that we can rewrite the problem as shown in __Equation 3.4.6.8__."
   ]
  },
  {
   "cell_type": "markdown",
   "metadata": {},
   "source": [
    "$$\n",
    "2^{\\frac{1}{2}} \\times 3^{\\frac{1}{2}}\n",
    "\\tag{Equation 3.4.6.8}\n",
    "$$"
   ]
  },
  {
   "cell_type": "markdown",
   "metadata": {},
   "source": [
    "In both parts of the expression, the index is $2$. We can combine the radicands as sshown in __Equation 3.4.6.9__."
   ]
  },
  {
   "cell_type": "markdown",
   "metadata": {},
   "source": [
    "$$\n",
    "(2 \\times 3)^{\\frac{1}{2}} = 6^{\\frac{1}{2}} = \\sqrt{6}\n",
    "\\tag{Equation 3.4.6.9}\n",
    "$$"
   ]
  },
  {
   "cell_type": "markdown",
   "metadata": {},
   "source": [
    "__Homework 3.4.6.2__ Simplify the expression $\\sqrt{2} \\, \\sqrt{5}$."
   ]
  },
  {
   "cell_type": "markdown",
   "metadata": {},
   "source": [
    "This property also applies to division, as shown in __Equation 3.4.6.10__ where $x \\ge 0$ and $y>0$."
   ]
  },
  {
   "cell_type": "markdown",
   "metadata": {},
   "source": [
    "$$\n",
    "\\frac{\\sqrt[a]{x}}{\\sqrt[a]{y}} = \\sqrt[a]{\\frac{x}{y}}\n",
    "\\tag{Equation 3.4.6.10}\n",
    "$$"
   ]
  },
  {
   "cell_type": "markdown",
   "metadata": {},
   "source": [
    "__Problem 3.4.6.4__ Simplify the expression in __Equation 3.4.6.11__."
   ]
  },
  {
   "cell_type": "markdown",
   "metadata": {},
   "source": [
    "$$\n",
    "\\sqrt[3]{2} \\div \\sqrt[3]{3}\n",
    "\\tag{Equation 3.4.6.11}\n",
    "$$"
   ]
  },
  {
   "cell_type": "markdown",
   "metadata": {},
   "source": [
    "The solution follows in __Equation 3.4.6.12__ and is confirmed using code."
   ]
  },
  {
   "cell_type": "markdown",
   "metadata": {},
   "source": [
    "$$\n",
    "\\frac{\\sqrt[3]{2}}{\\sqrt[3]{3}} = \\sqrt[3]{\\frac{2}{3}}\n",
    "\\tag{Equation 3.4.6.12}\n",
    "$$"
   ]
  },
  {
   "cell_type": "code",
   "execution_count": 30,
   "metadata": {},
   "outputs": [
    {
     "data": {
      "image/png": "[encoded data removed]",
      "text/latex": [
       "$\\displaystyle \\frac{\\sqrt[3]{2} \\cdot 3^{\\frac{2}{3}}}{3}$"
      ],
      "text/plain": [
       "3 ___  2/3\n",
       "╲╱ 2 ⋅3   \n",
       "──────────\n",
       "    3     "
      ]
     },
     "execution_count": 30,
     "metadata": {},
     "output_type": "execute_result"
    }
   ],
   "source": [
    "# Verify the solution\n",
    "(2**Rational(1, 3)) / (3**Rational(1, 3))"
   ]
  },
  {
   "cell_type": "markdown",
   "metadata": {},
   "source": [
    "The `sympy` package cannot properly reduce the solution."
   ]
  },
  {
   "cell_type": "markdown",
   "metadata": {},
   "source": [
    "Note that the property of power roots does not apply to addition and subtraction. We have that $\\sqrt[a]{x} + \\sqrt[a]{y} \\ne \\sqrt[a]{x+y}$ and $\\sqrt[a]{x} - \\sqrt[a]{y} \\ne \\sqrt[a]{x-y}$."
   ]
  },
  {
   "cell_type": "markdown",
   "metadata": {},
   "source": [
    "There are some common use cases that are easy to remember. They are listed below for $m,n,c \\in \\mathbb{R}$ and $a,b \\in \\mathbb{N}$."
   ]
  },
  {
   "cell_type": "markdown",
   "metadata": {},
   "source": [
    "- $m \\sqrt[a]{x} + n \\sqrt[a]{x} = \\left( m + n \\right) \\sqrt[a]{x}$\n",
    "\n",
    "- $m \\sqrt[a]{x} - n \\sqrt[a]{x} = \\left( m - n \\right) \\sqrt[a]{x}$\n",
    "\n",
    "- $\\sqrt{c} \\, \\sqrt{c} = \\sqrt{c^{2}} = \\lvert c \\rvert$\n",
    "\n",
    "- $\\sqrt[a]{x} = x^{\\frac{1}{a}}$\n",
    "\n",
    "- $\\sqrt[a]{x^{b}} = x^{\\frac{b}{a}}$"
   ]
  },
  {
   "cell_type": "markdown",
   "metadata": {},
   "source": [
    "## 3.5 Exponential functions"
   ]
  },
  {
   "cell_type": "markdown",
   "metadata": {},
   "source": [
    "We have explored powers and roots, where the unknown (the variable) is in the base such as $x^4$ or $\\sqrt{4}$. We now consider cases where the unknown is in the power, such as $4^x$ or $\\sqrt[x]{4}$."
   ]
  },
  {
   "cell_type": "markdown",
   "metadata": {},
   "source": [
    "__Defintion 2.5.1__ An <span style=\"color:lightgreen\">__exponential__</span> expression is one where the unknown is in the power."
   ]
  },
  {
   "cell_type": "markdown",
   "metadata": {},
   "source": [
    "The most common exponential expression is also termed the exponential function and has Euler's number $e$ as the base. The expression is defined in __Equation 3.5.1__."
   ]
  },
  {
   "cell_type": "markdown",
   "metadata": {},
   "source": [
    "$$\n",
    "e^{x}\n",
    "\\tag{Equation 3.5.1}\n",
    "$$"
   ]
  },
  {
   "cell_type": "markdown",
   "metadata": {},
   "source": [
    "The `exp` function in the `sympy` package is used to calculate the exponential function. We calculate $e^{2}$ below."
   ]
  },
  {
   "cell_type": "code",
   "execution_count": null,
   "metadata": {},
   "outputs": [
    {
     "data": {
      "image/png": "[encoded data removed]",
      "text/latex": [
       "$\\displaystyle e^{2}$"
      ],
      "text/plain": [
       " 2\n",
       "ℯ "
      ]
     },
     "execution_count": 30,
     "metadata": {},
     "output_type": "execute_result"
    }
   ],
   "source": [
    "# Calculate e to the pwoer 2\n",
    "exp(2)"
   ]
  },
  {
   "cell_type": "markdown",
   "metadata": {},
   "source": [
    "Since any non-negative real number raised to the power $1$ is just that number, we can use the `exp` function to determine a numerical approximation to Euler's number. The `evalf` method is used to evaluate the expression numerically."
   ]
  },
  {
   "cell_type": "code",
   "execution_count": null,
   "metadata": {},
   "outputs": [
    {
     "data": {
      "image/png": "[encoded data removed]",
      "text/latex": [
       "$\\displaystyle 2.71828182845905$"
      ],
      "text/plain": [
       "2.71828182845905"
      ]
     },
     "execution_count": 46,
     "metadata": {},
     "output_type": "execute_result"
    }
   ],
   "source": [
    "# Showing the numerical approximation to Euler's number\n",
    "exp(1).evalf()"
   ]
  },
  {
   "cell_type": "markdown",
   "metadata": {},
   "source": [
    "Euler's number and the base $e$ is very often used in health data science. The standard normal distribution is a symmetric bell-shaped curve with a mean of $0$ and a standard deviation of $1$. The probability density function of the standard normal distribution is defined in __Equation 3.5.2__."
   ]
  },
  {
   "cell_type": "markdown",
   "metadata": {},
   "source": [
    "$$\n",
    "f(x) = \\frac{1}{\\sqrt{2 \\pi}} \\, e^{-\\frac{1}{2} \\, x^{2}}\n",
    "\\tag{Equation 3.5.2}\n",
    "$$"
   ]
  },
  {
   "cell_type": "markdown",
   "metadata": {},
   "source": [
    "We graph this function on the interval $-5 < x < 5$ in __Figure 3.5.1__ for the sake interest."
   ]
  },
  {
   "cell_type": "code",
   "execution_count": null,
   "metadata": {},
   "outputs": [
    {
     "data": {
      "image/png": "[encoded data removed]",
      "text/plain": [
       "<Figure size 640x480 with 1 Axes>"
      ]
     },
     "metadata": {
      "image/png": {
       "height": 454,
       "width": 576
      }
     },
     "output_type": "display_data"
    }
   ],
   "source": [
    "# Create a graph of the standard normal distribution on the interval -5 to 5\n",
    "# Add the title Figure 3.5.1\n",
    "# Add the label x to the x-axis\n",
    "# Add the label f(x) to the y-axis\n",
    "# Add the grid lines\n",
    "\n",
    "x_vals = numpy.linspace(-5, 5, 100)\n",
    "y_vals = (1 / numpy.sqrt(2 * numpy.pi)) * numpy.exp(-x_vals**2 / 2)\n",
    "pyplot.plot(x_vals, y_vals)\n",
    "pyplot.title('Figure 3.5.1')\n",
    "pyplot.xlabel('x')\n",
    "pyplot.ylabel('f(x)')\n",
    "pyplot.grid(True);"
   ]
  },
  {
   "cell_type": "markdown",
   "metadata": {},
   "source": [
    "Any real numbers can be the base of an exponential function. Another commonly used exponential is $2^{x}$. In the code cell below we use list comprehension to calculate $2^{x}$ for $x \\in \\left\\{ 0, 1, 2, 3, 4, 5 \\right\\}$."
   ]
  },
  {
   "cell_type": "code",
   "execution_count": null,
   "metadata": {},
   "outputs": [
    {
     "data": {
      "image/png": "[encoded data removed]",
      "text/latex": [
       "$\\displaystyle \\left[ 1, \\  2, \\  4, \\  8, \\  16, \\  32, \\  64, \\  128, \\  256, \\  512\\right]$"
      ],
      "text/plain": [
       "[1, 2, 4, 8, 16, 32, 64, 128, 256, 512]"
      ]
     },
     "execution_count": 33,
     "metadata": {},
     "output_type": "execute_result"
    }
   ],
   "source": [
    "[2**x for x in range(10)]"
   ]
  },
  {
   "cell_type": "markdown",
   "metadata": {},
   "source": [
    "| Property | Equation |\n",
    "| :--- | :--- |\n",
    "| Product of expression with the same base and different exponent variables | $a^{x} a^{y} = a^{x+y}$ |\n",
    "| Quotient of expression with the same base and different exponent variables | $\\frac{a^{x}}{a^{y}} = a^{x-y}, \\, a \\ne0$ |\n",
    "| Power of an expression with an exponent variable | $\\left( a^{x} \\right)^{y} = a^{x \\, y}, \\, y \\in \\mathbb{Z}$ |\n",
    "| Product of the same exponent variable with different bases | $a^{x} \\, b^{x} = \\left( a \\, b \\right)^{x}, \\, a,b \\ge0$ |"
   ]
  },
  {
   "cell_type": "markdown",
   "metadata": {},
   "source": [
    "We use the `simplify` method to show that the first two properties hold. We start with the product."
   ]
  },
  {
   "cell_type": "code",
   "execution_count": null,
   "metadata": {},
   "outputs": [
    {
     "data": {
      "image/png": "[encoded data removed]",
      "text/latex": [
       "$\\displaystyle a^{x + y}$"
      ],
      "text/plain": [
       " x + y\n",
       "a     "
      ]
     },
     "execution_count": 34,
     "metadata": {},
     "output_type": "execute_result"
    }
   ],
   "source": [
    "# The first property\n",
    "((a**x) * (a**y)).simplify()"
   ]
  },
  {
   "cell_type": "markdown",
   "metadata": {},
   "source": [
    "Next, we examine the quotient."
   ]
  },
  {
   "cell_type": "code",
   "execution_count": null,
   "metadata": {},
   "outputs": [
    {
     "data": {
      "image/png": "[encoded data removed]",
      "text/latex": [
       "$\\displaystyle a^{x - y}$"
      ],
      "text/plain": [
       " x - y\n",
       "a     "
      ]
     },
     "execution_count": 35,
     "metadata": {},
     "output_type": "execute_result"
    }
   ],
   "source": [
    "# The second property\n",
    "((a**x) / (a**y)).simplify()"
   ]
  },
  {
   "cell_type": "markdown",
   "metadata": {},
   "source": [
    "We demonstrate the third and fourth properties with example problems, which we have already explored in the previous section."
   ]
  },
  {
   "cell_type": "markdown",
   "metadata": {},
   "source": [
    "__Problem 3.5.1__ Show that $\\left( 3^{2} \\right)^{5} = 3^{10}$."
   ]
  },
  {
   "cell_type": "markdown",
   "metadata": {},
   "source": [
    "We use the conditional `==` to show that the two expressions are equal."
   ]
  },
  {
   "cell_type": "code",
   "execution_count": null,
   "metadata": {},
   "outputs": [
    {
     "data": {
      "text/plain": [
       "True"
      ]
     },
     "execution_count": 36,
     "metadata": {},
     "output_type": "execute_result"
    }
   ],
   "source": [
    "(3**2)**5 == 3**10"
   ]
  },
  {
   "cell_type": "markdown",
   "metadata": {},
   "source": [
    "Note that when we let $y \\in \\mathbb{R}$ then $\\left( a^{x} \\right)^y = \\left( a^{x} \\right)^y$, but when $y \\in \\mathbb{Z}$ then $\\left( a^{x} \\right)^y = a^{xy}$. We can contrain the value of mathematical variables when using the `symbols` function in `sympy` by using a second argument. We use the `real` and `integer` keyword arguments below."
   ]
  },
  {
   "cell_type": "code",
   "execution_count": 36,
   "metadata": {},
   "outputs": [
    {
     "data": {
      "image/png": "[encoded data removed]",
      "text/latex": [
       "$\\displaystyle \\left(a^{x}\\right)^{y}$"
      ],
      "text/plain": [
       "    y\n",
       "⎛ x⎞ \n",
       "⎝a ⎠ "
      ]
     },
     "execution_count": 36,
     "metadata": {},
     "output_type": "execute_result"
    }
   ],
   "source": [
    "# Let y be a real number\n",
    "y = symbols('y', real=True)\n",
    "(a**x)**y"
   ]
  },
  {
   "cell_type": "code",
   "execution_count": 37,
   "metadata": {},
   "outputs": [
    {
     "data": {
      "image/png": "[encoded data removed]",
      "text/latex": [
       "$\\displaystyle a^{x y}$"
      ],
      "text/plain": [
       " x⋅y\n",
       "a   "
      ]
     },
     "execution_count": 37,
     "metadata": {},
     "output_type": "execute_result"
    }
   ],
   "source": [
    "# Let y be an integer\n",
    "y = symbols('y', integer=True)\n",
    "(a**x)**y"
   ]
  },
  {
   "cell_type": "markdown",
   "metadata": {},
   "source": [
    "__Problem 3.5.2__ Demonstrate that $3^{5}4^{5} = (3 \\times 4)^{5}$."
   ]
  },
  {
   "cell_type": "markdown",
   "metadata": {},
   "source": [
    "We use the `==` conditional to confirm the result."
   ]
  },
  {
   "cell_type": "code",
   "execution_count": null,
   "metadata": {},
   "outputs": [
    {
     "data": {
      "text/plain": [
       "True"
      ]
     },
     "execution_count": 37,
     "metadata": {},
     "output_type": "execute_result"
    }
   ],
   "source": [
    "(3**5) * (4**5) == (3 * 4)**5"
   ]
  },
  {
   "cell_type": "markdown",
   "metadata": {},
   "source": [
    "## 3.6 Logarithms"
   ]
  },
  {
   "cell_type": "markdown",
   "metadata": {},
   "source": [
    "Logarithms are the inverse of exponentials and are used in so many analysis and modeling in health data science."
   ]
  },
  {
   "cell_type": "markdown",
   "metadata": {},
   "source": [
    "__Definition 3.6.1__ The <span style=\"color:lightgreen\">__logarithm__</span> is defined as in __Equation 3.6.1__."
   ]
  },
  {
   "cell_type": "markdown",
   "metadata": {},
   "source": [
    "$$\n",
    "\\log_{b} x = y \\quad \\text{if and only if} \\quad b^{y} = x\n",
    "\\tag{Equation 3.6.1}\n",
    "$$"
   ]
  },
  {
   "cell_type": "markdown",
   "metadata": {},
   "source": [
    "From __Equation 3.6.1__ we define the base $b$ of the logarithm. The base is a positive real number and is not equal to $1$. The base is also not equal to $0$ and therefor we have that the domain of the logarithm is $x>0$. The logarithm of a number $x$ is then the power to which the base $b$ must be raised to obtain that number $x$."
   ]
  },
  {
   "cell_type": "markdown",
   "metadata": {},
   "source": [
    "As an example we consider the power $10^3=1000$. We use __Equation 3.6.1__ where the base $b=10$, $y=3$ and $x=1000$ to write $\\log_{10}{1000}=3$."
   ]
  },
  {
   "cell_type": "markdown",
   "metadata": {},
   "source": [
    "It is very useful to use Euler's number as the base. In this case, we refer to the logarithm as the natural logarithm, written in textbooks as $\\ln$. In `sympy` the `log` function is the natural logarithm by default unless we specify a different base using the second argument."
   ]
  },
  {
   "cell_type": "markdown",
   "metadata": {},
   "source": [
    "In the code call below we calculate $\\log_{10}1000$."
   ]
  },
  {
   "cell_type": "code",
   "execution_count": null,
   "metadata": {},
   "outputs": [
    {
     "data": {
      "image/png": "[encoded data removed]",
      "text/latex": [
       "$\\displaystyle 3$"
      ],
      "text/plain": [
       "3"
      ]
     },
     "execution_count": 38,
     "metadata": {},
     "output_type": "execute_result"
    }
   ],
   "source": [
    "# Calculate the log base 10 of 1000\n",
    "log(1000, 10)"
   ]
  },
  {
   "cell_type": "markdown",
   "metadata": {},
   "source": [
    "There are four properties of the logarithm, shown in the table below."
   ]
  },
  {
   "cell_type": "markdown",
   "metadata": {},
   "source": [
    "| Property | Equation |\n",
    "|:---------|:---------|\n",
    "| Product | $\\log_{b}{\\left( x \\, y \\right)} = \\log_{b}{x} + \\log_{b}{y}$ |\n",
    "| Quotient | $\\log_{b}{\\left( \\frac{x}{y} \\right)} = \\log_{b}{x} - \\log_{b}{y}$ |\n",
    "| Power | $\\log_{b}{\\left( x^{y} \\right)} = y \\, \\log_{b}{x}$ |\n",
    "| Base change | $\\log_{b}{x} = \\frac{\\log_{c}{x}}{\\log_{c}{b}}$ |"
   ]
  },
  {
   "cell_type": "markdown",
   "metadata": {},
   "source": [
    "We explore these properties through example problems."
   ]
  },
  {
   "cell_type": "markdown",
   "metadata": {},
   "source": [
    "__Problem 3.6.1__ Show that $\\log_{e} \\left( 3 \\times 4 \\right)$ is equal to the natural log of $3$ plus the natural log of $4$"
   ]
  },
  {
   "cell_type": "markdown",
   "metadata": {},
   "source": [
    "Because computer use numerical approximations the use of the conditional `==` symbols will return a value of `false` even though the two values are equal. We use the `simplify` method to show that the two expressions are equal."
   ]
  },
  {
   "cell_type": "code",
   "execution_count": null,
   "metadata": {},
   "outputs": [
    {
     "data": {
      "image/png": "[encoded data removed]",
      "text/latex": [
       "$\\displaystyle \\log{\\left(12 \\right)}$"
      ],
      "text/plain": [
       "log(12)"
      ]
     },
     "execution_count": 39,
     "metadata": {},
     "output_type": "execute_result"
    }
   ],
   "source": [
    "(log(3) + log(4)).simplify()"
   ]
  },
  {
   "cell_type": "markdown",
   "metadata": {},
   "source": [
    "__Problem 3.6.2__ Show that $\\log_{e} \\left( \\frac{3}{4} \\right)$ is equal to the natural log of $3$ minus the natural log of $4$."
   ]
  },
  {
   "cell_type": "code",
   "execution_count": null,
   "metadata": {},
   "outputs": [
    {
     "data": {
      "image/png": "[encoded data removed]",
      "text/latex": [
       "$\\displaystyle \\log{\\left(\\frac{3}{4} \\right)}$"
      ],
      "text/plain": [
       "log(3/4)"
      ]
     },
     "execution_count": 40,
     "metadata": {},
     "output_type": "execute_result"
    }
   ],
   "source": [
    "(log(3) - log(4)).simplify()"
   ]
  },
  {
   "cell_type": "markdown",
   "metadata": {},
   "source": [
    "__Problem 3.6.3__ Show that $\\log_{e} \\left( 3^{4} \\right)$ is equal to $4$ times the natural log of $3$, where $4^{3}=64$."
   ]
  },
  {
   "cell_type": "code",
   "execution_count": null,
   "metadata": {},
   "outputs": [
    {
     "data": {
      "image/png": "[encoded data removed]",
      "text/latex": [
       "$\\displaystyle \\log{\\left(64 \\right)}$"
      ],
      "text/plain": [
       "log(64)"
      ]
     },
     "execution_count": 41,
     "metadata": {},
     "output_type": "execute_result"
    }
   ],
   "source": [
    "(3 * log(4)).simplify()"
   ]
  },
  {
   "cell_type": "markdown",
   "metadata": {},
   "source": [
    "__Problem 3.6.4__ Use numerical approximation to show that __Equation 3.6.2__ holds. Note that we are changing from base $5$ to base $6$."
   ]
  },
  {
   "cell_type": "markdown",
   "metadata": {},
   "source": [
    "$$\n",
    "\\log_{5}{7} = \\frac{\\log_{6}{7}}{\\log_{6}{5}}\n",
    "\\tag{Equation 3.6.2}\n",
    "$$"
   ]
  },
  {
   "cell_type": "markdown",
   "metadata": {},
   "source": [
    "We use the `evalf` method to shows that the two expressions are equal."
   ]
  },
  {
   "cell_type": "code",
   "execution_count": null,
   "metadata": {},
   "outputs": [
    {
     "data": {
      "image/png": "[encoded data removed]",
      "text/latex": [
       "$\\displaystyle 1.20906195512217$"
      ],
      "text/plain": [
       "1.20906195512217"
      ]
     },
     "execution_count": 42,
     "metadata": {},
     "output_type": "execute_result"
    }
   ],
   "source": [
    "log(7, 5).evalf()"
   ]
  },
  {
   "cell_type": "code",
   "execution_count": null,
   "metadata": {},
   "outputs": [
    {
     "data": {
      "image/png": "[encoded data removed]",
      "text/latex": [
       "$\\displaystyle 1.20906195512217$"
      ],
      "text/plain": [
       "1.20906195512217"
      ]
     },
     "execution_count": 43,
     "metadata": {},
     "output_type": "execute_result"
    }
   ],
   "source": [
    "(log(7, 6) / log(5, 6)).evalf()"
   ]
  },
  {
   "cell_type": "markdown",
   "metadata": {},
   "source": []
  }
 ],
 "metadata": {
  "kernelspec": {
   "display_name": "mathematics",
   "language": "python",
   "name": "python3"
  },
  "language_info": {
   "codemirror_mode": {
    "name": "ipython",
    "version": 3
   },
   "file_extension": ".py",
   "mimetype": "text/x-python",
   "name": "python",
   "nbconvert_exporter": "python",
   "pygments_lexer": "ipython3",
   "version": "3.10.9"
  },
  "orig_nbformat": 4
 },
 "nbformat": 4,
 "nbformat_minor": 2
}
