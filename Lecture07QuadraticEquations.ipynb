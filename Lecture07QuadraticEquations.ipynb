{
 "cells": [
  {
   "cell_type": "markdown",
   "metadata": {},
   "source": [
    "# 7 | QUADRATIC EQUATIONS"
   ]
  },
  {
   "cell_type": "markdown",
   "metadata": {},
   "source": [
    "><b>Dr J H Klopper</b></p>\n",
    ">Department of Biostatistics and Bioinformatics</br>\n",
    ">Milken Institute School of Public Health</br>\n",
    ">George Washington University"
   ]
  },
  {
   "cell_type": "markdown",
   "metadata": {},
   "source": [
    "<p xmlns:cc=\"http://creativecommons.org/ns#\" xmlns:dct=\"http://purl.org/dc/terms/\"><span property=\"dct:title\">This chapter of Algebra for Health Data Science</span> by <span property=\"cc:attributionName\">Dr JH Klopper</span> is licensed under <a href=\"http://creativecommons.org/licenses/by-nc-nd/4.0/?ref=chooser-v1\" target=\"_blank\" rel=\"license noopener noreferrer\" style=\"display:inline-block;\">Attribution-NonCommercial-NoDerivatives 4.0 International<img style=\"height:22px!important;margin-left:3px;vertical-align:text-bottom;\" src=\"https://mirrors.creativecommons.org/presskit/icons/cc.svg?ref=chooser-v1\"><img style=\"height:22px!important;margin-left:3px;vertical-align:text-bottom;\" src=\"https://mirrors.creativecommons.org/presskit/icons/by.svg?ref=chooser-v1\"><img style=\"height:22px!important;margin-left:3px;vertical-align:text-bottom;\" src=\"https://mirrors.creativecommons.org/presskit/icons/nc.svg?ref=chooser-v1\"><img style=\"height:22px!important;margin-left:3px;vertical-align:text-bottom;\" src=\"https://mirrors.creativecommons.org/presskit/icons/nd.svg?ref=chooser-v1\"></a></p>"
   ]
  },
  {
   "cell_type": "markdown",
   "metadata": {},
   "source": [
    "## 7.1 Packages used in the chapter"
   ]
  },
  {
   "cell_type": "markdown",
   "metadata": {},
   "source": [
    "We import the specific function from the `sympy` package that we will use in the chapter."
   ]
  },
  {
   "cell_type": "code",
   "execution_count": 1,
   "metadata": {},
   "outputs": [],
   "source": [
    "from sympy import init_printing, symbols, Eq, solve, Rational, I, sqrt"
   ]
  },
  {
   "cell_type": "markdown",
   "metadata": {},
   "source": [
    "The `init_printing` function is used to display the output in a format that is easier to read."
   ]
  },
  {
   "cell_type": "code",
   "execution_count": 2,
   "metadata": {},
   "outputs": [],
   "source": [
    "init_printing()"
   ]
  },
  {
   "cell_type": "markdown",
   "metadata": {},
   "source": [
    "## 7.2 Introduction"
   ]
  },
  {
   "cell_type": "markdown",
   "metadata": {},
   "source": [
    "Quadratic equations are equations with polynomials of degree 2. They arise often enough that we should know how to solve them. They help us further explore the word of factorization."
   ]
  },
  {
   "cell_type": "markdown",
   "metadata": {},
   "source": [
    "In this chapter we will examine how to solve quadratic equations using factorization and the quadratic formula. We will also meet a new type of number, the complex numbers, which will help us solve quadratic equations that have no real solutions."
   ]
  },
  {
   "cell_type": "markdown",
   "metadata": {},
   "source": [
    "We start by defining the quadratic equation."
   ]
  },
  {
   "cell_type": "markdown",
   "metadata": {},
   "source": [
    "## 7.3 Quadratic equations"
   ]
  },
  {
   "cell_type": "markdown",
   "metadata": {},
   "source": [
    "__Definition 7.3.1__ A <span style=\"color:lightgreen\">__quadratic equation__</span> is an equation of the form $ax^2 + bx + c = 0$ where $a, b, c \\in \\mathbb{R}$ and $a \\neq 0$."
   ]
  },
  {
   "cell_type": "markdown",
   "metadata": {},
   "source": [
    "Quadratic equations are polynomials of degree $2$. That is to say that we have a single variable, usually denoted by $x$, and the highest power of $x$ is $2$. The coefficients $a, b, c$ are real numbers. We will see later that the solutions to a quadratic equation can be complex numbers."
   ]
  },
  {
   "cell_type": "markdown",
   "metadata": {},
   "source": [
    "We often solve quadratic equations by factoring, which we explore in the next section. Note that because $x$ is squared, we will have two solutions to a quadratic equation."
   ]
  },
  {
   "cell_type": "markdown",
   "metadata": {},
   "source": [
    "__Definition 7.3.2__ The solutions to a quadratic equation $ax^2 + bx + c = 0$ are called the <span style=\"color:lightgreen\">__roots__</span> of the quadratic equation."
   ]
  },
  {
   "cell_type": "markdown",
   "metadata": {},
   "source": [
    "In the last chapter, we explore graphing of equations. In the graph of an equation on a Cartesian plane, we have that the real roots are the $x$ intercepts of the graph. That is where $y=0$ (where $y$ is the vertical axis). Real roots are the points where the graph _crosses_ the $x$ axis. We call this intersecting the $x$ axis."
   ]
  },
  {
   "cell_type": "markdown",
   "metadata": {},
   "source": [
    "## 7.4 Factoring to solve quadratic equations"
   ]
  },
  {
   "cell_type": "markdown",
   "metadata": {},
   "source": [
    "The left-hand side of the quadratic equation $ax^2 + bx + c = 0$ is a polynomial expression of degree $2$. We have already explored the factoring of these expressions."
   ]
  },
  {
   "cell_type": "markdown",
   "metadata": {},
   "source": [
    "__Problem 7.4.1__ Solve the quadratic equation $x^2 + 5x + 6 = 0$."
   ]
  },
  {
   "cell_type": "markdown",
   "metadata": {},
   "source": [
    "We see the start of the solution to this equation in __Equation 7.4.1__, where we factor the left-hand side of the equation. We note that $2 \\times 3 = 6$, which will help our cause."
   ]
  },
  {
   "cell_type": "markdown",
   "metadata": {},
   "source": [
    "$$\n",
    "\\begin{align*}\n",
    "&\\left( x \\quad \\right)\\left( x \\quad \\right) = 0 \\\\ \\\\\n",
    "&\\left( x + 2 \\right)\\left( x + 3 \\right) = 0\n",
    "\\end{align*}\n",
    "\\tag{Equation 7.4.2}\n",
    "$$"
   ]
  },
  {
   "cell_type": "markdown",
   "metadata": {},
   "source": [
    "By multiplication we verify the result. We have that $x^{2} + 3x + 2x + 6 = x^{2} + 5x + 6 = 0$."
   ]
  },
  {
   "cell_type": "markdown",
   "metadata": {},
   "source": [
    "For the statement $a \\times b = 0$ it must hold that either $a=0$ and / or $b=0$. This is the __zero product property__. Therefor, we can continue our solution as is shown in __Equation 7.4.2__."
   ]
  },
  {
   "cell_type": "markdown",
   "metadata": {},
   "source": [
    "$$\n",
    "\\begin{align*}\n",
    "&\\left( x + 2 \\right)\\left( x + 3 \\right) = 0 \\\\ \\\\\n",
    "&x + 2 = 0 \\quad \\text{or} \\quad x + 3 = 0 \\\\ \\\\\n",
    "&x = -2 \\quad \\text{or} \\quad x = -3\n",
    "\\end{align*}\n",
    "\\tag{Equation 7.4.2}\n",
    "$$"
   ]
  },
  {
   "cell_type": "markdown",
   "metadata": {},
   "source": [
    "We verify these results by substituting the solutions into the original equation. This is shown in __Equation 7.4.3__, where we have that $x=-2$."
   ]
  },
  {
   "cell_type": "markdown",
   "metadata": {},
   "source": [
    "$$\n",
    "\\begin{align*}\n",
    "&x^2 + 5x + 6 = 0 \\\\ \\\\\n",
    "&\\left( -2 \\right)^2 + 5\\left( -2 \\right) + 6 = 0 \\\\ \\\\\n",
    "&4 - 10 + 6 = 0 \\\\ \\\\\n",
    "&0 = 0\n",
    "\\end{align*}\n",
    "\\tag{Equation 7.4.3}\n",
    "$$"
   ]
  },
  {
   "cell_type": "markdown",
   "metadata": {},
   "source": [
    "In __Equation 7.4.4__ we have that $x=-3$."
   ]
  },
  {
   "cell_type": "markdown",
   "metadata": {},
   "source": [
    "$$\n",
    "\\begin{align*}\n",
    "&x^2 + 5x + 6 = 0 \\\\ \\\\\n",
    "&\\left( -3 \\right)^2 + 5\\left( -3 \\right) + 6 = 0 \\\\ \\\\\n",
    "&9 - 15 + 6 = 0 \\\\ \\\\\n",
    "&0 = 0\n",
    "\\end{align*}\n",
    "\\tag{Equation 7.4.4}\n",
    "$$"
   ]
  },
  {
   "cell_type": "markdown",
   "metadata": {},
   "source": [
    "We can also use `sympy` to solve this equation. We start by assigning the mathematical symbol $x$ to the variable `x` using the `symbols` function. Next, we use the `Eq` function to create the equation and assign it to the variable `eq` that we print to the screen."
   ]
  },
  {
   "cell_type": "code",
   "execution_count": 3,
   "metadata": {},
   "outputs": [
    {
     "data": {
      "image/png": "[encoded data removed]",
      "text/latex": [
       "$\\displaystyle x^{2} + 5 x + 6 = 0$"
      ],
      "text/plain": [
       " 2              \n",
       "x  + 5⋅x + 6 = 0"
      ]
     },
     "execution_count": 3,
     "metadata": {},
     "output_type": "execute_result"
    }
   ],
   "source": [
    "# Create the mathematical symbols x and the equation\n",
    "x = symbols('x')\n",
    "eq = Eq(x**2 + 5*x + 6, 0)\n",
    "eq"
   ]
  },
  {
   "cell_type": "markdown",
   "metadata": {},
   "source": [
    "Now we use the `solve` function to solve the equation."
   ]
  },
  {
   "cell_type": "code",
   "execution_count": 4,
   "metadata": {},
   "outputs": [
    {
     "data": {
      "image/png": "[encoded data removed]",
      "text/latex": [
       "$\\displaystyle \\left[ -3, \\  -2\\right]$"
      ],
      "text/plain": [
       "[-3, -2]"
      ]
     },
     "execution_count": 4,
     "metadata": {},
     "output_type": "execute_result"
    }
   ],
   "source": [
    "# Verify the solution\n",
    "solve(eq, x)"
   ]
  },
  {
   "cell_type": "markdown",
   "metadata": {},
   "source": [
    "The solution is returned as a `Python` list object with the elements $-3$ and $-2$, confirming the results $x=-3$ or $x=-2$."
   ]
  },
  {
   "cell_type": "markdown",
   "metadata": {},
   "source": [
    "__Homework 7.4.1__ Solve the quadratic equation $x^2 + 7x + 12 = 0$."
   ]
  },
  {
   "cell_type": "markdown",
   "metadata": {},
   "source": [
    "__Problem 7.4.2__ Solve the quadratic equation $4x^2 + 5x - 6 = 0$."
   ]
  },
  {
   "cell_type": "markdown",
   "metadata": {},
   "source": [
    "We have a few options to start with. We can have $(4x \\quad)(x \\quad)=0$ or $(2x \\quad)(2 x \\quad)$. Both will lead to $4x^{2}$ as the first term. We also have options for $-6$. These are $6 \\times (-1)$ or $(-1) \\times 6$ or $(-2) \\times 3$ or $3 \\times (-2)$ or $(-3) \\times 2$ or $2 \\times (-3)$. We have to find a combination of these such that the _middle_ $x$ _term_ sums to $+5$. We see the solution in __Equation 7.4.5__."
   ]
  },
  {
   "cell_type": "markdown",
   "metadata": {},
   "source": [
    "$$\n",
    "\\begin{align*}\n",
    "&4x^2 + 5x - 6 = 0\\\\ \\\\\n",
    "&\\left( 4x - 3 \\right)\\left( x + 2 \\right) = 0 \\\\ \\\\\n",
    "&4x - 3 = 0 \\quad \\text{or} \\quad x + 2 = 0 \\\\ \\\\\n",
    "&x = \\frac{3}{4} \\quad \\text{or} \\quad x = -2\n",
    "\\end{align*}\n",
    "\\tag{Equation 7.4.5}\n",
    "$$"
   ]
  },
  {
   "cell_type": "markdown",
   "metadata": {},
   "source": [
    "We can verify the results by completing the multiplication $(4x-3)(x+2)$. The result is indeed $4x^2 + 5x - 6 = 0$. We can also substitute the solutions into the original equatiion. We start with $x=\\frac{3}{4}$ in __Equation 7.4.6__."
   ]
  },
  {
   "cell_type": "markdown",
   "metadata": {},
   "source": [
    "$$\n",
    "\\begin{align*}\n",
    "&4x^2 + 5x - 6 = 0 \\\\ \\\\\n",
    "&4\\left( \\frac{3}{4} \\right)^2 + 5\\left( \\frac{3}{4} \\right) - 6 = 0 \\\\ \\\\\n",
    "&4\\left( \\frac{9}{16} \\right) + \\frac{15}{4} - 6 = 0 \\\\ \\\\\n",
    "&\\frac{9}{4} + \\frac{15}{4} - 6 = 0 \\\\ \\\\\n",
    "&\\frac{24}{4} - 6 = 0 \\\\ \\\\\n",
    "&6 - 6 = 0 \\\\ \\\\\n",
    "&0 = 0\n",
    "\\end{align*}\n",
    "\\tag{Equation 7.4.6}\n",
    "$$"
   ]
  },
  {
   "cell_type": "markdown",
   "metadata": {},
   "source": [
    "Now we substiture $x=-2$ in __Equation 7.4.7__."
   ]
  },
  {
   "cell_type": "markdown",
   "metadata": {},
   "source": [
    "$$\n",
    "\\begin{align*}\n",
    "&4x^2 + 5x - 6 = 0 \\\\ \\\\\n",
    "&4\\left( -2 \\right)^2 + 5\\left( -2 \\right) - 6 = 0 \\\\ \\\\\n",
    "&4\\left( 4 \\right) - 10 - 6 = 0 \\\\ \\\\\n",
    "&16 - 10 - 6 = 0 \\\\ \\\\\n",
    "&6 - 6 = 0 \\\\ \\\\\n",
    "&0 = 0\n",
    "\\end{align*}\n",
    "\\tag{Equation 7.4.7}\n",
    "$$"
   ]
  },
  {
   "cell_type": "markdown",
   "metadata": {},
   "source": [
    "Finally, we use `sympy` to verify the solutions."
   ]
  },
  {
   "cell_type": "code",
   "execution_count": 5,
   "metadata": {},
   "outputs": [
    {
     "data": {
      "image/png": "[encoded data removed]",
      "text/latex": [
       "$\\displaystyle x^{2} + 5 x + 6 = 0$"
      ],
      "text/plain": [
       " 2              \n",
       "x  + 5⋅x + 6 = 0"
      ]
     },
     "execution_count": 5,
     "metadata": {},
     "output_type": "execute_result"
    }
   ],
   "source": [
    "# Create the equation and assign it to the variable eq\n",
    "eq = Eq(x**2 + 5*x + 6, 0)\n",
    "eq"
   ]
  },
  {
   "cell_type": "code",
   "execution_count": 6,
   "metadata": {},
   "outputs": [
    {
     "data": {
      "image/png": "[encoded data removed]",
      "text/latex": [
       "$\\displaystyle \\left[ -3, \\  -2\\right]$"
      ],
      "text/plain": [
       "[-3, -2]"
      ]
     },
     "execution_count": 6,
     "metadata": {},
     "output_type": "execute_result"
    }
   ],
   "source": [
    "# Solve the equation\n",
    "solve(eq, x)"
   ]
  },
  {
   "cell_type": "markdown",
   "metadata": {},
   "source": [
    "The solutions are confirmed by `sympy`."
   ]
  },
  {
   "cell_type": "markdown",
   "metadata": {},
   "source": [
    "__Homework 7.4.2__ Solve the quadratic equation $8x^2 - 34x + 8 = 0$."
   ]
  },
  {
   "cell_type": "markdown",
   "metadata": {},
   "source": [
    "Some problems only require the _extraction_ of a common factor. We see this in __Problem 7.4.3__."
   ]
  },
  {
   "cell_type": "markdown",
   "metadata": {},
   "source": [
    "__Problem 7.4.3__ Solve the quadratic equation $x^2 - 4x = 0$."
   ]
  },
  {
   "cell_type": "markdown",
   "metadata": {},
   "source": [
    "We note that $c=0$. We can factor out $x$ from the left-hand side of the equation. This is shown in __Equation 7.4.8__."
   ]
  },
  {
   "cell_type": "markdown",
   "metadata": {},
   "source": [
    "$$\n",
    "\\begin{align*}\n",
    "&x^2 - 4x = 0 \\\\ \\\\\n",
    "&x\\left( x - 4 \\right) = 0 \\\\ \\\\\n",
    "&x = 0 \\quad \\text{or} \\quad x - 4 = 0 \\\\ \\\\\n",
    "&x = 0 \\quad \\text{or} \\quad x = 4\n",
    "\\end{align*}\n",
    "\\tag{Equation 7.4.8}\n",
    "$$"
   ]
  },
  {
   "cell_type": "markdown",
   "metadata": {},
   "source": [
    "We can substitute to verify the results. Instead, we will only confirm the solutions using `sympy`."
   ]
  },
  {
   "cell_type": "code",
   "execution_count": 7,
   "metadata": {},
   "outputs": [
    {
     "data": {
      "image/png": "[encoded data removed]",
      "text/latex": [
       "$\\displaystyle \\left[ 0, \\  4\\right]$"
      ],
      "text/plain": [
       "[0, 4]"
      ]
     },
     "execution_count": 7,
     "metadata": {},
     "output_type": "execute_result"
    }
   ],
   "source": [
    "# Verify the solution\n",
    "solve(Eq(x**2 - 4 * x, 0), x)"
   ]
  },
  {
   "cell_type": "markdown",
   "metadata": {},
   "source": [
    "__Homework 7.4.3__ Solve the quadratic equation $x^2 - 5x = 0$."
   ]
  },
  {
   "cell_type": "markdown",
   "metadata": {},
   "source": [
    "## 7.5 Solving quadratic equations using the quadratic formula"
   ]
  },
  {
   "cell_type": "markdown",
   "metadata": {},
   "source": [
    "There is a simple formula to solve quadratic equations. This is the __quadratic formula__. We see this in __Equation 7.5.1__ where we use a technique called completing the square, where $a \\ne 0$."
   ]
  },
  {
   "cell_type": "markdown",
   "metadata": {},
   "source": [
    "$$\n",
    "\\begin{align*}\n",
    "&ax^2 + bx + c = 0 \\\\ \\\\\n",
    "&x^2 + \\frac{b}{a}x + \\left( \\frac{b}{2a} \\right)^{2} + \\frac{c}{a} = \\left( \\frac{b}{2a} \\right)^{2} \\\\ \\\\\n",
    "&\\left( x + \\frac{b}{2a}\\right) \\left( x + \\frac{b}{2a} \\right) + \\frac{c}{a} = \\left( \\frac{b}{2a} \\right)^{2} \\\\ \\\\\n",
    "&\\left( x + \\frac{b}{2a}\\right)^{2} + \\frac{c}{a} = \\left( \\frac{b}{2a} \\right)^{2} \\\\ \\\\\n",
    "&\\left( x + \\frac{b}{2a}\\right)^{2} = \\left( \\frac{b}{2a} \\right)^{2} - \\frac{c}{a} \\\\ \\\\\n",
    "&\\left( x + \\frac{b}{2a}\\right)^{2} = \\frac{b^{2}}{4a^{2}} - \\frac{c}{a} \\\\ \\\\\n",
    "&\\left( x + \\frac{b}{2a}\\right)^{2} = \\frac{b^{2}}{4a^{2}} - \\frac{4ac}{4a^{2}} \\\\ \\\\\n",
    "&x + \\frac{b}{2a} = \\pm \\sqrt{\\frac{b^{2} - 4ac}{4a^{2}}} \\\\ \\\\\n",
    "&x = - \\frac{b}{2a} \\pm \\frac{\\sqrt{b^2 - 4ac}}{2a} \\\\ \\\\\n",
    "&x = \\frac{-b \\pm \\sqrt{b^2 - 4ac}}{2a}\n",
    "\\end{align*}\n",
    "\\tag{Equation 7.5.1}\n",
    "$$"
   ]
  },
  {
   "cell_type": "markdown",
   "metadata": {},
   "source": [
    "We use $\\pm$ to indicate that we have two solutions. One we we add and one in which we subtract. Remember that the square root of a number such as $4$ is $\\sqrt{4} = \\pm 2$ since $2^{2}=4$ and $(-2)^{2}=4$."
   ]
  },
  {
   "cell_type": "markdown",
   "metadata": {},
   "source": [
    "__Problem 7.5.1__ Solve the quadratic equation $2x^2 + 7x -4 = 0$ using the quadratic formula."
   ]
  },
  {
   "cell_type": "markdown",
   "metadata": {},
   "source": [
    "We have that $a=2$, $b=7$, and $c = -4$. This would be a difficult problem to solve using number that multiply to $2$ and to $-4$ such that the middle term sums to $+7$. Instead, we substitute our values for $a$, $b$, and $c$ into the quadratic formula in __Equation 7.5.1__ and show the solutions in __Equation 7.5.2."
   ]
  },
  {
   "cell_type": "markdown",
   "metadata": {},
   "source": [
    "$$\n",
    "\\begin{align*}\n",
    "&x = \\frac{-b \\pm \\sqrt{b^2 - 4ac}}{2a} \\\\ \\\\\n",
    "&x = \\frac{-7 \\pm \\sqrt{7^2 - 4 \\times 2 \\times \\left( -4 \\right)}}{2 \\times 2} \\\\ \\\\\n",
    "&x = \\frac{-7 \\pm \\sqrt{49 + 32}}{4} \\\\ \\\\\n",
    "&x = \\frac{-7 \\pm \\sqrt{81}}{4} \\\\ \\\\\n",
    "&x = \\frac{-7 \\pm 9}{4} \\\\ \\\\\n",
    "&x = \\frac{-7 + 9}{4} \\quad \\text{or} \\quad x = \\frac{-7 - 9}{4} \\\\ \\\\\n",
    "&x = \\frac{2}{4} \\quad \\text{or} \\quad x = \\frac{-16}{4} \\\\ \\\\\n",
    "&x = \\frac{1}{2} \\quad \\text{or} \\quad x = -4\n",
    "\\end{align*}\n",
    "\\tag{Equation 7.5.2}\n",
    "$$"
   ]
  },
  {
   "cell_type": "markdown",
   "metadata": {},
   "source": [
    "We can once again verify the results by substituting the solutions into the original equation. Below, we simply use `sympy` to verify the solutions."
   ]
  },
  {
   "cell_type": "code",
   "execution_count": 8,
   "metadata": {},
   "outputs": [
    {
     "data": {
      "image/png": "[encoded data removed]",
      "text/latex": [
       "$\\displaystyle \\left[ -4, \\  \\frac{1}{2}\\right]$"
      ],
      "text/plain": [
       "[-4, 1/2]"
      ]
     },
     "execution_count": 8,
     "metadata": {},
     "output_type": "execute_result"
    }
   ],
   "source": [
    "# Verify the solution\n",
    "solve(Eq(2 * x**2 + 7 * x - 4, 0), x)"
   ]
  },
  {
   "cell_type": "markdown",
   "metadata": {},
   "source": [
    "__Homework 7.5.1__ Solve the quadratic equation $x^2 - 6x + 7 = 0$ using the quadratic formula."
   ]
  },
  {
   "cell_type": "markdown",
   "metadata": {},
   "source": [
    "__Problem 7.5.2__ Solve the quadratic equation $2x^2 + 8x + 7 = 0$ using the quadratic formula."
   ]
  },
  {
   "cell_type": "markdown",
   "metadata": {},
   "source": [
    "The solution follows in __Equation 7.5.3__ by using substitution into the quadratic formula."
   ]
  },
  {
   "cell_type": "markdown",
   "metadata": {},
   "source": [
    "$$\n",
    "\\begin{align*}\n",
    "&x = \\frac{-b \\pm \\sqrt{b^2 - 4ac}}{2a} \\\\ \\\\\n",
    "&x = \\frac{-8 \\pm \\sqrt{8^2 - 4 \\times 2 \\times 7}}{2 \\times 2} \\\\ \\\\\n",
    "&x = \\frac{-8 \\pm \\sqrt{64 - 56}}{4} \\\\ \\\\\n",
    "&x = \\frac{-8 \\pm \\sqrt{8}}{4} \\\\ \\\\\n",
    "&x = \\frac{-8 \\pm 2\\sqrt{2}}{4} \\\\ \\\\\n",
    "&x = \\frac{-8 + 2\\sqrt{2}}{4} \\quad \\text{or} \\quad x = \\frac{-8 - 2\\sqrt{2}}{4} \\\\ \\\\\n",
    "&x = \\frac{-4 + \\sqrt{2}}{2} \\quad \\text{or} \\quad x = \\frac{-4 - \\sqrt{2}}{2}\n",
    "\\end{align*}\n",
    "\\tag{Equation 7.5.3}\n",
    "$$"
   ]
  },
  {
   "cell_type": "markdown",
   "metadata": {},
   "source": [
    "We verify the solutions using `sympy`."
   ]
  },
  {
   "cell_type": "code",
   "execution_count": 9,
   "metadata": {},
   "outputs": [
    {
     "data": {
      "image/png": "[encoded data removed]",
      "text/latex": [
       "$\\displaystyle \\left[ -2 - \\frac{\\sqrt{2}}{2}, \\  -2 + \\frac{\\sqrt{2}}{2}\\right]$"
      ],
      "text/plain": [
       "⎡     √2       √2⎤\n",
       "⎢-2 - ──, -2 + ──⎥\n",
       "⎣     2        2 ⎦"
      ]
     },
     "execution_count": 9,
     "metadata": {},
     "output_type": "execute_result"
    }
   ],
   "source": [
    "# Verify the solution\n",
    "solve(Eq(2 * x**2 + 8 * x + 7, 0), x)"
   ]
  },
  {
   "cell_type": "markdown",
   "metadata": {},
   "source": [
    "Simple algebraic manipulation will show that the `sympy` results are equal to those in __Equation 7.5.3__."
   ]
  },
  {
   "cell_type": "markdown",
   "metadata": {},
   "source": [
    "__Homework 7.5.2__ Solve the quadratic equation $x^2 - 5x + 3 = 0$ using the quadratic formula."
   ]
  },
  {
   "cell_type": "markdown",
   "metadata": {},
   "source": [
    "Not all quadratics have real-valued solutions."
   ]
  },
  {
   "cell_type": "markdown",
   "metadata": {},
   "source": [
    "## 7.6 Quadratic equations with complex roots"
   ]
  },
  {
   "cell_type": "markdown",
   "metadata": {},
   "source": [
    "The real numbers are a subset of the complex numbers."
   ]
  },
  {
   "cell_type": "markdown",
   "metadata": {},
   "source": [
    "__Defintion 7.6.1__ The __imaginary number__, $i$, is the number defined by $i^{2} = -1$ or then $i = \\sqrt{-1}$. "
   ]
  },
  {
   "cell_type": "markdown",
   "metadata": {},
   "source": [
    "The imaginary number is unlike any real number in that the square of any real number is a non-negative nmumber. The imaginary number allows us to create complex numbers."
   ]
  },
  {
   "cell_type": "markdown",
   "metadata": {},
   "source": [
    "__Definition 7.6.2__ The <span style=\"color:lightgreen\">__complex numbers__</span> are the set of numbers of the form $a + b \\, i$ where $a, b \\in \\mathbb{R}$ and $i = \\sqrt{-1}$."
   ]
  },
  {
   "cell_type": "markdown",
   "metadata": {},
   "source": [
    "We note that the real numbers are a subset of the complex numbers. That is to say that every real number is a complex number. We can write $a \\in \\mathbb{R}$ as $a + 0 \\, i \\in \\mathbb{C}$."
   ]
  },
  {
   "cell_type": "markdown",
   "metadata": {},
   "source": [
    "The `sympy` keyword `I` is used for the imaginary number $i = \\sqrt{-1}$."
   ]
  },
  {
   "cell_type": "code",
   "execution_count": 10,
   "metadata": {},
   "outputs": [
    {
     "data": {
      "image/png": "[encoded data removed]",
      "text/latex": [
       "$\\displaystyle i$"
      ],
      "text/plain": [
       "ⅈ"
      ]
     },
     "execution_count": 10,
     "metadata": {},
     "output_type": "execute_result"
    }
   ],
   "source": [
    "# Print the imaginary number i\n",
    "I"
   ]
  },
  {
   "cell_type": "code",
   "execution_count": 11,
   "metadata": {},
   "outputs": [
    {
     "data": {
      "image/png": "[encoded data removed]",
      "text/latex": [
       "$\\displaystyle -1$"
      ],
      "text/plain": [
       "-1"
      ]
     },
     "execution_count": 11,
     "metadata": {},
     "output_type": "execute_result"
    }
   ],
   "source": [
    "# Note that the square of the imaginary number i is -1\n",
    "I**2"
   ]
  },
  {
   "cell_type": "markdown",
   "metadata": {},
   "source": [
    "The solutions or roots of a quadratic equation can be complex numbers. This happens when the values under the square root symbol in the quadratic formula is negative. We cannot calculate the square root of a negative number without the use of the complex numbers."
   ]
  },
  {
   "cell_type": "markdown",
   "metadata": {},
   "source": [
    "__Problem 7.6.1__ Calculate the value of the square root of $-9$."
   ]
  },
  {
   "cell_type": "markdown",
   "metadata": {},
   "source": [
    "The solution uses the imaginary number and is shown in __Equation 7.6.1__ where we make use of the fact that $i^{2}=-1$."
   ]
  },
  {
   "cell_type": "markdown",
   "metadata": {},
   "source": [
    "$$\n",
    "\\begin{align*}\n",
    "&\\sqrt{-9} = \\sqrt{9 \\times -1} = \\sqrt{9} \\times \\sqrt{-1} = 3i\n",
    "\\end{align*}\n",
    "\\tag{Equation 7.6.1}\n",
    "$$"
   ]
  },
  {
   "cell_type": "markdown",
   "metadata": {},
   "source": [
    "The solution is $0 + 3i$, which we abbreviate as $3i$. Note that $3i \\times 3i = 9i^{2} = -9$ as required."
   ]
  },
  {
   "cell_type": "markdown",
   "metadata": {},
   "source": [
    "We can verify the solution using `sympy`."
   ]
  },
  {
   "cell_type": "code",
   "execution_count": 12,
   "metadata": {},
   "outputs": [
    {
     "data": {
      "image/png": "[encoded data removed]",
      "text/latex": [
       "$\\displaystyle 3 i$"
      ],
      "text/plain": [
       "3⋅ⅈ"
      ]
     },
     "execution_count": 12,
     "metadata": {},
     "output_type": "execute_result"
    }
   ],
   "source": [
    "# Verify the solution\n",
    "sqrt(-9)"
   ]
  },
  {
   "cell_type": "markdown",
   "metadata": {},
   "source": [
    "__Homework 7.6.1__ Calculate the value of the square root of $-16$."
   ]
  },
  {
   "cell_type": "markdown",
   "metadata": {},
   "source": [
    "Now that we have defined the set of complex numbers, we can solve quadratic equations that have complex roots. That is to say, quadratic equations where $b^{2} - 4ac < 0$. We see this in __Problem 7.6.2__."
   ]
  },
  {
   "cell_type": "markdown",
   "metadata": {},
   "source": [
    "__Problem 7.6.2__ Solve the quadratic equation $x^2 + 4x + 5 = 0$."
   ]
  },
  {
   "cell_type": "markdown",
   "metadata": {},
   "source": [
    "The solution follows in __Equation 7.6.2__, where we make use of the quadratic formula. Note that $b^{2} - 4ac = 4^{2} - 4(1)(5) = 16-20<0$. We must have complex roots as we will have to take the square root of a negative number."
   ]
  },
  {
   "cell_type": "markdown",
   "metadata": {},
   "source": [
    "$$\n",
    "\\begin{align*}\n",
    "&x = \\frac{-b \\pm \\sqrt{b^2 - 4ac}}{2a} \\\\ \\\\\n",
    "&x = \\frac{-4 \\pm \\sqrt{4^2 - 4 \\times 1 \\times 5}}{2 \\times 1} \\\\ \\\\\n",
    "&x = \\frac{-4 \\pm \\sqrt{16 - 20}}{2} \\\\ \\\\\n",
    "&x = \\frac{-4 \\pm \\sqrt{-4}}{2} \\\\ \\\\\n",
    "&x = \\frac{-4 \\pm 2i}{2} \\\\ \\\\\n",
    "&x = \\frac{-4}{2} \\pm \\frac{2i}{2} \\\\ \\\\\n",
    "&x = -2 \\pm i\n",
    "\\end{align*}\n",
    "\\tag{Equation 7.6.2}\n",
    "$$"
   ]
  },
  {
   "cell_type": "markdown",
   "metadata": {},
   "source": [
    "The roots are $x=-2+i$ and $x=-2-i$. We can verify the solutions using `sympy`."
   ]
  },
  {
   "cell_type": "code",
   "execution_count": 13,
   "metadata": {},
   "outputs": [
    {
     "data": {
      "image/png": "[encoded data removed]",
      "text/latex": [
       "$\\displaystyle \\left[ -2 - i, \\  -2 + i\\right]$"
      ],
      "text/plain": [
       "[-2 - ⅈ, -2 + ⅈ]"
      ]
     },
     "execution_count": 13,
     "metadata": {},
     "output_type": "execute_result"
    }
   ],
   "source": [
    "# Verify the solution\n",
    "solve(Eq(x**2 + 4 * x + 5, 0), x)"
   ]
  },
  {
   "cell_type": "markdown",
   "metadata": {},
   "source": [
    "__Homework 7.6.2__ Solve the quadratic equation $x^2 + 3x + 6 = 0$."
   ]
  },
  {
   "cell_type": "code",
   "execution_count": null,
   "metadata": {},
   "outputs": [],
   "source": []
  }
 ],
 "metadata": {
  "kernelspec": {
   "display_name": "mathematics",
   "language": "python",
   "name": "python3"
  },
  "language_info": {
   "codemirror_mode": {
    "name": "ipython",
    "version": 3
   },
   "file_extension": ".py",
   "mimetype": "text/x-python",
   "name": "python",
   "nbconvert_exporter": "python",
   "pygments_lexer": "ipython3",
   "version": "3.10.9"
  },
  "orig_nbformat": 4
 },
 "nbformat": 4,
 "nbformat_minor": 2
}
