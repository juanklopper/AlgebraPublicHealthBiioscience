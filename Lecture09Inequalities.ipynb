{
 "cells": [
  {
   "cell_type": "markdown",
   "metadata": {},
   "source": [
    "# 9 | INEQUALITIES AND ABOSOLUTE VALUES"
   ]
  },
  {
   "cell_type": "markdown",
   "metadata": {},
   "source": [
    "><b>Dr J H Klopper</b></p>\n",
    ">Department of Biostatistics and Bioinformatics</br>\n",
    ">Milken Institute School of Public Health</br>\n",
    ">George Washington University"
   ]
  },
  {
   "cell_type": "markdown",
   "metadata": {},
   "source": [
    "<p xmlns:cc=\"http://creativecommons.org/ns#\" xmlns:dct=\"http://purl.org/dc/terms/\"><span property=\"dct:title\">This chapter of Algebra for Health Data Science</span> by <span property=\"cc:attributionName\">Dr JH Klopper</span> is licensed under <a href=\"http://creativecommons.org/licenses/by-nc-nd/4.0/?ref=chooser-v1\" target=\"_blank\" rel=\"license noopener noreferrer\" style=\"display:inline-block;\">Attribution-NonCommercial-NoDerivatives 4.0 International<img style=\"height:22px!important;margin-left:3px;vertical-align:text-bottom;\" src=\"https://mirrors.creativecommons.org/presskit/icons/cc.svg?ref=chooser-v1\"><img style=\"height:22px!important;margin-left:3px;vertical-align:text-bottom;\" src=\"https://mirrors.creativecommons.org/presskit/icons/by.svg?ref=chooser-v1\"><img style=\"height:22px!important;margin-left:3px;vertical-align:text-bottom;\" src=\"https://mirrors.creativecommons.org/presskit/icons/nc.svg?ref=chooser-v1\"><img style=\"height:22px!important;margin-left:3px;vertical-align:text-bottom;\" src=\"https://mirrors.creativecommons.org/presskit/icons/nd.svg?ref=chooser-v1\"></a></p>"
   ]
  },
  {
   "cell_type": "markdown",
   "metadata": {},
   "source": [
    "## 9.1 Packages used in the chapter"
   ]
  },
  {
   "cell_type": "markdown",
   "metadata": {},
   "source": [
    "We start by importing the functions and package classes that we will use in this chapter and set the notebook to print mathematical notation."
   ]
  },
  {
   "cell_type": "code",
   "execution_count": 1,
   "metadata": {},
   "outputs": [],
   "source": [
    "from sympy import init_printing, symbols, Eq, solve, Rational\n",
    "from sympy import Abs, reduce_inequalities, reduce_abs_inequality, Poly, solve_poly_inequality, solve_rational_inequalities"
   ]
  },
  {
   "cell_type": "code",
   "execution_count": 2,
   "metadata": {},
   "outputs": [],
   "source": [
    "init_printing()"
   ]
  },
  {
   "cell_type": "markdown",
   "metadata": {},
   "source": [
    "We use the `%config` magic to create high-resultion plots."
   ]
  },
  {
   "cell_type": "code",
   "execution_count": 3,
   "metadata": {},
   "outputs": [],
   "source": [
    "%config InlineBackend.figure_format = 'retina'"
   ]
  },
  {
   "cell_type": "markdown",
   "metadata": {},
   "source": [
    "We also import the `spb` package to extend the plotting functionalities of `sympy`."
   ]
  },
  {
   "cell_type": "code",
   "execution_count": 39,
   "metadata": {},
   "outputs": [],
   "source": [
    "import spb"
   ]
  },
  {
   "cell_type": "markdown",
   "metadata": {},
   "source": [
    "## 9.2 Introduction"
   ]
  },
  {
   "cell_type": "markdown",
   "metadata": {},
   "source": [
    "The equal symbol $=$ allows us to consider two _versions_ of the same entity. We have a left-hand and a right-hand side of the equal sign. The left-hand side is equal to the right-hand side. We can also say that the left-hand side is _identical_ to the right-hand side. The equal sign is a _relational operator_."
   ]
  },
  {
   "cell_type": "markdown",
   "metadata": {},
   "source": [
    "We can also consider inequalities, where the relationship between the left-hand and the right-hand sides are not equal. In this chapter we consider inequalities. We also consider the useful notion of absolute values."
   ]
  },
  {
   "cell_type": "markdown",
   "metadata": {},
   "source": [
    "## 9.3 Interval notation"
   ]
  },
  {
   "cell_type": "markdown",
   "metadata": {},
   "source": [
    "In more advanced mathematical studies, we consider conditional statements. Such statements evaluate to either _true_ or _false_. Some simple statements include conditional arguments. We could write the statmenet $3=3$. The condition for this statement uses the equality symbols. The statement returns a value of _true_ since the left-hand side and the right-hand side are equal to each other. In Python code, we cannot use the `=` symbol, since this is used for assignment. We use the `==` symbol to test for equality."
   ]
  },
  {
   "cell_type": "code",
   "execution_count": 4,
   "metadata": {},
   "outputs": [
    {
     "data": {
      "text/plain": [
       "True"
      ]
     },
     "execution_count": 4,
     "metadata": {},
     "output_type": "execute_result"
    }
   ],
   "source": [
    "# Is 3 equal tot 3?\n",
    "3 == 3"
   ]
  },
  {
   "cell_type": "markdown",
   "metadata": {},
   "source": [
    "The code returns a value of `True` indicating that the statement is true."
   ]
  },
  {
   "cell_type": "markdown",
   "metadata": {},
   "source": [
    "The table below shows the symbols used for conditional statements, with example statements that all evaluate to _true_."
   ]
  },
  {
   "cell_type": "markdown",
   "metadata": {},
   "source": [
    "| Symbol | Meaning | Example |\n",
    "| :---- | :---- | :---- |\n",
    "| $=$ | equal to | $3=3$ |\n",
    "| $\\neq$ | not equal to | $3\\neq 4$ |\n",
    "| $<$ | less than | $3<4$ |\n",
    "| $\\leq$ | less than or equal to | $3\\leq 4$ |\n",
    "| $>$ | greater than | $4>3$ |\n",
    "| $\\geq$ | greater than or equal to | $4\\geq 3$ |"
   ]
  },
  {
   "cell_type": "markdown",
   "metadata": {},
   "source": [
    "The symbols $\\le , \\leq, \\ge$ and $\\geq$ are called _inequality symbols_. We can use these symbols to write _inequalities_. For example, we can write $x<3$ or $x\\geq 3$. The first inequality states that $x$ is less than $3$. The second inequality states that $x$ is greater than or equal to $3$."
   ]
  },
  {
   "cell_type": "markdown",
   "metadata": {},
   "source": [
    "These inequalities allow use to consider intervals of real number. Intervals are sets of contiguous values. For example, the interval $[1,3]$ is the set of all values between $1$ and $3$, including $1$ and $3$. The interval $(1,3)$ is the set of all values between $1$ and $3$, excluding $1$ and $3$. In bother cases, the values inside of the brackets and parentheses indicate the minimum and the maximum value in the set."
   ]
  },
  {
   "cell_type": "markdown",
   "metadata": {},
   "source": [
    "The brackets and the parentheses notations are commonly used in mathematics. The square brackets $[ \\, ]$ indicate that the minimum and maximum values are included in the interval. The round brackets $( \\, )$ indicate that the value is excluded from the interval. The interval $[1,3]$ is called a <span style=\"color:lightgreen\">__closed interval__</span> and the interval $(1,3)$ is called an <span style=\"color:lightgreen\">__open interval__</span>."
   ]
  },
  {
   "cell_type": "markdown",
   "metadata": {},
   "source": [
    "For any value $x$ in the closed interval $[a,b]$ where $a,b \\in \\mathbb{R}$ and $a<b$ we can also use the notation $a \\leq x \\leq b$. For any value $x$ in the open interval $(a,b)$ where $a,b \\in \\mathbb{R}$ and $a<b$, we can use the notation $a < x < b$."
   ]
  },
  {
   "cell_type": "markdown",
   "metadata": {},
   "source": [
    "We also define <span style=\"color:lightgreen\">__semi-open__</span> or <span style=\"color:lightgreen\">__semi-closed__</span> intervals. The interval $[ a , b )$ is left-closed and right-open and can be written as $a \\leq x < b$. The interval $(a,b]$ is left-open and right closed and can be written as $a < x \\leq b>$."
   ]
  },
  {
   "cell_type": "markdown",
   "metadata": {},
   "source": [
    "Positive infinity and negative infinity are not numbers and cannot be the minimum or maximum values in an interval. We can never have that $[ -\\infty, a ]$ or $[3 , \\infty]$. Instead we would have $ \\left( - \\infty , \\infty \\right)$."
   ]
  },
  {
   "cell_type": "markdown",
   "metadata": {},
   "source": [
    "## 9.3 Operations on inequalities"
   ]
  },
  {
   "cell_type": "markdown",
   "metadata": {},
   "source": [
    "When we perform operations on equalities, we require that the left- and the right-hand sides stay equal. In __Equation 9.3.1__ we start with the equality $3=3$ and then add $4$ to both sides, maintaining the equality."
   ]
  },
  {
   "cell_type": "markdown",
   "metadata": {},
   "source": [
    "$$\n",
    "\\begin{align*}\n",
    "&3=3 \\\\ \\\\\n",
    "&3 + 4 = 3 + 4 \\\\ \\\\\n",
    "&7=7\n",
    "\\end{align*}\n",
    "\\tag{Equation 9.3.1}\n",
    "$$"
   ]
  },
  {
   "cell_type": "markdown",
   "metadata": {},
   "source": [
    "The same argument applies to operations on inequalities. These operation must maintain the inequality. For $a,b,c,d \\in \\mathbb{R} - \\{ 0 \\}$ (the real numbers without $0$), we can write the following inequalities."
   ]
  },
  {
   "cell_type": "markdown",
   "metadata": {},
   "source": [
    "1. If $a<b$ then $a + c < b + c$ \n",
    "\n",
    "2. If $a<b$ then $a - c < b - c$\n",
    "\n",
    "3. If $a>b$ then $a + c > b + c$\n",
    "\n",
    "4. If $a>b$ then $a - c > b - c$\n",
    "\n",
    "5. If $a<b$ and $c>0$ then $ac<bc$\n",
    "\n",
    "6. If $a<b$ and $c<0$ then $ac>bc$ (the sign flips)\n",
    "\n",
    "7. If $a>b$ and $c>0$ then $ac>bc$\n",
    "\n",
    "8. If $a>b$ and $c<0$ then $ac<bc$ (the sign flips)\n",
    "\n",
    "9. If $a<b$ and $c>0$ then $\\frac{a}{c} < \\frac{b}{c}$\n",
    "\n",
    "10. If $a<b$ and $c<0$ then $\\frac{a}{c} > \\frac{b}{c}$ (the sign flips)\n",
    "\n",
    "11. If $a>b$ and $c>0$ then $\\frac{a}{c} > \\frac{b}{c}$\n",
    "\n",
    "12. If $a>b$ and $c<0$ then $\\frac{a}{c} < \\frac{b}{c}$ (the sign flips)\n",
    "\n",
    "13. If $\\frac{a}{c} < \\frac{b}{d}$ then $\\frac{c}{a} > \\frac{d}{b}$ (the sign flips)"
   ]
  },
  {
   "cell_type": "markdown",
   "metadata": {},
   "source": [
    "__Problem 9.3.1__ Consider the inequality $-3 < 4$. Show that it is _true_ using code and the show that multiplying both sides by $3$ maintains the inequality."
   ]
  },
  {
   "cell_type": "markdown",
   "metadata": {},
   "source": [
    "We can use simply code to determine if $-3$ is less than $4$."
   ]
  },
  {
   "cell_type": "code",
   "execution_count": 5,
   "metadata": {},
   "outputs": [
    {
     "data": {
      "text/plain": [
       "True"
      ]
     },
     "execution_count": 5,
     "metadata": {},
     "output_type": "execute_result"
    }
   ],
   "source": [
    "-3 < 4"
   ]
  },
  {
   "cell_type": "markdown",
   "metadata": {},
   "source": [
    "The statement is _true_ indeed."
   ]
  },
  {
   "cell_type": "markdown",
   "metadata": {},
   "source": [
    "We multiply both sides by $3$ and evaluate the inequality."
   ]
  },
  {
   "cell_type": "code",
   "execution_count": 6,
   "metadata": {},
   "outputs": [
    {
     "data": {
      "text/plain": [
       "True"
      ]
     },
     "execution_count": 6,
     "metadata": {},
     "output_type": "execute_result"
    }
   ],
   "source": [
    "-3 * 3 < 4 * 3"
   ]
  },
  {
   "cell_type": "markdown",
   "metadata": {},
   "source": [
    "The inquality is still _true_."
   ]
  },
  {
   "cell_type": "markdown",
   "metadata": {},
   "source": [
    "__Homework 9.3.1__ Consider the inequality $-3 < 4$. Show that the inequality holds if we subtract $4$ from both sides."
   ]
  },
  {
   "cell_type": "markdown",
   "metadata": {},
   "source": [
    "__Problem 9.3.2__ Consider the inequality $-3 < 4$. We have shown that it is _true_ using code. Now show that multiplying both sides by $-3$ reverses the inequality."
   ]
  },
  {
   "cell_type": "markdown",
   "metadata": {},
   "source": [
    "Now we mutiply both sides by $-3$ and _flip_ the inequality."
   ]
  },
  {
   "cell_type": "code",
   "execution_count": 7,
   "metadata": {},
   "outputs": [
    {
     "data": {
      "text/plain": [
       "True"
      ]
     },
     "execution_count": 7,
     "metadata": {},
     "output_type": "execute_result"
    }
   ],
   "source": [
    "-3 * (-3) > 4 * (-3)"
   ]
  },
  {
   "cell_type": "markdown",
   "metadata": {},
   "source": [
    "By flipping the inequality, we have changed the direction of the inequality and the statement remains _true_."
   ]
  },
  {
   "cell_type": "markdown",
   "metadata": {},
   "source": [
    "__Homework 9.3.2__ Consider the inequality $-3 < 4$. Show that the inequality holds if we multiply both sides by $9$."
   ]
  },
  {
   "cell_type": "markdown",
   "metadata": {},
   "source": [
    "__Problem 9.3.3__ Show that the inequality in __Equation 9.3.2__ holds."
   ]
  },
  {
   "cell_type": "markdown",
   "metadata": {},
   "source": [
    "$$\n",
    "\\text{If } \\frac{1}{3} < \\frac{1}{2} \\text{ then } \\frac{3}{1} > \\frac{2}{1}\n",
    "\\tag{Equation 9.3.2}\n",
    "$$"
   ]
  },
  {
   "cell_type": "markdown",
   "metadata": {},
   "source": [
    "We use the `Rational` function below and pass the numerator and denominator as arguments."
   ]
  },
  {
   "cell_type": "code",
   "execution_count": 8,
   "metadata": {},
   "outputs": [
    {
     "data": {
      "image/png": "[encoded data removed]",
      "text/latex": [
       "$\\displaystyle \\text{True}$"
      ],
      "text/plain": [
       "True"
      ]
     },
     "execution_count": 8,
     "metadata": {},
     "output_type": "execute_result"
    }
   ],
   "source": [
    "Rational(1, 3) < Rational(1, 2)"
   ]
  },
  {
   "cell_type": "markdown",
   "metadata": {},
   "source": [
    "A <span style=\"color:lightgreen\">__reciprocal__</span> is the inverse of a number. The reciprocal of $3$ is $\\frac{1}{3}$."
   ]
  },
  {
   "cell_type": "markdown",
   "metadata": {},
   "source": [
    "Below, we use the reciprocals of a thrid and a half and swap inequality symbol."
   ]
  },
  {
   "cell_type": "code",
   "execution_count": 9,
   "metadata": {},
   "outputs": [
    {
     "data": {
      "image/png": "[encoded data removed]",
      "text/latex": [
       "$\\displaystyle \\text{True}$"
      ],
      "text/plain": [
       "True"
      ]
     },
     "execution_count": 9,
     "metadata": {},
     "output_type": "execute_result"
    }
   ],
   "source": [
    "Rational(3, 1) > Rational(2, 1)"
   ]
  },
  {
   "cell_type": "markdown",
   "metadata": {},
   "source": [
    "We see that __Equation 9.3.2__ is indeed true."
   ]
  },
  {
   "cell_type": "markdown",
   "metadata": {},
   "source": [
    "__Homework 9.3.3__ Show that the inequality in __Equation 9.3.3__ holds."
   ]
  },
  {
   "cell_type": "markdown",
   "metadata": {},
   "source": [
    "$$\n",
    "\\text{If } 1 < 3 \\text{ then } \\frac{1}{1} > \\frac{1}{3}\n",
    "\\tag{Equation 9.3.3}\n",
    "$$"
   ]
  },
  {
   "cell_type": "markdown",
   "metadata": {},
   "source": [
    "## 9.4 Solving inequalities"
   ]
  },
  {
   "cell_type": "markdown",
   "metadata": {},
   "source": [
    "Solving inequalities is the process of solving for the unknown variable in an equation. The rules are very similar to solving any algebraic equation with a single unknown. We do have to remember the rules for operations on inequalities."
   ]
  },
  {
   "cell_type": "markdown",
   "metadata": {},
   "source": [
    "__Problem 9.4.1__ Solve the inequality $3x - 4 < 5$."
   ]
  },
  {
   "cell_type": "markdown",
   "metadata": {},
   "source": [
    "We see the steps of the solution in __Equation 9.4.1__."
   ]
  },
  {
   "cell_type": "markdown",
   "metadata": {},
   "source": [
    "$$\n",
    "\\begin{align*}\n",
    "&3x - 4 < 5 \\\\ \\\\\n",
    "&3x - 4 + 4 < 5 + 4 \\text{ (add } 4 \\text{ to both sides)} \\\\ \\\\\n",
    "&3x < 9 \\text{ (property 1 holds)} \\\\ \\\\\n",
    "&\\frac{3x}{3} < \\frac{9}{3} \\text{ (divide by } 3 \\text{ on both sides)} \\\\ \\\\\n",
    "&x < 3 \\text{ (property 9 holds)}\n",
    "\\end{align*}\n",
    "\\tag{Equation 9.4.1}\n",
    "$$"
   ]
  },
  {
   "cell_type": "markdown",
   "metadata": {},
   "source": [
    "The `sympy` package can be used to solve ineqialities. We create the mathematical variable $x$ and assign it to the computer variable `x` using the `symbols` function."
   ]
  },
  {
   "cell_type": "code",
   "execution_count": 10,
   "metadata": {},
   "outputs": [],
   "source": [
    "# Create the mathematical symbol x using the symbols function and assign it to the variable x\n",
    "x = symbols('x')"
   ]
  },
  {
   "cell_type": "markdown",
   "metadata": {},
   "source": [
    "We use the `reduce_inequalities` function and pass the inequality as first argument. The second argument `x` refers to the variable that we want to solve for. The `reduce_inequalities` function returns two intervals and the logical connective $\\land$. We use the `simplifty` method to simplify the result. Try the code withouth the `simplify` method to see the difference."
   ]
  },
  {
   "cell_type": "code",
   "execution_count": 11,
   "metadata": {},
   "outputs": [
    {
     "data": {
      "image/png": "[encoded data removed]",
      "text/latex": [
       "$\\displaystyle x < 3$"
      ],
      "text/plain": [
       "x < 3"
      ]
     },
     "execution_count": 11,
     "metadata": {},
     "output_type": "execute_result"
    }
   ],
   "source": [
    "# Solve the inequality for x and simplify the solution\n",
    "reduce_inequalities(3 * x - 4 < 5, x).simplify()"
   ]
  },
  {
   "cell_type": "markdown",
   "metadata": {},
   "source": [
    "The `solve_poly_inequality` can also be used and returns an interval where the inequality holds. The argument of this function contains the `Poly` function. The latter contains the left-hand side of the inequality after algebraic manipulation, that is, $3x-4<5$ is manipulated to be $3x-4-5<0$ and we pass $3x-4-5$ as argument to the `Poly` function. The second argument is the variable that we want to solve for. The second argument of the `solve_poly_inequality` function is the sign of the inequality. The `solve_poly_inequality` function returns a single interval."
   ]
  },
  {
   "cell_type": "code",
   "execution_count": 12,
   "metadata": {},
   "outputs": [
    {
     "data": {
      "image/png": "[encoded data removed]",
      "text/latex": [
       "$\\displaystyle \\left[ \\left(-\\infty, 3\\right)\\right]$"
      ],
      "text/plain": [
       "[(-∞, 3)]"
      ]
     },
     "execution_count": 12,
     "metadata": {},
     "output_type": "execute_result"
    }
   ],
   "source": [
    "# Solve for the interval that satisfies the inequality\n",
    "solve_poly_inequality(Poly(3 * x - 4 - 5, x), '<')"
   ]
  },
  {
   "cell_type": "markdown",
   "metadata": {},
   "source": [
    "We can also write the solution as the open interval $\\left( - \\infty , 3 \\right)$ which is simply $x<3$."
   ]
  },
  {
   "cell_type": "markdown",
   "metadata": {},
   "source": [
    "The `subs` method allows us to use an equation or an inequality and then substitute a value for the unknow. Below, we use the inequality in __Problem 9.4.1__ and subsitute $x=2$, which is on the open interval $\\left( - \\infty , 3 \\right)$."
   ]
  },
  {
   "cell_type": "code",
   "execution_count": 13,
   "metadata": {},
   "outputs": [
    {
     "data": {
      "image/png": "[encoded data removed]",
      "text/latex": [
       "$\\displaystyle \\text{True}$"
      ],
      "text/plain": [
       "True"
      ]
     },
     "execution_count": 13,
     "metadata": {},
     "output_type": "execute_result"
    }
   ],
   "source": [
    "# Use the subs method to determine if 2 satisfies the inequality\n",
    "(3 * x - 4 < 5).subs(x, 2)"
   ]
  },
  {
   "cell_type": "markdown",
   "metadata": {},
   "source": [
    "The result is _true_ and the number $2$, as representative of the interval that is our solution, does indeed satisfy the inequality."
   ]
  },
  {
   "cell_type": "markdown",
   "metadata": {},
   "source": [
    "Using a value outside of the interval such as $x = 3$ does not satisfy the inequality. We use the `subs` method to substitute $x=3$."
   ]
  },
  {
   "cell_type": "code",
   "execution_count": 14,
   "metadata": {},
   "outputs": [
    {
     "data": {
      "image/png": "[encoded data removed]",
      "text/latex": [
       "$\\displaystyle \\text{False}$"
      ],
      "text/plain": [
       "False"
      ]
     },
     "execution_count": 14,
     "metadata": {},
     "output_type": "execute_result"
    }
   ],
   "source": [
    "# Use the subs method to determine if 3 satisfies the inequality\n",
    "(3 * x - 4 < 5).subs(x, 3)"
   ]
  },
  {
   "cell_type": "markdown",
   "metadata": {},
   "source": [
    "The result indeed shows that a represenattive value outside of the solution interval does not satisfy the inequality."
   ]
  },
  {
   "cell_type": "markdown",
   "metadata": {},
   "source": [
    "__Homework 9.4.1__ Find the interval where the inequality $x + 5 \\ge 3$ ."
   ]
  },
  {
   "cell_type": "markdown",
   "metadata": {},
   "source": [
    "__Problem 9.4.2__ Solve the inequality $-2 (x - 4) < 5$."
   ]
  },
  {
   "cell_type": "markdown",
   "metadata": {},
   "source": [
    "We solve the inequality in __Equation 9.4.2__ using the rules of the operations on inequalities."
   ]
  },
  {
   "cell_type": "markdown",
   "metadata": {},
   "source": [
    "$$\n",
    "\\begin{align*}\n",
    "&-2 (x - 4) < 5 \\\\ \\\\\n",
    "&\\frac{-2 (x - 4)}{-2} < \\frac{5}{-2} \\\\ \\\\\n",
    "&x - 4 > -\\frac{5}{2} \\text{ (the sign flips)} \\\\ \\\\\n",
    "&x - 4 + 4 > -\\frac{5}{2} + 4 \\\\ \\\\\n",
    "&x > \\frac{3}{2}\n",
    "\\end{align*}\n",
    "\\tag{Equation 9.4.2}\n",
    "$$"
   ]
  },
  {
   "cell_type": "markdown",
   "metadata": {},
   "source": [
    "We solve the inequality using the `reduce_inequalities` function."
   ]
  },
  {
   "cell_type": "code",
   "execution_count": 15,
   "metadata": {},
   "outputs": [
    {
     "data": {
      "image/png": "[encoded data removed]",
      "text/latex": [
       "$\\displaystyle x > \\frac{3}{2} \\wedge x < \\infty$"
      ],
      "text/plain": [
       "x > 3/2 ∧ x < ∞"
      ]
     },
     "execution_count": 15,
     "metadata": {},
     "output_type": "execute_result"
    }
   ],
   "source": [
    "reduce_inequalities(-2 * (x - 4) < 5, x).simplify()"
   ]
  },
  {
   "cell_type": "markdown",
   "metadata": {},
   "source": [
    "Despite using the `simplify` method, the `reduce_inequalities` function still returns the solution with a logical connective $\\land$, which means _and_ that reads $x$ _is larger than three-halves and less than infinity_. The solution is the open interval $\\left( \\frac{3}{2} , \\infty \\right)$. A result that is returned by the `solve_poly_inequality` function."
   ]
  },
  {
   "cell_type": "code",
   "execution_count": 16,
   "metadata": {},
   "outputs": [
    {
     "data": {
      "image/png": "[encoded data removed]",
      "text/latex": [
       "$\\displaystyle \\left[ \\left(\\frac{3}{2}, \\infty\\right)\\right]$"
      ],
      "text/plain": [
       "[(3/2, ∞)]"
      ]
     },
     "execution_count": 16,
     "metadata": {},
     "output_type": "execute_result"
    }
   ],
   "source": [
    "solve_poly_inequality(Poly(-2 * (x - 4) - 5, x), '<')"
   ]
  },
  {
   "cell_type": "markdown",
   "metadata": {},
   "source": [
    "We use the `subs` method to substitute $x=2$, as representative value in the interval solution, into the inequality."
   ]
  },
  {
   "cell_type": "code",
   "execution_count": 17,
   "metadata": {},
   "outputs": [
    {
     "data": {
      "image/png": "[encoded data removed]",
      "text/latex": [
       "$\\displaystyle \\text{True}$"
      ],
      "text/plain": [
       "True"
      ]
     },
     "execution_count": 17,
     "metadata": {},
     "output_type": "execute_result"
    }
   ],
   "source": [
    "(-2 * (x - 4) < 5).subs(x, 2)"
   ]
  },
  {
   "cell_type": "markdown",
   "metadata": {},
   "source": [
    "A representative value in the interval solution satisfies the inequality."
   ]
  },
  {
   "cell_type": "markdown",
   "metadata": {},
   "source": [
    "We can also solve quadratic equations."
   ]
  },
  {
   "cell_type": "markdown",
   "metadata": {},
   "source": [
    "__Problem 9.4.3__ Solve the inequality $x^2 - 4x > -3$."
   ]
  },
  {
   "cell_type": "markdown",
   "metadata": {},
   "source": [
    "Through simple algebra, we recognize the quadratic equation (second order polynomial) $x^2 - 4x + 3 > 0$. We can factorize this equation to $(x - 3)(x - 1) > 0$."
   ]
  },
  {
   "cell_type": "markdown",
   "metadata": {},
   "source": [
    "For the product of two arbitrary values $a,b \\in \\mathbb{R}$ to be positive (larger than $0$), we must have that both $a$ and $b$ are positive or that both $a$ abd $b$ are negative. We show the solution in __Equation 9.4.3__."
   ]
  },
  {
   "cell_type": "markdown",
   "metadata": {},
   "source": [
    "$$\n",
    "\\begin{align*}\n",
    "&(x - 3)(x - 1) > 0 \\\\ \\\\\n",
    "&x - 3 > 0 \\text{ and } x - 1 > 0 \\text{ or } x - 3 < 0 \\text{ and } x - 1 < 0 \\\\ \\\\\n",
    "&x > 3 \\text{ and } x > 1 \\text{ or } x < 3 \\text{ and } x < 1\n",
    "\\end{align*}\n",
    "\\tag{Equation 9.4.3}\n",
    "$$"
   ]
  },
  {
   "cell_type": "markdown",
   "metadata": {},
   "source": [
    "The `reduce_inequalities` function confirms the result."
   ]
  },
  {
   "cell_type": "code",
   "execution_count": 18,
   "metadata": {},
   "outputs": [
    {
     "data": {
      "image/png": "[encoded data removed]",
      "text/latex": [
       "$\\displaystyle \\left(x > 3 \\wedge x < \\infty\\right) \\vee x < 1$"
      ],
      "text/plain": [
       "(x > 3 ∧ x < ∞) ∨ x < 1"
      ]
     },
     "execution_count": 18,
     "metadata": {},
     "output_type": "execute_result"
    }
   ],
   "source": [
    "reduce_inequalities(x**2 - 4 * x > -3, x).simplify()"
   ]
  },
  {
   "cell_type": "markdown",
   "metadata": {},
   "source": [
    "The logical connective $\\vee$ means _or_. We have the intervals $\\left( 3  , \\infty \\right)$ or $\\left( - \\infty , 1 \\right)$."
   ]
  },
  {
   "cell_type": "markdown",
   "metadata": {},
   "source": [
    "The `solve_poly_inequality` function returns the same result."
   ]
  },
  {
   "cell_type": "code",
   "execution_count": 19,
   "metadata": {},
   "outputs": [
    {
     "data": {
      "image/png": "[encoded data removed]",
      "text/latex": [
       "$\\displaystyle \\left[ \\left(-\\infty, 1\\right), \\  \\left(3, \\infty\\right)\\right]$"
      ],
      "text/plain": [
       "[(-∞, 1), (3, ∞)]"
      ]
     },
     "execution_count": 19,
     "metadata": {},
     "output_type": "execute_result"
    }
   ],
   "source": [
    "solve_poly_inequality(Poly(x**2 - 4 * x + 3, x), '>')"
   ]
  },
  {
   "cell_type": "markdown",
   "metadata": {},
   "source": [
    "Below, we use the `subs` method to substitute $x = 4$ and $x = 0$, one represenattive value from each of the two intervals."
   ]
  },
  {
   "cell_type": "code",
   "execution_count": 20,
   "metadata": {},
   "outputs": [
    {
     "data": {
      "image/png": "[encoded data removed]",
      "text/latex": [
       "$\\displaystyle \\text{True}$"
      ],
      "text/plain": [
       "True"
      ]
     },
     "execution_count": 20,
     "metadata": {},
     "output_type": "execute_result"
    }
   ],
   "source": [
    "(x**2 - 4 * x > -3).subs(x, 4)"
   ]
  },
  {
   "cell_type": "code",
   "execution_count": 21,
   "metadata": {},
   "outputs": [
    {
     "data": {
      "image/png": "[encoded data removed]",
      "text/latex": [
       "$\\displaystyle \\text{True}$"
      ],
      "text/plain": [
       "True"
      ]
     },
     "execution_count": 21,
     "metadata": {},
     "output_type": "execute_result"
    }
   ],
   "source": [
    "(x**2 - 4 * x > -3).subs(x, 0)"
   ]
  },
  {
   "cell_type": "markdown",
   "metadata": {},
   "source": [
    "A value such as $x = 2$ which is not in either of the two intervals does not satisfy the inequality."
   ]
  },
  {
   "cell_type": "code",
   "execution_count": 22,
   "metadata": {},
   "outputs": [
    {
     "data": {
      "image/png": "[encoded data removed]",
      "text/latex": [
       "$\\displaystyle \\text{False}$"
      ],
      "text/plain": [
       "False"
      ]
     },
     "execution_count": 22,
     "metadata": {},
     "output_type": "execute_result"
    }
   ],
   "source": [
    "(x**2 - 4 * x > -3).subs(x, 2)"
   ]
  },
  {
   "cell_type": "markdown",
   "metadata": {},
   "source": [
    "__Homework 9.4.2__ Solve the inequality $x^2 - x -6  > 0$."
   ]
  },
  {
   "cell_type": "markdown",
   "metadata": {},
   "source": [
    "__Problem 9.4.4__ Solve the inequality in __Equation 9.4.4__."
   ]
  },
  {
   "cell_type": "markdown",
   "metadata": {},
   "source": [
    "$$\n",
    "\\frac{x^{2}-1}{x+3} \\le 0\n",
    "\\tag{Equation 9.4.4}\n",
    "$$"
   ]
  },
  {
   "cell_type": "markdown",
   "metadata": {},
   "source": [
    "The right-hand side of the inequality is non-positive. That means that the left-hand side can only be $0$ or negative. The left-hand side of the equation has a polynomial in the numerator and in the denominator and left-hand side can only equal $0$ when the numerator is $0$. Furthemore, the left hand side can only be negative when the numerator and denominator have opposite signs. Each of these cases have to be explored. We show the solution in __Equation 9.4.5__."
   ]
  },
  {
   "cell_type": "markdown",
   "metadata": {},
   "source": [
    "$$\n",
    "\\begin{align*}\n",
    "&\\text{Case where LHS numerator is } 0 \\\\ \\\\\n",
    "&x^2 - 1 = 0 \\\\ \\\\\n",
    "&x^2 = 1 \\\\ \\\\\n",
    "&x = \\pm 1 \\\\ \\\\\n",
    "&\\textbf{ or } \\\\ \\\\\n",
    "&\\text{Case where LHS numerator is } < 0 \\text{ and LHS denominator is } > 0 \\\\ \\\\\n",
    "&x^2 - 1 < 0 \\text{ and } x + 3 > 0 \\\\ \\\\\n",
    "&x^2 < 1 \\text{ and } x > -3 \\\\ \\\\\n",
    "&-1 < x < 1 \\text{ and } x > -3 \\\\ \\\\\n",
    "&-1 < x < 1 \\\\ \\\\\n",
    "&\\textbf{ or } \\\\ \\\\\n",
    "&\\text{Case when LHS numerator is } > 0 \\text{ and LHS denominator is } < 0 \\\\ \\\\\n",
    "&x^2 - 1 > 0 \\text{ and } x + 3 < 0 \\\\ \\\\\n",
    "&x^2 > 1 \\text{ and } x < -3 \\\\ \\\\\n",
    "&-1 > x > 1 \\text{ and } x < -3 \\\\ \\\\\n",
    "&x < -3\n",
    "\\end{align*}\n",
    "\\tag{Equation 9.4.5}\n",
    "$$"
   ]
  },
  {
   "cell_type": "markdown",
   "metadata": {},
   "source": [
    "Combining the three cases $x = \\pm 1 \\land -1 < x < 1$ and $x < -3$ we have the solution $(x < -3) \\lor (-1 \\le x \\le 1)$."
   ]
  },
  {
   "cell_type": "markdown",
   "metadata": {},
   "source": [
    "We confirm the result with the `reduce_inequalities` function."
   ]
  },
  {
   "cell_type": "code",
   "execution_count": 23,
   "metadata": {},
   "outputs": [
    {
     "data": {
      "image/png": "[encoded data removed]",
      "text/latex": [
       "$\\displaystyle \\left(x \\geq -1 \\wedge x \\leq 1\\right) \\vee x < -3$"
      ],
      "text/plain": [
       "(x ≥ -1 ∧ x ≤ 1) ∨ x < -3"
      ]
     },
     "execution_count": 23,
     "metadata": {},
     "output_type": "execute_result"
    }
   ],
   "source": [
    "reduce_inequalities((x**2 - 1)/(x+3) <= 0, x).simplify()"
   ]
  },
  {
   "cell_type": "markdown",
   "metadata": {},
   "source": [
    "Choosing the representative values $x=-4$ and $x=0$ from the solution interval, we see that the inequality is _true_."
   ]
  },
  {
   "cell_type": "code",
   "execution_count": 24,
   "metadata": {},
   "outputs": [
    {
     "data": {
      "image/png": "[encoded data removed]",
      "text/latex": [
       "$\\displaystyle \\text{True}$"
      ],
      "text/plain": [
       "True"
      ]
     },
     "execution_count": 24,
     "metadata": {},
     "output_type": "execute_result"
    }
   ],
   "source": [
    "((x**2 - 1)/(x+3) <= 0).subs(x, -4)"
   ]
  },
  {
   "cell_type": "code",
   "execution_count": 25,
   "metadata": {},
   "outputs": [
    {
     "data": {
      "image/png": "[encoded data removed]",
      "text/latex": [
       "$\\displaystyle \\text{True}$"
      ],
      "text/plain": [
       "True"
      ]
     },
     "execution_count": 25,
     "metadata": {},
     "output_type": "execute_result"
    }
   ],
   "source": [
    "((x**2 - 1)/(x+3) <= 0).subs(x, 0)"
   ]
  },
  {
   "cell_type": "markdown",
   "metadata": {},
   "source": [
    "__Homework 9.4.3__ Solve the inequality in __Equation 9.4.6__."
   ]
  },
  {
   "cell_type": "markdown",
   "metadata": {},
   "source": [
    "$$\n",
    "\\frac{x^{2}-1}{x-3} \\ge 0\n",
    "\\tag{Equation 9.4.6}\n",
    "$$"
   ]
  },
  {
   "cell_type": "markdown",
   "metadata": {},
   "source": [
    "## 9.5 Inequalities in functions (optional)"
   ]
  },
  {
   "cell_type": "markdown",
   "metadata": {},
   "source": [
    "Instead of solving for a single variable in an equation (or then finding the interval(s) where the inequality holds), we can also sconsider inequalities in functions."
   ]
  },
  {
   "cell_type": "markdown",
   "metadata": {},
   "source": [
    "__Problem 9.5.1__ Consider the function $f(x) \\ge x^2$. We want to use the Cartesian plane to show where $y \\ge x^{2}$. __Figure 9.5.1__ shows the graph of $y \\ge x^{2}$. To do this, we create the mathemical symbol $y$ using the `symbols` function and assign it to the variable `y`. We use the `spb` package to plot the function."
   ]
  },
  {
   "cell_type": "code",
   "execution_count": 48,
   "metadata": {},
   "outputs": [
    {
     "data": {
      "image/png": "[encoded data removed]",
      "text/plain": [
       "<Figure size 640x480 with 1 Axes>"
      ]
     },
     "metadata": {
      "image/png": {
       "height": 470,
       "width": 628
      }
     },
     "output_type": "display_data"
    }
   ],
   "source": [
    "# Create the mathematical symbol y using the symbols function and assign it to the variable y\n",
    "y = symbols('y')\n",
    "\n",
    "# Plot the function y >= x^2 using the spb.plot_inequality function\n",
    "spb.graphics(\n",
    "    spb.implicit_2d(\n",
    "        y >= x**2,\n",
    "        (x, -3, 3),\n",
    "        (y, -1, 3),\n",
    "        title='Figure 9.5.1'\n",
    "    )\n",
    ");"
   ]
  },
  {
   "cell_type": "markdown",
   "metadata": {},
   "source": [
    "In the shaded area we have that $y \\ge x^{2}$."
   ]
  },
  {
   "cell_type": "markdown",
   "metadata": {},
   "source": [
    "## 9.6 Absolute values"
   ]
  },
  {
   "cell_type": "markdown",
   "metadata": {},
   "source": [
    "In __Equation 9.6.1__ we show the definition of the __absolute value__ of a real number $x$."
   ]
  },
  {
   "cell_type": "markdown",
   "metadata": {},
   "source": [
    "$$\n",
    "\\begin{align*}\n",
    "&\\left| x \\right| = \\left\\{ \\begin{array}{ll}\n",
    "x & \\text{if } x \\geq 0 \\\\\n",
    "-x & \\text{if } x < 0\n",
    "\\end{array} \\right.\n",
    "\\end{align*}\n",
    "\\tag{Equation 9.6.1}\n",
    "$$"
   ]
  },
  {
   "cell_type": "markdown",
   "metadata": {},
   "source": [
    "To illustrate the definition, we consider an example where $x=3$ and then $x=-3$. Since $3>0$ we have that $\\left| 3 \\right| = 3$ and since $-3<0$ we have that $\\left| -3 \\right| = -(-3) = 3$. The absolute value of a real number is always positive or zero. The absolute value of a real number is the distance of the real number from $0$ on the number line."
   ]
  },
  {
   "cell_type": "markdown",
   "metadata": {},
   "source": [
    "__Problem 9.6.1__ Solve the equation $\\left| x - 3 \\right| = 5$."
   ]
  },
  {
   "cell_type": "markdown",
   "metadata": {},
   "source": [
    "We create two separate equation using the definition of the absolute value in __Equation 9.6.1__. We solve each equation separately, shown in __Equation 9.6.2__."
   ]
  },
  {
   "cell_type": "markdown",
   "metadata": {},
   "source": [
    "$$\n",
    "\\begin{align*}\n",
    "&\\left| x - 3 \\right| = 5 \\\\ \\\\\n",
    "&\\left\\{ \\begin{array}{ll}\n",
    "x - 3 = 5 & \\text{if } x \\geq 0 \\\\\n",
    "-(x - 3) = 5 & \\text{if } x < 0\n",
    "\\end{array} \\right. \\\\ \\\\\n",
    "&x=5+3 \\text{ or } -x=5-3 \\\\ \\\\\n",
    "&x=8 \\text{ or } x=-2\n",
    "\\end{align*}\n",
    "\\tag{Equation 9.6.2}\n",
    "$$"
   ]
  },
  {
   "cell_type": "markdown",
   "metadata": {},
   "source": [
    "We use the `solve` function to confirm the results. In this case, we have to solve both equation separately. We use the `Eq` function to define each case and assign it to the variable `case_1` and `case_2`."
   ]
  },
  {
   "cell_type": "code",
   "execution_count": 26,
   "metadata": {},
   "outputs": [
    {
     "data": {
      "image/png": "[encoded data removed]",
      "text/latex": [
       "$\\displaystyle x - 3 = 5$"
      ],
      "text/plain": [
       "x - 3 = 5"
      ]
     },
     "execution_count": 26,
     "metadata": {},
     "output_type": "execute_result"
    }
   ],
   "source": [
    "# Use the Eq function to create the equation x - 3 = 5 and assign it to the variable case_1\n",
    "case_1 = Eq(x - 3, 5)\n",
    "case_1"
   ]
  },
  {
   "cell_type": "code",
   "execution_count": 27,
   "metadata": {},
   "outputs": [
    {
     "data": {
      "image/png": "[encoded data removed]",
      "text/latex": [
       "$\\displaystyle \\left[ 8\\right]$"
      ],
      "text/plain": [
       "[8]"
      ]
     },
     "execution_count": 27,
     "metadata": {},
     "output_type": "execute_result"
    }
   ],
   "source": [
    "# Solve the equation for x\n",
    "solve(case_1, x)"
   ]
  },
  {
   "cell_type": "code",
   "execution_count": 28,
   "metadata": {},
   "outputs": [
    {
     "data": {
      "image/png": "[encoded data removed]",
      "text/latex": [
       "$\\displaystyle 3 - x = 5$"
      ],
      "text/plain": [
       "3 - x = 5"
      ]
     },
     "execution_count": 28,
     "metadata": {},
     "output_type": "execute_result"
    }
   ],
   "source": [
    "# Use the Eq function to create the equation -(x - 3) = 5 and assign it to the variable case_2\n",
    "case_2 = Eq(-(x - 3), 5)\n",
    "case_2"
   ]
  },
  {
   "cell_type": "code",
   "execution_count": 29,
   "metadata": {},
   "outputs": [
    {
     "data": {
      "image/png": "[encoded data removed]",
      "text/latex": [
       "$\\displaystyle \\left[ -2\\right]$"
      ],
      "text/plain": [
       "[-2]"
      ]
     },
     "execution_count": 29,
     "metadata": {},
     "output_type": "execute_result"
    }
   ],
   "source": [
    "# Solve the equation for x\n",
    "solve(case_2, x)"
   ]
  },
  {
   "cell_type": "markdown",
   "metadata": {},
   "source": [
    "We see that the two solutions are indeed $x = 8$ or $x = -2$. The `subs` method is used below to substitute $x=8$ and $x=-2$ into the two cases of the original equation."
   ]
  },
  {
   "cell_type": "code",
   "execution_count": 30,
   "metadata": {},
   "outputs": [
    {
     "data": {
      "image/png": "[encoded data removed]",
      "text/latex": [
       "$\\displaystyle \\text{True}$"
      ],
      "text/plain": [
       "True"
      ]
     },
     "execution_count": 30,
     "metadata": {},
     "output_type": "execute_result"
    }
   ],
   "source": [
    "case_1.subs(x, 8) # The case that x is equal to or greater than 0"
   ]
  },
  {
   "cell_type": "code",
   "execution_count": 31,
   "metadata": {},
   "outputs": [
    {
     "data": {
      "image/png": "[encoded data removed]",
      "text/latex": [
       "$\\displaystyle \\text{True}$"
      ],
      "text/plain": [
       "True"
      ]
     },
     "execution_count": 31,
     "metadata": {},
     "output_type": "execute_result"
    }
   ],
   "source": [
    "case_2.subs(x, -2) # The case where x is less than 0"
   ]
  },
  {
   "cell_type": "markdown",
   "metadata": {},
   "source": [
    "__Homework 9.6.1__ Solve the equation $\\lvert x^{3} \\rvert = 27$. Hint: There are many solutions (inlcuding complex numbers)."
   ]
  },
  {
   "cell_type": "markdown",
   "metadata": {},
   "source": [
    "Absolute values can also be used in inequalities. We use the same definition of the absolute value in __Equation 9.6.1__."
   ]
  },
  {
   "cell_type": "markdown",
   "metadata": {},
   "source": [
    "__Problem 9.6.2__ Solve the inequality $\\left| x - 3 \\right| < 5$."
   ]
  },
  {
   "cell_type": "markdown",
   "metadata": {},
   "source": [
    "We see the solution in __Equation 9.6.3__."
   ]
  },
  {
   "cell_type": "markdown",
   "metadata": {},
   "source": [
    "$$\n",
    "\\begin{align*}\n",
    "&\\left| x - 3 \\right| < 5 \\\\ \\\\\n",
    "&\\left\\{ \\begin{array}{ll}\n",
    "x - 3 < 5 & \\text{if } x \\geq 0 \\\\\n",
    "-(x - 3) < 5 & \\text{if } x < 0\n",
    "\\end{array} \\right. \\\\ \\\\\n",
    "&x < 8 \\\\ \\\\\n",
    "&\\text{ or } \\\\ \\\\\n",
    "&x - 3  > -5 \\text{ (multiplying both sides by } -1 \\text{ flips the sign)} \\\\ \\\\\n",
    "&x > -2\n",
    "\\end{align*}\n",
    "\\tag{Equation 9.6.3}\n",
    "$$"
   ]
  },
  {
   "cell_type": "markdown",
   "metadata": {},
   "source": [
    "The final solution is the open interval $-2 < x < 8$."
   ]
  },
  {
   "cell_type": "markdown",
   "metadata": {},
   "source": [
    "The use the `reduce_inequalities` function to solve an inequality that contains an absolute value expression. The `Bas` function is used to express an absolute value. To the the `reduce_inequalities` function, we have to do some algebraic manipulation to get the absolute value expression on the left-hand side of the inequality. In the case of this problem it would be $\\left| x - 3 \\right| - 5$. Note that this expression is passed as first argument. The second argument is a string denoting less than or more than. The third argument is the variable that we want to solve for."
   ]
  },
  {
   "cell_type": "code",
   "execution_count": 49,
   "metadata": {},
   "outputs": [
    {
     "data": {
      "image/png": "[encoded data removed]",
      "text/latex": [
       "$\\displaystyle x > -2 \\wedge x < 8$"
      ],
      "text/plain": [
       "x > -2 ∧ x < 8"
      ]
     },
     "execution_count": 49,
     "metadata": {},
     "output_type": "execute_result"
    }
   ],
   "source": [
    "# Solve the inequality for x\n",
    "reduce_abs_inequality(Abs(x - 3) - 5, '<', x).simplify()"
   ]
  },
  {
   "cell_type": "markdown",
   "metadata": {},
   "source": [
    "Below we use three representative values, $x=-1$, $x=0$, and $x=7$, for the solution interval."
   ]
  },
  {
   "cell_type": "code",
   "execution_count": 33,
   "metadata": {},
   "outputs": [
    {
     "data": {
      "image/png": "[encoded data removed]",
      "text/latex": [
       "$\\displaystyle \\text{True}$"
      ],
      "text/plain": [
       "True"
      ]
     },
     "execution_count": 33,
     "metadata": {},
     "output_type": "execute_result"
    }
   ],
   "source": [
    "# Determine of -1 satisfies the inequality\n",
    "(Abs(x - 3) < 5).subs(x, -1)"
   ]
  },
  {
   "cell_type": "code",
   "execution_count": 34,
   "metadata": {},
   "outputs": [
    {
     "data": {
      "image/png": "[encoded data removed]",
      "text/latex": [
       "$\\displaystyle \\text{True}$"
      ],
      "text/plain": [
       "True"
      ]
     },
     "execution_count": 34,
     "metadata": {},
     "output_type": "execute_result"
    }
   ],
   "source": [
    "# Determine of 0 satisfies the inequality\n",
    "(Abs(x - 3) < 5).subs(x, 0)"
   ]
  },
  {
   "cell_type": "code",
   "execution_count": 35,
   "metadata": {},
   "outputs": [
    {
     "data": {
      "image/png": "[encoded data removed]",
      "text/latex": [
       "$\\displaystyle \\text{True}$"
      ],
      "text/plain": [
       "True"
      ]
     },
     "execution_count": 35,
     "metadata": {},
     "output_type": "execute_result"
    }
   ],
   "source": [
    "# Determine of 7 satisfies the inequality\n",
    "(Abs(x - 3) < 5).subs(x, 7)"
   ]
  },
  {
   "cell_type": "markdown",
   "metadata": {},
   "source": [
    "The inequality is _true_ for all three values."
   ]
  },
  {
   "cell_type": "markdown",
   "metadata": {},
   "source": [
    "__Homework 9.6.2__ Solve the inequality $\\left| x^{3} + 1 \\right| \\ge 5$."
   ]
  },
  {
   "cell_type": "code",
   "execution_count": null,
   "metadata": {},
   "outputs": [],
   "source": []
  }
 ],
 "metadata": {
  "kernelspec": {
   "display_name": "mathematics",
   "language": "python",
   "name": "python3"
  },
  "language_info": {
   "codemirror_mode": {
    "name": "ipython",
    "version": 3
   },
   "file_extension": ".py",
   "mimetype": "text/x-python",
   "name": "python",
   "nbconvert_exporter": "python",
   "pygments_lexer": "ipython3",
   "version": "3.10.9"
  }
 },
 "nbformat": 4,
 "nbformat_minor": 2
}
